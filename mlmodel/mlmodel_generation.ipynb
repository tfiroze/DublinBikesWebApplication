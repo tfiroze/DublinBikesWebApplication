{
 "cells": [
  {
   "cell_type": "code",
   "execution_count": 2,
   "id": "52679042-7c57-4971-ad92-712322b1448c",
   "metadata": {},
   "outputs": [],
   "source": [
    "import pymysql.cursors\n",
    "#import jsonify\n",
    "import pandas as pd\n",
    "from sklearn.model_selection import train_test_split\n",
    "from sklearn.linear_model import LinearRegression\n",
    "from sklearn.metrics import mean_squared_error\n",
    "import pickle\n",
    "from sklearn.ensemble import RandomForestRegressor"
   ]
  },
  {
   "cell_type": "code",
   "execution_count": 4,
   "id": "407c8031-58b2-48be-900d-144751a5901b",
   "metadata": {},
   "outputs": [],
   "source": [
    "conn = pymysql.connect(\n",
    "    host=\"softwaredb.ce0otalnccc9.eu-west-1.rds.amazonaws.com\",user=\"soft\",password=\"password\",database=\"dublinbikes\",\n",
    "    charset=\"utf8mb4\",\n",
    "    cursorclass=pymysql.cursors.DictCursor\n",
    ")\n"
   ]
  },
  {
   "cell_type": "code",
   "execution_count": 5,
   "id": "d7f3ac22-d3b9-459d-b3a2-7071cce8d66d",
   "metadata": {},
   "outputs": [
    {
     "name": "stderr",
     "output_type": "stream",
     "text": [
      "C:\\Users\\tfiro\\AppData\\Local\\Temp\\ipykernel_17600\\2178617842.py:5: UserWarning: pandas only supports SQLAlchemy connectable (engine/connection) or database string URI or sqlite3 DBAPI2 connection. Other DBAPI2 objects are not tested. Please consider using SQLAlchemy.\n",
      "  availability_df = pd.read_sql_query(availability_query, conn)\n",
      "C:\\Users\\tfiro\\AppData\\Local\\Temp\\ipykernel_17600\\2178617842.py:6: UserWarning: pandas only supports SQLAlchemy connectable (engine/connection) or database string URI or sqlite3 DBAPI2 connection. Other DBAPI2 objects are not tested. Please consider using SQLAlchemy.\n",
      "  weather_df = pd.read_sql_query(weather_query, conn)\n"
     ]
    }
   ],
   "source": [
    "availability_query = \"SELECT number, time, available_bikes, available_bike_stands FROM availability\"\n",
    "#weather_query = \"SELECT number, time, temperature, wind_speed, wind_direction, weather_code FROM weather\"\n",
    "weather_query = \"SELECT * FROM weather\"\n",
    "# Load the query results into pandas dataframes\n",
    "availability_df = pd.read_sql_query(availability_query, conn)\n",
    "weather_df = pd.read_sql_query(weather_query, conn)\n",
    "\n",
    "conn.close()"
   ]
  },
  {
   "cell_type": "code",
   "execution_count": 6,
   "id": "db60c940-865e-440d-ae61-42a7c07fa14d",
   "metadata": {},
   "outputs": [],
   "source": [
    "availability_df['time'] = availability_df['time'].dt.strftime('%Y-%m-%d %H:%M:%S')\n",
    "weather_df['time'] = weather_df['time'].dt.strftime('%Y-%m-%d %H:%M:%S')\n",
    "merged_df = pd.merge(availability_df, weather_df, on=[\"number\", \"time\"])"
   ]
  },
  {
   "cell_type": "code",
   "execution_count": 7,
   "id": "4c250fdc-2ac7-45eb-b0af-ae58341d74a7",
   "metadata": {},
   "outputs": [],
   "source": [
    "merged_df.to_csv('merged_data.csv', index=False)"
   ]
  },
  {
   "cell_type": "code",
   "execution_count": 5,
   "id": "ce2f1be9-b22f-451a-b6ff-f57eebc8db43",
   "metadata": {},
   "outputs": [],
   "source": [
    "merged_df = pd.read_csv(\"merged_data.csv\")"
   ]
  },
  {
   "cell_type": "code",
   "execution_count": 6,
   "id": "c1b5b1bc-8a8b-4cbb-923a-586d03226615",
   "metadata": {},
   "outputs": [
    {
     "data": {
      "text/html": [
       "<div>\n",
       "<style scoped>\n",
       "    .dataframe tbody tr th:only-of-type {\n",
       "        vertical-align: middle;\n",
       "    }\n",
       "\n",
       "    .dataframe tbody tr th {\n",
       "        vertical-align: top;\n",
       "    }\n",
       "\n",
       "    .dataframe thead th {\n",
       "        text-align: right;\n",
       "    }\n",
       "</style>\n",
       "<table border=\"1\" class=\"dataframe\">\n",
       "  <thead>\n",
       "    <tr style=\"text-align: right;\">\n",
       "      <th></th>\n",
       "      <th>number</th>\n",
       "      <th>time</th>\n",
       "      <th>available_bikes</th>\n",
       "      <th>available_bike_stands</th>\n",
       "      <th>temperature</th>\n",
       "      <th>wind_speed</th>\n",
       "      <th>wind_direction</th>\n",
       "      <th>weather_code</th>\n",
       "      <th>precipitation_sum</th>\n",
       "      <th>rain_sum</th>\n",
       "      <th>precipitation_probability</th>\n",
       "    </tr>\n",
       "  </thead>\n",
       "  <tbody>\n",
       "    <tr>\n",
       "      <th>1313870</th>\n",
       "      <td>507</td>\n",
       "      <td>2023-03-10 16:40:02</td>\n",
       "      <td>1</td>\n",
       "      <td>0</td>\n",
       "      <td>6</td>\n",
       "      <td>3</td>\n",
       "      <td>76</td>\n",
       "      <td>1</td>\n",
       "      <td>8.1</td>\n",
       "      <td>3.1</td>\n",
       "      <td>100</td>\n",
       "    </tr>\n",
       "    <tr>\n",
       "      <th>1313871</th>\n",
       "      <td>507</td>\n",
       "      <td>2023-03-10 16:45:03</td>\n",
       "      <td>1</td>\n",
       "      <td>0</td>\n",
       "      <td>6</td>\n",
       "      <td>3</td>\n",
       "      <td>76</td>\n",
       "      <td>1</td>\n",
       "      <td>8.1</td>\n",
       "      <td>3.1</td>\n",
       "      <td>100</td>\n",
       "    </tr>\n",
       "    <tr>\n",
       "      <th>1313872</th>\n",
       "      <td>507</td>\n",
       "      <td>2023-03-10 16:50:03</td>\n",
       "      <td>1</td>\n",
       "      <td>0</td>\n",
       "      <td>6</td>\n",
       "      <td>3</td>\n",
       "      <td>76</td>\n",
       "      <td>1</td>\n",
       "      <td>8.1</td>\n",
       "      <td>3.1</td>\n",
       "      <td>100</td>\n",
       "    </tr>\n",
       "    <tr>\n",
       "      <th>1313873</th>\n",
       "      <td>507</td>\n",
       "      <td>2023-03-10 16:55:03</td>\n",
       "      <td>1</td>\n",
       "      <td>0</td>\n",
       "      <td>6</td>\n",
       "      <td>3</td>\n",
       "      <td>76</td>\n",
       "      <td>1</td>\n",
       "      <td>8.1</td>\n",
       "      <td>3.1</td>\n",
       "      <td>100</td>\n",
       "    </tr>\n",
       "    <tr>\n",
       "      <th>1313874</th>\n",
       "      <td>507</td>\n",
       "      <td>2023-03-10 17:00:07</td>\n",
       "      <td>1</td>\n",
       "      <td>0</td>\n",
       "      <td>5</td>\n",
       "      <td>8</td>\n",
       "      <td>90</td>\n",
       "      <td>1</td>\n",
       "      <td>8.1</td>\n",
       "      <td>3.1</td>\n",
       "      <td>100</td>\n",
       "    </tr>\n",
       "  </tbody>\n",
       "</table>\n",
       "</div>"
      ],
      "text/plain": [
       "         number                 time  available_bikes  available_bike_stands  \\\n",
       "1313870     507  2023-03-10 16:40:02                1                      0   \n",
       "1313871     507  2023-03-10 16:45:03                1                      0   \n",
       "1313872     507  2023-03-10 16:50:03                1                      0   \n",
       "1313873     507  2023-03-10 16:55:03                1                      0   \n",
       "1313874     507  2023-03-10 17:00:07                1                      0   \n",
       "\n",
       "         temperature  wind_speed  wind_direction  weather_code  \\\n",
       "1313870            6           3              76             1   \n",
       "1313871            6           3              76             1   \n",
       "1313872            6           3              76             1   \n",
       "1313873            6           3              76             1   \n",
       "1313874            5           8              90             1   \n",
       "\n",
       "         precipitation_sum  rain_sum  precipitation_probability  \n",
       "1313870                8.1       3.1                        100  \n",
       "1313871                8.1       3.1                        100  \n",
       "1313872                8.1       3.1                        100  \n",
       "1313873                8.1       3.1                        100  \n",
       "1313874                8.1       3.1                        100  "
      ]
     },
     "execution_count": 6,
     "metadata": {},
     "output_type": "execute_result"
    }
   ],
   "source": [
    "merged_df.tail()"
   ]
  },
  {
   "cell_type": "code",
   "execution_count": 48,
   "id": "fff70abd-db35-4886-8925-3cb66fa637ce",
   "metadata": {},
   "outputs": [
    {
     "data": {
      "text/plain": [
       "number                       0\n",
       "time                         0\n",
       "available_bikes              0\n",
       "available_bike_stands        0\n",
       "temperature                  0\n",
       "wind_speed                   0\n",
       "wind_direction               0\n",
       "weather_code                 0\n",
       "precipitation_sum            0\n",
       "rain_sum                     0\n",
       "precipitation_probability    0\n",
       "dtype: int64"
      ]
     },
     "execution_count": 48,
     "metadata": {},
     "output_type": "execute_result"
    }
   ],
   "source": [
    "merged_df.isnull().sum()"
   ]
  },
  {
   "cell_type": "code",
   "execution_count": 49,
   "id": "e3f424d1-b4e3-4634-9939-0a03c780248e",
   "metadata": {},
   "outputs": [
    {
     "data": {
      "text/html": [
       "<div>\n",
       "<style scoped>\n",
       "    .dataframe tbody tr th:only-of-type {\n",
       "        vertical-align: middle;\n",
       "    }\n",
       "\n",
       "    .dataframe tbody tr th {\n",
       "        vertical-align: top;\n",
       "    }\n",
       "\n",
       "    .dataframe thead th {\n",
       "        text-align: right;\n",
       "    }\n",
       "</style>\n",
       "<table border=\"1\" class=\"dataframe\">\n",
       "  <thead>\n",
       "    <tr style=\"text-align: right;\">\n",
       "      <th></th>\n",
       "      <th>count</th>\n",
       "      <th>mean</th>\n",
       "      <th>std</th>\n",
       "      <th>min</th>\n",
       "      <th>25%</th>\n",
       "      <th>50%</th>\n",
       "      <th>75%</th>\n",
       "      <th>max</th>\n",
       "    </tr>\n",
       "  </thead>\n",
       "  <tbody>\n",
       "    <tr>\n",
       "      <th>number</th>\n",
       "      <td>1313647.0</td>\n",
       "      <td>58.856302</td>\n",
       "      <td>35.967582</td>\n",
       "      <td>1.0</td>\n",
       "      <td>29.0</td>\n",
       "      <td>58.0</td>\n",
       "      <td>89.0</td>\n",
       "      <td>507.0</td>\n",
       "    </tr>\n",
       "    <tr>\n",
       "      <th>available_bikes</th>\n",
       "      <td>1313647.0</td>\n",
       "      <td>11.505513</td>\n",
       "      <td>9.383810</td>\n",
       "      <td>0.0</td>\n",
       "      <td>4.0</td>\n",
       "      <td>10.0</td>\n",
       "      <td>17.0</td>\n",
       "      <td>40.0</td>\n",
       "    </tr>\n",
       "    <tr>\n",
       "      <th>available_bike_stands</th>\n",
       "      <td>1313647.0</td>\n",
       "      <td>20.054286</td>\n",
       "      <td>10.870357</td>\n",
       "      <td>0.0</td>\n",
       "      <td>12.0</td>\n",
       "      <td>20.0</td>\n",
       "      <td>29.0</td>\n",
       "      <td>40.0</td>\n",
       "    </tr>\n",
       "    <tr>\n",
       "      <th>temperature</th>\n",
       "      <td>1313647.0</td>\n",
       "      <td>9.041181</td>\n",
       "      <td>3.253094</td>\n",
       "      <td>1.0</td>\n",
       "      <td>7.0</td>\n",
       "      <td>9.0</td>\n",
       "      <td>11.0</td>\n",
       "      <td>19.0</td>\n",
       "    </tr>\n",
       "    <tr>\n",
       "      <th>wind_speed</th>\n",
       "      <td>1313647.0</td>\n",
       "      <td>16.903415</td>\n",
       "      <td>8.588150</td>\n",
       "      <td>1.0</td>\n",
       "      <td>11.0</td>\n",
       "      <td>16.0</td>\n",
       "      <td>22.0</td>\n",
       "      <td>44.0</td>\n",
       "    </tr>\n",
       "    <tr>\n",
       "      <th>wind_direction</th>\n",
       "      <td>1313647.0</td>\n",
       "      <td>199.609700</td>\n",
       "      <td>75.920632</td>\n",
       "      <td>3.0</td>\n",
       "      <td>146.0</td>\n",
       "      <td>214.0</td>\n",
       "      <td>262.0</td>\n",
       "      <td>360.0</td>\n",
       "    </tr>\n",
       "    <tr>\n",
       "      <th>weather_code</th>\n",
       "      <td>1313647.0</td>\n",
       "      <td>16.149440</td>\n",
       "      <td>23.068453</td>\n",
       "      <td>0.0</td>\n",
       "      <td>2.0</td>\n",
       "      <td>3.0</td>\n",
       "      <td>51.0</td>\n",
       "      <td>73.0</td>\n",
       "    </tr>\n",
       "    <tr>\n",
       "      <th>precipitation_sum</th>\n",
       "      <td>1313647.0</td>\n",
       "      <td>3.347413</td>\n",
       "      <td>4.983085</td>\n",
       "      <td>0.0</td>\n",
       "      <td>0.2</td>\n",
       "      <td>1.9</td>\n",
       "      <td>3.5</td>\n",
       "      <td>30.2</td>\n",
       "    </tr>\n",
       "    <tr>\n",
       "      <th>rain_sum</th>\n",
       "      <td>1313647.0</td>\n",
       "      <td>2.559542</td>\n",
       "      <td>3.872297</td>\n",
       "      <td>0.0</td>\n",
       "      <td>0.0</td>\n",
       "      <td>0.6</td>\n",
       "      <td>3.4</td>\n",
       "      <td>20.2</td>\n",
       "    </tr>\n",
       "    <tr>\n",
       "      <th>precipitation_probability</th>\n",
       "      <td>1313647.0</td>\n",
       "      <td>74.436469</td>\n",
       "      <td>31.617998</td>\n",
       "      <td>0.0</td>\n",
       "      <td>58.0</td>\n",
       "      <td>87.0</td>\n",
       "      <td>100.0</td>\n",
       "      <td>100.0</td>\n",
       "    </tr>\n",
       "  </tbody>\n",
       "</table>\n",
       "</div>"
      ],
      "text/plain": [
       "                               count        mean        std  min    25%  \\\n",
       "number                     1313647.0   58.856302  35.967582  1.0   29.0   \n",
       "available_bikes            1313647.0   11.505513   9.383810  0.0    4.0   \n",
       "available_bike_stands      1313647.0   20.054286  10.870357  0.0   12.0   \n",
       "temperature                1313647.0    9.041181   3.253094  1.0    7.0   \n",
       "wind_speed                 1313647.0   16.903415   8.588150  1.0   11.0   \n",
       "wind_direction             1313647.0  199.609700  75.920632  3.0  146.0   \n",
       "weather_code               1313647.0   16.149440  23.068453  0.0    2.0   \n",
       "precipitation_sum          1313647.0    3.347413   4.983085  0.0    0.2   \n",
       "rain_sum                   1313647.0    2.559542   3.872297  0.0    0.0   \n",
       "precipitation_probability  1313647.0   74.436469  31.617998  0.0   58.0   \n",
       "\n",
       "                             50%    75%    max  \n",
       "number                      58.0   89.0  507.0  \n",
       "available_bikes             10.0   17.0   40.0  \n",
       "available_bike_stands       20.0   29.0   40.0  \n",
       "temperature                  9.0   11.0   19.0  \n",
       "wind_speed                  16.0   22.0   44.0  \n",
       "wind_direction             214.0  262.0  360.0  \n",
       "weather_code                 3.0   51.0   73.0  \n",
       "precipitation_sum            1.9    3.5   30.2  \n",
       "rain_sum                     0.6    3.4   20.2  \n",
       "precipitation_probability   87.0  100.0  100.0  "
      ]
     },
     "execution_count": 49,
     "metadata": {},
     "output_type": "execute_result"
    }
   ],
   "source": [
    "merged_df.describe().T"
   ]
  },
  {
   "cell_type": "code",
   "execution_count": 7,
   "id": "fec51c05-a062-4ebf-bab6-7d3120e0ed81",
   "metadata": {},
   "outputs": [
    {
     "name": "stdout",
     "output_type": "stream",
     "text": [
      "number                         int64\n",
      "time                          object\n",
      "available_bikes                int64\n",
      "available_bike_stands          int64\n",
      "temperature                    int64\n",
      "wind_speed                     int64\n",
      "wind_direction                 int64\n",
      "weather_code                   int64\n",
      "precipitation_sum            float64\n",
      "rain_sum                     float64\n",
      "precipitation_probability      int64\n",
      "dtype: object\n"
     ]
    }
   ],
   "source": [
    "print(merged_df.dtypes)\n"
   ]
  },
  {
   "cell_type": "code",
   "execution_count": 8,
   "id": "41dbd3b1-5468-4136-a601-1b133036dbbc",
   "metadata": {},
   "outputs": [],
   "source": [
    "merged_df['time'] = merged_df['time'].astype('datetime64')\n",
    "merged_df['number'] = merged_df['number'].astype('category')\n",
    "merged_df['weather_code'] = merged_df['weather_code'].astype('category')"
   ]
  },
  {
   "cell_type": "code",
   "execution_count": 9,
   "id": "db46ff46-1156-4362-883d-4d49f9361fdc",
   "metadata": {},
   "outputs": [],
   "source": [
    "merged_df['hour'] = merged_df['time'].dt.hour\n",
    "merged_df['minute'] = merged_df['time'].dt.minute\n",
    "merged_df['month'] = merged_df['time'].dt.month\n",
    "merged_df['day'] = merged_df['time'].dt.day\n"
   ]
  },
  {
   "cell_type": "code",
   "execution_count": 10,
   "id": "69f370d3-78c6-495f-9180-4987ebacd2c0",
   "metadata": {},
   "outputs": [],
   "source": [
    "merged_df['hour'] = merged_df['hour'].astype('category')\n",
    "merged_df['minute'] = merged_df['minute'].astype('category')\n",
    "merged_df['month'] = merged_df['month'].astype('category')\n",
    "merged_df['day'] = merged_df['day'].astype('category')"
   ]
  },
  {
   "cell_type": "code",
   "execution_count": 11,
   "id": "e34922dd-b939-4b1b-af94-6aa6eeabbaf3",
   "metadata": {},
   "outputs": [],
   "source": [
    "station_dfs = {}\n",
    "for station in merged_df['number'].unique():\n",
    "    station_dfs[station] = merged_df[merged_df['number'] == station]\n"
   ]
  },
  {
   "cell_type": "code",
   "execution_count": 16,
   "id": "456f6cb3-0783-4cc3-97a5-d15ddd3d2da8",
   "metadata": {},
   "outputs": [
    {
     "name": "stdout",
     "output_type": "stream",
     "text": [
      "Station 1 R-squared: 0.9226939307715553\n",
      "Mean Absolute Error:  1.272289156626506\n",
      "Root Mean Squared Error:  2.4384682418701487\n",
      "Predicted number of available bikes for Station 1 at 2023-03-07 19:35:03: 11.00\n",
      "Station 2 R-squared: 0.8323448781174214\n",
      "Mean Absolute Error:  0.8707401032702238\n",
      "Root Mean Squared Error:  1.737879095953301\n",
      "Predicted number of available bikes for Station 2 at 2023-03-07 19:35:03: 7.00\n"
     ]
    },
    {
     "name": "stderr",
     "output_type": "stream",
     "text": [
      "C:\\Users\\tfiro\\anaconda3\\envs\\comp30830software\\lib\\site-packages\\sklearn\\base.py:420: UserWarning: X does not have valid feature names, but KNeighborsRegressor was fitted with feature names\n",
      "  warnings.warn(\n",
      "C:\\Users\\tfiro\\anaconda3\\envs\\comp30830software\\lib\\site-packages\\sklearn\\base.py:420: UserWarning: X does not have valid feature names, but KNeighborsRegressor was fitted with feature names\n",
      "  warnings.warn(\n",
      "C:\\Users\\tfiro\\anaconda3\\envs\\comp30830software\\lib\\site-packages\\sklearn\\base.py:420: UserWarning: X does not have valid feature names, but KNeighborsRegressor was fitted with feature names\n",
      "  warnings.warn(\n"
     ]
    },
    {
     "name": "stdout",
     "output_type": "stream",
     "text": [
      "Station 3 R-squared: 0.9045718756868758\n",
      "Mean Absolute Error:  0.8795180722891566\n",
      "Root Mean Squared Error:  1.612771745237844\n",
      "Predicted number of available bikes for Station 3 at 2023-03-07 19:35:03: 10.00\n",
      "Station 4 R-squared: 0.8684331928232801\n",
      "Mean Absolute Error:  0.9860585197934596\n",
      "Root Mean Squared Error:  2.1373451771289105\n",
      "Predicted number of available bikes for Station 4 at 2023-03-07 19:35:03: 6.00\n"
     ]
    },
    {
     "name": "stderr",
     "output_type": "stream",
     "text": [
      "C:\\Users\\tfiro\\anaconda3\\envs\\comp30830software\\lib\\site-packages\\sklearn\\base.py:420: UserWarning: X does not have valid feature names, but KNeighborsRegressor was fitted with feature names\n",
      "  warnings.warn(\n",
      "C:\\Users\\tfiro\\anaconda3\\envs\\comp30830software\\lib\\site-packages\\sklearn\\base.py:420: UserWarning: X does not have valid feature names, but KNeighborsRegressor was fitted with feature names\n",
      "  warnings.warn(\n",
      "C:\\Users\\tfiro\\anaconda3\\envs\\comp30830software\\lib\\site-packages\\sklearn\\base.py:420: UserWarning: X does not have valid feature names, but KNeighborsRegressor was fitted with feature names\n",
      "  warnings.warn(\n"
     ]
    },
    {
     "name": "stdout",
     "output_type": "stream",
     "text": [
      "Station 5 R-squared: 0.8787806260535712\n",
      "Mean Absolute Error:  2.338037865748709\n",
      "Root Mean Squared Error:  5.019171506950027\n",
      "Predicted number of available bikes for Station 5 at 2023-03-07 19:35:03: 0.00\n",
      "Station 6 R-squared: 0.9170628153869201\n",
      "Mean Absolute Error:  0.8406196213425129\n",
      "Root Mean Squared Error:  1.819099283463689\n",
      "Predicted number of available bikes for Station 6 at 2023-03-07 19:35:03: 2.00\n",
      "Station 7 R-squared: 0.8816418323416391\n",
      "Mean Absolute Error:  1.0139414802065405\n",
      "Root Mean Squared Error:  2.325437422994138\n",
      "Predicted number of available bikes for Station 7 at 2023-03-07 19:35:03: 5.00\n",
      "Station 8 R-squared: 0.8416061623280693\n",
      "Mean Absolute Error:  1.5752151462994837\n",
      "Root Mean Squared Error:  3.089290813124442\n",
      "Predicted number of available bikes for Station 8 at 2023-03-07 19:35:03: 11.50\n",
      "Station 9 R-squared: 0.8376419313354377\n",
      "Mean Absolute Error:  1.687263339070568\n",
      "Root Mean Squared Error:  3.0996779578434905\n",
      "Predicted number of available bikes for Station 9 at 2023-03-07 19:35:03: 4.00\n"
     ]
    },
    {
     "name": "stderr",
     "output_type": "stream",
     "text": [
      "C:\\Users\\tfiro\\anaconda3\\envs\\comp30830software\\lib\\site-packages\\sklearn\\base.py:420: UserWarning: X does not have valid feature names, but KNeighborsRegressor was fitted with feature names\n",
      "  warnings.warn(\n",
      "C:\\Users\\tfiro\\anaconda3\\envs\\comp30830software\\lib\\site-packages\\sklearn\\base.py:420: UserWarning: X does not have valid feature names, but KNeighborsRegressor was fitted with feature names\n",
      "  warnings.warn(\n",
      "C:\\Users\\tfiro\\anaconda3\\envs\\comp30830software\\lib\\site-packages\\sklearn\\base.py:420: UserWarning: X does not have valid feature names, but KNeighborsRegressor was fitted with feature names\n",
      "  warnings.warn(\n"
     ]
    },
    {
     "name": "stdout",
     "output_type": "stream",
     "text": [
      "Station 10 R-squared: 0.8363430108823646\n",
      "Mean Absolute Error:  1.0647160068846815\n",
      "Root Mean Squared Error:  2.0973715211574886\n",
      "Predicted number of available bikes for Station 10 at 2023-03-07 19:35:03: 12.50\n",
      "Station 11 R-squared: 0.939971365239105\n",
      "Mean Absolute Error:  0.7036144578313253\n",
      "Root Mean Squared Error:  1.820045203803973\n",
      "Predicted number of available bikes for Station 11 at 2023-03-07 19:35:03: 13.50\n"
     ]
    },
    {
     "name": "stderr",
     "output_type": "stream",
     "text": [
      "C:\\Users\\tfiro\\anaconda3\\envs\\comp30830software\\lib\\site-packages\\sklearn\\base.py:420: UserWarning: X does not have valid feature names, but KNeighborsRegressor was fitted with feature names\n",
      "  warnings.warn(\n",
      "C:\\Users\\tfiro\\anaconda3\\envs\\comp30830software\\lib\\site-packages\\sklearn\\base.py:420: UserWarning: X does not have valid feature names, but KNeighborsRegressor was fitted with feature names\n",
      "  warnings.warn(\n"
     ]
    },
    {
     "name": "stdout",
     "output_type": "stream",
     "text": [
      "Station 12 R-squared: 0.9162767361189156\n",
      "Mean Absolute Error:  0.6951807228915663\n",
      "Root Mean Squared Error:  1.4127828033953795\n",
      "Predicted number of available bikes for Station 12 at 2023-03-07 19:35:03: 1.50\n",
      "Station 13 R-squared: 0.928457359748263\n",
      "Mean Absolute Error:  0.7270223752151463\n",
      "Root Mean Squared Error:  1.7370122924028752\n",
      "Predicted number of available bikes for Station 13 at 2023-03-07 19:35:03: 14.00\n",
      "Station 14 R-squared: 0.8464132371800923\n"
     ]
    },
    {
     "name": "stderr",
     "output_type": "stream",
     "text": [
      "C:\\Users\\tfiro\\anaconda3\\envs\\comp30830software\\lib\\site-packages\\sklearn\\base.py:420: UserWarning: X does not have valid feature names, but KNeighborsRegressor was fitted with feature names\n",
      "  warnings.warn(\n",
      "C:\\Users\\tfiro\\anaconda3\\envs\\comp30830software\\lib\\site-packages\\sklearn\\base.py:420: UserWarning: X does not have valid feature names, but KNeighborsRegressor was fitted with feature names\n",
      "  warnings.warn(\n",
      "C:\\Users\\tfiro\\anaconda3\\envs\\comp30830software\\lib\\site-packages\\sklearn\\base.py:420: UserWarning: X does not have valid feature names, but KNeighborsRegressor was fitted with feature names\n",
      "  warnings.warn(\n"
     ]
    },
    {
     "name": "stdout",
     "output_type": "stream",
     "text": [
      "Mean Absolute Error:  1.7822719449225473\n",
      "Root Mean Squared Error:  3.3825129930305744\n",
      "Predicted number of available bikes for Station 14 at 2023-03-07 19:35:03: 12.50\n",
      "Station 15 R-squared: 0.8293595758647907\n",
      "Mean Absolute Error:  0.6160068846815835\n",
      "Root Mean Squared Error:  1.2041594578792296\n",
      "Predicted number of available bikes for Station 15 at 2023-03-07 19:35:03: 2.00\n",
      "Station 16 R-squared: 0.8886158259974624\n"
     ]
    },
    {
     "name": "stderr",
     "output_type": "stream",
     "text": [
      "C:\\Users\\tfiro\\anaconda3\\envs\\comp30830software\\lib\\site-packages\\sklearn\\base.py:420: UserWarning: X does not have valid feature names, but KNeighborsRegressor was fitted with feature names\n",
      "  warnings.warn(\n",
      "C:\\Users\\tfiro\\anaconda3\\envs\\comp30830software\\lib\\site-packages\\sklearn\\base.py:420: UserWarning: X does not have valid feature names, but KNeighborsRegressor was fitted with feature names\n",
      "  warnings.warn(\n",
      "C:\\Users\\tfiro\\anaconda3\\envs\\comp30830software\\lib\\site-packages\\sklearn\\base.py:420: UserWarning: X does not have valid feature names, but KNeighborsRegressor was fitted with feature names\n",
      "  warnings.warn(\n"
     ]
    },
    {
     "name": "stdout",
     "output_type": "stream",
     "text": [
      "Mean Absolute Error:  0.8913941480206541\n",
      "Root Mean Squared Error:  1.9312851437238185\n",
      "Predicted number of available bikes for Station 16 at 2023-03-07 19:35:03: 2.00\n",
      "Station 17 R-squared: 0.9164907505426202\n",
      "Mean Absolute Error:  0.6931153184165232\n",
      "Root Mean Squared Error:  1.5410895401436295\n",
      "Predicted number of available bikes for Station 17 at 2023-03-07 19:35:03: 1.50\n",
      "Station 18 R-squared: 0.8880536534232991\n",
      "Mean Absolute Error:  1.2717728055077453\n",
      "Root Mean Squared Error:  2.5106828551833327\n",
      "Predicted number of available bikes for Station 18 at 2023-03-07 19:35:03: 0.00\n",
      "Station 19 R-squared: 0.8560316641553913\n",
      "Mean Absolute Error:  1.7523235800344235\n",
      "Root Mean Squared Error:  3.678764010800376\n",
      "Predicted number of available bikes for Station 19 at 2023-03-07 19:35:03: 24.00\n",
      "Station 20 R-squared: 0.9103027829792135\n",
      "Mean Absolute Error:  0.9456110154905336\n",
      "Root Mean Squared Error:  2.2139442299561845\n",
      "Predicted number of available bikes for Station 20 at 2023-03-07 19:35:03: 28.00\n"
     ]
    },
    {
     "name": "stderr",
     "output_type": "stream",
     "text": [
      "C:\\Users\\tfiro\\anaconda3\\envs\\comp30830software\\lib\\site-packages\\sklearn\\base.py:420: UserWarning: X does not have valid feature names, but KNeighborsRegressor was fitted with feature names\n",
      "  warnings.warn(\n",
      "C:\\Users\\tfiro\\anaconda3\\envs\\comp30830software\\lib\\site-packages\\sklearn\\base.py:420: UserWarning: X does not have valid feature names, but KNeighborsRegressor was fitted with feature names\n",
      "  warnings.warn(\n",
      "C:\\Users\\tfiro\\anaconda3\\envs\\comp30830software\\lib\\site-packages\\sklearn\\base.py:420: UserWarning: X does not have valid feature names, but KNeighborsRegressor was fitted with feature names\n",
      "  warnings.warn(\n"
     ]
    },
    {
     "name": "stdout",
     "output_type": "stream",
     "text": [
      "Station 21 R-squared: 0.8697962695228167\n",
      "Mean Absolute Error:  1.4678141135972462\n",
      "Root Mean Squared Error:  3.108397376670312\n",
      "Predicted number of available bikes for Station 21 at 2023-03-07 19:35:03: 14.00\n",
      "Station 22 R-squared: 0.8938909870497342\n",
      "Mean Absolute Error:  0.9635111876075731\n",
      "Root Mean Squared Error:  1.8616983714237358\n",
      "Predicted number of available bikes for Station 22 at 2023-03-07 19:35:03: 4.50\n"
     ]
    },
    {
     "name": "stderr",
     "output_type": "stream",
     "text": [
      "C:\\Users\\tfiro\\anaconda3\\envs\\comp30830software\\lib\\site-packages\\sklearn\\base.py:420: UserWarning: X does not have valid feature names, but KNeighborsRegressor was fitted with feature names\n",
      "  warnings.warn(\n",
      "C:\\Users\\tfiro\\anaconda3\\envs\\comp30830software\\lib\\site-packages\\sklearn\\base.py:420: UserWarning: X does not have valid feature names, but KNeighborsRegressor was fitted with feature names\n",
      "  warnings.warn(\n"
     ]
    },
    {
     "name": "stdout",
     "output_type": "stream",
     "text": [
      "Station 23 R-squared: 0.8916038882913672\n",
      "Mean Absolute Error:  1.3662650602409638\n",
      "Root Mean Squared Error:  2.840026181062809\n",
      "Predicted number of available bikes for Station 23 at 2023-03-07 19:35:03: 3.00\n",
      "Station 24 R-squared: 0.8485328528797073\n",
      "Mean Absolute Error:  1.191566265060241\n",
      "Root Mean Squared Error:  2.2333144945729284\n",
      "Predicted number of available bikes for Station 24 at 2023-03-07 19:35:03: 9.00\n",
      "Station 25 R-squared: 0.9108174721839833\n"
     ]
    },
    {
     "name": "stderr",
     "output_type": "stream",
     "text": [
      "C:\\Users\\tfiro\\anaconda3\\envs\\comp30830software\\lib\\site-packages\\sklearn\\base.py:420: UserWarning: X does not have valid feature names, but KNeighborsRegressor was fitted with feature names\n",
      "  warnings.warn(\n",
      "C:\\Users\\tfiro\\anaconda3\\envs\\comp30830software\\lib\\site-packages\\sklearn\\base.py:420: UserWarning: X does not have valid feature names, but KNeighborsRegressor was fitted with feature names\n",
      "  warnings.warn(\n",
      "C:\\Users\\tfiro\\anaconda3\\envs\\comp30830software\\lib\\site-packages\\sklearn\\base.py:420: UserWarning: X does not have valid feature names, but KNeighborsRegressor was fitted with feature names\n",
      "  warnings.warn(\n"
     ]
    },
    {
     "name": "stdout",
     "output_type": "stream",
     "text": [
      "Mean Absolute Error:  0.8994836488812392\n",
      "Root Mean Squared Error:  2.133415804487369\n",
      "Predicted number of available bikes for Station 25 at 2023-03-07 19:35:03: 23.00\n",
      "Station 26 R-squared: 0.8765906893946984\n",
      "Mean Absolute Error:  0.8943201376936317\n",
      "Root Mean Squared Error:  1.8725758856463741\n",
      "Predicted number of available bikes for Station 26 at 2023-03-07 19:35:03: 8.00\n",
      "Station 27 R-squared: 0.9074311021526522\n"
     ]
    },
    {
     "name": "stderr",
     "output_type": "stream",
     "text": [
      "C:\\Users\\tfiro\\anaconda3\\envs\\comp30830software\\lib\\site-packages\\sklearn\\base.py:420: UserWarning: X does not have valid feature names, but KNeighborsRegressor was fitted with feature names\n",
      "  warnings.warn(\n",
      "C:\\Users\\tfiro\\anaconda3\\envs\\comp30830software\\lib\\site-packages\\sklearn\\base.py:420: UserWarning: X does not have valid feature names, but KNeighborsRegressor was fitted with feature names\n",
      "  warnings.warn(\n"
     ]
    },
    {
     "name": "stdout",
     "output_type": "stream",
     "text": [
      "Mean Absolute Error:  0.9537005163511187\n",
      "Root Mean Squared Error:  1.9433234481414527\n",
      "Predicted number of available bikes for Station 27 at 2023-03-07 19:35:03: 14.00\n",
      "Station 28 R-squared: 0.7698061478583235\n",
      "Mean Absolute Error:  1.6783132530120481\n",
      "Root Mean Squared Error:  3.23793935874003\n",
      "Predicted number of available bikes for Station 28 at 2023-03-07 19:35:03: 6.00\n",
      "Station 29 R-squared: 0.8623614816833769\n",
      "Mean Absolute Error:  1.5301204819277108\n",
      "Root Mean Squared Error:  3.1710284903713792\n",
      "Predicted number of available bikes for Station 29 at 2023-03-07 19:35:03: 17.00\n"
     ]
    },
    {
     "name": "stderr",
     "output_type": "stream",
     "text": [
      "C:\\Users\\tfiro\\anaconda3\\envs\\comp30830software\\lib\\site-packages\\sklearn\\base.py:420: UserWarning: X does not have valid feature names, but KNeighborsRegressor was fitted with feature names\n",
      "  warnings.warn(\n",
      "C:\\Users\\tfiro\\anaconda3\\envs\\comp30830software\\lib\\site-packages\\sklearn\\base.py:420: UserWarning: X does not have valid feature names, but KNeighborsRegressor was fitted with feature names\n",
      "  warnings.warn(\n"
     ]
    },
    {
     "name": "stdout",
     "output_type": "stream",
     "text": [
      "Station 30 R-squared: 0.8906699255549434\n",
      "Mean Absolute Error:  0.6218588640275388\n",
      "Root Mean Squared Error:  1.3809934312453689\n",
      "Predicted number of available bikes for Station 30 at 2023-03-07 19:35:03: 1.00\n",
      "Station 31 R-squared: 0.8624086007463581\n",
      "Mean Absolute Error:  1.182960413080895\n",
      "Root Mean Squared Error:  2.182448371670818\n",
      "Predicted number of available bikes for Station 31 at 2023-03-07 19:35:03: 15.00\n",
      "Station 32 R-squared: 0.8528620668882169\n"
     ]
    },
    {
     "name": "stderr",
     "output_type": "stream",
     "text": [
      "C:\\Users\\tfiro\\anaconda3\\envs\\comp30830software\\lib\\site-packages\\sklearn\\base.py:420: UserWarning: X does not have valid feature names, but KNeighborsRegressor was fitted with feature names\n",
      "  warnings.warn(\n",
      "C:\\Users\\tfiro\\anaconda3\\envs\\comp30830software\\lib\\site-packages\\sklearn\\base.py:420: UserWarning: X does not have valid feature names, but KNeighborsRegressor was fitted with feature names\n",
      "  warnings.warn(\n",
      "C:\\Users\\tfiro\\anaconda3\\envs\\comp30830software\\lib\\site-packages\\sklearn\\base.py:420: UserWarning: X does not have valid feature names, but KNeighborsRegressor was fitted with feature names\n",
      "  warnings.warn(\n"
     ]
    },
    {
     "name": "stdout",
     "output_type": "stream",
     "text": [
      "Mean Absolute Error:  1.504130808950086\n",
      "Root Mean Squared Error:  2.839707992066533\n",
      "Predicted number of available bikes for Station 32 at 2023-03-07 19:35:03: 19.00\n",
      "Station 33 R-squared: 0.7525325317004935\n",
      "Mean Absolute Error:  1.76815834767642\n",
      "Root Mean Squared Error:  3.1582337816604618\n",
      "Predicted number of available bikes for Station 33 at 2023-03-07 19:35:03: 9.00\n",
      "Station 34 R-squared: 0.844580483881272\n"
     ]
    },
    {
     "name": "stderr",
     "output_type": "stream",
     "text": [
      "C:\\Users\\tfiro\\anaconda3\\envs\\comp30830software\\lib\\site-packages\\sklearn\\base.py:420: UserWarning: X does not have valid feature names, but KNeighborsRegressor was fitted with feature names\n",
      "  warnings.warn(\n",
      "C:\\Users\\tfiro\\anaconda3\\envs\\comp30830software\\lib\\site-packages\\sklearn\\base.py:420: UserWarning: X does not have valid feature names, but KNeighborsRegressor was fitted with feature names\n",
      "  warnings.warn(\n"
     ]
    },
    {
     "name": "stdout",
     "output_type": "stream",
     "text": [
      "Mean Absolute Error:  2.0328743545611014\n",
      "Root Mean Squared Error:  4.092003452434176\n",
      "Predicted number of available bikes for Station 34 at 2023-03-07 19:35:03: 2.00\n",
      "Station 35 R-squared: 0.8992834775959002\n",
      "Mean Absolute Error:  1.212736660929432\n",
      "Root Mean Squared Error:  2.5378714976101726\n",
      "Predicted number of available bikes for Station 35 at 2023-03-07 19:35:03: 16.50\n",
      "Station 36 R-squared: 0.8879657734589532\n",
      "Mean Absolute Error:  1.1473321858864027\n",
      "Root Mean Squared Error:  2.502288109537455\n",
      "Predicted number of available bikes for Station 36 at 2023-03-07 19:35:03: 20.00\n"
     ]
    },
    {
     "name": "stderr",
     "output_type": "stream",
     "text": [
      "C:\\Users\\tfiro\\anaconda3\\envs\\comp30830software\\lib\\site-packages\\sklearn\\base.py:420: UserWarning: X does not have valid feature names, but KNeighborsRegressor was fitted with feature names\n",
      "  warnings.warn(\n",
      "C:\\Users\\tfiro\\anaconda3\\envs\\comp30830software\\lib\\site-packages\\sklearn\\base.py:420: UserWarning: X does not have valid feature names, but KNeighborsRegressor was fitted with feature names\n",
      "  warnings.warn(\n"
     ]
    },
    {
     "name": "stdout",
     "output_type": "stream",
     "text": [
      "Station 37 R-squared: 0.934422180258678\n",
      "Mean Absolute Error:  0.6027538726333908\n",
      "Root Mean Squared Error:  1.4195584875177385\n",
      "Predicted number of available bikes for Station 37 at 2023-03-07 19:35:03: 12.00\n",
      "Station 38 R-squared: 0.9323123606284753\n",
      "Mean Absolute Error:  1.3697074010327022\n",
      "Root Mean Squared Error:  2.7040480904990387\n",
      "Predicted number of available bikes for Station 38 at 2023-03-07 19:35:03: 7.50\n",
      "Station 39 R-squared: 0.8906252607587892\n"
     ]
    },
    {
     "name": "stderr",
     "output_type": "stream",
     "text": [
      "C:\\Users\\tfiro\\anaconda3\\envs\\comp30830software\\lib\\site-packages\\sklearn\\base.py:420: UserWarning: X does not have valid feature names, but KNeighborsRegressor was fitted with feature names\n",
      "  warnings.warn(\n",
      "C:\\Users\\tfiro\\anaconda3\\envs\\comp30830software\\lib\\site-packages\\sklearn\\base.py:420: UserWarning: X does not have valid feature names, but KNeighborsRegressor was fitted with feature names\n",
      "  warnings.warn(\n"
     ]
    },
    {
     "name": "stdout",
     "output_type": "stream",
     "text": [
      "Mean Absolute Error:  0.9672977624784854\n",
      "Root Mean Squared Error:  1.8418074636667614\n",
      "Predicted number of available bikes for Station 39 at 2023-03-07 19:35:03: 2.50\n",
      "Station 40 R-squared: 0.8752720052427106\n",
      "Mean Absolute Error:  1.1239242685025816\n",
      "Root Mean Squared Error:  2.238914170067587\n",
      "Predicted number of available bikes for Station 40 at 2023-03-07 19:35:03: 5.00\n",
      "Station 41 R-squared: 0.9126796091329346\n",
      "Mean Absolute Error:  0.7240963855421687\n",
      "Root Mean Squared Error:  1.767535698101162\n",
      "Predicted number of available bikes for Station 41 at 2023-03-07 19:35:03: 0.00\n"
     ]
    },
    {
     "name": "stderr",
     "output_type": "stream",
     "text": [
      "C:\\Users\\tfiro\\anaconda3\\envs\\comp30830software\\lib\\site-packages\\sklearn\\base.py:420: UserWarning: X does not have valid feature names, but KNeighborsRegressor was fitted with feature names\n",
      "  warnings.warn(\n",
      "C:\\Users\\tfiro\\anaconda3\\envs\\comp30830software\\lib\\site-packages\\sklearn\\base.py:420: UserWarning: X does not have valid feature names, but KNeighborsRegressor was fitted with feature names\n",
      "  warnings.warn(\n",
      "C:\\Users\\tfiro\\anaconda3\\envs\\comp30830software\\lib\\site-packages\\sklearn\\base.py:420: UserWarning: X does not have valid feature names, but KNeighborsRegressor was fitted with feature names\n",
      "  warnings.warn(\n"
     ]
    },
    {
     "name": "stdout",
     "output_type": "stream",
     "text": [
      "Station 42 R-squared: 0.9192089135516449\n",
      "Mean Absolute Error:  1.16368330464716\n",
      "Root Mean Squared Error:  2.371318144371278\n",
      "Predicted number of available bikes for Station 42 at 2023-03-07 19:35:03: 7.50\n",
      "Station 43 R-squared: 0.8693749893810088\n",
      "Mean Absolute Error:  1.6036144578313254\n",
      "Root Mean Squared Error:  3.522524032477334\n",
      "Predicted number of available bikes for Station 43 at 2023-03-07 19:35:03: 3.50\n",
      "Station 44 R-squared: 0.8970793983829765\n"
     ]
    },
    {
     "name": "stderr",
     "output_type": "stream",
     "text": [
      "C:\\Users\\tfiro\\anaconda3\\envs\\comp30830software\\lib\\site-packages\\sklearn\\base.py:420: UserWarning: X does not have valid feature names, but KNeighborsRegressor was fitted with feature names\n",
      "  warnings.warn(\n",
      "C:\\Users\\tfiro\\anaconda3\\envs\\comp30830software\\lib\\site-packages\\sklearn\\base.py:420: UserWarning: X does not have valid feature names, but KNeighborsRegressor was fitted with feature names\n",
      "  warnings.warn(\n",
      "C:\\Users\\tfiro\\anaconda3\\envs\\comp30830software\\lib\\site-packages\\sklearn\\base.py:420: UserWarning: X does not have valid feature names, but KNeighborsRegressor was fitted with feature names\n",
      "  warnings.warn(\n"
     ]
    },
    {
     "name": "stdout",
     "output_type": "stream",
     "text": [
      "Mean Absolute Error:  1.3371772805507744\n",
      "Root Mean Squared Error:  2.646580621199639\n",
      "Predicted number of available bikes for Station 44 at 2023-03-07 19:35:03: 2.00\n",
      "Station 45 R-squared: 0.9442952917851859\n",
      "Mean Absolute Error:  0.8777969018932874\n",
      "Root Mean Squared Error:  2.0683251724361127\n",
      "Predicted number of available bikes for Station 45 at 2023-03-07 19:35:03: 2.00\n",
      "Station 47 R-squared: 0.9406838725190774\n"
     ]
    },
    {
     "name": "stderr",
     "output_type": "stream",
     "text": [
      "C:\\Users\\tfiro\\anaconda3\\envs\\comp30830software\\lib\\site-packages\\sklearn\\base.py:420: UserWarning: X does not have valid feature names, but KNeighborsRegressor was fitted with feature names\n",
      "  warnings.warn(\n",
      "C:\\Users\\tfiro\\anaconda3\\envs\\comp30830software\\lib\\site-packages\\sklearn\\base.py:420: UserWarning: X does not have valid feature names, but KNeighborsRegressor was fitted with feature names\n",
      "  warnings.warn(\n"
     ]
    },
    {
     "name": "stdout",
     "output_type": "stream",
     "text": [
      "Mean Absolute Error:  0.8901893287435456\n",
      "Root Mean Squared Error:  2.2808791372087684\n",
      "Predicted number of available bikes for Station 47 at 2023-03-07 19:35:03: 27.00\n",
      "Station 48 R-squared: 0.9423197686080388\n",
      "Mean Absolute Error:  1.040103270223752\n",
      "Root Mean Squared Error:  2.0905285959946247\n",
      "Predicted number of available bikes for Station 48 at 2023-03-07 19:35:03: 18.50\n",
      "Station 49 R-squared: 0.9241496454931253\n",
      "Mean Absolute Error:  1.4781411359724612\n",
      "Root Mean Squared Error:  3.0402067598861007\n",
      "Predicted number of available bikes for Station 49 at 2023-03-07 19:35:03: 33.00\n"
     ]
    },
    {
     "name": "stderr",
     "output_type": "stream",
     "text": [
      "C:\\Users\\tfiro\\anaconda3\\envs\\comp30830software\\lib\\site-packages\\sklearn\\base.py:420: UserWarning: X does not have valid feature names, but KNeighborsRegressor was fitted with feature names\n",
      "  warnings.warn(\n",
      "C:\\Users\\tfiro\\anaconda3\\envs\\comp30830software\\lib\\site-packages\\sklearn\\base.py:420: UserWarning: X does not have valid feature names, but KNeighborsRegressor was fitted with feature names\n",
      "  warnings.warn(\n",
      "C:\\Users\\tfiro\\anaconda3\\envs\\comp30830software\\lib\\site-packages\\sklearn\\base.py:420: UserWarning: X does not have valid feature names, but KNeighborsRegressor was fitted with feature names\n",
      "  warnings.warn(\n"
     ]
    },
    {
     "name": "stdout",
     "output_type": "stream",
     "text": [
      "Station 50 R-squared: 0.9462280756549318\n",
      "Mean Absolute Error:  1.3733218588640275\n",
      "Root Mean Squared Error:  2.876592576938993\n",
      "Predicted number of available bikes for Station 50 at 2023-03-07 19:35:03: 3.50\n",
      "Station 51 R-squared: 0.9215096388281434\n",
      "Mean Absolute Error:  0.9197934595524957\n",
      "Root Mean Squared Error:  2.47622081714939\n",
      "Predicted number of available bikes for Station 51 at 2023-03-07 19:35:03: 4.00\n"
     ]
    },
    {
     "name": "stderr",
     "output_type": "stream",
     "text": [
      "C:\\Users\\tfiro\\anaconda3\\envs\\comp30830software\\lib\\site-packages\\sklearn\\base.py:420: UserWarning: X does not have valid feature names, but KNeighborsRegressor was fitted with feature names\n",
      "  warnings.warn(\n",
      "C:\\Users\\tfiro\\anaconda3\\envs\\comp30830software\\lib\\site-packages\\sklearn\\base.py:420: UserWarning: X does not have valid feature names, but KNeighborsRegressor was fitted with feature names\n",
      "  warnings.warn(\n",
      "C:\\Users\\tfiro\\anaconda3\\envs\\comp30830software\\lib\\site-packages\\sklearn\\base.py:420: UserWarning: X does not have valid feature names, but KNeighborsRegressor was fitted with feature names\n",
      "  warnings.warn(\n"
     ]
    },
    {
     "name": "stdout",
     "output_type": "stream",
     "text": [
      "Station 52 R-squared: 0.9033867178174979\n",
      "Mean Absolute Error:  1.072289156626506\n",
      "Root Mean Squared Error:  2.2672555004460624\n",
      "Predicted number of available bikes for Station 52 at 2023-03-07 19:35:03: 13.00\n",
      "Station 53 R-squared: 0.9110148082889091\n",
      "Mean Absolute Error:  0.8426850258175559\n",
      "Root Mean Squared Error:  2.248924011224394\n",
      "Predicted number of available bikes for Station 53 at 2023-03-07 19:35:03: 22.00\n",
      "Station 54 R-squared: 0.9357914272307678\n",
      "Mean Absolute Error:  0.8344234079173838\n",
      "Root Mean Squared Error:  1.9167259089350226\n",
      "Predicted number of available bikes for Station 54 at 2023-03-07 19:35:03: 11.00\n",
      "Station 55 R-squared: 0.8856071563269444\n",
      "Mean Absolute Error:  0.7578313253012048\n",
      "Root Mean Squared Error:  1.9006521210810914\n",
      "Predicted number of available bikes for Station 55 at 2023-03-07 19:35:03: 14.00\n",
      "Station 56 R-squared: 0.869536440703785\n"
     ]
    },
    {
     "name": "stderr",
     "output_type": "stream",
     "text": [
      "C:\\Users\\tfiro\\anaconda3\\envs\\comp30830software\\lib\\site-packages\\sklearn\\base.py:420: UserWarning: X does not have valid feature names, but KNeighborsRegressor was fitted with feature names\n",
      "  warnings.warn(\n",
      "C:\\Users\\tfiro\\anaconda3\\envs\\comp30830software\\lib\\site-packages\\sklearn\\base.py:420: UserWarning: X does not have valid feature names, but KNeighborsRegressor was fitted with feature names\n",
      "  warnings.warn(\n"
     ]
    },
    {
     "name": "stdout",
     "output_type": "stream",
     "text": [
      "Mean Absolute Error:  1.5979345955249569\n",
      "Root Mean Squared Error:  3.437742324426982\n",
      "Predicted number of available bikes for Station 56 at 2023-03-07 19:35:03: 30.50\n",
      "Station 57 R-squared: 0.8852749141885563\n",
      "Mean Absolute Error:  0.7834767641996557\n",
      "Root Mean Squared Error:  1.7894315869781228\n",
      "Predicted number of available bikes for Station 57 at 2023-03-07 19:35:03: 21.50\n",
      "Station 58 R-squared: 0.8744254303136061\n"
     ]
    },
    {
     "name": "stderr",
     "output_type": "stream",
     "text": [
      "C:\\Users\\tfiro\\anaconda3\\envs\\comp30830software\\lib\\site-packages\\sklearn\\base.py:420: UserWarning: X does not have valid feature names, but KNeighborsRegressor was fitted with feature names\n",
      "  warnings.warn(\n",
      "C:\\Users\\tfiro\\anaconda3\\envs\\comp30830software\\lib\\site-packages\\sklearn\\base.py:420: UserWarning: X does not have valid feature names, but KNeighborsRegressor was fitted with feature names\n",
      "  warnings.warn(\n"
     ]
    },
    {
     "name": "stdout",
     "output_type": "stream",
     "text": [
      "Mean Absolute Error:  2.0018932874354562\n",
      "Root Mean Squared Error:  4.132018881179442\n",
      "Predicted number of available bikes for Station 58 at 2023-03-07 19:35:03: 35.00\n",
      "Station 59 R-squared: 0.8702674147737843\n",
      "Mean Absolute Error:  0.8265060240963855\n",
      "Root Mean Squared Error:  1.7487147973128128\n",
      "Predicted number of available bikes for Station 59 at 2023-03-07 19:35:03: 3.00\n",
      "Station 60 R-squared: 0.888124407219314\n",
      "Mean Absolute Error:  1.6366609294320138\n",
      "Root Mean Squared Error:  3.1140263436340447\n",
      "Predicted number of available bikes for Station 60 at 2023-03-07 19:35:03: 7.00\n"
     ]
    },
    {
     "name": "stderr",
     "output_type": "stream",
     "text": [
      "C:\\Users\\tfiro\\anaconda3\\envs\\comp30830software\\lib\\site-packages\\sklearn\\base.py:420: UserWarning: X does not have valid feature names, but KNeighborsRegressor was fitted with feature names\n",
      "  warnings.warn(\n",
      "C:\\Users\\tfiro\\anaconda3\\envs\\comp30830software\\lib\\site-packages\\sklearn\\base.py:420: UserWarning: X does not have valid feature names, but KNeighborsRegressor was fitted with feature names\n",
      "  warnings.warn(\n",
      "C:\\Users\\tfiro\\anaconda3\\envs\\comp30830software\\lib\\site-packages\\sklearn\\base.py:420: UserWarning: X does not have valid feature names, but KNeighborsRegressor was fitted with feature names\n",
      "  warnings.warn(\n"
     ]
    },
    {
     "name": "stdout",
     "output_type": "stream",
     "text": [
      "Station 61 R-squared: 0.8946451810718093\n",
      "Mean Absolute Error:  0.5545611015490534\n",
      "Root Mean Squared Error:  1.3528830692145193\n",
      "Predicted number of available bikes for Station 61 at 2023-03-07 19:35:03: 2.50\n",
      "Station 62 R-squared: 0.9390690922725686\n",
      "Mean Absolute Error:  0.8206540447504302\n",
      "Root Mean Squared Error:  1.7045045110609696\n",
      "Predicted number of available bikes for Station 62 at 2023-03-07 19:35:03: 21.00\n"
     ]
    },
    {
     "name": "stderr",
     "output_type": "stream",
     "text": [
      "C:\\Users\\tfiro\\anaconda3\\envs\\comp30830software\\lib\\site-packages\\sklearn\\base.py:420: UserWarning: X does not have valid feature names, but KNeighborsRegressor was fitted with feature names\n",
      "  warnings.warn(\n",
      "C:\\Users\\tfiro\\anaconda3\\envs\\comp30830software\\lib\\site-packages\\sklearn\\base.py:420: UserWarning: X does not have valid feature names, but KNeighborsRegressor was fitted with feature names\n",
      "  warnings.warn(\n",
      "C:\\Users\\tfiro\\anaconda3\\envs\\comp30830software\\lib\\site-packages\\sklearn\\base.py:420: UserWarning: X does not have valid feature names, but KNeighborsRegressor was fitted with feature names\n",
      "  warnings.warn(\n"
     ]
    },
    {
     "name": "stdout",
     "output_type": "stream",
     "text": [
      "Station 63 R-squared: 0.9067888057242022\n",
      "Mean Absolute Error:  0.985025817555938\n",
      "Root Mean Squared Error:  2.0321639179280653\n",
      "Predicted number of available bikes for Station 63 at 2023-03-07 19:35:03: 16.00\n",
      "Station 64 R-squared: 0.903442238359063\n",
      "Mean Absolute Error:  1.2137693631669535\n",
      "Root Mean Squared Error:  2.542106679179783\n",
      "Predicted number of available bikes for Station 64 at 2023-03-07 19:35:03: 13.00\n"
     ]
    },
    {
     "name": "stderr",
     "output_type": "stream",
     "text": [
      "C:\\Users\\tfiro\\anaconda3\\envs\\comp30830software\\lib\\site-packages\\sklearn\\base.py:420: UserWarning: X does not have valid feature names, but KNeighborsRegressor was fitted with feature names\n",
      "  warnings.warn(\n",
      "C:\\Users\\tfiro\\anaconda3\\envs\\comp30830software\\lib\\site-packages\\sklearn\\base.py:420: UserWarning: X does not have valid feature names, but KNeighborsRegressor was fitted with feature names\n",
      "  warnings.warn(\n",
      "C:\\Users\\tfiro\\anaconda3\\envs\\comp30830software\\lib\\site-packages\\sklearn\\base.py:420: UserWarning: X does not have valid feature names, but KNeighborsRegressor was fitted with feature names\n",
      "  warnings.warn(\n"
     ]
    },
    {
     "name": "stdout",
     "output_type": "stream",
     "text": [
      "Station 65 R-squared: 0.8944111360786934\n",
      "Mean Absolute Error:  1.6345955249569708\n",
      "Root Mean Squared Error:  4.298610831123547\n",
      "Predicted number of available bikes for Station 65 at 2023-03-07 19:35:03: 34.50\n",
      "Station 66 R-squared: 0.8651690818558712\n",
      "Mean Absolute Error:  1.6836488812392427\n",
      "Root Mean Squared Error:  3.4692154891495144\n",
      "Predicted number of available bikes for Station 66 at 2023-03-07 19:35:03: 14.00\n",
      "Station 67 R-squared: 0.9269585253142257\n",
      "Mean Absolute Error:  1.385370051635112\n",
      "Root Mean Squared Error:  2.6791250145100536\n",
      "Predicted number of available bikes for Station 67 at 2023-03-07 19:35:03: 21.00\n",
      "Station 68 R-squared: 0.886942606670142\n",
      "Mean Absolute Error:  1.7151462994836488\n",
      "Root Mean Squared Error:  3.7054293328098304\n",
      "Predicted number of available bikes for Station 68 at 2023-03-07 19:35:03: 32.50\n",
      "Station 69 R-squared: 0.839849271532731\n",
      "Mean Absolute Error:  2.1915662650602408\n",
      "Root Mean Squared Error:  4.4061742785329665\n",
      "Predicted number of available bikes for Station 69 at 2023-03-07 19:35:03: 30.00\n"
     ]
    },
    {
     "name": "stderr",
     "output_type": "stream",
     "text": [
      "C:\\Users\\tfiro\\anaconda3\\envs\\comp30830software\\lib\\site-packages\\sklearn\\base.py:420: UserWarning: X does not have valid feature names, but KNeighborsRegressor was fitted with feature names\n",
      "  warnings.warn(\n",
      "C:\\Users\\tfiro\\anaconda3\\envs\\comp30830software\\lib\\site-packages\\sklearn\\base.py:420: UserWarning: X does not have valid feature names, but KNeighborsRegressor was fitted with feature names\n",
      "  warnings.warn(\n",
      "C:\\Users\\tfiro\\anaconda3\\envs\\comp30830software\\lib\\site-packages\\sklearn\\base.py:420: UserWarning: X does not have valid feature names, but KNeighborsRegressor was fitted with feature names\n",
      "  warnings.warn(\n"
     ]
    },
    {
     "name": "stdout",
     "output_type": "stream",
     "text": [
      "Station 71 R-squared: 0.9164492026277152\n",
      "Mean Absolute Error:  1.0008605851979346\n",
      "Root Mean Squared Error:  2.1834339515996994\n",
      "Predicted number of available bikes for Station 71 at 2023-03-07 19:35:03: 3.00\n",
      "Station 72 R-squared: 0.8336634358465962\n",
      "Mean Absolute Error:  1.270567986230637\n",
      "Root Mean Squared Error:  2.6547136009230807\n",
      "Predicted number of available bikes for Station 72 at 2023-03-07 19:35:03: 2.50\n",
      "Station 73 R-squared: 0.8898996065578807\n"
     ]
    },
    {
     "name": "stderr",
     "output_type": "stream",
     "text": [
      "C:\\Users\\tfiro\\anaconda3\\envs\\comp30830software\\lib\\site-packages\\sklearn\\base.py:420: UserWarning: X does not have valid feature names, but KNeighborsRegressor was fitted with feature names\n",
      "  warnings.warn(\n",
      "C:\\Users\\tfiro\\anaconda3\\envs\\comp30830software\\lib\\site-packages\\sklearn\\base.py:420: UserWarning: X does not have valid feature names, but KNeighborsRegressor was fitted with feature names\n",
      "  warnings.warn(\n",
      "C:\\Users\\tfiro\\anaconda3\\envs\\comp30830software\\lib\\site-packages\\sklearn\\base.py:420: UserWarning: X does not have valid feature names, but KNeighborsRegressor was fitted with feature names\n",
      "  warnings.warn(\n"
     ]
    },
    {
     "name": "stdout",
     "output_type": "stream",
     "text": [
      "Mean Absolute Error:  1.0879518072289156\n",
      "Root Mean Squared Error:  2.2708017191081002\n",
      "Predicted number of available bikes for Station 73 at 2023-03-07 19:35:03: 0.00\n",
      "Station 74 R-squared: 0.9089860665251804\n",
      "Mean Absolute Error:  0.925645438898451\n",
      "Root Mean Squared Error:  2.004040668679448\n",
      "Predicted number of available bikes for Station 74 at 2023-03-07 19:35:03: 3.50\n",
      "Station 75 R-squared: 0.9176904723284135\n"
     ]
    },
    {
     "name": "stderr",
     "output_type": "stream",
     "text": [
      "C:\\Users\\tfiro\\anaconda3\\envs\\comp30830software\\lib\\site-packages\\sklearn\\base.py:420: UserWarning: X does not have valid feature names, but KNeighborsRegressor was fitted with feature names\n",
      "  warnings.warn(\n",
      "C:\\Users\\tfiro\\anaconda3\\envs\\comp30830software\\lib\\site-packages\\sklearn\\base.py:420: UserWarning: X does not have valid feature names, but KNeighborsRegressor was fitted with feature names\n",
      "  warnings.warn(\n",
      "C:\\Users\\tfiro\\anaconda3\\envs\\comp30830software\\lib\\site-packages\\sklearn\\base.py:420: UserWarning: X does not have valid feature names, but KNeighborsRegressor was fitted with feature names\n",
      "  warnings.warn(\n"
     ]
    },
    {
     "name": "stdout",
     "output_type": "stream",
     "text": [
      "Mean Absolute Error:  1.183132530120482\n",
      "Root Mean Squared Error:  2.537362800781216\n",
      "Predicted number of available bikes for Station 75 at 2023-03-07 19:35:03: 9.00\n",
      "Station 76 R-squared: 0.8585776719362129\n",
      "Mean Absolute Error:  1.2087779690189329\n",
      "Root Mean Squared Error:  2.7419260288484115\n",
      "Predicted number of available bikes for Station 76 at 2023-03-07 19:35:03: 17.00\n",
      "Station 77 R-squared: 0.9344883689022805\n",
      "Mean Absolute Error:  1.1\n",
      "Root Mean Squared Error:  2.2219566201955834\n",
      "Predicted number of available bikes for Station 77 at 2023-03-07 19:35:03: 7.00\n",
      "Station 78 R-squared: 0.9196465736115292\n",
      "Mean Absolute Error:  1.0113597246127366\n",
      "Root Mean Squared Error:  2.2016657752452806\n",
      "Predicted number of available bikes for Station 78 at 2023-03-07 19:35:03: 17.00\n",
      "Station 79 R-squared: 0.9007631693554208\n"
     ]
    },
    {
     "name": "stderr",
     "output_type": "stream",
     "text": [
      "C:\\Users\\tfiro\\anaconda3\\envs\\comp30830software\\lib\\site-packages\\sklearn\\base.py:420: UserWarning: X does not have valid feature names, but KNeighborsRegressor was fitted with feature names\n",
      "  warnings.warn(\n",
      "C:\\Users\\tfiro\\anaconda3\\envs\\comp30830software\\lib\\site-packages\\sklearn\\base.py:420: UserWarning: X does not have valid feature names, but KNeighborsRegressor was fitted with feature names\n",
      "  warnings.warn(\n"
     ]
    },
    {
     "name": "stdout",
     "output_type": "stream",
     "text": [
      "Mean Absolute Error:  0.6631669535283993\n",
      "Root Mean Squared Error:  1.6291503334407436\n",
      "Predicted number of available bikes for Station 79 at 2023-03-07 19:35:03: 1.00\n",
      "Station 80 R-squared: 0.8622170820484676\n",
      "Mean Absolute Error:  1.1948364888123923\n",
      "Root Mean Squared Error:  2.6871274708786017\n",
      "Predicted number of available bikes for Station 80 at 2023-03-07 19:35:03: 21.00\n",
      "Station 82 R-squared: 0.890792794037835\n",
      "Mean Absolute Error:  0.404302925989673\n",
      "Root Mean Squared Error:  0.8645335415159994\n",
      "Predicted number of available bikes for Station 82 at 2023-03-07 19:35:03: 0.00\n"
     ]
    },
    {
     "name": "stderr",
     "output_type": "stream",
     "text": [
      "C:\\Users\\tfiro\\anaconda3\\envs\\comp30830software\\lib\\site-packages\\sklearn\\base.py:420: UserWarning: X does not have valid feature names, but KNeighborsRegressor was fitted with feature names\n",
      "  warnings.warn(\n",
      "C:\\Users\\tfiro\\anaconda3\\envs\\comp30830software\\lib\\site-packages\\sklearn\\base.py:420: UserWarning: X does not have valid feature names, but KNeighborsRegressor was fitted with feature names\n",
      "  warnings.warn(\n",
      "C:\\Users\\tfiro\\anaconda3\\envs\\comp30830software\\lib\\site-packages\\sklearn\\base.py:420: UserWarning: X does not have valid feature names, but KNeighborsRegressor was fitted with feature names\n",
      "  warnings.warn(\n"
     ]
    },
    {
     "name": "stdout",
     "output_type": "stream",
     "text": [
      "Station 83 R-squared: 0.9380197336374678\n",
      "Mean Absolute Error:  1.1034423407917384\n",
      "Root Mean Squared Error:  2.355734205907203\n",
      "Predicted number of available bikes for Station 83 at 2023-03-07 19:35:03: 22.00\n",
      "Station 84 R-squared: 0.9128824937868765\n",
      "Mean Absolute Error:  0.9160068846815834\n",
      "Root Mean Squared Error:  2.0559305090823377\n",
      "Predicted number of available bikes for Station 84 at 2023-03-07 19:35:03: 7.00\n"
     ]
    },
    {
     "name": "stderr",
     "output_type": "stream",
     "text": [
      "C:\\Users\\tfiro\\anaconda3\\envs\\comp30830software\\lib\\site-packages\\sklearn\\base.py:420: UserWarning: X does not have valid feature names, but KNeighborsRegressor was fitted with feature names\n",
      "  warnings.warn(\n",
      "C:\\Users\\tfiro\\anaconda3\\envs\\comp30830software\\lib\\site-packages\\sklearn\\base.py:420: UserWarning: X does not have valid feature names, but KNeighborsRegressor was fitted with feature names\n",
      "  warnings.warn(\n"
     ]
    },
    {
     "name": "stdout",
     "output_type": "stream",
     "text": [
      "Station 85 R-squared: 0.9015118904666674\n",
      "Mean Absolute Error:  1.2151462994836488\n",
      "Root Mean Squared Error:  2.6844038623846345\n",
      "Predicted number of available bikes for Station 85 at 2023-03-07 19:35:03: 10.00\n",
      "Station 86 R-squared: 0.9160798435698249\n",
      "Mean Absolute Error:  1.5600688468158348\n",
      "Root Mean Squared Error:  3.6739769613546223\n",
      "Predicted number of available bikes for Station 86 at 2023-03-07 19:35:03: 3.50\n"
     ]
    },
    {
     "name": "stderr",
     "output_type": "stream",
     "text": [
      "C:\\Users\\tfiro\\anaconda3\\envs\\comp30830software\\lib\\site-packages\\sklearn\\base.py:420: UserWarning: X does not have valid feature names, but KNeighborsRegressor was fitted with feature names\n",
      "  warnings.warn(\n",
      "C:\\Users\\tfiro\\anaconda3\\envs\\comp30830software\\lib\\site-packages\\sklearn\\base.py:420: UserWarning: X does not have valid feature names, but KNeighborsRegressor was fitted with feature names\n",
      "  warnings.warn(\n",
      "C:\\Users\\tfiro\\anaconda3\\envs\\comp30830software\\lib\\site-packages\\sklearn\\base.py:420: UserWarning: X does not have valid feature names, but KNeighborsRegressor was fitted with feature names\n",
      "  warnings.warn(\n"
     ]
    },
    {
     "name": "stdout",
     "output_type": "stream",
     "text": [
      "Station 87 R-squared: 0.9031005825563363\n",
      "Mean Absolute Error:  0.993631669535284\n",
      "Root Mean Squared Error:  2.3765745754266883\n",
      "Predicted number of available bikes for Station 87 at 2023-03-07 19:35:03: 14.00\n",
      "Station 88 R-squared: 0.9194683346364347\n",
      "Mean Absolute Error:  0.3557692307692308\n",
      "Root Mean Squared Error:  0.7036990178281534\n",
      "Predicted number of available bikes for Station 88 at 2023-03-07 19:35:03: 6.00\n",
      "Station 89 R-squared: 0.8929654696741521\n",
      "Mean Absolute Error:  0.47796901893287436\n",
      "Root Mean Squared Error:  1.2160359968401493\n",
      "Predicted number of available bikes for Station 89 at 2023-03-07 19:35:03: 11.00\n"
     ]
    },
    {
     "name": "stderr",
     "output_type": "stream",
     "text": [
      "C:\\Users\\tfiro\\anaconda3\\envs\\comp30830software\\lib\\site-packages\\sklearn\\base.py:420: UserWarning: X does not have valid feature names, but KNeighborsRegressor was fitted with feature names\n",
      "  warnings.warn(\n",
      "C:\\Users\\tfiro\\anaconda3\\envs\\comp30830software\\lib\\site-packages\\sklearn\\base.py:420: UserWarning: X does not have valid feature names, but KNeighborsRegressor was fitted with feature names\n",
      "  warnings.warn(\n"
     ]
    },
    {
     "name": "stdout",
     "output_type": "stream",
     "text": [
      "Station 90 R-squared: 0.8984965386253347\n",
      "Mean Absolute Error:  1.6662650602409639\n",
      "Root Mean Squared Error:  3.81697224360274\n",
      "Predicted number of available bikes for Station 90 at 2023-03-07 19:35:03: 22.50\n",
      "Station 91 R-squared: 0.8924155203987347\n",
      "Mean Absolute Error:  1.3111876075731497\n",
      "Root Mean Squared Error:  2.6642272261510547\n",
      "Predicted number of available bikes for Station 91 at 2023-03-07 19:35:03: 22.00\n",
      "Station 92 R-squared: 0.8990215324763606\n"
     ]
    },
    {
     "name": "stderr",
     "output_type": "stream",
     "text": [
      "C:\\Users\\tfiro\\anaconda3\\envs\\comp30830software\\lib\\site-packages\\sklearn\\base.py:420: UserWarning: X does not have valid feature names, but KNeighborsRegressor was fitted with feature names\n",
      "  warnings.warn(\n",
      "C:\\Users\\tfiro\\anaconda3\\envs\\comp30830software\\lib\\site-packages\\sklearn\\base.py:420: UserWarning: X does not have valid feature names, but KNeighborsRegressor was fitted with feature names\n",
      "  warnings.warn(\n"
     ]
    },
    {
     "name": "stdout",
     "output_type": "stream",
     "text": [
      "Mean Absolute Error:  1.6333907056798622\n",
      "Root Mean Squared Error:  4.149196882246249\n",
      "Predicted number of available bikes for Station 92 at 2023-03-07 19:35:03: 6.00\n",
      "Station 93 R-squared: 0.925522111494752\n",
      "Mean Absolute Error:  1.261790017211704\n",
      "Root Mean Squared Error:  3.700176764629071\n",
      "Predicted number of available bikes for Station 93 at 2023-03-07 19:35:03: 0.00\n",
      "Station 94 R-squared: 0.936857305648912\n",
      "Mean Absolute Error:  0.5857142857142857\n",
      "Root Mean Squared Error:  2.1730432668465025\n",
      "Predicted number of available bikes for Station 94 at 2023-03-07 19:35:03: 1.00\n"
     ]
    },
    {
     "name": "stderr",
     "output_type": "stream",
     "text": [
      "C:\\Users\\tfiro\\anaconda3\\envs\\comp30830software\\lib\\site-packages\\sklearn\\base.py:420: UserWarning: X does not have valid feature names, but KNeighborsRegressor was fitted with feature names\n",
      "  warnings.warn(\n",
      "C:\\Users\\tfiro\\anaconda3\\envs\\comp30830software\\lib\\site-packages\\sklearn\\base.py:420: UserWarning: X does not have valid feature names, but KNeighborsRegressor was fitted with feature names\n",
      "  warnings.warn(\n",
      "C:\\Users\\tfiro\\anaconda3\\envs\\comp30830software\\lib\\site-packages\\sklearn\\base.py:420: UserWarning: X does not have valid feature names, but KNeighborsRegressor was fitted with feature names\n",
      "  warnings.warn(\n"
     ]
    },
    {
     "name": "stdout",
     "output_type": "stream",
     "text": [
      "Station 95 R-squared: 0.9251854244725379\n",
      "Mean Absolute Error:  1.1812392426850258\n",
      "Root Mean Squared Error:  2.775988140267414\n",
      "Predicted number of available bikes for Station 95 at 2023-03-07 19:35:03: 18.00\n",
      "Station 96 R-squared: 0.9248823204168817\n",
      "Mean Absolute Error:  0.6165232358003442\n",
      "Root Mean Squared Error:  1.4950866172617954\n",
      "Predicted number of available bikes for Station 96 at 2023-03-07 19:35:03: 1.00\n"
     ]
    },
    {
     "name": "stderr",
     "output_type": "stream",
     "text": [
      "C:\\Users\\tfiro\\anaconda3\\envs\\comp30830software\\lib\\site-packages\\sklearn\\base.py:420: UserWarning: X does not have valid feature names, but KNeighborsRegressor was fitted with feature names\n",
      "  warnings.warn(\n",
      "C:\\Users\\tfiro\\anaconda3\\envs\\comp30830software\\lib\\site-packages\\sklearn\\base.py:420: UserWarning: X does not have valid feature names, but KNeighborsRegressor was fitted with feature names\n",
      "  warnings.warn(\n",
      "C:\\Users\\tfiro\\anaconda3\\envs\\comp30830software\\lib\\site-packages\\sklearn\\base.py:420: UserWarning: X does not have valid feature names, but KNeighborsRegressor was fitted with feature names\n",
      "  warnings.warn(\n"
     ]
    },
    {
     "name": "stdout",
     "output_type": "stream",
     "text": [
      "Station 97 R-squared: 0.8933276311475324\n",
      "Mean Absolute Error:  1.670223752151463\n",
      "Root Mean Squared Error:  3.552555987560285\n",
      "Predicted number of available bikes for Station 97 at 2023-03-07 19:35:03: 21.00\n",
      "Station 98 R-squared: 0.9424315507061936\n",
      "Mean Absolute Error:  0.9555938037865749\n",
      "Root Mean Squared Error:  2.6114734269282724\n",
      "Predicted number of available bikes for Station 98 at 2023-03-07 19:35:03: 22.00\n"
     ]
    },
    {
     "name": "stderr",
     "output_type": "stream",
     "text": [
      "C:\\Users\\tfiro\\anaconda3\\envs\\comp30830software\\lib\\site-packages\\sklearn\\base.py:420: UserWarning: X does not have valid feature names, but KNeighborsRegressor was fitted with feature names\n",
      "  warnings.warn(\n",
      "C:\\Users\\tfiro\\anaconda3\\envs\\comp30830software\\lib\\site-packages\\sklearn\\base.py:420: UserWarning: X does not have valid feature names, but KNeighborsRegressor was fitted with feature names\n",
      "  warnings.warn(\n"
     ]
    },
    {
     "name": "stdout",
     "output_type": "stream",
     "text": [
      "Station 99 R-squared: 0.9066424975358831\n",
      "Mean Absolute Error:  0.8703958691910499\n",
      "Root Mean Squared Error:  1.9671790613852354\n",
      "Predicted number of available bikes for Station 99 at 2023-03-07 19:35:03: 10.00\n",
      "Station 100 R-squared: 0.8976422341323904\n",
      "Mean Absolute Error:  1.2370051635111876\n",
      "Root Mean Squared Error:  2.935552738330223\n",
      "Predicted number of available bikes for Station 100 at 2023-03-07 19:35:03: 3.00\n"
     ]
    },
    {
     "name": "stderr",
     "output_type": "stream",
     "text": [
      "C:\\Users\\tfiro\\anaconda3\\envs\\comp30830software\\lib\\site-packages\\sklearn\\base.py:420: UserWarning: X does not have valid feature names, but KNeighborsRegressor was fitted with feature names\n",
      "  warnings.warn(\n",
      "C:\\Users\\tfiro\\anaconda3\\envs\\comp30830software\\lib\\site-packages\\sklearn\\base.py:420: UserWarning: X does not have valid feature names, but KNeighborsRegressor was fitted with feature names\n",
      "  warnings.warn(\n",
      "C:\\Users\\tfiro\\anaconda3\\envs\\comp30830software\\lib\\site-packages\\sklearn\\base.py:420: UserWarning: X does not have valid feature names, but KNeighborsRegressor was fitted with feature names\n",
      "  warnings.warn(\n"
     ]
    },
    {
     "name": "stdout",
     "output_type": "stream",
     "text": [
      "Station 101 R-squared: 0.9273675454999731\n",
      "Mean Absolute Error:  1.0185886402753872\n",
      "Root Mean Squared Error:  2.1252518328047456\n",
      "Predicted number of available bikes for Station 101 at 2023-03-07 19:35:03: 9.00\n",
      "Station 102 R-squared: 0.8159989870506018\n",
      "Mean Absolute Error:  1.108433734939759\n",
      "Root Mean Squared Error:  2.5893001067912658\n",
      "Predicted number of available bikes for Station 102 at 2023-03-07 19:35:03: 13.50\n",
      "Station 103 R-squared: 0.9061926999911023\n",
      "Mean Absolute Error:  0.6969018932874355\n",
      "Root Mean Squared Error:  1.6679885750216499\n",
      "Predicted number of available bikes for Station 103 at 2023-03-07 19:35:03: 12.00\n",
      "Station 104 R-squared: 0.9287838318671366\n",
      "Mean Absolute Error:  0.5166953528399312\n",
      "Root Mean Squared Error:  1.6787627605460558\n",
      "Predicted number of available bikes for Station 104 at 2023-03-07 19:35:03: 18.00\n",
      "Station 105 R-squared: 0.9377947076763753\n",
      "Mean Absolute Error:  0.695697074010327\n",
      "Root Mean Squared Error:  1.6752732456242185\n",
      "Predicted number of available bikes for Station 105 at 2023-03-07 19:35:03: 9.00\n"
     ]
    },
    {
     "name": "stderr",
     "output_type": "stream",
     "text": [
      "C:\\Users\\tfiro\\anaconda3\\envs\\comp30830software\\lib\\site-packages\\sklearn\\base.py:420: UserWarning: X does not have valid feature names, but KNeighborsRegressor was fitted with feature names\n",
      "  warnings.warn(\n",
      "C:\\Users\\tfiro\\anaconda3\\envs\\comp30830software\\lib\\site-packages\\sklearn\\base.py:420: UserWarning: X does not have valid feature names, but KNeighborsRegressor was fitted with feature names\n",
      "  warnings.warn(\n",
      "C:\\Users\\tfiro\\anaconda3\\envs\\comp30830software\\lib\\site-packages\\sklearn\\base.py:420: UserWarning: X does not have valid feature names, but KNeighborsRegressor was fitted with feature names\n",
      "  warnings.warn(\n"
     ]
    },
    {
     "name": "stdout",
     "output_type": "stream",
     "text": [
      "Station 106 R-squared: 0.8731696313021806\n",
      "Mean Absolute Error:  1.1158347676419966\n",
      "Root Mean Squared Error:  2.5626907384618764\n",
      "Predicted number of available bikes for Station 106 at 2023-03-07 19:35:03: 12.50\n",
      "Station 107 R-squared: 0.8973104127575758\n",
      "Mean Absolute Error:  1.2122203098106712\n",
      "Root Mean Squared Error:  2.638080066483442\n",
      "Predicted number of available bikes for Station 107 at 2023-03-07 19:35:03: 11.00\n"
     ]
    },
    {
     "name": "stderr",
     "output_type": "stream",
     "text": [
      "C:\\Users\\tfiro\\anaconda3\\envs\\comp30830software\\lib\\site-packages\\sklearn\\base.py:420: UserWarning: X does not have valid feature names, but KNeighborsRegressor was fitted with feature names\n",
      "  warnings.warn(\n",
      "C:\\Users\\tfiro\\anaconda3\\envs\\comp30830software\\lib\\site-packages\\sklearn\\base.py:420: UserWarning: X does not have valid feature names, but KNeighborsRegressor was fitted with feature names\n",
      "  warnings.warn(\n"
     ]
    },
    {
     "name": "stdout",
     "output_type": "stream",
     "text": [
      "Station 108 R-squared: 0.8372877537101193\n",
      "Mean Absolute Error:  1.1411359724612737\n",
      "Root Mean Squared Error:  2.6201588421321795\n",
      "Predicted number of available bikes for Station 108 at 2023-03-07 19:35:03: 13.00\n",
      "Station 109 R-squared: 0.9232735633361246\n",
      "Mean Absolute Error:  0.8261617900172117\n",
      "Root Mean Squared Error:  1.8425549125743796\n",
      "Predicted number of available bikes for Station 109 at 2023-03-07 19:35:03: 1.00\n"
     ]
    },
    {
     "name": "stderr",
     "output_type": "stream",
     "text": [
      "C:\\Users\\tfiro\\anaconda3\\envs\\comp30830software\\lib\\site-packages\\sklearn\\base.py:420: UserWarning: X does not have valid feature names, but KNeighborsRegressor was fitted with feature names\n",
      "  warnings.warn(\n",
      "C:\\Users\\tfiro\\anaconda3\\envs\\comp30830software\\lib\\site-packages\\sklearn\\base.py:420: UserWarning: X does not have valid feature names, but KNeighborsRegressor was fitted with feature names\n",
      "  warnings.warn(\n",
      "C:\\Users\\tfiro\\anaconda3\\envs\\comp30830software\\lib\\site-packages\\sklearn\\base.py:420: UserWarning: X does not have valid feature names, but KNeighborsRegressor was fitted with feature names\n",
      "  warnings.warn(\n"
     ]
    },
    {
     "name": "stdout",
     "output_type": "stream",
     "text": [
      "Station 110 R-squared: 0.8830289395598534\n",
      "Mean Absolute Error:  0.9490533562822719\n",
      "Root Mean Squared Error:  2.2443273298499014\n",
      "Predicted number of available bikes for Station 110 at 2023-03-07 19:35:03: 10.00\n",
      "Station 111 R-squared: 0.907565769491584\n",
      "Mean Absolute Error:  0.8\n",
      "Root Mean Squared Error:  1.5868977302259315\n",
      "Predicted number of available bikes for Station 111 at 2023-03-07 19:35:03: 0.00\n"
     ]
    },
    {
     "name": "stderr",
     "output_type": "stream",
     "text": [
      "C:\\Users\\tfiro\\anaconda3\\envs\\comp30830software\\lib\\site-packages\\sklearn\\base.py:420: UserWarning: X does not have valid feature names, but KNeighborsRegressor was fitted with feature names\n",
      "  warnings.warn(\n",
      "C:\\Users\\tfiro\\anaconda3\\envs\\comp30830software\\lib\\site-packages\\sklearn\\base.py:420: UserWarning: X does not have valid feature names, but KNeighborsRegressor was fitted with feature names\n",
      "  warnings.warn(\n"
     ]
    },
    {
     "name": "stdout",
     "output_type": "stream",
     "text": [
      "Station 112 R-squared: 0.8887091799790522\n",
      "Mean Absolute Error:  1.6058519793459554\n",
      "Root Mean Squared Error:  3.1349728989981185\n",
      "Predicted number of available bikes for Station 112 at 2023-03-07 19:35:03: 3.00\n",
      "Station 113 R-squared: 0.9344535618750214\n",
      "Mean Absolute Error:  0.6151462994836489\n",
      "Root Mean Squared Error:  1.5559004344076832\n",
      "Predicted number of available bikes for Station 113 at 2023-03-07 19:35:03: 19.00\n",
      "Station 114 R-squared: 0.9091124329125578\n"
     ]
    },
    {
     "name": "stderr",
     "output_type": "stream",
     "text": [
      "C:\\Users\\tfiro\\anaconda3\\envs\\comp30830software\\lib\\site-packages\\sklearn\\base.py:420: UserWarning: X does not have valid feature names, but KNeighborsRegressor was fitted with feature names\n",
      "  warnings.warn(\n",
      "C:\\Users\\tfiro\\anaconda3\\envs\\comp30830software\\lib\\site-packages\\sklearn\\base.py:420: UserWarning: X does not have valid feature names, but KNeighborsRegressor was fitted with feature names\n",
      "  warnings.warn(\n"
     ]
    },
    {
     "name": "stdout",
     "output_type": "stream",
     "text": [
      "Mean Absolute Error:  1.767986230636833\n",
      "Root Mean Squared Error:  3.860921206725655\n",
      "Predicted number of available bikes for Station 114 at 2023-03-07 19:35:03: 30.00\n",
      "Station 115 R-squared: 0.922277970625501\n",
      "Mean Absolute Error:  1.2669535283993116\n",
      "Root Mean Squared Error:  2.6145857262276673\n",
      "Predicted number of available bikes for Station 115 at 2023-03-07 19:35:03: 2.00\n",
      "Station 116 R-squared: 0.8541075293196135\n",
      "Mean Absolute Error:  0.3387263339070568\n",
      "Root Mean Squared Error:  0.7505591719298261\n",
      "Predicted number of available bikes for Station 116 at 2023-03-07 19:35:03: 0.00\n"
     ]
    },
    {
     "name": "stderr",
     "output_type": "stream",
     "text": [
      "C:\\Users\\tfiro\\anaconda3\\envs\\comp30830software\\lib\\site-packages\\sklearn\\base.py:420: UserWarning: X does not have valid feature names, but KNeighborsRegressor was fitted with feature names\n",
      "  warnings.warn(\n",
      "C:\\Users\\tfiro\\anaconda3\\envs\\comp30830software\\lib\\site-packages\\sklearn\\base.py:420: UserWarning: X does not have valid feature names, but KNeighborsRegressor was fitted with feature names\n",
      "  warnings.warn(\n",
      "C:\\Users\\tfiro\\anaconda3\\envs\\comp30830software\\lib\\site-packages\\sklearn\\base.py:420: UserWarning: X does not have valid feature names, but KNeighborsRegressor was fitted with feature names\n",
      "  warnings.warn(\n"
     ]
    },
    {
     "name": "stdout",
     "output_type": "stream",
     "text": [
      "Station 117 R-squared: 0.9306100978872315\n",
      "Mean Absolute Error:  0.9249569707401033\n",
      "Root Mean Squared Error:  2.6183846237452872\n",
      "Predicted number of available bikes for Station 117 at 2023-03-07 19:35:03: 35.00\n",
      "Station 507 R-squared: 1.0\n",
      "Mean Absolute Error:  0.0\n",
      "Root Mean Squared Error:  0.0\n",
      "Predicted number of available bikes for Station 507 at 2023-03-07 19:35:03: 1.00\n"
     ]
    },
    {
     "name": "stderr",
     "output_type": "stream",
     "text": [
      "C:\\Users\\tfiro\\anaconda3\\envs\\comp30830software\\lib\\site-packages\\sklearn\\base.py:420: UserWarning: X does not have valid feature names, but KNeighborsRegressor was fitted with feature names\n",
      "  warnings.warn(\n"
     ]
    }
   ],
   "source": [
    "from sklearn.model_selection import train_test_split\n",
    "from sklearn.neighbors import KNeighborsRegressor\n",
    "from sklearn.metrics import mean_absolute_error, mean_squared_error\n",
    "import pandas as pd\n",
    "import numpy as np\n",
    "\n",
    "# Assuming station_dfs is a dictionary containing data for each station\n",
    "\n",
    "for station, station_df in station_dfs.items():\n",
    "    X = station_df[['hour', 'day','minute','month','temperature', 'wind_speed', 'wind_direction', 'weather_code','precipitation_sum','rain_sum','precipitation_probability']]\n",
    "    y = station_df['available_bikes']\n",
    "\n",
    "    X_train, X_test, y_train, y_test = train_test_split(X, y)\n",
    "    \n",
    "    model = KNeighborsRegressor(n_neighbors=2)\n",
    "\n",
    "    model.fit(X_train, y_train)\n",
    "    print(f\"Station {station} R-squared: {model.score(X_test, y_test)}\")\n",
    "    y_pred = model.predict(X_test)\n",
    "    mae = mean_absolute_error(y_test, y_pred)\n",
    "    mse = mean_squared_error(y_test, y_pred)\n",
    "    rmse = np.sqrt(mse)\n",
    "    print(\"Mean Absolute Error: \", mae)\n",
    "    print(\"Root Mean Squared Error: \", rmse)\n",
    "    station_num = 1\n",
    "    time_str = '2023-03-07 19:35:03'\n",
    "    weather_code = 801\n",
    "    temperature = 10\n",
    "    wind_speed = 6\n",
    "    wind_direction = 240\n",
    "    precipitation_sum = 0\n",
    "    rain_sum = 1\n",
    "    precipitation_probability = 0\n",
    "    time = pd.to_datetime(time_str)\n",
    "    hour = time.hour\n",
    "    day=time.day\n",
    "    minute=time.minute\n",
    "    month=time.month\n",
    "    prediction_input = [[hour,day,minute,month, temperature, wind_speed, wind_direction, weather_code,precipitation_sum,rain_sum,precipitation_probability]]\n",
    "    prediction = model.predict(prediction_input)\n",
    "    \n",
    "    print(f\"Predicted number of available bikes for Station {station} at {time_str}: {prediction[0]:.2f}\")\n"
   ]
  },
  {
   "cell_type": "code",
   "execution_count": 13,
   "id": "a31332a8-8916-44dd-825e-0e506124278e",
   "metadata": {},
   "outputs": [
    {
     "name": "stdout",
     "output_type": "stream",
     "text": [
      "Station 1 R-squared: 0.9156129820453823\n",
      "Station 2 R-squared: 0.8139732090910414\n",
      "Station 3 R-squared: 0.8974281675072003\n",
      "Station 4 R-squared: 0.8758418241152907\n",
      "Station 5 R-squared: 0.8937113982365168\n",
      "Station 6 R-squared: 0.924982858210629\n",
      "Station 7 R-squared: 0.8713384039490079\n",
      "Station 8 R-squared: 0.8578761722346875\n",
      "Station 9 R-squared: 0.8513977414410756\n",
      "Station 10 R-squared: 0.8375305136927158\n",
      "Station 11 R-squared: 0.9237049768285951\n",
      "Station 12 R-squared: 0.9131758533977925\n",
      "Station 13 R-squared: 0.9346249442205113\n",
      "Station 14 R-squared: 0.842278463269348\n",
      "Station 15 R-squared: 0.8224218527759979\n",
      "Station 16 R-squared: 0.9046819197565575\n",
      "Station 17 R-squared: 0.8939986320613262\n",
      "Station 18 R-squared: 0.8875232771533224\n",
      "Station 19 R-squared: 0.857252499501178\n",
      "Station 20 R-squared: 0.9044153623950191\n",
      "Station 21 R-squared: 0.8697127782309535\n",
      "Station 22 R-squared: 0.8957632394400598\n",
      "Station 23 R-squared: 0.8814297832401556\n",
      "Station 24 R-squared: 0.8299521034201908\n",
      "Station 25 R-squared: 0.9223434734093836\n",
      "Station 26 R-squared: 0.8801802932850323\n",
      "Station 27 R-squared: 0.8876948195427606\n",
      "Station 28 R-squared: 0.7491967294530733\n",
      "Station 29 R-squared: 0.89643290525673\n",
      "Station 30 R-squared: 0.8838080191578588\n",
      "Station 31 R-squared: 0.8633861678903714\n",
      "Station 32 R-squared: 0.8468855327319419\n",
      "Station 33 R-squared: 0.7399750720693752\n",
      "Station 34 R-squared: 0.8628979104302588\n",
      "Station 35 R-squared: 0.911937650586612\n",
      "Station 36 R-squared: 0.9076394426085626\n",
      "Station 37 R-squared: 0.9201165648730926\n",
      "Station 38 R-squared: 0.9257847885760129\n",
      "Station 39 R-squared: 0.8942507520192172\n",
      "Station 40 R-squared: 0.868033904196086\n",
      "Station 41 R-squared: 0.9108554228802833\n",
      "Station 42 R-squared: 0.9237689385933351\n",
      "Station 43 R-squared: 0.886546692616144\n",
      "Station 44 R-squared: 0.8999517410644134\n",
      "Station 45 R-squared: 0.9168814650885531\n",
      "Station 47 R-squared: 0.9346359391289665\n",
      "Station 48 R-squared: 0.937522403716842\n",
      "Station 49 R-squared: 0.9231003001284251\n",
      "Station 50 R-squared: 0.9547956171428905\n",
      "Station 51 R-squared: 0.9198689985394923\n",
      "Station 52 R-squared: 0.9022541785452184\n",
      "Station 53 R-squared: 0.8996791833201603\n",
      "Station 54 R-squared: 0.9346978469126218\n",
      "Station 55 R-squared: 0.8980636468845803\n",
      "Station 56 R-squared: 0.8777617931886404\n",
      "Station 57 R-squared: 0.9027078069355574\n",
      "Station 58 R-squared: 0.8812320328260244\n",
      "Station 59 R-squared: 0.896414985591225\n",
      "Station 60 R-squared: 0.8994101494835789\n",
      "Station 61 R-squared: 0.857671750184655\n",
      "Station 62 R-squared: 0.93184218578992\n",
      "Station 63 R-squared: 0.9109849941777183\n",
      "Station 64 R-squared: 0.908028196187256\n",
      "Station 65 R-squared: 0.8946816910377456\n",
      "Station 66 R-squared: 0.8605912804977566\n",
      "Station 67 R-squared: 0.9122619640741703\n",
      "Station 68 R-squared: 0.8946874870228612\n",
      "Station 69 R-squared: 0.8702251039279882\n",
      "Station 71 R-squared: 0.9251073664270527\n",
      "Station 72 R-squared: 0.853277950020471\n",
      "Station 73 R-squared: 0.9037194203306753\n",
      "Station 74 R-squared: 0.9312884939571513\n",
      "Station 75 R-squared: 0.9146896210081645\n",
      "Station 76 R-squared: 0.87495022139661\n",
      "Station 77 R-squared: 0.935557355744731\n",
      "Station 78 R-squared: 0.9182199833145236\n",
      "Station 79 R-squared: 0.907620792015358\n",
      "Station 80 R-squared: 0.8852762372291547\n",
      "Station 82 R-squared: 0.8943021376430178\n",
      "Station 83 R-squared: 0.9369956977676498\n",
      "Station 84 R-squared: 0.9095949969286609\n",
      "Station 85 R-squared: 0.8872663904838429\n",
      "Station 86 R-squared: 0.9099730559314094\n",
      "Station 87 R-squared: 0.9225765874620973\n",
      "Station 88 R-squared: 0.90201186055534\n",
      "Station 89 R-squared: 0.9150974246584643\n",
      "Station 90 R-squared: 0.8996437747382998\n",
      "Station 91 R-squared: 0.8970117639834033\n",
      "Station 92 R-squared: 0.9046912662561682\n",
      "Station 93 R-squared: 0.9058575509742235\n",
      "Station 94 R-squared: 0.9563228073950402\n",
      "Station 95 R-squared: 0.9333160932772656\n",
      "Station 96 R-squared: 0.9317936098854764\n",
      "Station 97 R-squared: 0.891385117216273\n",
      "Station 98 R-squared: 0.942498263103059\n",
      "Station 99 R-squared: 0.8995039397694069\n",
      "Station 100 R-squared: 0.8932092085631727\n",
      "Station 101 R-squared: 0.9206483278612132\n",
      "Station 102 R-squared: 0.8283276018148487\n",
      "Station 103 R-squared: 0.8986637283820545\n",
      "Station 104 R-squared: 0.9284945480770759\n",
      "Station 105 R-squared: 0.9512733421737664\n",
      "Station 106 R-squared: 0.8583659002297457\n",
      "Station 107 R-squared: 0.8805053466038597\n",
      "Station 108 R-squared: 0.8505708937197566\n",
      "Station 109 R-squared: 0.9215268511563419\n",
      "Station 110 R-squared: 0.8729883650422026\n",
      "Station 111 R-squared: 0.9198844525176334\n",
      "Station 112 R-squared: 0.8887945937497171\n",
      "Station 113 R-squared: 0.9487250967239289\n",
      "Station 114 R-squared: 0.9150176374451279\n",
      "Station 115 R-squared: 0.9338412296881087\n",
      "Station 116 R-squared: 0.860471950477635\n",
      "Station 117 R-squared: 0.9281673673651852\n",
      "Station 507 R-squared: 1.0\n"
     ]
    }
   ],
   "source": [
    "from sklearn.model_selection import train_test_split\n",
    "from sklearn.neighbors import KNeighborsRegressor\n",
    "import pandas as pd\n",
    "\n",
    "# Assuming station_dfs is a dictionary containing data for each station\n",
    "\n",
    "for station, station_df in station_dfs.items():\n",
    "    X = station_df[['hour', 'day','minute','month','temperature', 'wind_speed', 'wind_direction', 'weather_code','precipitation_sum','rain_sum','precipitation_probability']]\n",
    "    y = station_df['available_bikes']\n",
    "\n",
    "    X_train, X_test, y_train, y_test = train_test_split(X, y)\n",
    "    \n",
    "    model = KNeighborsRegressor(n_neighbors=2)\n",
    "\n",
    "    model.fit(X_train, y_train)\n",
    "    print(f\"Station {station} R-squared: {model.score(X_test, y_test)}\")\n",
    "    filename = f\"model_dep{station}.pkl\"\n",
    "    with open(filename, 'wb') as file:\n",
    "        pickle.dump(model, file, pickle.HIGHEST_PROTOCOL)"
   ]
  },
  {
   "cell_type": "code",
   "execution_count": 14,
   "id": "395ff4e8-0ec7-4f67-8349-a9b4459cd73e",
   "metadata": {},
   "outputs": [
    {
     "name": "stdout",
     "output_type": "stream",
     "text": [
      "Station 1 R-squared: 0.9054055329909676\n",
      "Station 2 R-squared: 0.8382245406769573\n",
      "Station 3 R-squared: 0.9009472636894702\n",
      "Station 4 R-squared: 0.8827480394387843\n",
      "Station 5 R-squared: 0.8865130523316969\n",
      "Station 6 R-squared: 0.9053629545632578\n",
      "Station 7 R-squared: 0.8858747081539521\n",
      "Station 8 R-squared: 0.8452494451747148\n",
      "Station 9 R-squared: 0.8418498692112817\n",
      "Station 10 R-squared: 0.8402041835219073\n",
      "Station 11 R-squared: 0.9492257932235814\n",
      "Station 12 R-squared: 0.9083111306097099\n",
      "Station 13 R-squared: 0.919698129528037\n",
      "Station 14 R-squared: 0.8645694048133156\n",
      "Station 15 R-squared: 0.84783151618211\n",
      "Station 16 R-squared: 0.8893114422701045\n",
      "Station 17 R-squared: 0.9140432108656705\n",
      "Station 18 R-squared: 0.8902292562221273\n",
      "Station 19 R-squared: 0.8671320879199823\n",
      "Station 20 R-squared: 0.9043826287197976\n",
      "Station 21 R-squared: 0.8791191142690854\n",
      "Station 22 R-squared: 0.9005930848312711\n",
      "Station 23 R-squared: 0.8591887713407063\n",
      "Station 24 R-squared: 0.8553310560253647\n",
      "Station 25 R-squared: 0.9123734796650277\n",
      "Station 26 R-squared: 0.852665058461509\n",
      "Station 27 R-squared: 0.9036131718427524\n",
      "Station 28 R-squared: 0.781881441231908\n",
      "Station 29 R-squared: 0.8923153838887273\n",
      "Station 30 R-squared: 0.8978518379854713\n",
      "Station 31 R-squared: 0.8391681579638293\n",
      "Station 32 R-squared: 0.8363029367670696\n",
      "Station 33 R-squared: 0.7586700888043789\n",
      "Station 34 R-squared: 0.8542477741707861\n",
      "Station 35 R-squared: 0.925695454825243\n",
      "Station 36 R-squared: 0.8866828618671897\n",
      "Station 37 R-squared: 0.932672280501234\n",
      "Station 38 R-squared: 0.9262356272141857\n",
      "Station 39 R-squared: 0.9225361474093665\n",
      "Station 40 R-squared: 0.860394015996187\n",
      "Station 41 R-squared: 0.905870545600426\n",
      "Station 42 R-squared: 0.9298883997589785\n",
      "Station 43 R-squared: 0.8954393295978313\n",
      "Station 44 R-squared: 0.8845295952791998\n",
      "Station 45 R-squared: 0.9312070198378899\n",
      "Station 47 R-squared: 0.9238474011408687\n",
      "Station 48 R-squared: 0.951162447825202\n",
      "Station 49 R-squared: 0.9405701893473329\n",
      "Station 50 R-squared: 0.9478136363510751\n",
      "Station 51 R-squared: 0.9203602717025926\n",
      "Station 52 R-squared: 0.9124265054490335\n",
      "Station 53 R-squared: 0.896055717441016\n",
      "Station 54 R-squared: 0.9268030215509238\n",
      "Station 55 R-squared: 0.8870506962239314\n",
      "Station 56 R-squared: 0.8619657087873294\n",
      "Station 57 R-squared: 0.9181545632557185\n",
      "Station 58 R-squared: 0.8703692947844317\n",
      "Station 59 R-squared: 0.8962478518096546\n",
      "Station 60 R-squared: 0.9041126622654048\n",
      "Station 61 R-squared: 0.8625235806064422\n",
      "Station 62 R-squared: 0.9528584644335156\n",
      "Station 63 R-squared: 0.9044626529797952\n",
      "Station 64 R-squared: 0.898787390759326\n",
      "Station 65 R-squared: 0.89418384469483\n",
      "Station 66 R-squared: 0.8523104829078869\n",
      "Station 67 R-squared: 0.9050079720977025\n",
      "Station 68 R-squared: 0.8582780151378165\n",
      "Station 69 R-squared: 0.8864106871668623\n",
      "Station 71 R-squared: 0.9245596518739032\n",
      "Station 72 R-squared: 0.8476997204745768\n",
      "Station 73 R-squared: 0.9109733920509886\n",
      "Station 74 R-squared: 0.9205033947625538\n",
      "Station 75 R-squared: 0.9224818692296292\n",
      "Station 76 R-squared: 0.8648337105238895\n",
      "Station 77 R-squared: 0.9293890422290979\n",
      "Station 78 R-squared: 0.9137794046620467\n",
      "Station 79 R-squared: 0.8940953476467401\n",
      "Station 80 R-squared: 0.8601143134877544\n",
      "Station 82 R-squared: 0.9635874115692307\n",
      "Station 83 R-squared: 0.9418195630369137\n",
      "Station 84 R-squared: 0.9115379188697944\n",
      "Station 85 R-squared: 0.891338104999536\n",
      "Station 86 R-squared: 0.916741746758131\n",
      "Station 87 R-squared: 0.9249784737241833\n",
      "Station 88 R-squared: 0.5810407168684169\n",
      "Station 89 R-squared: 0.9090816575052841\n",
      "Station 90 R-squared: 0.88740821315805\n",
      "Station 91 R-squared: 0.8956339552138132\n",
      "Station 92 R-squared: 0.8846318415549346\n",
      "Station 93 R-squared: 0.9037699832408973\n",
      "Station 94 R-squared: 0.9500532979083252\n",
      "Station 95 R-squared: 0.9304767841583905\n",
      "Station 96 R-squared: 0.9200597793318656\n",
      "Station 97 R-squared: 0.9081039583831185\n",
      "Station 98 R-squared: 0.9469146902788727\n",
      "Station 99 R-squared: 0.898915353938407\n",
      "Station 100 R-squared: 0.8883648197197667\n",
      "Station 101 R-squared: 0.9340406180349932\n",
      "Station 102 R-squared: 0.8468075988859864\n",
      "Station 103 R-squared: 0.9003774074381254\n",
      "Station 104 R-squared: 0.9487050589306849\n",
      "Station 105 R-squared: 0.9371159657032169\n",
      "Station 106 R-squared: 0.897247025161626\n",
      "Station 107 R-squared: 0.8827683795697413\n",
      "Station 108 R-squared: 0.8115136261032979\n",
      "Station 109 R-squared: 0.9259995227322273\n",
      "Station 110 R-squared: 0.886626161446683\n",
      "Station 111 R-squared: 0.9035947019074769\n",
      "Station 112 R-squared: 0.913928835564277\n",
      "Station 113 R-squared: 0.9481538487561726\n",
      "Station 114 R-squared: 0.8996578053669868\n",
      "Station 115 R-squared: 0.9301118833419207\n",
      "Station 116 R-squared: 0.8518527408141158\n",
      "Station 117 R-squared: 0.9334696963999429\n",
      "Station 507 R-squared: 1.0\n"
     ]
    }
   ],
   "source": [
    "from sklearn.model_selection import train_test_split\n",
    "from sklearn.neighbors import KNeighborsRegressor\n",
    "import pandas as pd\n",
    "\n",
    "# Assuming station_dfs is a dictionary containing data for each station\n",
    "\n",
    "for station, station_df in station_dfs.items():\n",
    "    X = station_df[['hour', 'day','minute','month','temperature', 'wind_speed', 'wind_direction', 'weather_code','precipitation_sum','rain_sum','precipitation_probability']]\n",
    "    y = station_df['available_bike_stands']\n",
    "\n",
    "    X_train, X_test, y_train, y_test = train_test_split(X, y)\n",
    "    \n",
    "    model = KNeighborsRegressor(n_neighbors=2)\n",
    "\n",
    "    model.fit(X_train, y_train)\n",
    "    print(f\"Station {station} R-squared: {model.score(X_test, y_test)}\")\n",
    "    filename = f\"model_arr{station}.pkl\"\n",
    "    with open(filename, 'wb') as file:\n",
    "        pickle.dump(model, file, pickle.HIGHEST_PROTOCOL)"
   ]
  }
 ],
 "metadata": {
  "kernelspec": {
   "display_name": "Python 3 (ipykernel)",
   "language": "python",
   "name": "python3"
  },
  "language_info": {
   "codemirror_mode": {
    "name": "ipython",
    "version": 3
   },
   "file_extension": ".py",
   "mimetype": "text/x-python",
   "name": "python",
   "nbconvert_exporter": "python",
   "pygments_lexer": "ipython3",
   "version": "3.10.9"
  }
 },
 "nbformat": 4,
 "nbformat_minor": 5
}
