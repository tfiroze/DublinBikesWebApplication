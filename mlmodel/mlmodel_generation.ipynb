{
 "cells": [
  {
   "cell_type": "code",
   "execution_count": 2,
   "id": "52679042-7c57-4971-ad92-712322b1448c",
   "metadata": {},
   "outputs": [],
   "source": [
    "import pymysql.cursors\n",
    "#import jsonify\n",
    "import pandas as pd\n",
    "from sklearn.model_selection import train_test_split\n",
    "from sklearn.linear_model import LinearRegression\n",
    "from sklearn.metrics import mean_squared_error\n",
    "import pickle\n",
    "from sklearn.ensemble import RandomForestRegressor"
   ]
  },
  {
   "cell_type": "code",
   "execution_count": 4,
   "id": "407c8031-58b2-48be-900d-144751a5901b",
   "metadata": {},
   "outputs": [],
   "source": [
    "conn = pymysql.connect(\n",
    "    host=\"softwaredb.ce0otalnccc9.eu-west-1.rds.amazonaws.com\",user=\"soft\",password=\"password\",database=\"dublinbikes\",\n",
    "    charset=\"utf8mb4\",\n",
    "    cursorclass=pymysql.cursors.DictCursor\n",
    ")\n"
   ]
  },
  {
   "cell_type": "code",
   "execution_count": 5,
   "id": "d7f3ac22-d3b9-459d-b3a2-7071cce8d66d",
   "metadata": {},
   "outputs": [
    {
     "name": "stderr",
     "output_type": "stream",
     "text": [
      "C:\\Users\\tfiro\\AppData\\Local\\Temp\\ipykernel_17600\\2178617842.py:5: UserWarning: pandas only supports SQLAlchemy connectable (engine/connection) or database string URI or sqlite3 DBAPI2 connection. Other DBAPI2 objects are not tested. Please consider using SQLAlchemy.\n",
      "  availability_df = pd.read_sql_query(availability_query, conn)\n",
      "C:\\Users\\tfiro\\AppData\\Local\\Temp\\ipykernel_17600\\2178617842.py:6: UserWarning: pandas only supports SQLAlchemy connectable (engine/connection) or database string URI or sqlite3 DBAPI2 connection. Other DBAPI2 objects are not tested. Please consider using SQLAlchemy.\n",
      "  weather_df = pd.read_sql_query(weather_query, conn)\n"
     ]
    }
   ],
   "source": [
    "availability_query = \"SELECT number, time, available_bikes, available_bike_stands FROM availability\"\n",
    "#weather_query = \"SELECT number, time, temperature, wind_speed, wind_direction, weather_code FROM weather\"\n",
    "weather_query = \"SELECT * FROM weather\"\n",
    "# Load the query results into pandas dataframes\n",
    "availability_df = pd.read_sql_query(availability_query, conn)\n",
    "weather_df = pd.read_sql_query(weather_query, conn)\n",
    "\n",
    "# Merge the dataframes on \"time\" and \"number\" columns\n",
    "\n",
    "\n",
    "\n",
    "# Close the database connection\n",
    "conn.close()"
   ]
  },
  {
   "cell_type": "code",
   "execution_count": 6,
   "id": "db60c940-865e-440d-ae61-42a7c07fa14d",
   "metadata": {},
   "outputs": [],
   "source": [
    "availability_df['time'] = availability_df['time'].dt.strftime('%Y-%m-%d %H:%M:%S')\n",
    "weather_df['time'] = weather_df['time'].dt.strftime('%Y-%m-%d %H:%M:%S')\n",
    "merged_df = pd.merge(availability_df, weather_df, on=[\"number\", \"time\"])"
   ]
  },
  {
   "cell_type": "code",
   "execution_count": 7,
   "id": "4c250fdc-2ac7-45eb-b0af-ae58341d74a7",
   "metadata": {},
   "outputs": [],
   "source": [
    "merged_df.to_csv('merged_data.csv', index=False)"
   ]
  },
  {
   "cell_type": "code",
   "execution_count": 8,
   "id": "c1b5b1bc-8a8b-4cbb-923a-586d03226615",
   "metadata": {},
   "outputs": [
    {
     "data": {
      "text/html": [
       "<div>\n",
       "<style scoped>\n",
       "    .dataframe tbody tr th:only-of-type {\n",
       "        vertical-align: middle;\n",
       "    }\n",
       "\n",
       "    .dataframe tbody tr th {\n",
       "        vertical-align: top;\n",
       "    }\n",
       "\n",
       "    .dataframe thead th {\n",
       "        text-align: right;\n",
       "    }\n",
       "</style>\n",
       "<table border=\"1\" class=\"dataframe\">\n",
       "  <thead>\n",
       "    <tr style=\"text-align: right;\">\n",
       "      <th></th>\n",
       "      <th>number</th>\n",
       "      <th>time</th>\n",
       "      <th>available_bikes</th>\n",
       "      <th>available_bike_stands</th>\n",
       "      <th>temperature</th>\n",
       "      <th>wind_speed</th>\n",
       "      <th>wind_direction</th>\n",
       "      <th>weather_code</th>\n",
       "      <th>precipitation_sum</th>\n",
       "      <th>rain_sum</th>\n",
       "      <th>precipitation_probability</th>\n",
       "    </tr>\n",
       "  </thead>\n",
       "  <tbody>\n",
       "    <tr>\n",
       "      <th>1313870</th>\n",
       "      <td>507</td>\n",
       "      <td>2023-03-10 16:40:02</td>\n",
       "      <td>1</td>\n",
       "      <td>0</td>\n",
       "      <td>6</td>\n",
       "      <td>3</td>\n",
       "      <td>76</td>\n",
       "      <td>1</td>\n",
       "      <td>8.1</td>\n",
       "      <td>3.1</td>\n",
       "      <td>100</td>\n",
       "    </tr>\n",
       "    <tr>\n",
       "      <th>1313871</th>\n",
       "      <td>507</td>\n",
       "      <td>2023-03-10 16:45:03</td>\n",
       "      <td>1</td>\n",
       "      <td>0</td>\n",
       "      <td>6</td>\n",
       "      <td>3</td>\n",
       "      <td>76</td>\n",
       "      <td>1</td>\n",
       "      <td>8.1</td>\n",
       "      <td>3.1</td>\n",
       "      <td>100</td>\n",
       "    </tr>\n",
       "    <tr>\n",
       "      <th>1313872</th>\n",
       "      <td>507</td>\n",
       "      <td>2023-03-10 16:50:03</td>\n",
       "      <td>1</td>\n",
       "      <td>0</td>\n",
       "      <td>6</td>\n",
       "      <td>3</td>\n",
       "      <td>76</td>\n",
       "      <td>1</td>\n",
       "      <td>8.1</td>\n",
       "      <td>3.1</td>\n",
       "      <td>100</td>\n",
       "    </tr>\n",
       "    <tr>\n",
       "      <th>1313873</th>\n",
       "      <td>507</td>\n",
       "      <td>2023-03-10 16:55:03</td>\n",
       "      <td>1</td>\n",
       "      <td>0</td>\n",
       "      <td>6</td>\n",
       "      <td>3</td>\n",
       "      <td>76</td>\n",
       "      <td>1</td>\n",
       "      <td>8.1</td>\n",
       "      <td>3.1</td>\n",
       "      <td>100</td>\n",
       "    </tr>\n",
       "    <tr>\n",
       "      <th>1313874</th>\n",
       "      <td>507</td>\n",
       "      <td>2023-03-10 17:00:07</td>\n",
       "      <td>1</td>\n",
       "      <td>0</td>\n",
       "      <td>5</td>\n",
       "      <td>8</td>\n",
       "      <td>90</td>\n",
       "      <td>1</td>\n",
       "      <td>8.1</td>\n",
       "      <td>3.1</td>\n",
       "      <td>100</td>\n",
       "    </tr>\n",
       "  </tbody>\n",
       "</table>\n",
       "</div>"
      ],
      "text/plain": [
       "         number                 time  available_bikes  available_bike_stands  \\\n",
       "1313870     507  2023-03-10 16:40:02                1                      0   \n",
       "1313871     507  2023-03-10 16:45:03                1                      0   \n",
       "1313872     507  2023-03-10 16:50:03                1                      0   \n",
       "1313873     507  2023-03-10 16:55:03                1                      0   \n",
       "1313874     507  2023-03-10 17:00:07                1                      0   \n",
       "\n",
       "         temperature  wind_speed  wind_direction  weather_code  \\\n",
       "1313870            6           3              76             1   \n",
       "1313871            6           3              76             1   \n",
       "1313872            6           3              76             1   \n",
       "1313873            6           3              76             1   \n",
       "1313874            5           8              90             1   \n",
       "\n",
       "         precipitation_sum  rain_sum  precipitation_probability  \n",
       "1313870                8.1       3.1                        100  \n",
       "1313871                8.1       3.1                        100  \n",
       "1313872                8.1       3.1                        100  \n",
       "1313873                8.1       3.1                        100  \n",
       "1313874                8.1       3.1                        100  "
      ]
     },
     "execution_count": 8,
     "metadata": {},
     "output_type": "execute_result"
    }
   ],
   "source": [
    "merged_df.tail()"
   ]
  },
  {
   "cell_type": "code",
   "execution_count": 48,
   "id": "fff70abd-db35-4886-8925-3cb66fa637ce",
   "metadata": {},
   "outputs": [
    {
     "data": {
      "text/plain": [
       "number                       0\n",
       "time                         0\n",
       "available_bikes              0\n",
       "available_bike_stands        0\n",
       "temperature                  0\n",
       "wind_speed                   0\n",
       "wind_direction               0\n",
       "weather_code                 0\n",
       "precipitation_sum            0\n",
       "rain_sum                     0\n",
       "precipitation_probability    0\n",
       "dtype: int64"
      ]
     },
     "execution_count": 48,
     "metadata": {},
     "output_type": "execute_result"
    }
   ],
   "source": [
    "merged_df.isnull().sum()"
   ]
  },
  {
   "cell_type": "code",
   "execution_count": 49,
   "id": "e3f424d1-b4e3-4634-9939-0a03c780248e",
   "metadata": {},
   "outputs": [
    {
     "data": {
      "text/html": [
       "<div>\n",
       "<style scoped>\n",
       "    .dataframe tbody tr th:only-of-type {\n",
       "        vertical-align: middle;\n",
       "    }\n",
       "\n",
       "    .dataframe tbody tr th {\n",
       "        vertical-align: top;\n",
       "    }\n",
       "\n",
       "    .dataframe thead th {\n",
       "        text-align: right;\n",
       "    }\n",
       "</style>\n",
       "<table border=\"1\" class=\"dataframe\">\n",
       "  <thead>\n",
       "    <tr style=\"text-align: right;\">\n",
       "      <th></th>\n",
       "      <th>count</th>\n",
       "      <th>mean</th>\n",
       "      <th>std</th>\n",
       "      <th>min</th>\n",
       "      <th>25%</th>\n",
       "      <th>50%</th>\n",
       "      <th>75%</th>\n",
       "      <th>max</th>\n",
       "    </tr>\n",
       "  </thead>\n",
       "  <tbody>\n",
       "    <tr>\n",
       "      <th>number</th>\n",
       "      <td>1313647.0</td>\n",
       "      <td>58.856302</td>\n",
       "      <td>35.967582</td>\n",
       "      <td>1.0</td>\n",
       "      <td>29.0</td>\n",
       "      <td>58.0</td>\n",
       "      <td>89.0</td>\n",
       "      <td>507.0</td>\n",
       "    </tr>\n",
       "    <tr>\n",
       "      <th>available_bikes</th>\n",
       "      <td>1313647.0</td>\n",
       "      <td>11.505513</td>\n",
       "      <td>9.383810</td>\n",
       "      <td>0.0</td>\n",
       "      <td>4.0</td>\n",
       "      <td>10.0</td>\n",
       "      <td>17.0</td>\n",
       "      <td>40.0</td>\n",
       "    </tr>\n",
       "    <tr>\n",
       "      <th>available_bike_stands</th>\n",
       "      <td>1313647.0</td>\n",
       "      <td>20.054286</td>\n",
       "      <td>10.870357</td>\n",
       "      <td>0.0</td>\n",
       "      <td>12.0</td>\n",
       "      <td>20.0</td>\n",
       "      <td>29.0</td>\n",
       "      <td>40.0</td>\n",
       "    </tr>\n",
       "    <tr>\n",
       "      <th>temperature</th>\n",
       "      <td>1313647.0</td>\n",
       "      <td>9.041181</td>\n",
       "      <td>3.253094</td>\n",
       "      <td>1.0</td>\n",
       "      <td>7.0</td>\n",
       "      <td>9.0</td>\n",
       "      <td>11.0</td>\n",
       "      <td>19.0</td>\n",
       "    </tr>\n",
       "    <tr>\n",
       "      <th>wind_speed</th>\n",
       "      <td>1313647.0</td>\n",
       "      <td>16.903415</td>\n",
       "      <td>8.588150</td>\n",
       "      <td>1.0</td>\n",
       "      <td>11.0</td>\n",
       "      <td>16.0</td>\n",
       "      <td>22.0</td>\n",
       "      <td>44.0</td>\n",
       "    </tr>\n",
       "    <tr>\n",
       "      <th>wind_direction</th>\n",
       "      <td>1313647.0</td>\n",
       "      <td>199.609700</td>\n",
       "      <td>75.920632</td>\n",
       "      <td>3.0</td>\n",
       "      <td>146.0</td>\n",
       "      <td>214.0</td>\n",
       "      <td>262.0</td>\n",
       "      <td>360.0</td>\n",
       "    </tr>\n",
       "    <tr>\n",
       "      <th>weather_code</th>\n",
       "      <td>1313647.0</td>\n",
       "      <td>16.149440</td>\n",
       "      <td>23.068453</td>\n",
       "      <td>0.0</td>\n",
       "      <td>2.0</td>\n",
       "      <td>3.0</td>\n",
       "      <td>51.0</td>\n",
       "      <td>73.0</td>\n",
       "    </tr>\n",
       "    <tr>\n",
       "      <th>precipitation_sum</th>\n",
       "      <td>1313647.0</td>\n",
       "      <td>3.347413</td>\n",
       "      <td>4.983085</td>\n",
       "      <td>0.0</td>\n",
       "      <td>0.2</td>\n",
       "      <td>1.9</td>\n",
       "      <td>3.5</td>\n",
       "      <td>30.2</td>\n",
       "    </tr>\n",
       "    <tr>\n",
       "      <th>rain_sum</th>\n",
       "      <td>1313647.0</td>\n",
       "      <td>2.559542</td>\n",
       "      <td>3.872297</td>\n",
       "      <td>0.0</td>\n",
       "      <td>0.0</td>\n",
       "      <td>0.6</td>\n",
       "      <td>3.4</td>\n",
       "      <td>20.2</td>\n",
       "    </tr>\n",
       "    <tr>\n",
       "      <th>precipitation_probability</th>\n",
       "      <td>1313647.0</td>\n",
       "      <td>74.436469</td>\n",
       "      <td>31.617998</td>\n",
       "      <td>0.0</td>\n",
       "      <td>58.0</td>\n",
       "      <td>87.0</td>\n",
       "      <td>100.0</td>\n",
       "      <td>100.0</td>\n",
       "    </tr>\n",
       "  </tbody>\n",
       "</table>\n",
       "</div>"
      ],
      "text/plain": [
       "                               count        mean        std  min    25%  \\\n",
       "number                     1313647.0   58.856302  35.967582  1.0   29.0   \n",
       "available_bikes            1313647.0   11.505513   9.383810  0.0    4.0   \n",
       "available_bike_stands      1313647.0   20.054286  10.870357  0.0   12.0   \n",
       "temperature                1313647.0    9.041181   3.253094  1.0    7.0   \n",
       "wind_speed                 1313647.0   16.903415   8.588150  1.0   11.0   \n",
       "wind_direction             1313647.0  199.609700  75.920632  3.0  146.0   \n",
       "weather_code               1313647.0   16.149440  23.068453  0.0    2.0   \n",
       "precipitation_sum          1313647.0    3.347413   4.983085  0.0    0.2   \n",
       "rain_sum                   1313647.0    2.559542   3.872297  0.0    0.0   \n",
       "precipitation_probability  1313647.0   74.436469  31.617998  0.0   58.0   \n",
       "\n",
       "                             50%    75%    max  \n",
       "number                      58.0   89.0  507.0  \n",
       "available_bikes             10.0   17.0   40.0  \n",
       "available_bike_stands       20.0   29.0   40.0  \n",
       "temperature                  9.0   11.0   19.0  \n",
       "wind_speed                  16.0   22.0   44.0  \n",
       "wind_direction             214.0  262.0  360.0  \n",
       "weather_code                 3.0   51.0   73.0  \n",
       "precipitation_sum            1.9    3.5   30.2  \n",
       "rain_sum                     0.6    3.4   20.2  \n",
       "precipitation_probability   87.0  100.0  100.0  "
      ]
     },
     "execution_count": 49,
     "metadata": {},
     "output_type": "execute_result"
    }
   ],
   "source": [
    "merged_df.describe().T"
   ]
  },
  {
   "cell_type": "code",
   "execution_count": 50,
   "id": "fec51c05-a062-4ebf-bab6-7d3120e0ed81",
   "metadata": {},
   "outputs": [
    {
     "name": "stdout",
     "output_type": "stream",
     "text": [
      "number                         int64\n",
      "time                          object\n",
      "available_bikes                int64\n",
      "available_bike_stands          int64\n",
      "temperature                    int64\n",
      "wind_speed                     int64\n",
      "wind_direction                 int64\n",
      "weather_code                   int64\n",
      "precipitation_sum            float64\n",
      "rain_sum                     float64\n",
      "precipitation_probability      int64\n",
      "dtype: object\n"
     ]
    }
   ],
   "source": [
    "print(merged_df.dtypes)\n"
   ]
  },
  {
   "cell_type": "code",
   "execution_count": 9,
   "id": "41dbd3b1-5468-4136-a601-1b133036dbbc",
   "metadata": {},
   "outputs": [],
   "source": [
    "merged_df['time'] = merged_df['time'].astype('datetime64')\n",
    "merged_df['number'] = merged_df['number'].astype('category')\n",
    "merged_df['weather_code'] = merged_df['weather_code'].astype('category')"
   ]
  },
  {
   "cell_type": "code",
   "execution_count": 10,
   "id": "db46ff46-1156-4362-883d-4d49f9361fdc",
   "metadata": {},
   "outputs": [],
   "source": [
    "merged_df['hour'] = merged_df['time'].dt.hour\n",
    "merged_df['minute'] = merged_df['time'].dt.minute\n",
    "merged_df['month'] = merged_df['time'].dt.month\n",
    "merged_df['day'] = merged_df['time'].dt.day\n"
   ]
  },
  {
   "cell_type": "code",
   "execution_count": 11,
   "id": "69f370d3-78c6-495f-9180-4987ebacd2c0",
   "metadata": {},
   "outputs": [],
   "source": [
    "merged_df['hour'] = merged_df['hour'].astype('category')\n",
    "merged_df['minute'] = merged_df['minute'].astype('category')\n",
    "merged_df['month'] = merged_df['month'].astype('category')\n",
    "merged_df['day'] = merged_df['day'].astype('category')"
   ]
  },
  {
   "cell_type": "code",
   "execution_count": 12,
   "id": "e34922dd-b939-4b1b-af94-6aa6eeabbaf3",
   "metadata": {},
   "outputs": [],
   "source": [
    "station_dfs = {}\n",
    "for station in merged_df['number'].unique():\n",
    "    station_dfs[station] = merged_df[merged_df['number'] == station]\n"
   ]
  },
  {
   "cell_type": "code",
   "execution_count": 55,
   "id": "280d81b6-571a-42e2-8cdc-0e982204bc16",
   "metadata": {},
   "outputs": [
    {
     "data": {
      "text/html": [
       "<div>\n",
       "<style scoped>\n",
       "    .dataframe tbody tr th:only-of-type {\n",
       "        vertical-align: middle;\n",
       "    }\n",
       "\n",
       "    .dataframe tbody tr th {\n",
       "        vertical-align: top;\n",
       "    }\n",
       "\n",
       "    .dataframe thead th {\n",
       "        text-align: right;\n",
       "    }\n",
       "</style>\n",
       "<table border=\"1\" class=\"dataframe\">\n",
       "  <thead>\n",
       "    <tr style=\"text-align: right;\">\n",
       "      <th></th>\n",
       "      <th>number</th>\n",
       "      <th>time</th>\n",
       "      <th>available_bikes</th>\n",
       "      <th>available_bike_stands</th>\n",
       "      <th>temperature</th>\n",
       "      <th>wind_speed</th>\n",
       "      <th>wind_direction</th>\n",
       "      <th>weather_code</th>\n",
       "      <th>precipitation_sum</th>\n",
       "      <th>rain_sum</th>\n",
       "      <th>precipitation_probability</th>\n",
       "      <th>hour</th>\n",
       "      <th>minute</th>\n",
       "      <th>month</th>\n",
       "      <th>day</th>\n",
       "    </tr>\n",
       "  </thead>\n",
       "  <tbody>\n",
       "    <tr>\n",
       "      <th>975744</th>\n",
       "      <td>88</td>\n",
       "      <td>2023-04-16 00:09:54</td>\n",
       "      <td>15</td>\n",
       "      <td>15</td>\n",
       "      <td>16</td>\n",
       "      <td>5</td>\n",
       "      <td>82</td>\n",
       "      <td>2</td>\n",
       "      <td>7.3</td>\n",
       "      <td>4.0</td>\n",
       "      <td>90</td>\n",
       "      <td>0</td>\n",
       "      <td>9</td>\n",
       "      <td>4</td>\n",
       "      <td>16</td>\n",
       "    </tr>\n",
       "    <tr>\n",
       "      <th>975745</th>\n",
       "      <td>88</td>\n",
       "      <td>2023-04-16 12:27:09</td>\n",
       "      <td>12</td>\n",
       "      <td>18</td>\n",
       "      <td>16</td>\n",
       "      <td>5</td>\n",
       "      <td>82</td>\n",
       "      <td>2</td>\n",
       "      <td>7.3</td>\n",
       "      <td>4.0</td>\n",
       "      <td>90</td>\n",
       "      <td>12</td>\n",
       "      <td>27</td>\n",
       "      <td>4</td>\n",
       "      <td>16</td>\n",
       "    </tr>\n",
       "    <tr>\n",
       "      <th>975746</th>\n",
       "      <td>88</td>\n",
       "      <td>2023-04-16 23:55:03</td>\n",
       "      <td>6</td>\n",
       "      <td>24</td>\n",
       "      <td>12</td>\n",
       "      <td>3</td>\n",
       "      <td>360</td>\n",
       "      <td>3</td>\n",
       "      <td>0.0</td>\n",
       "      <td>0.0</td>\n",
       "      <td>13</td>\n",
       "      <td>23</td>\n",
       "      <td>55</td>\n",
       "      <td>4</td>\n",
       "      <td>16</td>\n",
       "    </tr>\n",
       "    <tr>\n",
       "      <th>975747</th>\n",
       "      <td>88</td>\n",
       "      <td>2023-04-17 00:00:06</td>\n",
       "      <td>6</td>\n",
       "      <td>24</td>\n",
       "      <td>12</td>\n",
       "      <td>5</td>\n",
       "      <td>113</td>\n",
       "      <td>2</td>\n",
       "      <td>0.0</td>\n",
       "      <td>0.0</td>\n",
       "      <td>13</td>\n",
       "      <td>0</td>\n",
       "      <td>0</td>\n",
       "      <td>4</td>\n",
       "      <td>17</td>\n",
       "    </tr>\n",
       "    <tr>\n",
       "      <th>975748</th>\n",
       "      <td>88</td>\n",
       "      <td>2023-04-17 00:05:03</td>\n",
       "      <td>6</td>\n",
       "      <td>24</td>\n",
       "      <td>12</td>\n",
       "      <td>5</td>\n",
       "      <td>113</td>\n",
       "      <td>2</td>\n",
       "      <td>0.0</td>\n",
       "      <td>0.0</td>\n",
       "      <td>29</td>\n",
       "      <td>0</td>\n",
       "      <td>5</td>\n",
       "      <td>4</td>\n",
       "      <td>17</td>\n",
       "    </tr>\n",
       "    <tr>\n",
       "      <th>...</th>\n",
       "      <td>...</td>\n",
       "      <td>...</td>\n",
       "      <td>...</td>\n",
       "      <td>...</td>\n",
       "      <td>...</td>\n",
       "      <td>...</td>\n",
       "      <td>...</td>\n",
       "      <td>...</td>\n",
       "      <td>...</td>\n",
       "      <td>...</td>\n",
       "      <td>...</td>\n",
       "      <td>...</td>\n",
       "      <td>...</td>\n",
       "      <td>...</td>\n",
       "      <td>...</td>\n",
       "    </tr>\n",
       "    <tr>\n",
       "      <th>975942</th>\n",
       "      <td>88</td>\n",
       "      <td>2023-04-17 16:15:03</td>\n",
       "      <td>9</td>\n",
       "      <td>21</td>\n",
       "      <td>17</td>\n",
       "      <td>20</td>\n",
       "      <td>140</td>\n",
       "      <td>1</td>\n",
       "      <td>0.0</td>\n",
       "      <td>0.0</td>\n",
       "      <td>74</td>\n",
       "      <td>16</td>\n",
       "      <td>15</td>\n",
       "      <td>4</td>\n",
       "      <td>17</td>\n",
       "    </tr>\n",
       "    <tr>\n",
       "      <th>975943</th>\n",
       "      <td>88</td>\n",
       "      <td>2023-04-17 16:20:03</td>\n",
       "      <td>11</td>\n",
       "      <td>19</td>\n",
       "      <td>17</td>\n",
       "      <td>20</td>\n",
       "      <td>140</td>\n",
       "      <td>1</td>\n",
       "      <td>0.0</td>\n",
       "      <td>0.0</td>\n",
       "      <td>74</td>\n",
       "      <td>16</td>\n",
       "      <td>20</td>\n",
       "      <td>4</td>\n",
       "      <td>17</td>\n",
       "    </tr>\n",
       "    <tr>\n",
       "      <th>975944</th>\n",
       "      <td>88</td>\n",
       "      <td>2023-04-17 16:25:03</td>\n",
       "      <td>11</td>\n",
       "      <td>19</td>\n",
       "      <td>17</td>\n",
       "      <td>20</td>\n",
       "      <td>140</td>\n",
       "      <td>1</td>\n",
       "      <td>0.0</td>\n",
       "      <td>0.0</td>\n",
       "      <td>74</td>\n",
       "      <td>16</td>\n",
       "      <td>25</td>\n",
       "      <td>4</td>\n",
       "      <td>17</td>\n",
       "    </tr>\n",
       "    <tr>\n",
       "      <th>975945</th>\n",
       "      <td>88</td>\n",
       "      <td>2023-04-17 16:30:04</td>\n",
       "      <td>11</td>\n",
       "      <td>19</td>\n",
       "      <td>17</td>\n",
       "      <td>20</td>\n",
       "      <td>140</td>\n",
       "      <td>1</td>\n",
       "      <td>0.0</td>\n",
       "      <td>0.0</td>\n",
       "      <td>74</td>\n",
       "      <td>16</td>\n",
       "      <td>30</td>\n",
       "      <td>4</td>\n",
       "      <td>17</td>\n",
       "    </tr>\n",
       "    <tr>\n",
       "      <th>975946</th>\n",
       "      <td>88</td>\n",
       "      <td>2023-04-17 16:35:03</td>\n",
       "      <td>11</td>\n",
       "      <td>19</td>\n",
       "      <td>17</td>\n",
       "      <td>20</td>\n",
       "      <td>140</td>\n",
       "      <td>1</td>\n",
       "      <td>0.0</td>\n",
       "      <td>0.0</td>\n",
       "      <td>74</td>\n",
       "      <td>16</td>\n",
       "      <td>35</td>\n",
       "      <td>4</td>\n",
       "      <td>17</td>\n",
       "    </tr>\n",
       "  </tbody>\n",
       "</table>\n",
       "<p>203 rows × 15 columns</p>\n",
       "</div>"
      ],
      "text/plain": [
       "       number                time  available_bikes  available_bike_stands  \\\n",
       "975744     88 2023-04-16 00:09:54               15                     15   \n",
       "975745     88 2023-04-16 12:27:09               12                     18   \n",
       "975746     88 2023-04-16 23:55:03                6                     24   \n",
       "975747     88 2023-04-17 00:00:06                6                     24   \n",
       "975748     88 2023-04-17 00:05:03                6                     24   \n",
       "...       ...                 ...              ...                    ...   \n",
       "975942     88 2023-04-17 16:15:03                9                     21   \n",
       "975943     88 2023-04-17 16:20:03               11                     19   \n",
       "975944     88 2023-04-17 16:25:03               11                     19   \n",
       "975945     88 2023-04-17 16:30:04               11                     19   \n",
       "975946     88 2023-04-17 16:35:03               11                     19   \n",
       "\n",
       "        temperature  wind_speed  wind_direction weather_code  \\\n",
       "975744           16           5              82            2   \n",
       "975745           16           5              82            2   \n",
       "975746           12           3             360            3   \n",
       "975747           12           5             113            2   \n",
       "975748           12           5             113            2   \n",
       "...             ...         ...             ...          ...   \n",
       "975942           17          20             140            1   \n",
       "975943           17          20             140            1   \n",
       "975944           17          20             140            1   \n",
       "975945           17          20             140            1   \n",
       "975946           17          20             140            1   \n",
       "\n",
       "        precipitation_sum  rain_sum  precipitation_probability hour minute  \\\n",
       "975744                7.3       4.0                         90    0      9   \n",
       "975745                7.3       4.0                         90   12     27   \n",
       "975746                0.0       0.0                         13   23     55   \n",
       "975747                0.0       0.0                         13    0      0   \n",
       "975748                0.0       0.0                         29    0      5   \n",
       "...                   ...       ...                        ...  ...    ...   \n",
       "975942                0.0       0.0                         74   16     15   \n",
       "975943                0.0       0.0                         74   16     20   \n",
       "975944                0.0       0.0                         74   16     25   \n",
       "975945                0.0       0.0                         74   16     30   \n",
       "975946                0.0       0.0                         74   16     35   \n",
       "\n",
       "       month day  \n",
       "975744     4  16  \n",
       "975745     4  16  \n",
       "975746     4  16  \n",
       "975747     4  17  \n",
       "975748     4  17  \n",
       "...      ...  ..  \n",
       "975942     4  17  \n",
       "975943     4  17  \n",
       "975944     4  17  \n",
       "975945     4  17  \n",
       "975946     4  17  \n",
       "\n",
       "[203 rows x 15 columns]"
      ]
     },
     "execution_count": 55,
     "metadata": {},
     "output_type": "execute_result"
    }
   ],
   "source": [
    "filtered_df = merged_df[merged_df['number'] == 88]\n",
    "filtered_df"
   ]
  },
  {
   "cell_type": "code",
   "execution_count": null,
   "id": "6b0908c9-a605-4111-b70c-1a90080b4dc6",
   "metadata": {},
   "outputs": [],
   "source": []
  },
  {
   "cell_type": "code",
   "execution_count": 13,
   "id": "a31332a8-8916-44dd-825e-0e506124278e",
   "metadata": {},
   "outputs": [
    {
     "name": "stdout",
     "output_type": "stream",
     "text": [
      "Station 1 R-squared: 0.9118103099858063\n",
      "Station 2 R-squared: 0.8158324920324929\n",
      "Station 3 R-squared: 0.9065736049888897\n",
      "Station 4 R-squared: 0.8629092629298131\n",
      "Station 5 R-squared: 0.8887397669192236\n",
      "Station 6 R-squared: 0.9227745909696262\n",
      "Station 7 R-squared: 0.8884710174244934\n",
      "Station 8 R-squared: 0.8580100134707255\n",
      "Station 9 R-squared: 0.845804489272372\n",
      "Station 10 R-squared: 0.8460152659564215\n",
      "Station 11 R-squared: 0.9407179246488608\n",
      "Station 12 R-squared: 0.8977170144104885\n",
      "Station 13 R-squared: 0.9361958220684469\n",
      "Station 14 R-squared: 0.8408996963349795\n",
      "Station 15 R-squared: 0.8205990171816719\n",
      "Station 16 R-squared: 0.8950850057770566\n",
      "Station 17 R-squared: 0.9050699548357583\n",
      "Station 18 R-squared: 0.8774398533948783\n",
      "Station 19 R-squared: 0.8693423125226745\n",
      "Station 20 R-squared: 0.8983531061791878\n",
      "Station 21 R-squared: 0.8586920673830601\n",
      "Station 22 R-squared: 0.8936777979354424\n",
      "Station 23 R-squared: 0.8865866152425242\n",
      "Station 24 R-squared: 0.8299983435370369\n",
      "Station 25 R-squared: 0.9221551283808438\n",
      "Station 26 R-squared: 0.8815243629009986\n",
      "Station 27 R-squared: 0.903500645955906\n",
      "Station 28 R-squared: 0.7633643020401275\n",
      "Station 29 R-squared: 0.8936518644190152\n",
      "Station 30 R-squared: 0.8967282338572844\n",
      "Station 31 R-squared: 0.8503514825376302\n",
      "Station 32 R-squared: 0.8395588545356373\n",
      "Station 33 R-squared: 0.7162944540312908\n",
      "Station 34 R-squared: 0.8441402601661521\n",
      "Station 35 R-squared: 0.9069506552396559\n",
      "Station 36 R-squared: 0.8863980931101073\n",
      "Station 37 R-squared: 0.9184797505010852\n",
      "Station 38 R-squared: 0.9320269070235742\n",
      "Station 39 R-squared: 0.8941755631890453\n",
      "Station 40 R-squared: 0.8693316548097659\n",
      "Station 41 R-squared: 0.9114039091937394\n",
      "Station 42 R-squared: 0.9281851741851433\n",
      "Station 43 R-squared: 0.8774798348951123\n",
      "Station 44 R-squared: 0.8997809251494304\n",
      "Station 45 R-squared: 0.9289317978010135\n",
      "Station 47 R-squared: 0.9326600378639334\n",
      "Station 48 R-squared: 0.9508705093505477\n",
      "Station 49 R-squared: 0.9218040812583913\n",
      "Station 50 R-squared: 0.9544088375834279\n",
      "Station 51 R-squared: 0.9259342153331224\n",
      "Station 52 R-squared: 0.9124629140040176\n",
      "Station 53 R-squared: 0.9088938452963089\n",
      "Station 54 R-squared: 0.9387124039220085\n",
      "Station 55 R-squared: 0.8882404797006936\n",
      "Station 56 R-squared: 0.8709898628881346\n",
      "Station 57 R-squared: 0.9076004974288627\n",
      "Station 58 R-squared: 0.8732168177908091\n",
      "Station 59 R-squared: 0.9096136323799768\n",
      "Station 60 R-squared: 0.9036022726569233\n",
      "Station 61 R-squared: 0.8896532329404042\n",
      "Station 62 R-squared: 0.9453989641378178\n",
      "Station 63 R-squared: 0.9200147899234961\n",
      "Station 64 R-squared: 0.9001762672207378\n",
      "Station 65 R-squared: 0.9089227943244356\n",
      "Station 66 R-squared: 0.8584106944152718\n",
      "Station 67 R-squared: 0.9161407423594691\n",
      "Station 68 R-squared: 0.8919107915452342\n",
      "Station 69 R-squared: 0.88416798428734\n",
      "Station 71 R-squared: 0.9208498355931924\n",
      "Station 72 R-squared: 0.8368333304884145\n",
      "Station 73 R-squared: 0.8977265643123259\n",
      "Station 74 R-squared: 0.9231280382262872\n",
      "Station 75 R-squared: 0.9120555353426658\n",
      "Station 76 R-squared: 0.8592516189705398\n",
      "Station 77 R-squared: 0.9289630326530709\n",
      "Station 78 R-squared: 0.9220769354830023\n",
      "Station 79 R-squared: 0.9042729745359246\n",
      "Station 80 R-squared: 0.852078620502469\n",
      "Station 82 R-squared: 0.90348235214049\n",
      "Station 83 R-squared: 0.9469035768472817\n",
      "Station 84 R-squared: 0.9257624766487194\n",
      "Station 85 R-squared: 0.8976553784751703\n",
      "Station 86 R-squared: 0.90466125071178\n",
      "Station 87 R-squared: 0.9025658662200134\n",
      "Station 88 R-squared: 0.6872764685708687\n",
      "Station 89 R-squared: 0.8844675120663977\n",
      "Station 90 R-squared: 0.9044914637844963\n",
      "Station 91 R-squared: 0.8850102149976646\n",
      "Station 92 R-squared: 0.8898727056153655\n",
      "Station 93 R-squared: 0.8851060557017751\n",
      "Station 94 R-squared: 0.9473614861370518\n",
      "Station 95 R-squared: 0.9346681472547271\n",
      "Station 96 R-squared: 0.926475976501875\n",
      "Station 97 R-squared: 0.8899695998394006\n",
      "Station 98 R-squared: 0.9416290148282354\n",
      "Station 99 R-squared: 0.9096477908352548\n",
      "Station 100 R-squared: 0.9013459167555694\n",
      "Station 101 R-squared: 0.9199326190802144\n",
      "Station 102 R-squared: 0.8280612919509702\n",
      "Station 103 R-squared: 0.90753713414817\n",
      "Station 104 R-squared: 0.9367435800897651\n",
      "Station 105 R-squared: 0.9385587712815899\n",
      "Station 106 R-squared: 0.888313269881837\n",
      "Station 107 R-squared: 0.888491476286385\n",
      "Station 108 R-squared: 0.8181323129677175\n",
      "Station 109 R-squared: 0.9251658202472718\n",
      "Station 110 R-squared: 0.8966842441177689\n",
      "Station 111 R-squared: 0.886010365767033\n",
      "Station 112 R-squared: 0.9090682659781687\n",
      "Station 113 R-squared: 0.9267010177927388\n",
      "Station 114 R-squared: 0.9097795604504094\n",
      "Station 115 R-squared: 0.9261130609442396\n",
      "Station 116 R-squared: 0.8522537975668883\n",
      "Station 117 R-squared: 0.9244590399828351\n",
      "Station 507 R-squared: 1.0\n"
     ]
    }
   ],
   "source": [
    "from sklearn.model_selection import train_test_split\n",
    "from sklearn.neighbors import KNeighborsRegressor\n",
    "import pandas as pd\n",
    "\n",
    "# Assuming station_dfs is a dictionary containing data for each station\n",
    "\n",
    "for station, station_df in station_dfs.items():\n",
    "    X = station_df[['hour', 'day','minute','month','temperature', 'wind_speed', 'wind_direction', 'weather_code','precipitation_sum','rain_sum','precipitation_probability']]\n",
    "    y = station_df['available_bikes']\n",
    "\n",
    "    X_train, X_test, y_train, y_test = train_test_split(X, y)\n",
    "    \n",
    "    model = KNeighborsRegressor(n_neighbors=2)\n",
    "\n",
    "    model.fit(X_train, y_train)\n",
    "    print(f\"Station {station} R-squared: {model.score(X_test, y_test)}\")\n",
    "    filename = f\"model_dep{station}.pkl\"\n",
    "    with open(filename, 'wb') as file:\n",
    "        pickle.dump(model, file, pickle.HIGHEST_PROTOCOL)"
   ]
  },
  {
   "cell_type": "code",
   "execution_count": 14,
   "id": "395ff4e8-0ec7-4f67-8349-a9b4459cd73e",
   "metadata": {},
   "outputs": [
    {
     "name": "stdout",
     "output_type": "stream",
     "text": [
      "Station 1 R-squared: 0.9054055329909676\n",
      "Station 2 R-squared: 0.8382245406769573\n",
      "Station 3 R-squared: 0.9009472636894702\n",
      "Station 4 R-squared: 0.8827480394387843\n",
      "Station 5 R-squared: 0.8865130523316969\n",
      "Station 6 R-squared: 0.9053629545632578\n",
      "Station 7 R-squared: 0.8858747081539521\n",
      "Station 8 R-squared: 0.8452494451747148\n",
      "Station 9 R-squared: 0.8418498692112817\n",
      "Station 10 R-squared: 0.8402041835219073\n",
      "Station 11 R-squared: 0.9492257932235814\n",
      "Station 12 R-squared: 0.9083111306097099\n",
      "Station 13 R-squared: 0.919698129528037\n",
      "Station 14 R-squared: 0.8645694048133156\n",
      "Station 15 R-squared: 0.84783151618211\n",
      "Station 16 R-squared: 0.8893114422701045\n",
      "Station 17 R-squared: 0.9140432108656705\n",
      "Station 18 R-squared: 0.8902292562221273\n",
      "Station 19 R-squared: 0.8671320879199823\n",
      "Station 20 R-squared: 0.9043826287197976\n",
      "Station 21 R-squared: 0.8791191142690854\n",
      "Station 22 R-squared: 0.9005930848312711\n",
      "Station 23 R-squared: 0.8591887713407063\n",
      "Station 24 R-squared: 0.8553310560253647\n",
      "Station 25 R-squared: 0.9123734796650277\n",
      "Station 26 R-squared: 0.852665058461509\n",
      "Station 27 R-squared: 0.9036131718427524\n",
      "Station 28 R-squared: 0.781881441231908\n",
      "Station 29 R-squared: 0.8923153838887273\n",
      "Station 30 R-squared: 0.8978518379854713\n",
      "Station 31 R-squared: 0.8391681579638293\n",
      "Station 32 R-squared: 0.8363029367670696\n",
      "Station 33 R-squared: 0.7586700888043789\n",
      "Station 34 R-squared: 0.8542477741707861\n",
      "Station 35 R-squared: 0.925695454825243\n",
      "Station 36 R-squared: 0.8866828618671897\n",
      "Station 37 R-squared: 0.932672280501234\n",
      "Station 38 R-squared: 0.9262356272141857\n",
      "Station 39 R-squared: 0.9225361474093665\n",
      "Station 40 R-squared: 0.860394015996187\n",
      "Station 41 R-squared: 0.905870545600426\n",
      "Station 42 R-squared: 0.9298883997589785\n",
      "Station 43 R-squared: 0.8954393295978313\n",
      "Station 44 R-squared: 0.8845295952791998\n",
      "Station 45 R-squared: 0.9312070198378899\n",
      "Station 47 R-squared: 0.9238474011408687\n",
      "Station 48 R-squared: 0.951162447825202\n",
      "Station 49 R-squared: 0.9405701893473329\n",
      "Station 50 R-squared: 0.9478136363510751\n",
      "Station 51 R-squared: 0.9203602717025926\n",
      "Station 52 R-squared: 0.9124265054490335\n",
      "Station 53 R-squared: 0.896055717441016\n",
      "Station 54 R-squared: 0.9268030215509238\n",
      "Station 55 R-squared: 0.8870506962239314\n",
      "Station 56 R-squared: 0.8619657087873294\n",
      "Station 57 R-squared: 0.9181545632557185\n",
      "Station 58 R-squared: 0.8703692947844317\n",
      "Station 59 R-squared: 0.8962478518096546\n",
      "Station 60 R-squared: 0.9041126622654048\n",
      "Station 61 R-squared: 0.8625235806064422\n",
      "Station 62 R-squared: 0.9528584644335156\n",
      "Station 63 R-squared: 0.9044626529797952\n",
      "Station 64 R-squared: 0.898787390759326\n",
      "Station 65 R-squared: 0.89418384469483\n",
      "Station 66 R-squared: 0.8523104829078869\n",
      "Station 67 R-squared: 0.9050079720977025\n",
      "Station 68 R-squared: 0.8582780151378165\n",
      "Station 69 R-squared: 0.8864106871668623\n",
      "Station 71 R-squared: 0.9245596518739032\n",
      "Station 72 R-squared: 0.8476997204745768\n",
      "Station 73 R-squared: 0.9109733920509886\n",
      "Station 74 R-squared: 0.9205033947625538\n",
      "Station 75 R-squared: 0.9224818692296292\n",
      "Station 76 R-squared: 0.8648337105238895\n",
      "Station 77 R-squared: 0.9293890422290979\n",
      "Station 78 R-squared: 0.9137794046620467\n",
      "Station 79 R-squared: 0.8940953476467401\n",
      "Station 80 R-squared: 0.8601143134877544\n",
      "Station 82 R-squared: 0.9635874115692307\n",
      "Station 83 R-squared: 0.9418195630369137\n",
      "Station 84 R-squared: 0.9115379188697944\n",
      "Station 85 R-squared: 0.891338104999536\n",
      "Station 86 R-squared: 0.916741746758131\n",
      "Station 87 R-squared: 0.9249784737241833\n",
      "Station 88 R-squared: 0.5810407168684169\n",
      "Station 89 R-squared: 0.9090816575052841\n",
      "Station 90 R-squared: 0.88740821315805\n",
      "Station 91 R-squared: 0.8956339552138132\n",
      "Station 92 R-squared: 0.8846318415549346\n",
      "Station 93 R-squared: 0.9037699832408973\n",
      "Station 94 R-squared: 0.9500532979083252\n",
      "Station 95 R-squared: 0.9304767841583905\n",
      "Station 96 R-squared: 0.9200597793318656\n",
      "Station 97 R-squared: 0.9081039583831185\n",
      "Station 98 R-squared: 0.9469146902788727\n",
      "Station 99 R-squared: 0.898915353938407\n",
      "Station 100 R-squared: 0.8883648197197667\n",
      "Station 101 R-squared: 0.9340406180349932\n",
      "Station 102 R-squared: 0.8468075988859864\n",
      "Station 103 R-squared: 0.9003774074381254\n",
      "Station 104 R-squared: 0.9487050589306849\n",
      "Station 105 R-squared: 0.9371159657032169\n",
      "Station 106 R-squared: 0.897247025161626\n",
      "Station 107 R-squared: 0.8827683795697413\n",
      "Station 108 R-squared: 0.8115136261032979\n",
      "Station 109 R-squared: 0.9259995227322273\n",
      "Station 110 R-squared: 0.886626161446683\n",
      "Station 111 R-squared: 0.9035947019074769\n",
      "Station 112 R-squared: 0.913928835564277\n",
      "Station 113 R-squared: 0.9481538487561726\n",
      "Station 114 R-squared: 0.8996578053669868\n",
      "Station 115 R-squared: 0.9301118833419207\n",
      "Station 116 R-squared: 0.8518527408141158\n",
      "Station 117 R-squared: 0.9334696963999429\n",
      "Station 507 R-squared: 1.0\n"
     ]
    }
   ],
   "source": [
    "from sklearn.model_selection import train_test_split\n",
    "from sklearn.neighbors import KNeighborsRegressor\n",
    "import pandas as pd\n",
    "\n",
    "# Assuming station_dfs is a dictionary containing data for each station\n",
    "\n",
    "for station, station_df in station_dfs.items():\n",
    "    X = station_df[['hour', 'day','minute','month','temperature', 'wind_speed', 'wind_direction', 'weather_code','precipitation_sum','rain_sum','precipitation_probability']]\n",
    "    y = station_df['available_bike_stands']\n",
    "\n",
    "    X_train, X_test, y_train, y_test = train_test_split(X, y)\n",
    "    \n",
    "    model = KNeighborsRegressor(n_neighbors=2)\n",
    "\n",
    "    model.fit(X_train, y_train)\n",
    "    print(f\"Station {station} R-squared: {model.score(X_test, y_test)}\")\n",
    "    filename = f\"model_arr{station}.pkl\"\n",
    "    with open(filename, 'wb') as file:\n",
    "        pickle.dump(model, file, pickle.HIGHEST_PROTOCOL)"
   ]
  },
  {
   "cell_type": "code",
   "execution_count": 15,
   "id": "456f6cb3-0783-4cc3-97a5-d15ddd3d2da8",
   "metadata": {},
   "outputs": [
    {
     "name": "stdout",
     "output_type": "stream",
     "text": [
      "Station 1 R-squared: 0.9052214532029257\n",
      "Predicted number of available bikes for Station 1 at 2023-03-07 19:35:03: 11.00\n",
      "Station 2 R-squared: 0.8191751880983837\n",
      "Predicted number of available bikes for Station 2 at 2023-03-07 19:35:03: 7.50\n",
      "Station 3 R-squared: 0.8892803621256783\n",
      "Predicted number of available bikes for Station 3 at 2023-03-07 19:35:03: 10.00\n",
      "Station 4 R-squared: 0.881122780175411\n",
      "Predicted number of available bikes for Station 4 at 2023-03-07 19:35:03: 6.00\n"
     ]
    },
    {
     "name": "stderr",
     "output_type": "stream",
     "text": [
      "C:\\Users\\tfiro\\anaconda3\\envs\\comp30830software\\lib\\site-packages\\sklearn\\base.py:420: UserWarning: X does not have valid feature names, but KNeighborsRegressor was fitted with feature names\n",
      "  warnings.warn(\n",
      "C:\\Users\\tfiro\\anaconda3\\envs\\comp30830software\\lib\\site-packages\\sklearn\\base.py:420: UserWarning: X does not have valid feature names, but KNeighborsRegressor was fitted with feature names\n",
      "  warnings.warn(\n",
      "C:\\Users\\tfiro\\anaconda3\\envs\\comp30830software\\lib\\site-packages\\sklearn\\base.py:420: UserWarning: X does not have valid feature names, but KNeighborsRegressor was fitted with feature names\n",
      "  warnings.warn(\n",
      "C:\\Users\\tfiro\\anaconda3\\envs\\comp30830software\\lib\\site-packages\\sklearn\\base.py:420: UserWarning: X does not have valid feature names, but KNeighborsRegressor was fitted with feature names\n",
      "  warnings.warn(\n"
     ]
    },
    {
     "name": "stdout",
     "output_type": "stream",
     "text": [
      "Station 5 R-squared: 0.8906335931208358\n",
      "Predicted number of available bikes for Station 5 at 2023-03-07 19:35:03: 0.00\n",
      "Station 6 R-squared: 0.9373764394786509\n",
      "Predicted number of available bikes for Station 6 at 2023-03-07 19:35:03: 2.00\n",
      "Station 7 R-squared: 0.8881361090736135\n",
      "Predicted number of available bikes for Station 7 at 2023-03-07 19:35:03: 5.00\n",
      "Station 8 R-squared: 0.8719915065022866\n",
      "Predicted number of available bikes for Station 8 at 2023-03-07 19:35:03: 11.50\n"
     ]
    },
    {
     "name": "stderr",
     "output_type": "stream",
     "text": [
      "C:\\Users\\tfiro\\anaconda3\\envs\\comp30830software\\lib\\site-packages\\sklearn\\base.py:420: UserWarning: X does not have valid feature names, but KNeighborsRegressor was fitted with feature names\n",
      "  warnings.warn(\n",
      "C:\\Users\\tfiro\\anaconda3\\envs\\comp30830software\\lib\\site-packages\\sklearn\\base.py:420: UserWarning: X does not have valid feature names, but KNeighborsRegressor was fitted with feature names\n",
      "  warnings.warn(\n",
      "C:\\Users\\tfiro\\anaconda3\\envs\\comp30830software\\lib\\site-packages\\sklearn\\base.py:420: UserWarning: X does not have valid feature names, but KNeighborsRegressor was fitted with feature names\n",
      "  warnings.warn(\n",
      "C:\\Users\\tfiro\\anaconda3\\envs\\comp30830software\\lib\\site-packages\\sklearn\\base.py:420: UserWarning: X does not have valid feature names, but KNeighborsRegressor was fitted with feature names\n",
      "  warnings.warn(\n"
     ]
    },
    {
     "name": "stdout",
     "output_type": "stream",
     "text": [
      "Station 9 R-squared: 0.8480152078372953\n",
      "Predicted number of available bikes for Station 9 at 2023-03-07 19:35:03: 4.00\n",
      "Station 10 R-squared: 0.8682397775144426\n",
      "Predicted number of available bikes for Station 10 at 2023-03-07 19:35:03: 12.00\n",
      "Station 11 R-squared: 0.9177902655354775\n",
      "Predicted number of available bikes for Station 11 at 2023-03-07 19:35:03: 13.00\n",
      "Station 12 R-squared: 0.9041771061016164\n",
      "Predicted number of available bikes for Station 12 at 2023-03-07 19:35:03: 1.50\n"
     ]
    },
    {
     "name": "stderr",
     "output_type": "stream",
     "text": [
      "C:\\Users\\tfiro\\anaconda3\\envs\\comp30830software\\lib\\site-packages\\sklearn\\base.py:420: UserWarning: X does not have valid feature names, but KNeighborsRegressor was fitted with feature names\n",
      "  warnings.warn(\n",
      "C:\\Users\\tfiro\\anaconda3\\envs\\comp30830software\\lib\\site-packages\\sklearn\\base.py:420: UserWarning: X does not have valid feature names, but KNeighborsRegressor was fitted with feature names\n",
      "  warnings.warn(\n",
      "C:\\Users\\tfiro\\anaconda3\\envs\\comp30830software\\lib\\site-packages\\sklearn\\base.py:420: UserWarning: X does not have valid feature names, but KNeighborsRegressor was fitted with feature names\n",
      "  warnings.warn(\n",
      "C:\\Users\\tfiro\\anaconda3\\envs\\comp30830software\\lib\\site-packages\\sklearn\\base.py:420: UserWarning: X does not have valid feature names, but KNeighborsRegressor was fitted with feature names\n",
      "  warnings.warn(\n"
     ]
    },
    {
     "name": "stdout",
     "output_type": "stream",
     "text": [
      "Station 13 R-squared: 0.9173545257081821\n",
      "Predicted number of available bikes for Station 13 at 2023-03-07 19:35:03: 14.00\n",
      "Station 14 R-squared: 0.844715133129524\n",
      "Predicted number of available bikes for Station 14 at 2023-03-07 19:35:03: 12.50\n",
      "Station 15 R-squared: 0.8345394800398873\n",
      "Predicted number of available bikes for Station 15 at 2023-03-07 19:35:03: 2.00\n",
      "Station 16 R-squared: 0.9088222010791313\n",
      "Predicted number of available bikes for Station 16 at 2023-03-07 19:35:03: 2.00\n"
     ]
    },
    {
     "name": "stderr",
     "output_type": "stream",
     "text": [
      "C:\\Users\\tfiro\\anaconda3\\envs\\comp30830software\\lib\\site-packages\\sklearn\\base.py:420: UserWarning: X does not have valid feature names, but KNeighborsRegressor was fitted with feature names\n",
      "  warnings.warn(\n",
      "C:\\Users\\tfiro\\anaconda3\\envs\\comp30830software\\lib\\site-packages\\sklearn\\base.py:420: UserWarning: X does not have valid feature names, but KNeighborsRegressor was fitted with feature names\n",
      "  warnings.warn(\n",
      "C:\\Users\\tfiro\\anaconda3\\envs\\comp30830software\\lib\\site-packages\\sklearn\\base.py:420: UserWarning: X does not have valid feature names, but KNeighborsRegressor was fitted with feature names\n",
      "  warnings.warn(\n",
      "C:\\Users\\tfiro\\anaconda3\\envs\\comp30830software\\lib\\site-packages\\sklearn\\base.py:420: UserWarning: X does not have valid feature names, but KNeighborsRegressor was fitted with feature names\n",
      "  warnings.warn(\n"
     ]
    },
    {
     "name": "stdout",
     "output_type": "stream",
     "text": [
      "Station 17 R-squared: 0.8981598014875677\n",
      "Predicted number of available bikes for Station 17 at 2023-03-07 19:35:03: 1.00\n",
      "Station 18 R-squared: 0.882063169008613\n",
      "Predicted number of available bikes for Station 18 at 2023-03-07 19:35:03: 0.00\n",
      "Station 19 R-squared: 0.8803114123297665\n",
      "Predicted number of available bikes for Station 19 at 2023-03-07 19:35:03: 24.00\n",
      "Station 20 R-squared: 0.9144605535684687\n",
      "Predicted number of available bikes for Station 20 at 2023-03-07 19:35:03: 28.00\n"
     ]
    },
    {
     "name": "stderr",
     "output_type": "stream",
     "text": [
      "C:\\Users\\tfiro\\anaconda3\\envs\\comp30830software\\lib\\site-packages\\sklearn\\base.py:420: UserWarning: X does not have valid feature names, but KNeighborsRegressor was fitted with feature names\n",
      "  warnings.warn(\n",
      "C:\\Users\\tfiro\\anaconda3\\envs\\comp30830software\\lib\\site-packages\\sklearn\\base.py:420: UserWarning: X does not have valid feature names, but KNeighborsRegressor was fitted with feature names\n",
      "  warnings.warn(\n",
      "C:\\Users\\tfiro\\anaconda3\\envs\\comp30830software\\lib\\site-packages\\sklearn\\base.py:420: UserWarning: X does not have valid feature names, but KNeighborsRegressor was fitted with feature names\n",
      "  warnings.warn(\n",
      "C:\\Users\\tfiro\\anaconda3\\envs\\comp30830software\\lib\\site-packages\\sklearn\\base.py:420: UserWarning: X does not have valid feature names, but KNeighborsRegressor was fitted with feature names\n",
      "  warnings.warn(\n"
     ]
    },
    {
     "name": "stdout",
     "output_type": "stream",
     "text": [
      "Station 21 R-squared: 0.8504866717723629\n",
      "Predicted number of available bikes for Station 21 at 2023-03-07 19:35:03: 14.00\n",
      "Station 22 R-squared: 0.8917237747049259\n",
      "Predicted number of available bikes for Station 22 at 2023-03-07 19:35:03: 5.00\n",
      "Station 23 R-squared: 0.8773652859728298\n",
      "Predicted number of available bikes for Station 23 at 2023-03-07 19:35:03: 3.00\n",
      "Station 24 R-squared: 0.8342283006166646\n",
      "Predicted number of available bikes for Station 24 at 2023-03-07 19:35:03: 8.50\n"
     ]
    },
    {
     "name": "stderr",
     "output_type": "stream",
     "text": [
      "C:\\Users\\tfiro\\anaconda3\\envs\\comp30830software\\lib\\site-packages\\sklearn\\base.py:420: UserWarning: X does not have valid feature names, but KNeighborsRegressor was fitted with feature names\n",
      "  warnings.warn(\n",
      "C:\\Users\\tfiro\\anaconda3\\envs\\comp30830software\\lib\\site-packages\\sklearn\\base.py:420: UserWarning: X does not have valid feature names, but KNeighborsRegressor was fitted with feature names\n",
      "  warnings.warn(\n",
      "C:\\Users\\tfiro\\anaconda3\\envs\\comp30830software\\lib\\site-packages\\sklearn\\base.py:420: UserWarning: X does not have valid feature names, but KNeighborsRegressor was fitted with feature names\n",
      "  warnings.warn(\n",
      "C:\\Users\\tfiro\\anaconda3\\envs\\comp30830software\\lib\\site-packages\\sklearn\\base.py:420: UserWarning: X does not have valid feature names, but KNeighborsRegressor was fitted with feature names\n",
      "  warnings.warn(\n"
     ]
    },
    {
     "name": "stdout",
     "output_type": "stream",
     "text": [
      "Station 25 R-squared: 0.9248200355432664\n",
      "Predicted number of available bikes for Station 25 at 2023-03-07 19:35:03: 22.00\n",
      "Station 26 R-squared: 0.8590346964599463\n",
      "Predicted number of available bikes for Station 26 at 2023-03-07 19:35:03: 8.00\n",
      "Station 27 R-squared: 0.919201284358635\n",
      "Predicted number of available bikes for Station 27 at 2023-03-07 19:35:03: 13.50\n",
      "Station 28 R-squared: 0.7949263110599372\n",
      "Predicted number of available bikes for Station 28 at 2023-03-07 19:35:03: 6.00\n"
     ]
    },
    {
     "name": "stderr",
     "output_type": "stream",
     "text": [
      "C:\\Users\\tfiro\\anaconda3\\envs\\comp30830software\\lib\\site-packages\\sklearn\\base.py:420: UserWarning: X does not have valid feature names, but KNeighborsRegressor was fitted with feature names\n",
      "  warnings.warn(\n",
      "C:\\Users\\tfiro\\anaconda3\\envs\\comp30830software\\lib\\site-packages\\sklearn\\base.py:420: UserWarning: X does not have valid feature names, but KNeighborsRegressor was fitted with feature names\n",
      "  warnings.warn(\n",
      "C:\\Users\\tfiro\\anaconda3\\envs\\comp30830software\\lib\\site-packages\\sklearn\\base.py:420: UserWarning: X does not have valid feature names, but KNeighborsRegressor was fitted with feature names\n",
      "  warnings.warn(\n",
      "C:\\Users\\tfiro\\anaconda3\\envs\\comp30830software\\lib\\site-packages\\sklearn\\base.py:420: UserWarning: X does not have valid feature names, but KNeighborsRegressor was fitted with feature names\n",
      "  warnings.warn(\n"
     ]
    },
    {
     "name": "stdout",
     "output_type": "stream",
     "text": [
      "Station 29 R-squared: 0.8891326420529294\n",
      "Predicted number of available bikes for Station 29 at 2023-03-07 19:35:03: 17.00\n",
      "Station 30 R-squared: 0.88587301838232\n",
      "Predicted number of available bikes for Station 30 at 2023-03-07 19:35:03: 1.00\n",
      "Station 31 R-squared: 0.8463797660106055\n",
      "Predicted number of available bikes for Station 31 at 2023-03-07 19:35:03: 15.50\n",
      "Station 32 R-squared: 0.8378010441426957\n",
      "Predicted number of available bikes for Station 32 at 2023-03-07 19:35:03: 19.00\n"
     ]
    },
    {
     "name": "stderr",
     "output_type": "stream",
     "text": [
      "C:\\Users\\tfiro\\anaconda3\\envs\\comp30830software\\lib\\site-packages\\sklearn\\base.py:420: UserWarning: X does not have valid feature names, but KNeighborsRegressor was fitted with feature names\n",
      "  warnings.warn(\n",
      "C:\\Users\\tfiro\\anaconda3\\envs\\comp30830software\\lib\\site-packages\\sklearn\\base.py:420: UserWarning: X does not have valid feature names, but KNeighborsRegressor was fitted with feature names\n",
      "  warnings.warn(\n",
      "C:\\Users\\tfiro\\anaconda3\\envs\\comp30830software\\lib\\site-packages\\sklearn\\base.py:420: UserWarning: X does not have valid feature names, but KNeighborsRegressor was fitted with feature names\n",
      "  warnings.warn(\n",
      "C:\\Users\\tfiro\\anaconda3\\envs\\comp30830software\\lib\\site-packages\\sklearn\\base.py:420: UserWarning: X does not have valid feature names, but KNeighborsRegressor was fitted with feature names\n",
      "  warnings.warn(\n"
     ]
    },
    {
     "name": "stdout",
     "output_type": "stream",
     "text": [
      "Station 33 R-squared: 0.7464564291483813\n",
      "Predicted number of available bikes for Station 33 at 2023-03-07 19:35:03: 9.00\n",
      "Station 34 R-squared: 0.8430694293157373\n",
      "Predicted number of available bikes for Station 34 at 2023-03-07 19:35:03: 2.00\n",
      "Station 35 R-squared: 0.9080886162699653\n",
      "Predicted number of available bikes for Station 35 at 2023-03-07 19:35:03: 16.50\n",
      "Station 36 R-squared: 0.9050769806732782\n",
      "Predicted number of available bikes for Station 36 at 2023-03-07 19:35:03: 20.00\n"
     ]
    },
    {
     "name": "stderr",
     "output_type": "stream",
     "text": [
      "C:\\Users\\tfiro\\anaconda3\\envs\\comp30830software\\lib\\site-packages\\sklearn\\base.py:420: UserWarning: X does not have valid feature names, but KNeighborsRegressor was fitted with feature names\n",
      "  warnings.warn(\n",
      "C:\\Users\\tfiro\\anaconda3\\envs\\comp30830software\\lib\\site-packages\\sklearn\\base.py:420: UserWarning: X does not have valid feature names, but KNeighborsRegressor was fitted with feature names\n",
      "  warnings.warn(\n",
      "C:\\Users\\tfiro\\anaconda3\\envs\\comp30830software\\lib\\site-packages\\sklearn\\base.py:420: UserWarning: X does not have valid feature names, but KNeighborsRegressor was fitted with feature names\n",
      "  warnings.warn(\n",
      "C:\\Users\\tfiro\\anaconda3\\envs\\comp30830software\\lib\\site-packages\\sklearn\\base.py:420: UserWarning: X does not have valid feature names, but KNeighborsRegressor was fitted with feature names\n",
      "  warnings.warn(\n"
     ]
    },
    {
     "name": "stdout",
     "output_type": "stream",
     "text": [
      "Station 37 R-squared: 0.9383804789021375\n",
      "Predicted number of available bikes for Station 37 at 2023-03-07 19:35:03: 12.00\n",
      "Station 38 R-squared: 0.9219743511171511\n",
      "Predicted number of available bikes for Station 38 at 2023-03-07 19:35:03: 7.50\n",
      "Station 39 R-squared: 0.8950711782741043\n",
      "Predicted number of available bikes for Station 39 at 2023-03-07 19:35:03: 2.00\n",
      "Station 40 R-squared: 0.85624028990997\n",
      "Predicted number of available bikes for Station 40 at 2023-03-07 19:35:03: 5.50\n"
     ]
    },
    {
     "name": "stderr",
     "output_type": "stream",
     "text": [
      "C:\\Users\\tfiro\\anaconda3\\envs\\comp30830software\\lib\\site-packages\\sklearn\\base.py:420: UserWarning: X does not have valid feature names, but KNeighborsRegressor was fitted with feature names\n",
      "  warnings.warn(\n",
      "C:\\Users\\tfiro\\anaconda3\\envs\\comp30830software\\lib\\site-packages\\sklearn\\base.py:420: UserWarning: X does not have valid feature names, but KNeighborsRegressor was fitted with feature names\n",
      "  warnings.warn(\n",
      "C:\\Users\\tfiro\\anaconda3\\envs\\comp30830software\\lib\\site-packages\\sklearn\\base.py:420: UserWarning: X does not have valid feature names, but KNeighborsRegressor was fitted with feature names\n",
      "  warnings.warn(\n",
      "C:\\Users\\tfiro\\anaconda3\\envs\\comp30830software\\lib\\site-packages\\sklearn\\base.py:420: UserWarning: X does not have valid feature names, but KNeighborsRegressor was fitted with feature names\n",
      "  warnings.warn(\n"
     ]
    },
    {
     "name": "stdout",
     "output_type": "stream",
     "text": [
      "Station 41 R-squared: 0.915883984851513\n",
      "Predicted number of available bikes for Station 41 at 2023-03-07 19:35:03: 0.00\n",
      "Station 42 R-squared: 0.9095823567593103\n",
      "Predicted number of available bikes for Station 42 at 2023-03-07 19:35:03: 8.00\n",
      "Station 43 R-squared: 0.8978434873203274\n",
      "Predicted number of available bikes for Station 43 at 2023-03-07 19:35:03: 3.50\n",
      "Station 44 R-squared: 0.8977447985366063\n",
      "Predicted number of available bikes for Station 44 at 2023-03-07 19:35:03: 2.00\n"
     ]
    },
    {
     "name": "stderr",
     "output_type": "stream",
     "text": [
      "C:\\Users\\tfiro\\anaconda3\\envs\\comp30830software\\lib\\site-packages\\sklearn\\base.py:420: UserWarning: X does not have valid feature names, but KNeighborsRegressor was fitted with feature names\n",
      "  warnings.warn(\n",
      "C:\\Users\\tfiro\\anaconda3\\envs\\comp30830software\\lib\\site-packages\\sklearn\\base.py:420: UserWarning: X does not have valid feature names, but KNeighborsRegressor was fitted with feature names\n",
      "  warnings.warn(\n",
      "C:\\Users\\tfiro\\anaconda3\\envs\\comp30830software\\lib\\site-packages\\sklearn\\base.py:420: UserWarning: X does not have valid feature names, but KNeighborsRegressor was fitted with feature names\n",
      "  warnings.warn(\n",
      "C:\\Users\\tfiro\\anaconda3\\envs\\comp30830software\\lib\\site-packages\\sklearn\\base.py:420: UserWarning: X does not have valid feature names, but KNeighborsRegressor was fitted with feature names\n",
      "  warnings.warn(\n"
     ]
    },
    {
     "name": "stdout",
     "output_type": "stream",
     "text": [
      "Station 45 R-squared: 0.9422230067221198\n",
      "Predicted number of available bikes for Station 45 at 2023-03-07 19:35:03: 2.00\n",
      "Station 47 R-squared: 0.940172536119636\n",
      "Predicted number of available bikes for Station 47 at 2023-03-07 19:35:03: 27.00\n",
      "Station 48 R-squared: 0.9408994723619413\n",
      "Predicted number of available bikes for Station 48 at 2023-03-07 19:35:03: 18.00\n",
      "Station 49 R-squared: 0.9443852937517868\n",
      "Predicted number of available bikes for Station 49 at 2023-03-07 19:35:03: 33.00\n"
     ]
    },
    {
     "name": "stderr",
     "output_type": "stream",
     "text": [
      "C:\\Users\\tfiro\\anaconda3\\envs\\comp30830software\\lib\\site-packages\\sklearn\\base.py:420: UserWarning: X does not have valid feature names, but KNeighborsRegressor was fitted with feature names\n",
      "  warnings.warn(\n",
      "C:\\Users\\tfiro\\anaconda3\\envs\\comp30830software\\lib\\site-packages\\sklearn\\base.py:420: UserWarning: X does not have valid feature names, but KNeighborsRegressor was fitted with feature names\n",
      "  warnings.warn(\n",
      "C:\\Users\\tfiro\\anaconda3\\envs\\comp30830software\\lib\\site-packages\\sklearn\\base.py:420: UserWarning: X does not have valid feature names, but KNeighborsRegressor was fitted with feature names\n",
      "  warnings.warn(\n",
      "C:\\Users\\tfiro\\anaconda3\\envs\\comp30830software\\lib\\site-packages\\sklearn\\base.py:420: UserWarning: X does not have valid feature names, but KNeighborsRegressor was fitted with feature names\n",
      "  warnings.warn(\n"
     ]
    },
    {
     "name": "stdout",
     "output_type": "stream",
     "text": [
      "Station 50 R-squared: 0.950824693903303\n",
      "Predicted number of available bikes for Station 50 at 2023-03-07 19:35:03: 3.50\n",
      "Station 51 R-squared: 0.9202632473138894\n",
      "Predicted number of available bikes for Station 51 at 2023-03-07 19:35:03: 4.00\n",
      "Station 52 R-squared: 0.9069957804523657\n",
      "Predicted number of available bikes for Station 52 at 2023-03-07 19:35:03: 13.00\n",
      "Station 53 R-squared: 0.8811555388241268\n",
      "Predicted number of available bikes for Station 53 at 2023-03-07 19:35:03: 22.00\n"
     ]
    },
    {
     "name": "stderr",
     "output_type": "stream",
     "text": [
      "C:\\Users\\tfiro\\anaconda3\\envs\\comp30830software\\lib\\site-packages\\sklearn\\base.py:420: UserWarning: X does not have valid feature names, but KNeighborsRegressor was fitted with feature names\n",
      "  warnings.warn(\n",
      "C:\\Users\\tfiro\\anaconda3\\envs\\comp30830software\\lib\\site-packages\\sklearn\\base.py:420: UserWarning: X does not have valid feature names, but KNeighborsRegressor was fitted with feature names\n",
      "  warnings.warn(\n",
      "C:\\Users\\tfiro\\anaconda3\\envs\\comp30830software\\lib\\site-packages\\sklearn\\base.py:420: UserWarning: X does not have valid feature names, but KNeighborsRegressor was fitted with feature names\n",
      "  warnings.warn(\n",
      "C:\\Users\\tfiro\\anaconda3\\envs\\comp30830software\\lib\\site-packages\\sklearn\\base.py:420: UserWarning: X does not have valid feature names, but KNeighborsRegressor was fitted with feature names\n",
      "  warnings.warn(\n"
     ]
    },
    {
     "name": "stdout",
     "output_type": "stream",
     "text": [
      "Station 54 R-squared: 0.94715337894175\n",
      "Predicted number of available bikes for Station 54 at 2023-03-07 19:35:03: 11.00\n",
      "Station 55 R-squared: 0.8925359300485809\n",
      "Predicted number of available bikes for Station 55 at 2023-03-07 19:35:03: 14.00\n",
      "Station 56 R-squared: 0.868433184595004\n",
      "Predicted number of available bikes for Station 56 at 2023-03-07 19:35:03: 30.50\n",
      "Station 57 R-squared: 0.8964319989145262\n",
      "Predicted number of available bikes for Station 57 at 2023-03-07 19:35:03: 21.00\n"
     ]
    },
    {
     "name": "stderr",
     "output_type": "stream",
     "text": [
      "C:\\Users\\tfiro\\anaconda3\\envs\\comp30830software\\lib\\site-packages\\sklearn\\base.py:420: UserWarning: X does not have valid feature names, but KNeighborsRegressor was fitted with feature names\n",
      "  warnings.warn(\n",
      "C:\\Users\\tfiro\\anaconda3\\envs\\comp30830software\\lib\\site-packages\\sklearn\\base.py:420: UserWarning: X does not have valid feature names, but KNeighborsRegressor was fitted with feature names\n",
      "  warnings.warn(\n",
      "C:\\Users\\tfiro\\anaconda3\\envs\\comp30830software\\lib\\site-packages\\sklearn\\base.py:420: UserWarning: X does not have valid feature names, but KNeighborsRegressor was fitted with feature names\n",
      "  warnings.warn(\n",
      "C:\\Users\\tfiro\\anaconda3\\envs\\comp30830software\\lib\\site-packages\\sklearn\\base.py:420: UserWarning: X does not have valid feature names, but KNeighborsRegressor was fitted with feature names\n",
      "  warnings.warn(\n"
     ]
    },
    {
     "name": "stdout",
     "output_type": "stream",
     "text": [
      "Station 58 R-squared: 0.8754877677324786\n",
      "Predicted number of available bikes for Station 58 at 2023-03-07 19:35:03: 35.00\n",
      "Station 59 R-squared: 0.893514107957475\n",
      "Predicted number of available bikes for Station 59 at 2023-03-07 19:35:03: 3.00\n",
      "Station 60 R-squared: 0.8888907431487488\n",
      "Predicted number of available bikes for Station 60 at 2023-03-07 19:35:03: 6.50\n",
      "Station 61 R-squared: 0.8737684215121102\n",
      "Predicted number of available bikes for Station 61 at 2023-03-07 19:35:03: 3.00\n"
     ]
    },
    {
     "name": "stderr",
     "output_type": "stream",
     "text": [
      "C:\\Users\\tfiro\\anaconda3\\envs\\comp30830software\\lib\\site-packages\\sklearn\\base.py:420: UserWarning: X does not have valid feature names, but KNeighborsRegressor was fitted with feature names\n",
      "  warnings.warn(\n",
      "C:\\Users\\tfiro\\anaconda3\\envs\\comp30830software\\lib\\site-packages\\sklearn\\base.py:420: UserWarning: X does not have valid feature names, but KNeighborsRegressor was fitted with feature names\n",
      "  warnings.warn(\n",
      "C:\\Users\\tfiro\\anaconda3\\envs\\comp30830software\\lib\\site-packages\\sklearn\\base.py:420: UserWarning: X does not have valid feature names, but KNeighborsRegressor was fitted with feature names\n",
      "  warnings.warn(\n",
      "C:\\Users\\tfiro\\anaconda3\\envs\\comp30830software\\lib\\site-packages\\sklearn\\base.py:420: UserWarning: X does not have valid feature names, but KNeighborsRegressor was fitted with feature names\n",
      "  warnings.warn(\n"
     ]
    },
    {
     "name": "stdout",
     "output_type": "stream",
     "text": [
      "Station 62 R-squared: 0.9483181902638171\n",
      "Predicted number of available bikes for Station 62 at 2023-03-07 19:35:03: 20.50\n",
      "Station 63 R-squared: 0.9071753160462666\n",
      "Predicted number of available bikes for Station 63 at 2023-03-07 19:35:03: 16.00\n",
      "Station 64 R-squared: 0.9023399174251316\n",
      "Predicted number of available bikes for Station 64 at 2023-03-07 19:35:03: 13.00\n",
      "Station 65 R-squared: 0.8970805546921625\n",
      "Predicted number of available bikes for Station 65 at 2023-03-07 19:35:03: 36.00\n"
     ]
    },
    {
     "name": "stderr",
     "output_type": "stream",
     "text": [
      "C:\\Users\\tfiro\\anaconda3\\envs\\comp30830software\\lib\\site-packages\\sklearn\\base.py:420: UserWarning: X does not have valid feature names, but KNeighborsRegressor was fitted with feature names\n",
      "  warnings.warn(\n",
      "C:\\Users\\tfiro\\anaconda3\\envs\\comp30830software\\lib\\site-packages\\sklearn\\base.py:420: UserWarning: X does not have valid feature names, but KNeighborsRegressor was fitted with feature names\n",
      "  warnings.warn(\n",
      "C:\\Users\\tfiro\\anaconda3\\envs\\comp30830software\\lib\\site-packages\\sklearn\\base.py:420: UserWarning: X does not have valid feature names, but KNeighborsRegressor was fitted with feature names\n",
      "  warnings.warn(\n",
      "C:\\Users\\tfiro\\anaconda3\\envs\\comp30830software\\lib\\site-packages\\sklearn\\base.py:420: UserWarning: X does not have valid feature names, but KNeighborsRegressor was fitted with feature names\n",
      "  warnings.warn(\n"
     ]
    },
    {
     "name": "stdout",
     "output_type": "stream",
     "text": [
      "Station 66 R-squared: 0.8591368072788945\n",
      "Predicted number of available bikes for Station 66 at 2023-03-07 19:35:03: 14.00\n",
      "Station 67 R-squared: 0.9045642491565916\n",
      "Predicted number of available bikes for Station 67 at 2023-03-07 19:35:03: 21.00\n",
      "Station 68 R-squared: 0.8784476562761601\n",
      "Predicted number of available bikes for Station 68 at 2023-03-07 19:35:03: 33.00\n",
      "Station 69 R-squared: 0.8647176979500653\n",
      "Predicted number of available bikes for Station 69 at 2023-03-07 19:35:03: 30.00\n"
     ]
    },
    {
     "name": "stderr",
     "output_type": "stream",
     "text": [
      "C:\\Users\\tfiro\\anaconda3\\envs\\comp30830software\\lib\\site-packages\\sklearn\\base.py:420: UserWarning: X does not have valid feature names, but KNeighborsRegressor was fitted with feature names\n",
      "  warnings.warn(\n",
      "C:\\Users\\tfiro\\anaconda3\\envs\\comp30830software\\lib\\site-packages\\sklearn\\base.py:420: UserWarning: X does not have valid feature names, but KNeighborsRegressor was fitted with feature names\n",
      "  warnings.warn(\n",
      "C:\\Users\\tfiro\\anaconda3\\envs\\comp30830software\\lib\\site-packages\\sklearn\\base.py:420: UserWarning: X does not have valid feature names, but KNeighborsRegressor was fitted with feature names\n",
      "  warnings.warn(\n",
      "C:\\Users\\tfiro\\anaconda3\\envs\\comp30830software\\lib\\site-packages\\sklearn\\base.py:420: UserWarning: X does not have valid feature names, but KNeighborsRegressor was fitted with feature names\n",
      "  warnings.warn(\n"
     ]
    },
    {
     "name": "stdout",
     "output_type": "stream",
     "text": [
      "Station 71 R-squared: 0.9205023425410557\n",
      "Predicted number of available bikes for Station 71 at 2023-03-07 19:35:03: 3.00\n",
      "Station 72 R-squared: 0.8406189566062917\n",
      "Predicted number of available bikes for Station 72 at 2023-03-07 19:35:03: 2.50\n",
      "Station 73 R-squared: 0.9014993260402769\n",
      "Predicted number of available bikes for Station 73 at 2023-03-07 19:35:03: 0.00\n",
      "Station 74 R-squared: 0.9303579488714899\n",
      "Predicted number of available bikes for Station 74 at 2023-03-07 19:35:03: 3.50\n"
     ]
    },
    {
     "name": "stderr",
     "output_type": "stream",
     "text": [
      "C:\\Users\\tfiro\\anaconda3\\envs\\comp30830software\\lib\\site-packages\\sklearn\\base.py:420: UserWarning: X does not have valid feature names, but KNeighborsRegressor was fitted with feature names\n",
      "  warnings.warn(\n",
      "C:\\Users\\tfiro\\anaconda3\\envs\\comp30830software\\lib\\site-packages\\sklearn\\base.py:420: UserWarning: X does not have valid feature names, but KNeighborsRegressor was fitted with feature names\n",
      "  warnings.warn(\n",
      "C:\\Users\\tfiro\\anaconda3\\envs\\comp30830software\\lib\\site-packages\\sklearn\\base.py:420: UserWarning: X does not have valid feature names, but KNeighborsRegressor was fitted with feature names\n",
      "  warnings.warn(\n",
      "C:\\Users\\tfiro\\anaconda3\\envs\\comp30830software\\lib\\site-packages\\sklearn\\base.py:420: UserWarning: X does not have valid feature names, but KNeighborsRegressor was fitted with feature names\n",
      "  warnings.warn(\n"
     ]
    },
    {
     "name": "stdout",
     "output_type": "stream",
     "text": [
      "Station 75 R-squared: 0.9240003395069281\n",
      "Predicted number of available bikes for Station 75 at 2023-03-07 19:35:03: 9.00\n",
      "Station 76 R-squared: 0.8840704907500416\n",
      "Predicted number of available bikes for Station 76 at 2023-03-07 19:35:03: 17.00\n",
      "Station 77 R-squared: 0.926445240723667\n",
      "Predicted number of available bikes for Station 77 at 2023-03-07 19:35:03: 7.00\n",
      "Station 78 R-squared: 0.9300947715726441\n",
      "Predicted number of available bikes for Station 78 at 2023-03-07 19:35:03: 17.00\n"
     ]
    },
    {
     "name": "stderr",
     "output_type": "stream",
     "text": [
      "C:\\Users\\tfiro\\anaconda3\\envs\\comp30830software\\lib\\site-packages\\sklearn\\base.py:420: UserWarning: X does not have valid feature names, but KNeighborsRegressor was fitted with feature names\n",
      "  warnings.warn(\n",
      "C:\\Users\\tfiro\\anaconda3\\envs\\comp30830software\\lib\\site-packages\\sklearn\\base.py:420: UserWarning: X does not have valid feature names, but KNeighborsRegressor was fitted with feature names\n",
      "  warnings.warn(\n",
      "C:\\Users\\tfiro\\anaconda3\\envs\\comp30830software\\lib\\site-packages\\sklearn\\base.py:420: UserWarning: X does not have valid feature names, but KNeighborsRegressor was fitted with feature names\n",
      "  warnings.warn(\n",
      "C:\\Users\\tfiro\\anaconda3\\envs\\comp30830software\\lib\\site-packages\\sklearn\\base.py:420: UserWarning: X does not have valid feature names, but KNeighborsRegressor was fitted with feature names\n",
      "  warnings.warn(\n"
     ]
    },
    {
     "name": "stdout",
     "output_type": "stream",
     "text": [
      "Station 79 R-squared: 0.8991038502929635\n",
      "Predicted number of available bikes for Station 79 at 2023-03-07 19:35:03: 1.00\n",
      "Station 80 R-squared: 0.8539220828819732\n",
      "Predicted number of available bikes for Station 80 at 2023-03-07 19:35:03: 21.00\n",
      "Station 82 R-squared: 0.8949832252273097\n",
      "Predicted number of available bikes for Station 82 at 2023-03-07 19:35:03: 0.00\n",
      "Station 83 R-squared: 0.9333753240678989\n",
      "Predicted number of available bikes for Station 83 at 2023-03-07 19:35:03: 22.00\n"
     ]
    },
    {
     "name": "stderr",
     "output_type": "stream",
     "text": [
      "C:\\Users\\tfiro\\anaconda3\\envs\\comp30830software\\lib\\site-packages\\sklearn\\base.py:420: UserWarning: X does not have valid feature names, but KNeighborsRegressor was fitted with feature names\n",
      "  warnings.warn(\n",
      "C:\\Users\\tfiro\\anaconda3\\envs\\comp30830software\\lib\\site-packages\\sklearn\\base.py:420: UserWarning: X does not have valid feature names, but KNeighborsRegressor was fitted with feature names\n",
      "  warnings.warn(\n",
      "C:\\Users\\tfiro\\anaconda3\\envs\\comp30830software\\lib\\site-packages\\sklearn\\base.py:420: UserWarning: X does not have valid feature names, but KNeighborsRegressor was fitted with feature names\n",
      "  warnings.warn(\n",
      "C:\\Users\\tfiro\\anaconda3\\envs\\comp30830software\\lib\\site-packages\\sklearn\\base.py:420: UserWarning: X does not have valid feature names, but KNeighborsRegressor was fitted with feature names\n",
      "  warnings.warn(\n"
     ]
    },
    {
     "name": "stdout",
     "output_type": "stream",
     "text": [
      "Station 84 R-squared: 0.9023264316803384\n",
      "Predicted number of available bikes for Station 84 at 2023-03-07 19:35:03: 7.00\n",
      "Station 85 R-squared: 0.902341692478867\n",
      "Predicted number of available bikes for Station 85 at 2023-03-07 19:35:03: 10.00\n",
      "Station 86 R-squared: 0.8830717362479577\n",
      "Predicted number of available bikes for Station 86 at 2023-03-07 19:35:03: 3.00\n",
      "Station 87 R-squared: 0.9022813040883976\n",
      "Predicted number of available bikes for Station 87 at 2023-03-07 19:35:03: 14.00\n",
      "Station 88 R-squared: 0.9492030019227191\n",
      "Predicted number of available bikes for Station 88 at 2023-03-07 19:35:03: 6.00\n"
     ]
    },
    {
     "name": "stderr",
     "output_type": "stream",
     "text": [
      "C:\\Users\\tfiro\\anaconda3\\envs\\comp30830software\\lib\\site-packages\\sklearn\\base.py:420: UserWarning: X does not have valid feature names, but KNeighborsRegressor was fitted with feature names\n",
      "  warnings.warn(\n",
      "C:\\Users\\tfiro\\anaconda3\\envs\\comp30830software\\lib\\site-packages\\sklearn\\base.py:420: UserWarning: X does not have valid feature names, but KNeighborsRegressor was fitted with feature names\n",
      "  warnings.warn(\n",
      "C:\\Users\\tfiro\\anaconda3\\envs\\comp30830software\\lib\\site-packages\\sklearn\\base.py:420: UserWarning: X does not have valid feature names, but KNeighborsRegressor was fitted with feature names\n",
      "  warnings.warn(\n",
      "C:\\Users\\tfiro\\anaconda3\\envs\\comp30830software\\lib\\site-packages\\sklearn\\base.py:420: UserWarning: X does not have valid feature names, but KNeighborsRegressor was fitted with feature names\n",
      "  warnings.warn(\n",
      "C:\\Users\\tfiro\\anaconda3\\envs\\comp30830software\\lib\\site-packages\\sklearn\\base.py:420: UserWarning: X does not have valid feature names, but KNeighborsRegressor was fitted with feature names\n",
      "  warnings.warn(\n"
     ]
    },
    {
     "name": "stdout",
     "output_type": "stream",
     "text": [
      "Station 89 R-squared: 0.9086983526733209\n",
      "Predicted number of available bikes for Station 89 at 2023-03-07 19:35:03: 11.00\n",
      "Station 90 R-squared: 0.8992010591195941\n",
      "Predicted number of available bikes for Station 90 at 2023-03-07 19:35:03: 22.00\n",
      "Station 91 R-squared: 0.9022424101803816\n",
      "Predicted number of available bikes for Station 91 at 2023-03-07 19:35:03: 21.00\n",
      "Station 92 R-squared: 0.8903020033831125\n",
      "Predicted number of available bikes for Station 92 at 2023-03-07 19:35:03: 5.50\n"
     ]
    },
    {
     "name": "stderr",
     "output_type": "stream",
     "text": [
      "C:\\Users\\tfiro\\anaconda3\\envs\\comp30830software\\lib\\site-packages\\sklearn\\base.py:420: UserWarning: X does not have valid feature names, but KNeighborsRegressor was fitted with feature names\n",
      "  warnings.warn(\n",
      "C:\\Users\\tfiro\\anaconda3\\envs\\comp30830software\\lib\\site-packages\\sklearn\\base.py:420: UserWarning: X does not have valid feature names, but KNeighborsRegressor was fitted with feature names\n",
      "  warnings.warn(\n",
      "C:\\Users\\tfiro\\anaconda3\\envs\\comp30830software\\lib\\site-packages\\sklearn\\base.py:420: UserWarning: X does not have valid feature names, but KNeighborsRegressor was fitted with feature names\n",
      "  warnings.warn(\n",
      "C:\\Users\\tfiro\\anaconda3\\envs\\comp30830software\\lib\\site-packages\\sklearn\\base.py:420: UserWarning: X does not have valid feature names, but KNeighborsRegressor was fitted with feature names\n",
      "  warnings.warn(\n"
     ]
    },
    {
     "name": "stdout",
     "output_type": "stream",
     "text": [
      "Station 93 R-squared: 0.9141177642953613\n",
      "Predicted number of available bikes for Station 93 at 2023-03-07 19:35:03: 0.00\n",
      "Station 94 R-squared: 0.9430649925401549\n",
      "Predicted number of available bikes for Station 94 at 2023-03-07 19:35:03: 1.00\n",
      "Station 95 R-squared: 0.9359226943904426\n",
      "Predicted number of available bikes for Station 95 at 2023-03-07 19:35:03: 16.00\n",
      "Station 96 R-squared: 0.9328972907518907\n",
      "Predicted number of available bikes for Station 96 at 2023-03-07 19:35:03: 1.00\n"
     ]
    },
    {
     "name": "stderr",
     "output_type": "stream",
     "text": [
      "C:\\Users\\tfiro\\anaconda3\\envs\\comp30830software\\lib\\site-packages\\sklearn\\base.py:420: UserWarning: X does not have valid feature names, but KNeighborsRegressor was fitted with feature names\n",
      "  warnings.warn(\n",
      "C:\\Users\\tfiro\\anaconda3\\envs\\comp30830software\\lib\\site-packages\\sklearn\\base.py:420: UserWarning: X does not have valid feature names, but KNeighborsRegressor was fitted with feature names\n",
      "  warnings.warn(\n",
      "C:\\Users\\tfiro\\anaconda3\\envs\\comp30830software\\lib\\site-packages\\sklearn\\base.py:420: UserWarning: X does not have valid feature names, but KNeighborsRegressor was fitted with feature names\n",
      "  warnings.warn(\n",
      "C:\\Users\\tfiro\\anaconda3\\envs\\comp30830software\\lib\\site-packages\\sklearn\\base.py:420: UserWarning: X does not have valid feature names, but KNeighborsRegressor was fitted with feature names\n",
      "  warnings.warn(\n"
     ]
    },
    {
     "name": "stdout",
     "output_type": "stream",
     "text": [
      "Station 97 R-squared: 0.9085816951137663\n",
      "Predicted number of available bikes for Station 97 at 2023-03-07 19:35:03: 20.50\n",
      "Station 98 R-squared: 0.9516609253531335\n",
      "Predicted number of available bikes for Station 98 at 2023-03-07 19:35:03: 22.00\n",
      "Station 99 R-squared: 0.9185306387771945\n",
      "Predicted number of available bikes for Station 99 at 2023-03-07 19:35:03: 10.00\n",
      "Station 100 R-squared: 0.8894187439954957\n",
      "Predicted number of available bikes for Station 100 at 2023-03-07 19:35:03: 3.00\n"
     ]
    },
    {
     "name": "stderr",
     "output_type": "stream",
     "text": [
      "C:\\Users\\tfiro\\anaconda3\\envs\\comp30830software\\lib\\site-packages\\sklearn\\base.py:420: UserWarning: X does not have valid feature names, but KNeighborsRegressor was fitted with feature names\n",
      "  warnings.warn(\n",
      "C:\\Users\\tfiro\\anaconda3\\envs\\comp30830software\\lib\\site-packages\\sklearn\\base.py:420: UserWarning: X does not have valid feature names, but KNeighborsRegressor was fitted with feature names\n",
      "  warnings.warn(\n",
      "C:\\Users\\tfiro\\anaconda3\\envs\\comp30830software\\lib\\site-packages\\sklearn\\base.py:420: UserWarning: X does not have valid feature names, but KNeighborsRegressor was fitted with feature names\n",
      "  warnings.warn(\n",
      "C:\\Users\\tfiro\\anaconda3\\envs\\comp30830software\\lib\\site-packages\\sklearn\\base.py:420: UserWarning: X does not have valid feature names, but KNeighborsRegressor was fitted with feature names\n",
      "  warnings.warn(\n"
     ]
    },
    {
     "name": "stdout",
     "output_type": "stream",
     "text": [
      "Station 101 R-squared: 0.935575349138235\n",
      "Predicted number of available bikes for Station 101 at 2023-03-07 19:35:03: 9.00\n",
      "Station 102 R-squared: 0.8499850167862035\n",
      "Predicted number of available bikes for Station 102 at 2023-03-07 19:35:03: 13.50\n",
      "Station 103 R-squared: 0.9090337500370345\n",
      "Predicted number of available bikes for Station 103 at 2023-03-07 19:35:03: 12.00\n",
      "Station 104 R-squared: 0.9422954246450007\n",
      "Predicted number of available bikes for Station 104 at 2023-03-07 19:35:03: 18.00\n"
     ]
    },
    {
     "name": "stderr",
     "output_type": "stream",
     "text": [
      "C:\\Users\\tfiro\\anaconda3\\envs\\comp30830software\\lib\\site-packages\\sklearn\\base.py:420: UserWarning: X does not have valid feature names, but KNeighborsRegressor was fitted with feature names\n",
      "  warnings.warn(\n",
      "C:\\Users\\tfiro\\anaconda3\\envs\\comp30830software\\lib\\site-packages\\sklearn\\base.py:420: UserWarning: X does not have valid feature names, but KNeighborsRegressor was fitted with feature names\n",
      "  warnings.warn(\n",
      "C:\\Users\\tfiro\\anaconda3\\envs\\comp30830software\\lib\\site-packages\\sklearn\\base.py:420: UserWarning: X does not have valid feature names, but KNeighborsRegressor was fitted with feature names\n",
      "  warnings.warn(\n",
      "C:\\Users\\tfiro\\anaconda3\\envs\\comp30830software\\lib\\site-packages\\sklearn\\base.py:420: UserWarning: X does not have valid feature names, but KNeighborsRegressor was fitted with feature names\n",
      "  warnings.warn(\n"
     ]
    },
    {
     "name": "stdout",
     "output_type": "stream",
     "text": [
      "Station 105 R-squared: 0.947696105424495\n",
      "Predicted number of available bikes for Station 105 at 2023-03-07 19:35:03: 9.00\n",
      "Station 106 R-squared: 0.8724946509265089\n",
      "Predicted number of available bikes for Station 106 at 2023-03-07 19:35:03: 12.50\n",
      "Station 107 R-squared: 0.8884064384202406\n",
      "Predicted number of available bikes for Station 107 at 2023-03-07 19:35:03: 11.00\n",
      "Station 108 R-squared: 0.8303210916491722\n",
      "Predicted number of available bikes for Station 108 at 2023-03-07 19:35:03: 13.00\n"
     ]
    },
    {
     "name": "stderr",
     "output_type": "stream",
     "text": [
      "C:\\Users\\tfiro\\anaconda3\\envs\\comp30830software\\lib\\site-packages\\sklearn\\base.py:420: UserWarning: X does not have valid feature names, but KNeighborsRegressor was fitted with feature names\n",
      "  warnings.warn(\n",
      "C:\\Users\\tfiro\\anaconda3\\envs\\comp30830software\\lib\\site-packages\\sklearn\\base.py:420: UserWarning: X does not have valid feature names, but KNeighborsRegressor was fitted with feature names\n",
      "  warnings.warn(\n",
      "C:\\Users\\tfiro\\anaconda3\\envs\\comp30830software\\lib\\site-packages\\sklearn\\base.py:420: UserWarning: X does not have valid feature names, but KNeighborsRegressor was fitted with feature names\n",
      "  warnings.warn(\n",
      "C:\\Users\\tfiro\\anaconda3\\envs\\comp30830software\\lib\\site-packages\\sklearn\\base.py:420: UserWarning: X does not have valid feature names, but KNeighborsRegressor was fitted with feature names\n",
      "  warnings.warn(\n"
     ]
    },
    {
     "name": "stdout",
     "output_type": "stream",
     "text": [
      "Station 109 R-squared: 0.9231941843820378\n",
      "Predicted number of available bikes for Station 109 at 2023-03-07 19:35:03: 0.00\n",
      "Station 110 R-squared: 0.898995830527105\n",
      "Predicted number of available bikes for Station 110 at 2023-03-07 19:35:03: 10.00\n",
      "Station 111 R-squared: 0.9021027687884681\n",
      "Predicted number of available bikes for Station 111 at 2023-03-07 19:35:03: 0.50\n",
      "Station 112 R-squared: 0.8920916939668424\n",
      "Predicted number of available bikes for Station 112 at 2023-03-07 19:35:03: 3.00\n"
     ]
    },
    {
     "name": "stderr",
     "output_type": "stream",
     "text": [
      "C:\\Users\\tfiro\\anaconda3\\envs\\comp30830software\\lib\\site-packages\\sklearn\\base.py:420: UserWarning: X does not have valid feature names, but KNeighborsRegressor was fitted with feature names\n",
      "  warnings.warn(\n",
      "C:\\Users\\tfiro\\anaconda3\\envs\\comp30830software\\lib\\site-packages\\sklearn\\base.py:420: UserWarning: X does not have valid feature names, but KNeighborsRegressor was fitted with feature names\n",
      "  warnings.warn(\n",
      "C:\\Users\\tfiro\\anaconda3\\envs\\comp30830software\\lib\\site-packages\\sklearn\\base.py:420: UserWarning: X does not have valid feature names, but KNeighborsRegressor was fitted with feature names\n",
      "  warnings.warn(\n",
      "C:\\Users\\tfiro\\anaconda3\\envs\\comp30830software\\lib\\site-packages\\sklearn\\base.py:420: UserWarning: X does not have valid feature names, but KNeighborsRegressor was fitted with feature names\n",
      "  warnings.warn(\n"
     ]
    },
    {
     "name": "stdout",
     "output_type": "stream",
     "text": [
      "Station 113 R-squared: 0.9474445016710938\n",
      "Predicted number of available bikes for Station 113 at 2023-03-07 19:35:03: 19.00\n",
      "Station 114 R-squared: 0.8987539234860928\n",
      "Predicted number of available bikes for Station 114 at 2023-03-07 19:35:03: 30.50\n",
      "Station 115 R-squared: 0.9303282070154493\n",
      "Predicted number of available bikes for Station 115 at 2023-03-07 19:35:03: 2.00\n",
      "Station 116 R-squared: 0.8436211084556743\n",
      "Predicted number of available bikes for Station 116 at 2023-03-07 19:35:03: 0.00\n"
     ]
    },
    {
     "name": "stderr",
     "output_type": "stream",
     "text": [
      "C:\\Users\\tfiro\\anaconda3\\envs\\comp30830software\\lib\\site-packages\\sklearn\\base.py:420: UserWarning: X does not have valid feature names, but KNeighborsRegressor was fitted with feature names\n",
      "  warnings.warn(\n",
      "C:\\Users\\tfiro\\anaconda3\\envs\\comp30830software\\lib\\site-packages\\sklearn\\base.py:420: UserWarning: X does not have valid feature names, but KNeighborsRegressor was fitted with feature names\n",
      "  warnings.warn(\n",
      "C:\\Users\\tfiro\\anaconda3\\envs\\comp30830software\\lib\\site-packages\\sklearn\\base.py:420: UserWarning: X does not have valid feature names, but KNeighborsRegressor was fitted with feature names\n",
      "  warnings.warn(\n",
      "C:\\Users\\tfiro\\anaconda3\\envs\\comp30830software\\lib\\site-packages\\sklearn\\base.py:420: UserWarning: X does not have valid feature names, but KNeighborsRegressor was fitted with feature names\n",
      "  warnings.warn(\n"
     ]
    },
    {
     "name": "stdout",
     "output_type": "stream",
     "text": [
      "Station 117 R-squared: 0.926564718521873\n",
      "Predicted number of available bikes for Station 117 at 2023-03-07 19:35:03: 35.00\n",
      "Station 507 R-squared: 1.0\n",
      "Predicted number of available bikes for Station 507 at 2023-03-07 19:35:03: 1.00\n"
     ]
    },
    {
     "name": "stderr",
     "output_type": "stream",
     "text": [
      "C:\\Users\\tfiro\\anaconda3\\envs\\comp30830software\\lib\\site-packages\\sklearn\\base.py:420: UserWarning: X does not have valid feature names, but KNeighborsRegressor was fitted with feature names\n",
      "  warnings.warn(\n",
      "C:\\Users\\tfiro\\anaconda3\\envs\\comp30830software\\lib\\site-packages\\sklearn\\base.py:420: UserWarning: X does not have valid feature names, but KNeighborsRegressor was fitted with feature names\n",
      "  warnings.warn(\n"
     ]
    }
   ],
   "source": [
    "from sklearn.model_selection import train_test_split\n",
    "from sklearn.neighbors import KNeighborsRegressor\n",
    "import pandas as pd\n",
    "\n",
    "# Assuming station_dfs is a dictionary containing data for each station\n",
    "\n",
    "for station, station_df in station_dfs.items():\n",
    "    X = station_df[['hour', 'day','minute','month','temperature', 'wind_speed', 'wind_direction', 'weather_code','precipitation_sum','rain_sum','precipitation_probability']]\n",
    "    y = station_df['available_bikes']\n",
    "\n",
    "    X_train, X_test, y_train, y_test = train_test_split(X, y)\n",
    "    \n",
    "    model = KNeighborsRegressor(n_neighbors=2)\n",
    "\n",
    "    model.fit(X_train, y_train)\n",
    "    print(f\"Station {station} R-squared: {model.score(X_test, y_test)}\")\n",
    "    station_num = 1\n",
    "    time_str = '2023-03-07 19:35:03'\n",
    "    weather_code = 801\n",
    "    temperature = 10\n",
    "    wind_speed = 6\n",
    "    wind_direction = 240\n",
    "    precipitation_sum = 0\n",
    "    rain_sum = 1\n",
    "    precipitation_probability = 0\n",
    "    time = pd.to_datetime(time_str)\n",
    "    hour = time.hour\n",
    "    day=time.day\n",
    "    minute=time.minute\n",
    "    month=time.month\n",
    "    prediction_input = [[hour,day,minute,month, temperature, wind_speed, wind_direction, weather_code,precipitation_sum,rain_sum,precipitation_probability]]\n",
    "    prediction = model.predict(prediction_input)\n",
    "    \n",
    "    print(f\"Predicted number of available bikes for Station {station} at {time_str}: {prediction[0]:.2f}\")\n"
   ]
  },
  {
   "cell_type": "code",
   "execution_count": 39,
   "id": "43ff8532-896f-4183-977d-6596fd70b0e0",
   "metadata": {},
   "outputs": [
    {
     "name": "stdout",
     "output_type": "stream",
     "text": [
      "Station 1 R-squared: 0.9916663172624414\n",
      "Predicted number of available bikes for Station 1 at 2023-03-07 19:35:03: 5.78\n"
     ]
    },
    {
     "name": "stderr",
     "output_type": "stream",
     "text": [
      "C:\\Users\\tfiro\\anaconda3\\envs\\comp30830software\\lib\\site-packages\\sklearn\\base.py:420: UserWarning: X does not have valid feature names, but RandomForestRegressor was fitted with feature names\n",
      "  warnings.warn(\n"
     ]
    },
    {
     "name": "stdout",
     "output_type": "stream",
     "text": [
      "Station 2 R-squared: 0.9730395907373097\n",
      "Predicted number of available bikes for Station 2 at 2023-03-07 19:35:03: 7.19\n"
     ]
    },
    {
     "name": "stderr",
     "output_type": "stream",
     "text": [
      "C:\\Users\\tfiro\\anaconda3\\envs\\comp30830software\\lib\\site-packages\\sklearn\\base.py:420: UserWarning: X does not have valid feature names, but RandomForestRegressor was fitted with feature names\n",
      "  warnings.warn(\n"
     ]
    },
    {
     "name": "stdout",
     "output_type": "stream",
     "text": [
      "Station 3 R-squared: 0.9842140977704964\n",
      "Predicted number of available bikes for Station 3 at 2023-03-07 19:35:03: 2.47\n"
     ]
    },
    {
     "name": "stderr",
     "output_type": "stream",
     "text": [
      "C:\\Users\\tfiro\\anaconda3\\envs\\comp30830software\\lib\\site-packages\\sklearn\\base.py:420: UserWarning: X does not have valid feature names, but RandomForestRegressor was fitted with feature names\n",
      "  warnings.warn(\n"
     ]
    },
    {
     "name": "stdout",
     "output_type": "stream",
     "text": [
      "Station 4 R-squared: 0.9888922996310403\n",
      "Predicted number of available bikes for Station 4 at 2023-03-07 19:35:03: 9.98\n"
     ]
    },
    {
     "name": "stderr",
     "output_type": "stream",
     "text": [
      "C:\\Users\\tfiro\\anaconda3\\envs\\comp30830software\\lib\\site-packages\\sklearn\\base.py:420: UserWarning: X does not have valid feature names, but RandomForestRegressor was fitted with feature names\n",
      "  warnings.warn(\n"
     ]
    },
    {
     "name": "stdout",
     "output_type": "stream",
     "text": [
      "Station 5 R-squared: 0.9875522576295358\n",
      "Predicted number of available bikes for Station 5 at 2023-03-07 19:35:03: 33.90\n"
     ]
    },
    {
     "name": "stderr",
     "output_type": "stream",
     "text": [
      "C:\\Users\\tfiro\\anaconda3\\envs\\comp30830software\\lib\\site-packages\\sklearn\\base.py:420: UserWarning: X does not have valid feature names, but RandomForestRegressor was fitted with feature names\n",
      "  warnings.warn(\n"
     ]
    },
    {
     "name": "stdout",
     "output_type": "stream",
     "text": [
      "Station 6 R-squared: 0.9921299374137473\n",
      "Predicted number of available bikes for Station 6 at 2023-03-07 19:35:03: 3.54\n"
     ]
    },
    {
     "name": "stderr",
     "output_type": "stream",
     "text": [
      "C:\\Users\\tfiro\\anaconda3\\envs\\comp30830software\\lib\\site-packages\\sklearn\\base.py:420: UserWarning: X does not have valid feature names, but RandomForestRegressor was fitted with feature names\n",
      "  warnings.warn(\n"
     ]
    },
    {
     "name": "stdout",
     "output_type": "stream",
     "text": [
      "Station 7 R-squared: 0.9897584480943102\n",
      "Predicted number of available bikes for Station 7 at 2023-03-07 19:35:03: 12.71\n"
     ]
    },
    {
     "name": "stderr",
     "output_type": "stream",
     "text": [
      "C:\\Users\\tfiro\\anaconda3\\envs\\comp30830software\\lib\\site-packages\\sklearn\\base.py:420: UserWarning: X does not have valid feature names, but RandomForestRegressor was fitted with feature names\n",
      "  warnings.warn(\n"
     ]
    },
    {
     "name": "stdout",
     "output_type": "stream",
     "text": [
      "Station 8 R-squared: 0.9791224425097157\n",
      "Predicted number of available bikes for Station 8 at 2023-03-07 19:35:03: 12.35\n"
     ]
    },
    {
     "name": "stderr",
     "output_type": "stream",
     "text": [
      "C:\\Users\\tfiro\\anaconda3\\envs\\comp30830software\\lib\\site-packages\\sklearn\\base.py:420: UserWarning: X does not have valid feature names, but RandomForestRegressor was fitted with feature names\n",
      "  warnings.warn(\n"
     ]
    },
    {
     "name": "stdout",
     "output_type": "stream",
     "text": [
      "Station 9 R-squared: 0.9727769274372291\n",
      "Predicted number of available bikes for Station 9 at 2023-03-07 19:35:03: 14.75\n"
     ]
    },
    {
     "name": "stderr",
     "output_type": "stream",
     "text": [
      "C:\\Users\\tfiro\\anaconda3\\envs\\comp30830software\\lib\\site-packages\\sklearn\\base.py:420: UserWarning: X does not have valid feature names, but RandomForestRegressor was fitted with feature names\n",
      "  warnings.warn(\n"
     ]
    },
    {
     "name": "stdout",
     "output_type": "stream",
     "text": [
      "Station 10 R-squared: 0.9704931776000185\n",
      "Predicted number of available bikes for Station 10 at 2023-03-07 19:35:03: 12.13\n"
     ]
    },
    {
     "name": "stderr",
     "output_type": "stream",
     "text": [
      "C:\\Users\\tfiro\\anaconda3\\envs\\comp30830software\\lib\\site-packages\\sklearn\\base.py:420: UserWarning: X does not have valid feature names, but RandomForestRegressor was fitted with feature names\n",
      "  warnings.warn(\n"
     ]
    },
    {
     "name": "stdout",
     "output_type": "stream",
     "text": [
      "Station 11 R-squared: 0.9963575662302429\n",
      "Predicted number of available bikes for Station 11 at 2023-03-07 19:35:03: 2.78\n"
     ]
    },
    {
     "name": "stderr",
     "output_type": "stream",
     "text": [
      "C:\\Users\\tfiro\\anaconda3\\envs\\comp30830software\\lib\\site-packages\\sklearn\\base.py:420: UserWarning: X does not have valid feature names, but RandomForestRegressor was fitted with feature names\n",
      "  warnings.warn(\n"
     ]
    },
    {
     "name": "stdout",
     "output_type": "stream",
     "text": [
      "Station 12 R-squared: 0.9830193462933133\n",
      "Predicted number of available bikes for Station 12 at 2023-03-07 19:35:03: 5.26\n"
     ]
    },
    {
     "name": "stderr",
     "output_type": "stream",
     "text": [
      "C:\\Users\\tfiro\\anaconda3\\envs\\comp30830software\\lib\\site-packages\\sklearn\\base.py:420: UserWarning: X does not have valid feature names, but RandomForestRegressor was fitted with feature names\n",
      "  warnings.warn(\n"
     ]
    },
    {
     "name": "stdout",
     "output_type": "stream",
     "text": [
      "Station 13 R-squared: 0.9955633700040637\n",
      "Predicted number of available bikes for Station 13 at 2023-03-07 19:35:03: 4.31\n"
     ]
    },
    {
     "name": "stderr",
     "output_type": "stream",
     "text": [
      "C:\\Users\\tfiro\\anaconda3\\envs\\comp30830software\\lib\\site-packages\\sklearn\\base.py:420: UserWarning: X does not have valid feature names, but RandomForestRegressor was fitted with feature names\n",
      "  warnings.warn(\n"
     ]
    },
    {
     "name": "stdout",
     "output_type": "stream",
     "text": [
      "Station 14 R-squared: 0.9721201302604422\n",
      "Predicted number of available bikes for Station 14 at 2023-03-07 19:35:03: 23.98\n"
     ]
    },
    {
     "name": "stderr",
     "output_type": "stream",
     "text": [
      "C:\\Users\\tfiro\\anaconda3\\envs\\comp30830software\\lib\\site-packages\\sklearn\\base.py:420: UserWarning: X does not have valid feature names, but RandomForestRegressor was fitted with feature names\n",
      "  warnings.warn(\n"
     ]
    },
    {
     "name": "stdout",
     "output_type": "stream",
     "text": [
      "Station 15 R-squared: 0.9560103173263395\n",
      "Predicted number of available bikes for Station 15 at 2023-03-07 19:35:03: 2.38\n"
     ]
    },
    {
     "name": "stderr",
     "output_type": "stream",
     "text": [
      "C:\\Users\\tfiro\\anaconda3\\envs\\comp30830software\\lib\\site-packages\\sklearn\\base.py:420: UserWarning: X does not have valid feature names, but RandomForestRegressor was fitted with feature names\n",
      "  warnings.warn(\n"
     ]
    },
    {
     "name": "stdout",
     "output_type": "stream",
     "text": [
      "Station 16 R-squared: 0.9794795857984562\n",
      "Predicted number of available bikes for Station 16 at 2023-03-07 19:35:03: 8.19\n"
     ]
    },
    {
     "name": "stderr",
     "output_type": "stream",
     "text": [
      "C:\\Users\\tfiro\\anaconda3\\envs\\comp30830software\\lib\\site-packages\\sklearn\\base.py:420: UserWarning: X does not have valid feature names, but RandomForestRegressor was fitted with feature names\n",
      "  warnings.warn(\n"
     ]
    },
    {
     "name": "stdout",
     "output_type": "stream",
     "text": [
      "Station 17 R-squared: 0.9900933191314616\n",
      "Predicted number of available bikes for Station 17 at 2023-03-07 19:35:03: 1.76\n"
     ]
    },
    {
     "name": "stderr",
     "output_type": "stream",
     "text": [
      "C:\\Users\\tfiro\\anaconda3\\envs\\comp30830software\\lib\\site-packages\\sklearn\\base.py:420: UserWarning: X does not have valid feature names, but RandomForestRegressor was fitted with feature names\n",
      "  warnings.warn(\n"
     ]
    },
    {
     "name": "stdout",
     "output_type": "stream",
     "text": [
      "Station 18 R-squared: 0.9863853352354163\n",
      "Predicted number of available bikes for Station 18 at 2023-03-07 19:35:03: 4.66\n"
     ]
    },
    {
     "name": "stderr",
     "output_type": "stream",
     "text": [
      "C:\\Users\\tfiro\\anaconda3\\envs\\comp30830software\\lib\\site-packages\\sklearn\\base.py:420: UserWarning: X does not have valid feature names, but RandomForestRegressor was fitted with feature names\n",
      "  warnings.warn(\n"
     ]
    },
    {
     "name": "stdout",
     "output_type": "stream",
     "text": [
      "Station 19 R-squared: 0.9901397338210673\n",
      "Predicted number of available bikes for Station 19 at 2023-03-07 19:35:03: 14.83\n"
     ]
    },
    {
     "name": "stderr",
     "output_type": "stream",
     "text": [
      "C:\\Users\\tfiro\\anaconda3\\envs\\comp30830software\\lib\\site-packages\\sklearn\\base.py:420: UserWarning: X does not have valid feature names, but RandomForestRegressor was fitted with feature names\n",
      "  warnings.warn(\n"
     ]
    },
    {
     "name": "stdout",
     "output_type": "stream",
     "text": [
      "Station 20 R-squared: 0.9949997495803523\n",
      "Predicted number of available bikes for Station 20 at 2023-03-07 19:35:03: 3.37\n"
     ]
    },
    {
     "name": "stderr",
     "output_type": "stream",
     "text": [
      "C:\\Users\\tfiro\\anaconda3\\envs\\comp30830software\\lib\\site-packages\\sklearn\\base.py:420: UserWarning: X does not have valid feature names, but RandomForestRegressor was fitted with feature names\n",
      "  warnings.warn(\n"
     ]
    },
    {
     "name": "stdout",
     "output_type": "stream",
     "text": [
      "Station 21 R-squared: 0.9886258189814257\n",
      "Predicted number of available bikes for Station 21 at 2023-03-07 19:35:03: 7.82\n"
     ]
    },
    {
     "name": "stderr",
     "output_type": "stream",
     "text": [
      "C:\\Users\\tfiro\\anaconda3\\envs\\comp30830software\\lib\\site-packages\\sklearn\\base.py:420: UserWarning: X does not have valid feature names, but RandomForestRegressor was fitted with feature names\n",
      "  warnings.warn(\n"
     ]
    },
    {
     "name": "stdout",
     "output_type": "stream",
     "text": [
      "Station 22 R-squared: 0.9839881519396586\n",
      "Predicted number of available bikes for Station 22 at 2023-03-07 19:35:03: 9.77\n"
     ]
    },
    {
     "name": "stderr",
     "output_type": "stream",
     "text": [
      "C:\\Users\\tfiro\\anaconda3\\envs\\comp30830software\\lib\\site-packages\\sklearn\\base.py:420: UserWarning: X does not have valid feature names, but RandomForestRegressor was fitted with feature names\n",
      "  warnings.warn(\n"
     ]
    },
    {
     "name": "stdout",
     "output_type": "stream",
     "text": [
      "Station 23 R-squared: 0.9789152044143624\n",
      "Predicted number of available bikes for Station 23 at 2023-03-07 19:35:03: 11.62\n"
     ]
    },
    {
     "name": "stderr",
     "output_type": "stream",
     "text": [
      "C:\\Users\\tfiro\\anaconda3\\envs\\comp30830software\\lib\\site-packages\\sklearn\\base.py:420: UserWarning: X does not have valid feature names, but RandomForestRegressor was fitted with feature names\n",
      "  warnings.warn(\n"
     ]
    },
    {
     "name": "stdout",
     "output_type": "stream",
     "text": [
      "Station 24 R-squared: 0.966941412106619\n",
      "Predicted number of available bikes for Station 24 at 2023-03-07 19:35:03: 11.23\n"
     ]
    },
    {
     "name": "stderr",
     "output_type": "stream",
     "text": [
      "C:\\Users\\tfiro\\anaconda3\\envs\\comp30830software\\lib\\site-packages\\sklearn\\base.py:420: UserWarning: X does not have valid feature names, but RandomForestRegressor was fitted with feature names\n",
      "  warnings.warn(\n"
     ]
    },
    {
     "name": "stdout",
     "output_type": "stream",
     "text": [
      "Station 25 R-squared: 0.9956125369501954\n",
      "Predicted number of available bikes for Station 25 at 2023-03-07 19:35:03: 12.74\n"
     ]
    },
    {
     "name": "stderr",
     "output_type": "stream",
     "text": [
      "C:\\Users\\tfiro\\anaconda3\\envs\\comp30830software\\lib\\site-packages\\sklearn\\base.py:420: UserWarning: X does not have valid feature names, but RandomForestRegressor was fitted with feature names\n",
      "  warnings.warn(\n"
     ]
    },
    {
     "name": "stdout",
     "output_type": "stream",
     "text": [
      "Station 26 R-squared: 0.9828618315306918\n",
      "Predicted number of available bikes for Station 26 at 2023-03-07 19:35:03: 5.88\n"
     ]
    },
    {
     "name": "stderr",
     "output_type": "stream",
     "text": [
      "C:\\Users\\tfiro\\anaconda3\\envs\\comp30830software\\lib\\site-packages\\sklearn\\base.py:420: UserWarning: X does not have valid feature names, but RandomForestRegressor was fitted with feature names\n",
      "  warnings.warn(\n"
     ]
    },
    {
     "name": "stdout",
     "output_type": "stream",
     "text": [
      "Station 27 R-squared: 0.9870740235107679\n",
      "Predicted number of available bikes for Station 27 at 2023-03-07 19:35:03: 6.60\n"
     ]
    },
    {
     "name": "stderr",
     "output_type": "stream",
     "text": [
      "C:\\Users\\tfiro\\anaconda3\\envs\\comp30830software\\lib\\site-packages\\sklearn\\base.py:420: UserWarning: X does not have valid feature names, but RandomForestRegressor was fitted with feature names\n",
      "  warnings.warn(\n"
     ]
    },
    {
     "name": "stdout",
     "output_type": "stream",
     "text": [
      "Station 28 R-squared: 0.9488934944815066\n",
      "Predicted number of available bikes for Station 28 at 2023-03-07 19:35:03: 14.47\n"
     ]
    },
    {
     "name": "stderr",
     "output_type": "stream",
     "text": [
      "C:\\Users\\tfiro\\anaconda3\\envs\\comp30830software\\lib\\site-packages\\sklearn\\base.py:420: UserWarning: X does not have valid feature names, but RandomForestRegressor was fitted with feature names\n",
      "  warnings.warn(\n"
     ]
    },
    {
     "name": "stdout",
     "output_type": "stream",
     "text": [
      "Station 29 R-squared: 0.9802359813172761\n",
      "Predicted number of available bikes for Station 29 at 2023-03-07 19:35:03: 5.32\n"
     ]
    },
    {
     "name": "stderr",
     "output_type": "stream",
     "text": [
      "C:\\Users\\tfiro\\anaconda3\\envs\\comp30830software\\lib\\site-packages\\sklearn\\base.py:420: UserWarning: X does not have valid feature names, but RandomForestRegressor was fitted with feature names\n",
      "  warnings.warn(\n"
     ]
    },
    {
     "name": "stdout",
     "output_type": "stream",
     "text": [
      "Station 30 R-squared: 0.9880645738311109\n",
      "Predicted number of available bikes for Station 30 at 2023-03-07 19:35:03: 3.05\n"
     ]
    },
    {
     "name": "stderr",
     "output_type": "stream",
     "text": [
      "C:\\Users\\tfiro\\anaconda3\\envs\\comp30830software\\lib\\site-packages\\sklearn\\base.py:420: UserWarning: X does not have valid feature names, but RandomForestRegressor was fitted with feature names\n",
      "  warnings.warn(\n"
     ]
    },
    {
     "name": "stdout",
     "output_type": "stream",
     "text": [
      "Station 31 R-squared: 0.9761083672142562\n",
      "Predicted number of available bikes for Station 31 at 2023-03-07 19:35:03: 7.90\n"
     ]
    },
    {
     "name": "stderr",
     "output_type": "stream",
     "text": [
      "C:\\Users\\tfiro\\anaconda3\\envs\\comp30830software\\lib\\site-packages\\sklearn\\base.py:420: UserWarning: X does not have valid feature names, but RandomForestRegressor was fitted with feature names\n",
      "  warnings.warn(\n"
     ]
    },
    {
     "name": "stdout",
     "output_type": "stream",
     "text": [
      "Station 32 R-squared: 0.9775194864921026\n",
      "Predicted number of available bikes for Station 32 at 2023-03-07 19:35:03: 7.83\n"
     ]
    },
    {
     "name": "stderr",
     "output_type": "stream",
     "text": [
      "C:\\Users\\tfiro\\anaconda3\\envs\\comp30830software\\lib\\site-packages\\sklearn\\base.py:420: UserWarning: X does not have valid feature names, but RandomForestRegressor was fitted with feature names\n",
      "  warnings.warn(\n"
     ]
    },
    {
     "name": "stdout",
     "output_type": "stream",
     "text": [
      "Station 33 R-squared: 0.931929546158109\n",
      "Predicted number of available bikes for Station 33 at 2023-03-07 19:35:03: 16.03\n"
     ]
    },
    {
     "name": "stderr",
     "output_type": "stream",
     "text": [
      "C:\\Users\\tfiro\\anaconda3\\envs\\comp30830software\\lib\\site-packages\\sklearn\\base.py:420: UserWarning: X does not have valid feature names, but RandomForestRegressor was fitted with feature names\n",
      "  warnings.warn(\n"
     ]
    },
    {
     "name": "stdout",
     "output_type": "stream",
     "text": [
      "Station 34 R-squared: 0.9800768638160311\n",
      "Predicted number of available bikes for Station 34 at 2023-03-07 19:35:03: 5.65\n"
     ]
    },
    {
     "name": "stderr",
     "output_type": "stream",
     "text": [
      "C:\\Users\\tfiro\\anaconda3\\envs\\comp30830software\\lib\\site-packages\\sklearn\\base.py:420: UserWarning: X does not have valid feature names, but RandomForestRegressor was fitted with feature names\n",
      "  warnings.warn(\n"
     ]
    },
    {
     "name": "stdout",
     "output_type": "stream",
     "text": [
      "Station 35 R-squared: 0.9905474297468493\n",
      "Predicted number of available bikes for Station 35 at 2023-03-07 19:35:03: 2.00\n"
     ]
    },
    {
     "name": "stderr",
     "output_type": "stream",
     "text": [
      "C:\\Users\\tfiro\\anaconda3\\envs\\comp30830software\\lib\\site-packages\\sklearn\\base.py:420: UserWarning: X does not have valid feature names, but RandomForestRegressor was fitted with feature names\n",
      "  warnings.warn(\n"
     ]
    },
    {
     "name": "stdout",
     "output_type": "stream",
     "text": [
      "Station 36 R-squared: 0.9900331212997221\n",
      "Predicted number of available bikes for Station 36 at 2023-03-07 19:35:03: 9.45\n"
     ]
    },
    {
     "name": "stderr",
     "output_type": "stream",
     "text": [
      "C:\\Users\\tfiro\\anaconda3\\envs\\comp30830software\\lib\\site-packages\\sklearn\\base.py:420: UserWarning: X does not have valid feature names, but RandomForestRegressor was fitted with feature names\n",
      "  warnings.warn(\n"
     ]
    },
    {
     "name": "stdout",
     "output_type": "stream",
     "text": [
      "Station 37 R-squared: 0.9933192665902734\n",
      "Predicted number of available bikes for Station 37 at 2023-03-07 19:35:03: 4.33\n"
     ]
    },
    {
     "name": "stderr",
     "output_type": "stream",
     "text": [
      "C:\\Users\\tfiro\\anaconda3\\envs\\comp30830software\\lib\\site-packages\\sklearn\\base.py:420: UserWarning: X does not have valid feature names, but RandomForestRegressor was fitted with feature names\n",
      "  warnings.warn(\n"
     ]
    },
    {
     "name": "stdout",
     "output_type": "stream",
     "text": [
      "Station 38 R-squared: 0.9910565777154932\n",
      "Predicted number of available bikes for Station 38 at 2023-03-07 19:35:03: 14.51\n"
     ]
    },
    {
     "name": "stderr",
     "output_type": "stream",
     "text": [
      "C:\\Users\\tfiro\\anaconda3\\envs\\comp30830software\\lib\\site-packages\\sklearn\\base.py:420: UserWarning: X does not have valid feature names, but RandomForestRegressor was fitted with feature names\n",
      "  warnings.warn(\n"
     ]
    },
    {
     "name": "stdout",
     "output_type": "stream",
     "text": [
      "Station 39 R-squared: 0.9811954517363235\n",
      "Predicted number of available bikes for Station 39 at 2023-03-07 19:35:03: 5.94\n"
     ]
    },
    {
     "name": "stderr",
     "output_type": "stream",
     "text": [
      "C:\\Users\\tfiro\\anaconda3\\envs\\comp30830software\\lib\\site-packages\\sklearn\\base.py:420: UserWarning: X does not have valid feature names, but RandomForestRegressor was fitted with feature names\n",
      "  warnings.warn(\n"
     ]
    },
    {
     "name": "stdout",
     "output_type": "stream",
     "text": [
      "Station 40 R-squared: 0.977442805231226\n",
      "Predicted number of available bikes for Station 40 at 2023-03-07 19:35:03: 10.78\n"
     ]
    },
    {
     "name": "stderr",
     "output_type": "stream",
     "text": [
      "C:\\Users\\tfiro\\anaconda3\\envs\\comp30830software\\lib\\site-packages\\sklearn\\base.py:420: UserWarning: X does not have valid feature names, but RandomForestRegressor was fitted with feature names\n",
      "  warnings.warn(\n"
     ]
    },
    {
     "name": "stdout",
     "output_type": "stream",
     "text": [
      "Station 41 R-squared: 0.9929701589566144\n",
      "Predicted number of available bikes for Station 41 at 2023-03-07 19:35:03: 9.53\n"
     ]
    },
    {
     "name": "stderr",
     "output_type": "stream",
     "text": [
      "C:\\Users\\tfiro\\anaconda3\\envs\\comp30830software\\lib\\site-packages\\sklearn\\base.py:420: UserWarning: X does not have valid feature names, but RandomForestRegressor was fitted with feature names\n",
      "  warnings.warn(\n"
     ]
    },
    {
     "name": "stdout",
     "output_type": "stream",
     "text": [
      "Station 42 R-squared: 0.9938361033246057\n",
      "Predicted number of available bikes for Station 42 at 2023-03-07 19:35:03: 23.96\n"
     ]
    },
    {
     "name": "stderr",
     "output_type": "stream",
     "text": [
      "C:\\Users\\tfiro\\anaconda3\\envs\\comp30830software\\lib\\site-packages\\sklearn\\base.py:420: UserWarning: X does not have valid feature names, but RandomForestRegressor was fitted with feature names\n",
      "  warnings.warn(\n"
     ]
    },
    {
     "name": "stdout",
     "output_type": "stream",
     "text": [
      "Station 43 R-squared: 0.9885428621853769\n",
      "Predicted number of available bikes for Station 43 at 2023-03-07 19:35:03: 17.41\n"
     ]
    },
    {
     "name": "stderr",
     "output_type": "stream",
     "text": [
      "C:\\Users\\tfiro\\anaconda3\\envs\\comp30830software\\lib\\site-packages\\sklearn\\base.py:420: UserWarning: X does not have valid feature names, but RandomForestRegressor was fitted with feature names\n",
      "  warnings.warn(\n"
     ]
    },
    {
     "name": "stdout",
     "output_type": "stream",
     "text": [
      "Station 44 R-squared: 0.9877544551022178\n",
      "Predicted number of available bikes for Station 44 at 2023-03-07 19:35:03: 16.13\n"
     ]
    },
    {
     "name": "stderr",
     "output_type": "stream",
     "text": [
      "C:\\Users\\tfiro\\anaconda3\\envs\\comp30830software\\lib\\site-packages\\sklearn\\base.py:420: UserWarning: X does not have valid feature names, but RandomForestRegressor was fitted with feature names\n",
      "  warnings.warn(\n"
     ]
    },
    {
     "name": "stdout",
     "output_type": "stream",
     "text": [
      "Station 45 R-squared: 0.9953559785536732\n",
      "Predicted number of available bikes for Station 45 at 2023-03-07 19:35:03: 9.15\n"
     ]
    },
    {
     "name": "stderr",
     "output_type": "stream",
     "text": [
      "C:\\Users\\tfiro\\anaconda3\\envs\\comp30830software\\lib\\site-packages\\sklearn\\base.py:420: UserWarning: X does not have valid feature names, but RandomForestRegressor was fitted with feature names\n",
      "  warnings.warn(\n"
     ]
    },
    {
     "name": "stdout",
     "output_type": "stream",
     "text": [
      "Station 47 R-squared: 0.9953905303884196\n",
      "Predicted number of available bikes for Station 47 at 2023-03-07 19:35:03: 7.95\n"
     ]
    },
    {
     "name": "stderr",
     "output_type": "stream",
     "text": [
      "C:\\Users\\tfiro\\anaconda3\\envs\\comp30830software\\lib\\site-packages\\sklearn\\base.py:420: UserWarning: X does not have valid feature names, but RandomForestRegressor was fitted with feature names\n",
      "  warnings.warn(\n"
     ]
    },
    {
     "name": "stdout",
     "output_type": "stream",
     "text": [
      "Station 48 R-squared: 0.9921252490855698\n",
      "Predicted number of available bikes for Station 48 at 2023-03-07 19:35:03: 12.35\n"
     ]
    },
    {
     "name": "stderr",
     "output_type": "stream",
     "text": [
      "C:\\Users\\tfiro\\anaconda3\\envs\\comp30830software\\lib\\site-packages\\sklearn\\base.py:420: UserWarning: X does not have valid feature names, but RandomForestRegressor was fitted with feature names\n",
      "  warnings.warn(\n"
     ]
    },
    {
     "name": "stdout",
     "output_type": "stream",
     "text": [
      "Station 49 R-squared: 0.9915252694941844\n",
      "Predicted number of available bikes for Station 49 at 2023-03-07 19:35:03: 19.22\n"
     ]
    },
    {
     "name": "stderr",
     "output_type": "stream",
     "text": [
      "C:\\Users\\tfiro\\anaconda3\\envs\\comp30830software\\lib\\site-packages\\sklearn\\base.py:420: UserWarning: X does not have valid feature names, but RandomForestRegressor was fitted with feature names\n",
      "  warnings.warn(\n"
     ]
    },
    {
     "name": "stdout",
     "output_type": "stream",
     "text": [
      "Station 50 R-squared: 0.9954135031385599\n",
      "Predicted number of available bikes for Station 50 at 2023-03-07 19:35:03: 1.77\n"
     ]
    },
    {
     "name": "stderr",
     "output_type": "stream",
     "text": [
      "C:\\Users\\tfiro\\anaconda3\\envs\\comp30830software\\lib\\site-packages\\sklearn\\base.py:420: UserWarning: X does not have valid feature names, but RandomForestRegressor was fitted with feature names\n",
      "  warnings.warn(\n"
     ]
    },
    {
     "name": "stdout",
     "output_type": "stream",
     "text": [
      "Station 51 R-squared: 0.992710360086117\n",
      "Predicted number of available bikes for Station 51 at 2023-03-07 19:35:03: 8.70\n"
     ]
    },
    {
     "name": "stderr",
     "output_type": "stream",
     "text": [
      "C:\\Users\\tfiro\\anaconda3\\envs\\comp30830software\\lib\\site-packages\\sklearn\\base.py:420: UserWarning: X does not have valid feature names, but RandomForestRegressor was fitted with feature names\n",
      "  warnings.warn(\n"
     ]
    },
    {
     "name": "stdout",
     "output_type": "stream",
     "text": [
      "Station 52 R-squared: 0.9927019127158444\n",
      "Predicted number of available bikes for Station 52 at 2023-03-07 19:35:03: 13.21\n"
     ]
    },
    {
     "name": "stderr",
     "output_type": "stream",
     "text": [
      "C:\\Users\\tfiro\\anaconda3\\envs\\comp30830software\\lib\\site-packages\\sklearn\\base.py:420: UserWarning: X does not have valid feature names, but RandomForestRegressor was fitted with feature names\n",
      "  warnings.warn(\n"
     ]
    },
    {
     "name": "stdout",
     "output_type": "stream",
     "text": [
      "Station 53 R-squared: 0.9919379085258585\n",
      "Predicted number of available bikes for Station 53 at 2023-03-07 19:35:03: 1.10\n"
     ]
    },
    {
     "name": "stderr",
     "output_type": "stream",
     "text": [
      "C:\\Users\\tfiro\\anaconda3\\envs\\comp30830software\\lib\\site-packages\\sklearn\\base.py:420: UserWarning: X does not have valid feature names, but RandomForestRegressor was fitted with feature names\n",
      "  warnings.warn(\n"
     ]
    },
    {
     "name": "stdout",
     "output_type": "stream",
     "text": [
      "Station 54 R-squared: 0.9925359114142729\n",
      "Predicted number of available bikes for Station 54 at 2023-03-07 19:35:03: 8.92\n"
     ]
    },
    {
     "name": "stderr",
     "output_type": "stream",
     "text": [
      "C:\\Users\\tfiro\\anaconda3\\envs\\comp30830software\\lib\\site-packages\\sklearn\\base.py:420: UserWarning: X does not have valid feature names, but RandomForestRegressor was fitted with feature names\n",
      "  warnings.warn(\n"
     ]
    },
    {
     "name": "stdout",
     "output_type": "stream",
     "text": [
      "Station 55 R-squared: 0.9928871358000981\n",
      "Predicted number of available bikes for Station 55 at 2023-03-07 19:35:03: 1.32\n"
     ]
    },
    {
     "name": "stderr",
     "output_type": "stream",
     "text": [
      "C:\\Users\\tfiro\\anaconda3\\envs\\comp30830software\\lib\\site-packages\\sklearn\\base.py:420: UserWarning: X does not have valid feature names, but RandomForestRegressor was fitted with feature names\n",
      "  warnings.warn(\n"
     ]
    },
    {
     "name": "stdout",
     "output_type": "stream",
     "text": [
      "Station 56 R-squared: 0.9884119831432582\n",
      "Predicted number of available bikes for Station 56 at 2023-03-07 19:35:03: 8.81\n"
     ]
    },
    {
     "name": "stderr",
     "output_type": "stream",
     "text": [
      "C:\\Users\\tfiro\\anaconda3\\envs\\comp30830software\\lib\\site-packages\\sklearn\\base.py:420: UserWarning: X does not have valid feature names, but RandomForestRegressor was fitted with feature names\n",
      "  warnings.warn(\n"
     ]
    },
    {
     "name": "stdout",
     "output_type": "stream",
     "text": [
      "Station 57 R-squared: 0.9823019258035354\n",
      "Predicted number of available bikes for Station 57 at 2023-03-07 19:35:03: 2.10\n"
     ]
    },
    {
     "name": "stderr",
     "output_type": "stream",
     "text": [
      "C:\\Users\\tfiro\\anaconda3\\envs\\comp30830software\\lib\\site-packages\\sklearn\\base.py:420: UserWarning: X does not have valid feature names, but RandomForestRegressor was fitted with feature names\n",
      "  warnings.warn(\n"
     ]
    },
    {
     "name": "stdout",
     "output_type": "stream",
     "text": [
      "Station 58 R-squared: 0.9851126796044215\n",
      "Predicted number of available bikes for Station 58 at 2023-03-07 19:35:03: 29.53\n"
     ]
    },
    {
     "name": "stderr",
     "output_type": "stream",
     "text": [
      "C:\\Users\\tfiro\\anaconda3\\envs\\comp30830software\\lib\\site-packages\\sklearn\\base.py:420: UserWarning: X does not have valid feature names, but RandomForestRegressor was fitted with feature names\n",
      "  warnings.warn(\n"
     ]
    },
    {
     "name": "stdout",
     "output_type": "stream",
     "text": [
      "Station 59 R-squared: 0.9829425203229762\n",
      "Predicted number of available bikes for Station 59 at 2023-03-07 19:35:03: 2.55\n"
     ]
    },
    {
     "name": "stderr",
     "output_type": "stream",
     "text": [
      "C:\\Users\\tfiro\\anaconda3\\envs\\comp30830software\\lib\\site-packages\\sklearn\\base.py:420: UserWarning: X does not have valid feature names, but RandomForestRegressor was fitted with feature names\n",
      "  warnings.warn(\n"
     ]
    },
    {
     "name": "stdout",
     "output_type": "stream",
     "text": [
      "Station 60 R-squared: 0.986315457479129\n",
      "Predicted number of available bikes for Station 60 at 2023-03-07 19:35:03: 16.51\n"
     ]
    },
    {
     "name": "stderr",
     "output_type": "stream",
     "text": [
      "C:\\Users\\tfiro\\anaconda3\\envs\\comp30830software\\lib\\site-packages\\sklearn\\base.py:420: UserWarning: X does not have valid feature names, but RandomForestRegressor was fitted with feature names\n",
      "  warnings.warn(\n"
     ]
    },
    {
     "name": "stdout",
     "output_type": "stream",
     "text": [
      "Station 61 R-squared: 0.9858277321599764\n",
      "Predicted number of available bikes for Station 61 at 2023-03-07 19:35:03: 2.13\n"
     ]
    },
    {
     "name": "stderr",
     "output_type": "stream",
     "text": [
      "C:\\Users\\tfiro\\anaconda3\\envs\\comp30830software\\lib\\site-packages\\sklearn\\base.py:420: UserWarning: X does not have valid feature names, but RandomForestRegressor was fitted with feature names\n",
      "  warnings.warn(\n"
     ]
    },
    {
     "name": "stdout",
     "output_type": "stream",
     "text": [
      "Station 62 R-squared: 0.9918875511778288\n",
      "Predicted number of available bikes for Station 62 at 2023-03-07 19:35:03: 12.65\n"
     ]
    },
    {
     "name": "stderr",
     "output_type": "stream",
     "text": [
      "C:\\Users\\tfiro\\anaconda3\\envs\\comp30830software\\lib\\site-packages\\sklearn\\base.py:420: UserWarning: X does not have valid feature names, but RandomForestRegressor was fitted with feature names\n",
      "  warnings.warn(\n"
     ]
    },
    {
     "name": "stdout",
     "output_type": "stream",
     "text": [
      "Station 63 R-squared: 0.9815173734727174\n",
      "Predicted number of available bikes for Station 63 at 2023-03-07 19:35:03: 18.57\n"
     ]
    },
    {
     "name": "stderr",
     "output_type": "stream",
     "text": [
      "C:\\Users\\tfiro\\anaconda3\\envs\\comp30830software\\lib\\site-packages\\sklearn\\base.py:420: UserWarning: X does not have valid feature names, but RandomForestRegressor was fitted with feature names\n",
      "  warnings.warn(\n"
     ]
    },
    {
     "name": "stdout",
     "output_type": "stream",
     "text": [
      "Station 64 R-squared: 0.983368954137207\n",
      "Predicted number of available bikes for Station 64 at 2023-03-07 19:35:03: 17.91\n"
     ]
    },
    {
     "name": "stderr",
     "output_type": "stream",
     "text": [
      "C:\\Users\\tfiro\\anaconda3\\envs\\comp30830software\\lib\\site-packages\\sklearn\\base.py:420: UserWarning: X does not have valid feature names, but RandomForestRegressor was fitted with feature names\n",
      "  warnings.warn(\n"
     ]
    },
    {
     "name": "stdout",
     "output_type": "stream",
     "text": [
      "Station 65 R-squared: 0.9933258753948934\n",
      "Predicted number of available bikes for Station 65 at 2023-03-07 19:35:03: 1.95\n"
     ]
    },
    {
     "name": "stderr",
     "output_type": "stream",
     "text": [
      "C:\\Users\\tfiro\\anaconda3\\envs\\comp30830software\\lib\\site-packages\\sklearn\\base.py:420: UserWarning: X does not have valid feature names, but RandomForestRegressor was fitted with feature names\n",
      "  warnings.warn(\n"
     ]
    },
    {
     "name": "stdout",
     "output_type": "stream",
     "text": [
      "Station 66 R-squared: 0.9844173716221439\n",
      "Predicted number of available bikes for Station 66 at 2023-03-07 19:35:03: 8.99\n"
     ]
    },
    {
     "name": "stderr",
     "output_type": "stream",
     "text": [
      "C:\\Users\\tfiro\\anaconda3\\envs\\comp30830software\\lib\\site-packages\\sklearn\\base.py:420: UserWarning: X does not have valid feature names, but RandomForestRegressor was fitted with feature names\n",
      "  warnings.warn(\n"
     ]
    },
    {
     "name": "stdout",
     "output_type": "stream",
     "text": [
      "Station 67 R-squared: 0.9891130565573771\n",
      "Predicted number of available bikes for Station 67 at 2023-03-07 19:35:03: 15.03\n"
     ]
    },
    {
     "name": "stderr",
     "output_type": "stream",
     "text": [
      "C:\\Users\\tfiro\\anaconda3\\envs\\comp30830software\\lib\\site-packages\\sklearn\\base.py:420: UserWarning: X does not have valid feature names, but RandomForestRegressor was fitted with feature names\n",
      "  warnings.warn(\n"
     ]
    },
    {
     "name": "stdout",
     "output_type": "stream",
     "text": [
      "Station 68 R-squared: 0.9893987541103135\n",
      "Predicted number of available bikes for Station 68 at 2023-03-07 19:35:03: 4.12\n"
     ]
    },
    {
     "name": "stderr",
     "output_type": "stream",
     "text": [
      "C:\\Users\\tfiro\\anaconda3\\envs\\comp30830software\\lib\\site-packages\\sklearn\\base.py:420: UserWarning: X does not have valid feature names, but RandomForestRegressor was fitted with feature names\n",
      "  warnings.warn(\n"
     ]
    },
    {
     "name": "stdout",
     "output_type": "stream",
     "text": [
      "Station 69 R-squared: 0.9839346127861676\n",
      "Predicted number of available bikes for Station 69 at 2023-03-07 19:35:03: 15.91\n"
     ]
    },
    {
     "name": "stderr",
     "output_type": "stream",
     "text": [
      "C:\\Users\\tfiro\\anaconda3\\envs\\comp30830software\\lib\\site-packages\\sklearn\\base.py:420: UserWarning: X does not have valid feature names, but RandomForestRegressor was fitted with feature names\n",
      "  warnings.warn(\n"
     ]
    },
    {
     "name": "stdout",
     "output_type": "stream",
     "text": [
      "Station 71 R-squared: 0.9929213327490153\n",
      "Predicted number of available bikes for Station 71 at 2023-03-07 19:35:03: 17.86\n"
     ]
    },
    {
     "name": "stderr",
     "output_type": "stream",
     "text": [
      "C:\\Users\\tfiro\\anaconda3\\envs\\comp30830software\\lib\\site-packages\\sklearn\\base.py:420: UserWarning: X does not have valid feature names, but RandomForestRegressor was fitted with feature names\n",
      "  warnings.warn(\n"
     ]
    },
    {
     "name": "stdout",
     "output_type": "stream",
     "text": [
      "Station 72 R-squared: 0.9728585787106077\n",
      "Predicted number of available bikes for Station 72 at 2023-03-07 19:35:03: 18.10\n"
     ]
    },
    {
     "name": "stderr",
     "output_type": "stream",
     "text": [
      "C:\\Users\\tfiro\\anaconda3\\envs\\comp30830software\\lib\\site-packages\\sklearn\\base.py:420: UserWarning: X does not have valid feature names, but RandomForestRegressor was fitted with feature names\n",
      "  warnings.warn(\n"
     ]
    },
    {
     "name": "stdout",
     "output_type": "stream",
     "text": [
      "Station 73 R-squared: 0.986462045034674\n",
      "Predicted number of available bikes for Station 73 at 2023-03-07 19:35:03: 13.01\n"
     ]
    },
    {
     "name": "stderr",
     "output_type": "stream",
     "text": [
      "C:\\Users\\tfiro\\anaconda3\\envs\\comp30830software\\lib\\site-packages\\sklearn\\base.py:420: UserWarning: X does not have valid feature names, but RandomForestRegressor was fitted with feature names\n",
      "  warnings.warn(\n"
     ]
    },
    {
     "name": "stdout",
     "output_type": "stream",
     "text": [
      "Station 74 R-squared: 0.9915350554127041\n",
      "Predicted number of available bikes for Station 74 at 2023-03-07 19:35:03: 11.91\n"
     ]
    },
    {
     "name": "stderr",
     "output_type": "stream",
     "text": [
      "C:\\Users\\tfiro\\anaconda3\\envs\\comp30830software\\lib\\site-packages\\sklearn\\base.py:420: UserWarning: X does not have valid feature names, but RandomForestRegressor was fitted with feature names\n",
      "  warnings.warn(\n"
     ]
    },
    {
     "name": "stdout",
     "output_type": "stream",
     "text": [
      "Station 75 R-squared: 0.9883441490947653\n",
      "Predicted number of available bikes for Station 75 at 2023-03-07 19:35:03: 10.49\n"
     ]
    },
    {
     "name": "stderr",
     "output_type": "stream",
     "text": [
      "C:\\Users\\tfiro\\anaconda3\\envs\\comp30830software\\lib\\site-packages\\sklearn\\base.py:420: UserWarning: X does not have valid feature names, but RandomForestRegressor was fitted with feature names\n",
      "  warnings.warn(\n"
     ]
    },
    {
     "name": "stdout",
     "output_type": "stream",
     "text": [
      "Station 76 R-squared: 0.9794187143786732\n",
      "Predicted number of available bikes for Station 76 at 2023-03-07 19:35:03: 13.85\n"
     ]
    },
    {
     "name": "stderr",
     "output_type": "stream",
     "text": [
      "C:\\Users\\tfiro\\anaconda3\\envs\\comp30830software\\lib\\site-packages\\sklearn\\base.py:420: UserWarning: X does not have valid feature names, but RandomForestRegressor was fitted with feature names\n",
      "  warnings.warn(\n"
     ]
    },
    {
     "name": "stdout",
     "output_type": "stream",
     "text": [
      "Station 77 R-squared: 0.9917992622398013\n",
      "Predicted number of available bikes for Station 77 at 2023-03-07 19:35:03: 13.29\n"
     ]
    },
    {
     "name": "stderr",
     "output_type": "stream",
     "text": [
      "C:\\Users\\tfiro\\anaconda3\\envs\\comp30830software\\lib\\site-packages\\sklearn\\base.py:420: UserWarning: X does not have valid feature names, but RandomForestRegressor was fitted with feature names\n",
      "  warnings.warn(\n"
     ]
    },
    {
     "name": "stdout",
     "output_type": "stream",
     "text": [
      "Station 78 R-squared: 0.9898038235473378\n",
      "Predicted number of available bikes for Station 78 at 2023-03-07 19:35:03: 14.34\n"
     ]
    },
    {
     "name": "stderr",
     "output_type": "stream",
     "text": [
      "C:\\Users\\tfiro\\anaconda3\\envs\\comp30830software\\lib\\site-packages\\sklearn\\base.py:420: UserWarning: X does not have valid feature names, but RandomForestRegressor was fitted with feature names\n",
      "  warnings.warn(\n"
     ]
    },
    {
     "name": "stdout",
     "output_type": "stream",
     "text": [
      "Station 79 R-squared: 0.9908744364061469\n",
      "Predicted number of available bikes for Station 79 at 2023-03-07 19:35:03: 10.59\n"
     ]
    },
    {
     "name": "stderr",
     "output_type": "stream",
     "text": [
      "C:\\Users\\tfiro\\anaconda3\\envs\\comp30830software\\lib\\site-packages\\sklearn\\base.py:420: UserWarning: X does not have valid feature names, but RandomForestRegressor was fitted with feature names\n",
      "  warnings.warn(\n"
     ]
    },
    {
     "name": "stdout",
     "output_type": "stream",
     "text": [
      "Station 80 R-squared: 0.987827510932569\n",
      "Predicted number of available bikes for Station 80 at 2023-03-07 19:35:03: 11.86\n"
     ]
    },
    {
     "name": "stderr",
     "output_type": "stream",
     "text": [
      "C:\\Users\\tfiro\\anaconda3\\envs\\comp30830software\\lib\\site-packages\\sklearn\\base.py:420: UserWarning: X does not have valid feature names, but RandomForestRegressor was fitted with feature names\n",
      "  warnings.warn(\n"
     ]
    },
    {
     "name": "stdout",
     "output_type": "stream",
     "text": [
      "Station 82 R-squared: 0.9823119818689586\n",
      "Predicted number of available bikes for Station 82 at 2023-03-07 19:35:03: 4.29\n"
     ]
    },
    {
     "name": "stderr",
     "output_type": "stream",
     "text": [
      "C:\\Users\\tfiro\\anaconda3\\envs\\comp30830software\\lib\\site-packages\\sklearn\\base.py:420: UserWarning: X does not have valid feature names, but RandomForestRegressor was fitted with feature names\n",
      "  warnings.warn(\n"
     ]
    },
    {
     "name": "stdout",
     "output_type": "stream",
     "text": [
      "Station 83 R-squared: 0.9957803767223683\n",
      "Predicted number of available bikes for Station 83 at 2023-03-07 19:35:03: 17.71\n"
     ]
    },
    {
     "name": "stderr",
     "output_type": "stream",
     "text": [
      "C:\\Users\\tfiro\\anaconda3\\envs\\comp30830software\\lib\\site-packages\\sklearn\\base.py:420: UserWarning: X does not have valid feature names, but RandomForestRegressor was fitted with feature names\n",
      "  warnings.warn(\n"
     ]
    },
    {
     "name": "stdout",
     "output_type": "stream",
     "text": [
      "Station 84 R-squared: 0.99199410226944\n",
      "Predicted number of available bikes for Station 84 at 2023-03-07 19:35:03: 13.65\n"
     ]
    },
    {
     "name": "stderr",
     "output_type": "stream",
     "text": [
      "C:\\Users\\tfiro\\anaconda3\\envs\\comp30830software\\lib\\site-packages\\sklearn\\base.py:420: UserWarning: X does not have valid feature names, but RandomForestRegressor was fitted with feature names\n",
      "  warnings.warn(\n"
     ]
    },
    {
     "name": "stdout",
     "output_type": "stream",
     "text": [
      "Station 85 R-squared: 0.9860946086159517\n",
      "Predicted number of available bikes for Station 85 at 2023-03-07 19:35:03: 13.92\n"
     ]
    },
    {
     "name": "stderr",
     "output_type": "stream",
     "text": [
      "C:\\Users\\tfiro\\anaconda3\\envs\\comp30830software\\lib\\site-packages\\sklearn\\base.py:420: UserWarning: X does not have valid feature names, but RandomForestRegressor was fitted with feature names\n",
      "  warnings.warn(\n"
     ]
    },
    {
     "name": "stdout",
     "output_type": "stream",
     "text": [
      "Station 86 R-squared: 0.9959554587429942\n",
      "Predicted number of available bikes for Station 86 at 2023-03-07 19:35:03: 16.19\n"
     ]
    },
    {
     "name": "stderr",
     "output_type": "stream",
     "text": [
      "C:\\Users\\tfiro\\anaconda3\\envs\\comp30830software\\lib\\site-packages\\sklearn\\base.py:420: UserWarning: X does not have valid feature names, but RandomForestRegressor was fitted with feature names\n",
      "  warnings.warn(\n"
     ]
    },
    {
     "name": "stdout",
     "output_type": "stream",
     "text": [
      "Station 87 R-squared: 0.9925490380795504\n",
      "Predicted number of available bikes for Station 87 at 2023-03-07 19:35:03: 11.32\n"
     ]
    },
    {
     "name": "stderr",
     "output_type": "stream",
     "text": [
      "C:\\Users\\tfiro\\anaconda3\\envs\\comp30830software\\lib\\site-packages\\sklearn\\base.py:420: UserWarning: X does not have valid feature names, but RandomForestRegressor was fitted with feature names\n",
      "  warnings.warn(\n",
      "C:\\Users\\tfiro\\anaconda3\\envs\\comp30830software\\lib\\site-packages\\sklearn\\metrics\\_regression.py:918: UndefinedMetricWarning: R^2 score is not well-defined with less than two samples.\n",
      "  warnings.warn(msg, UndefinedMetricWarning)\n",
      "C:\\Users\\tfiro\\anaconda3\\envs\\comp30830software\\lib\\site-packages\\sklearn\\base.py:420: UserWarning: X does not have valid feature names, but RandomForestRegressor was fitted with feature names\n",
      "  warnings.warn(\n"
     ]
    },
    {
     "name": "stdout",
     "output_type": "stream",
     "text": [
      "Station 88 R-squared: nan\n",
      "Predicted number of available bikes for Station 88 at 2023-03-07 19:35:03: 7.02\n",
      "Station 89 R-squared: 0.9876624957294324\n",
      "Predicted number of available bikes for Station 89 at 2023-03-07 19:35:03: 0.52\n"
     ]
    },
    {
     "name": "stderr",
     "output_type": "stream",
     "text": [
      "C:\\Users\\tfiro\\anaconda3\\envs\\comp30830software\\lib\\site-packages\\sklearn\\base.py:420: UserWarning: X does not have valid feature names, but RandomForestRegressor was fitted with feature names\n",
      "  warnings.warn(\n"
     ]
    },
    {
     "name": "stdout",
     "output_type": "stream",
     "text": [
      "Station 90 R-squared: 0.9912170806373781\n",
      "Predicted number of available bikes for Station 90 at 2023-03-07 19:35:03: 3.23\n"
     ]
    },
    {
     "name": "stderr",
     "output_type": "stream",
     "text": [
      "C:\\Users\\tfiro\\anaconda3\\envs\\comp30830software\\lib\\site-packages\\sklearn\\base.py:420: UserWarning: X does not have valid feature names, but RandomForestRegressor was fitted with feature names\n",
      "  warnings.warn(\n"
     ]
    },
    {
     "name": "stdout",
     "output_type": "stream",
     "text": [
      "Station 91 R-squared: 0.9846037737828455\n",
      "Predicted number of available bikes for Station 91 at 2023-03-07 19:35:03: 23.95\n"
     ]
    },
    {
     "name": "stderr",
     "output_type": "stream",
     "text": [
      "C:\\Users\\tfiro\\anaconda3\\envs\\comp30830software\\lib\\site-packages\\sklearn\\base.py:420: UserWarning: X does not have valid feature names, but RandomForestRegressor was fitted with feature names\n",
      "  warnings.warn(\n"
     ]
    },
    {
     "name": "stdout",
     "output_type": "stream",
     "text": [
      "Station 92 R-squared: 0.9953120749778432\n",
      "Predicted number of available bikes for Station 92 at 2023-03-07 19:35:03: 35.83\n"
     ]
    },
    {
     "name": "stderr",
     "output_type": "stream",
     "text": [
      "C:\\Users\\tfiro\\anaconda3\\envs\\comp30830software\\lib\\site-packages\\sklearn\\base.py:420: UserWarning: X does not have valid feature names, but RandomForestRegressor was fitted with feature names\n",
      "  warnings.warn(\n"
     ]
    },
    {
     "name": "stdout",
     "output_type": "stream",
     "text": [
      "Station 93 R-squared: 0.9974538820921317\n",
      "Predicted number of available bikes for Station 93 at 2023-03-07 19:35:03: 37.04\n"
     ]
    },
    {
     "name": "stderr",
     "output_type": "stream",
     "text": [
      "C:\\Users\\tfiro\\anaconda3\\envs\\comp30830software\\lib\\site-packages\\sklearn\\base.py:420: UserWarning: X does not have valid feature names, but RandomForestRegressor was fitted with feature names\n",
      "  warnings.warn(\n"
     ]
    },
    {
     "name": "stdout",
     "output_type": "stream",
     "text": [
      "Station 94 R-squared: 0.9980923674932899\n",
      "Predicted number of available bikes for Station 94 at 2023-03-07 19:35:03: 19.86\n"
     ]
    },
    {
     "name": "stderr",
     "output_type": "stream",
     "text": [
      "C:\\Users\\tfiro\\anaconda3\\envs\\comp30830software\\lib\\site-packages\\sklearn\\base.py:420: UserWarning: X does not have valid feature names, but RandomForestRegressor was fitted with feature names\n",
      "  warnings.warn(\n"
     ]
    },
    {
     "name": "stdout",
     "output_type": "stream",
     "text": [
      "Station 95 R-squared: 0.9935480236626124\n",
      "Predicted number of available bikes for Station 95 at 2023-03-07 19:35:03: 27.42\n"
     ]
    },
    {
     "name": "stderr",
     "output_type": "stream",
     "text": [
      "C:\\Users\\tfiro\\anaconda3\\envs\\comp30830software\\lib\\site-packages\\sklearn\\base.py:420: UserWarning: X does not have valid feature names, but RandomForestRegressor was fitted with feature names\n",
      "  warnings.warn(\n"
     ]
    },
    {
     "name": "stdout",
     "output_type": "stream",
     "text": [
      "Station 96 R-squared: 0.9911178586152728\n",
      "Predicted number of available bikes for Station 96 at 2023-03-07 19:35:03: 11.03\n"
     ]
    },
    {
     "name": "stderr",
     "output_type": "stream",
     "text": [
      "C:\\Users\\tfiro\\anaconda3\\envs\\comp30830software\\lib\\site-packages\\sklearn\\base.py:420: UserWarning: X does not have valid feature names, but RandomForestRegressor was fitted with feature names\n",
      "  warnings.warn(\n"
     ]
    },
    {
     "name": "stdout",
     "output_type": "stream",
     "text": [
      "Station 97 R-squared: 0.988697493030672\n",
      "Predicted number of available bikes for Station 97 at 2023-03-07 19:35:03: 13.30\n"
     ]
    },
    {
     "name": "stderr",
     "output_type": "stream",
     "text": [
      "C:\\Users\\tfiro\\anaconda3\\envs\\comp30830software\\lib\\site-packages\\sklearn\\base.py:420: UserWarning: X does not have valid feature names, but RandomForestRegressor was fitted with feature names\n",
      "  warnings.warn(\n"
     ]
    },
    {
     "name": "stdout",
     "output_type": "stream",
     "text": [
      "Station 98 R-squared: 0.9948727856198962\n",
      "Predicted number of available bikes for Station 98 at 2023-03-07 19:35:03: 1.76\n"
     ]
    },
    {
     "name": "stderr",
     "output_type": "stream",
     "text": [
      "C:\\Users\\tfiro\\anaconda3\\envs\\comp30830software\\lib\\site-packages\\sklearn\\base.py:420: UserWarning: X does not have valid feature names, but RandomForestRegressor was fitted with feature names\n",
      "  warnings.warn(\n"
     ]
    },
    {
     "name": "stdout",
     "output_type": "stream",
     "text": [
      "Station 99 R-squared: 0.9928133554786841\n",
      "Predicted number of available bikes for Station 99 at 2023-03-07 19:35:03: 4.95\n"
     ]
    },
    {
     "name": "stderr",
     "output_type": "stream",
     "text": [
      "C:\\Users\\tfiro\\anaconda3\\envs\\comp30830software\\lib\\site-packages\\sklearn\\base.py:420: UserWarning: X does not have valid feature names, but RandomForestRegressor was fitted with feature names\n",
      "  warnings.warn(\n"
     ]
    },
    {
     "name": "stdout",
     "output_type": "stream",
     "text": [
      "Station 100 R-squared: 0.9918733159783905\n",
      "Predicted number of available bikes for Station 100 at 2023-03-07 19:35:03: 22.47\n"
     ]
    },
    {
     "name": "stderr",
     "output_type": "stream",
     "text": [
      "C:\\Users\\tfiro\\anaconda3\\envs\\comp30830software\\lib\\site-packages\\sklearn\\base.py:420: UserWarning: X does not have valid feature names, but RandomForestRegressor was fitted with feature names\n",
      "  warnings.warn(\n"
     ]
    },
    {
     "name": "stdout",
     "output_type": "stream",
     "text": [
      "Station 101 R-squared: 0.9935039639711268\n",
      "Predicted number of available bikes for Station 101 at 2023-03-07 19:35:03: 12.15\n"
     ]
    },
    {
     "name": "stderr",
     "output_type": "stream",
     "text": [
      "C:\\Users\\tfiro\\anaconda3\\envs\\comp30830software\\lib\\site-packages\\sklearn\\base.py:420: UserWarning: X does not have valid feature names, but RandomForestRegressor was fitted with feature names\n",
      "  warnings.warn(\n"
     ]
    },
    {
     "name": "stdout",
     "output_type": "stream",
     "text": [
      "Station 102 R-squared: 0.9629419965656479\n",
      "Predicted number of available bikes for Station 102 at 2023-03-07 19:35:03: 12.17\n"
     ]
    },
    {
     "name": "stderr",
     "output_type": "stream",
     "text": [
      "C:\\Users\\tfiro\\anaconda3\\envs\\comp30830software\\lib\\site-packages\\sklearn\\base.py:420: UserWarning: X does not have valid feature names, but RandomForestRegressor was fitted with feature names\n",
      "  warnings.warn(\n"
     ]
    },
    {
     "name": "stdout",
     "output_type": "stream",
     "text": [
      "Station 103 R-squared: 0.9887148933196672\n",
      "Predicted number of available bikes for Station 103 at 2023-03-07 19:35:03: 6.02\n"
     ]
    },
    {
     "name": "stderr",
     "output_type": "stream",
     "text": [
      "C:\\Users\\tfiro\\anaconda3\\envs\\comp30830software\\lib\\site-packages\\sklearn\\base.py:420: UserWarning: X does not have valid feature names, but RandomForestRegressor was fitted with feature names\n",
      "  warnings.warn(\n"
     ]
    },
    {
     "name": "stdout",
     "output_type": "stream",
     "text": [
      "Station 104 R-squared: 0.9934110115585826\n",
      "Predicted number of available bikes for Station 104 at 2023-03-07 19:35:03: 16.51\n"
     ]
    },
    {
     "name": "stderr",
     "output_type": "stream",
     "text": [
      "C:\\Users\\tfiro\\anaconda3\\envs\\comp30830software\\lib\\site-packages\\sklearn\\base.py:420: UserWarning: X does not have valid feature names, but RandomForestRegressor was fitted with feature names\n",
      "  warnings.warn(\n"
     ]
    },
    {
     "name": "stdout",
     "output_type": "stream",
     "text": [
      "Station 105 R-squared: 0.9953881370581754\n",
      "Predicted number of available bikes for Station 105 at 2023-03-07 19:35:03: 11.89\n"
     ]
    },
    {
     "name": "stderr",
     "output_type": "stream",
     "text": [
      "C:\\Users\\tfiro\\anaconda3\\envs\\comp30830software\\lib\\site-packages\\sklearn\\base.py:420: UserWarning: X does not have valid feature names, but RandomForestRegressor was fitted with feature names\n",
      "  warnings.warn(\n"
     ]
    },
    {
     "name": "stdout",
     "output_type": "stream",
     "text": [
      "Station 106 R-squared: 0.984487810821794\n",
      "Predicted number of available bikes for Station 106 at 2023-03-07 19:35:03: 18.49\n"
     ]
    },
    {
     "name": "stderr",
     "output_type": "stream",
     "text": [
      "C:\\Users\\tfiro\\anaconda3\\envs\\comp30830software\\lib\\site-packages\\sklearn\\base.py:420: UserWarning: X does not have valid feature names, but RandomForestRegressor was fitted with feature names\n",
      "  warnings.warn(\n"
     ]
    },
    {
     "name": "stdout",
     "output_type": "stream",
     "text": [
      "Station 107 R-squared: 0.9881848521247087\n",
      "Predicted number of available bikes for Station 107 at 2023-03-07 19:35:03: 27.33\n"
     ]
    },
    {
     "name": "stderr",
     "output_type": "stream",
     "text": [
      "C:\\Users\\tfiro\\anaconda3\\envs\\comp30830software\\lib\\site-packages\\sklearn\\base.py:420: UserWarning: X does not have valid feature names, but RandomForestRegressor was fitted with feature names\n",
      "  warnings.warn(\n"
     ]
    },
    {
     "name": "stdout",
     "output_type": "stream",
     "text": [
      "Station 108 R-squared: 0.9779495276428503\n",
      "Predicted number of available bikes for Station 108 at 2023-03-07 19:35:03: 10.41\n"
     ]
    },
    {
     "name": "stderr",
     "output_type": "stream",
     "text": [
      "C:\\Users\\tfiro\\anaconda3\\envs\\comp30830software\\lib\\site-packages\\sklearn\\base.py:420: UserWarning: X does not have valid feature names, but RandomForestRegressor was fitted with feature names\n",
      "  warnings.warn(\n"
     ]
    },
    {
     "name": "stdout",
     "output_type": "stream",
     "text": [
      "Station 109 R-squared: 0.99051674878544\n",
      "Predicted number of available bikes for Station 109 at 2023-03-07 19:35:03: 3.63\n"
     ]
    },
    {
     "name": "stderr",
     "output_type": "stream",
     "text": [
      "C:\\Users\\tfiro\\anaconda3\\envs\\comp30830software\\lib\\site-packages\\sklearn\\base.py:420: UserWarning: X does not have valid feature names, but RandomForestRegressor was fitted with feature names\n",
      "  warnings.warn(\n"
     ]
    },
    {
     "name": "stdout",
     "output_type": "stream",
     "text": [
      "Station 110 R-squared: 0.9825672072986974\n",
      "Predicted number of available bikes for Station 110 at 2023-03-07 19:35:03: 13.63\n"
     ]
    },
    {
     "name": "stderr",
     "output_type": "stream",
     "text": [
      "C:\\Users\\tfiro\\anaconda3\\envs\\comp30830software\\lib\\site-packages\\sklearn\\base.py:420: UserWarning: X does not have valid feature names, but RandomForestRegressor was fitted with feature names\n",
      "  warnings.warn(\n"
     ]
    },
    {
     "name": "stdout",
     "output_type": "stream",
     "text": [
      "Station 111 R-squared: 0.9893927602047382\n",
      "Predicted number of available bikes for Station 111 at 2023-03-07 19:35:03: 4.91\n"
     ]
    },
    {
     "name": "stderr",
     "output_type": "stream",
     "text": [
      "C:\\Users\\tfiro\\anaconda3\\envs\\comp30830software\\lib\\site-packages\\sklearn\\base.py:420: UserWarning: X does not have valid feature names, but RandomForestRegressor was fitted with feature names\n",
      "  warnings.warn(\n"
     ]
    },
    {
     "name": "stdout",
     "output_type": "stream",
     "text": [
      "Station 112 R-squared: 0.9871870899525582\n",
      "Predicted number of available bikes for Station 112 at 2023-03-07 19:35:03: 16.98\n"
     ]
    },
    {
     "name": "stderr",
     "output_type": "stream",
     "text": [
      "C:\\Users\\tfiro\\anaconda3\\envs\\comp30830software\\lib\\site-packages\\sklearn\\base.py:420: UserWarning: X does not have valid feature names, but RandomForestRegressor was fitted with feature names\n",
      "  warnings.warn(\n"
     ]
    },
    {
     "name": "stdout",
     "output_type": "stream",
     "text": [
      "Station 113 R-squared: 0.9971423751342132\n",
      "Predicted number of available bikes for Station 113 at 2023-03-07 19:35:03: 1.70\n"
     ]
    },
    {
     "name": "stderr",
     "output_type": "stream",
     "text": [
      "C:\\Users\\tfiro\\anaconda3\\envs\\comp30830software\\lib\\site-packages\\sklearn\\base.py:420: UserWarning: X does not have valid feature names, but RandomForestRegressor was fitted with feature names\n",
      "  warnings.warn(\n"
     ]
    },
    {
     "name": "stdout",
     "output_type": "stream",
     "text": [
      "Station 114 R-squared: 0.9951844251138937\n",
      "Predicted number of available bikes for Station 114 at 2023-03-07 19:35:03: 12.53\n"
     ]
    },
    {
     "name": "stderr",
     "output_type": "stream",
     "text": [
      "C:\\Users\\tfiro\\anaconda3\\envs\\comp30830software\\lib\\site-packages\\sklearn\\base.py:420: UserWarning: X does not have valid feature names, but RandomForestRegressor was fitted with feature names\n",
      "  warnings.warn(\n"
     ]
    },
    {
     "name": "stdout",
     "output_type": "stream",
     "text": [
      "Station 115 R-squared: 0.9940769638671254\n",
      "Predicted number of available bikes for Station 115 at 2023-03-07 19:35:03: 19.22\n"
     ]
    },
    {
     "name": "stderr",
     "output_type": "stream",
     "text": [
      "C:\\Users\\tfiro\\anaconda3\\envs\\comp30830software\\lib\\site-packages\\sklearn\\base.py:420: UserWarning: X does not have valid feature names, but RandomForestRegressor was fitted with feature names\n",
      "  warnings.warn(\n"
     ]
    },
    {
     "name": "stdout",
     "output_type": "stream",
     "text": [
      "Station 116 R-squared: 0.9786914419641207\n",
      "Predicted number of available bikes for Station 116 at 2023-03-07 19:35:03: 4.22\n"
     ]
    },
    {
     "name": "stderr",
     "output_type": "stream",
     "text": [
      "C:\\Users\\tfiro\\anaconda3\\envs\\comp30830software\\lib\\site-packages\\sklearn\\base.py:420: UserWarning: X does not have valid feature names, but RandomForestRegressor was fitted with feature names\n",
      "  warnings.warn(\n"
     ]
    },
    {
     "name": "stdout",
     "output_type": "stream",
     "text": [
      "Station 117 R-squared: 0.9972693246881204\n",
      "Predicted number of available bikes for Station 117 at 2023-03-07 19:35:03: 4.68\n"
     ]
    },
    {
     "name": "stderr",
     "output_type": "stream",
     "text": [
      "C:\\Users\\tfiro\\anaconda3\\envs\\comp30830software\\lib\\site-packages\\sklearn\\base.py:420: UserWarning: X does not have valid feature names, but RandomForestRegressor was fitted with feature names\n",
      "  warnings.warn(\n"
     ]
    },
    {
     "name": "stdout",
     "output_type": "stream",
     "text": [
      "Station 507 R-squared: 1.0\n",
      "Predicted number of available bikes for Station 507 at 2023-03-07 19:35:03: 1.00\n"
     ]
    },
    {
     "name": "stderr",
     "output_type": "stream",
     "text": [
      "C:\\Users\\tfiro\\anaconda3\\envs\\comp30830software\\lib\\site-packages\\sklearn\\base.py:420: UserWarning: X does not have valid feature names, but RandomForestRegressor was fitted with feature names\n",
      "  warnings.warn(\n"
     ]
    }
   ],
   "source": [
    "from sklearn.ensemble import RandomForestRegressor\n",
    "for station, station_df in station_dfs.items():\n",
    "    X = station_df[['hour', 'day','minute','month','temperature', 'wind_speed', 'wind_direction', 'weather_code','precipitation_sum','rain_sum','precipitation_probability']]\n",
    "    y = station_df['available_bikes']\n",
    "\n",
    "    X_train, X_test, y_train, y_test = train_test_split(X, y)\n",
    "    \n",
    "    model = RandomForestRegressor(n_estimators=100, random_state=42)\n",
    "\n",
    "    model.fit(X_train, y_train)\n",
    "    print(f\"Station {station} R-squared: {model.score(X_test, y_test)}\")\n",
    "    station_num = 1\n",
    "    time_str = '2023-03-07 19:35:03'\n",
    "    weather_code = 801\n",
    "    temperature = 10\n",
    "    wind_speed = 6\n",
    "    wind_direction = 240\n",
    "    precipitation_sum = 0\n",
    "    rain_sum = 1\n",
    "    precipitation_probability = 0\n",
    "    time = pd.to_datetime(time_str)\n",
    "    hour = time.hour\n",
    "    day=time.day\n",
    "    minute=time.minute\n",
    "    month=time.month\n",
    "    prediction_input = [[hour,day,minute,month, temperature, wind_speed, wind_direction, weather_code,precipitation_sum,rain_sum,precipitation_probability]]\n",
    "    prediction = model.predict(prediction_input)\n",
    "    \n",
    "    print(f\"Predicted number of available bikes for Station {station} at {time_str}: {prediction[0]:.2f}\")\n"
   ]
  },
  {
   "cell_type": "code",
   "execution_count": 36,
   "id": "f045539d-655b-4dd6-8594-9a27f57a1bf4",
   "metadata": {},
   "outputs": [
    {
     "name": "stdout",
     "output_type": "stream",
     "text": [
      "Station 1 R-squared: 0.9867872253561613\n",
      "Station 2 R-squared: 0.9721500591590089\n",
      "Station 3 R-squared: 0.9838158092530607\n",
      "Station 4 R-squared: 0.9831058150492503\n",
      "Station 5 R-squared: 0.9875828103779551\n",
      "Station 6 R-squared: 0.988740189925538\n",
      "Station 7 R-squared: 0.9892700867302229\n",
      "Station 8 R-squared: 0.9754291164342122\n",
      "Station 9 R-squared: 0.9705847930205733\n",
      "Station 10 R-squared: 0.9674723784202923\n",
      "Station 11 R-squared: 0.9951843705420563\n",
      "Station 12 R-squared: 0.9839927711386595\n",
      "Station 13 R-squared: 0.9950233815615571\n",
      "Station 14 R-squared: 0.9773688950252006\n",
      "Station 15 R-squared: 0.9493062733103416\n",
      "Station 16 R-squared: 0.9859909150384321\n",
      "Station 17 R-squared: 0.9890665629651426\n",
      "Station 18 R-squared: 0.9867007409857216\n",
      "Station 19 R-squared: 0.9892702561202132\n",
      "Station 20 R-squared: 0.9945588207377392\n",
      "Station 21 R-squared: 0.9808905173589689\n",
      "Station 22 R-squared: 0.9841405202397284\n",
      "Station 23 R-squared: 0.9821346919795375\n",
      "Station 24 R-squared: 0.9726158063026429\n",
      "Station 25 R-squared: 0.9947266397861145\n",
      "Station 26 R-squared: 0.9854543229690181\n",
      "Station 27 R-squared: 0.982517196931932\n",
      "Station 28 R-squared: 0.9558864736456638\n",
      "Station 29 R-squared: 0.9837857467351591\n",
      "Station 30 R-squared: 0.9871930315712654\n",
      "Station 31 R-squared: 0.965810461436736\n",
      "Station 32 R-squared: 0.969395077631166\n",
      "Station 33 R-squared: 0.9460429247422171\n",
      "Station 34 R-squared: 0.97794935831002\n",
      "Station 35 R-squared: 0.9912324880911831\n",
      "Station 36 R-squared: 0.9881235260778549\n",
      "Station 37 R-squared: 0.9935764862305431\n",
      "Station 38 R-squared: 0.9908616885293248\n",
      "Station 39 R-squared: 0.9790005239299322\n",
      "Station 40 R-squared: 0.9779534326559255\n",
      "Station 41 R-squared: 0.9925111420855482\n",
      "Station 42 R-squared: 0.992554642105463\n",
      "Station 43 R-squared: 0.9894434071860599\n",
      "Station 44 R-squared: 0.9895472902265315\n",
      "Station 45 R-squared: 0.9962792846156742\n",
      "Station 47 R-squared: 0.9967960130125151\n",
      "Station 48 R-squared: 0.9890845059702432\n",
      "Station 49 R-squared: 0.9910348230282597\n",
      "Station 50 R-squared: 0.9956107025198185\n",
      "Station 51 R-squared: 0.9938071312291966\n",
      "Station 52 R-squared: 0.9864854865204106\n",
      "Station 53 R-squared: 0.992281043725185\n",
      "Station 54 R-squared: 0.9931449731008194\n",
      "Station 55 R-squared: 0.991881749252316\n",
      "Station 56 R-squared: 0.9876452620407306\n",
      "Station 57 R-squared: 0.9890223022745958\n",
      "Station 58 R-squared: 0.9791290814972536\n",
      "Station 59 R-squared: 0.9798570820899641\n",
      "Station 60 R-squared: 0.9859447695774792\n",
      "Station 61 R-squared: 0.9647851587554656\n",
      "Station 62 R-squared: 0.9932390598082277\n",
      "Station 63 R-squared: 0.9892669435012941\n",
      "Station 64 R-squared: 0.9848471899042334\n",
      "Station 65 R-squared: 0.9931025728221853\n",
      "Station 66 R-squared: 0.9836031229234484\n",
      "Station 67 R-squared: 0.988438672963841\n",
      "Station 68 R-squared: 0.988823733369792\n",
      "Station 69 R-squared: 0.9861333785686286\n",
      "Station 71 R-squared: 0.991649188924908\n",
      "Station 72 R-squared: 0.9751394241169016\n",
      "Station 73 R-squared: 0.9902981555895922\n",
      "Station 74 R-squared: 0.9908965177883997\n",
      "Station 75 R-squared: 0.9898830977369655\n",
      "Station 76 R-squared: 0.9737672033088565\n",
      "Station 77 R-squared: 0.991666356266247\n",
      "Station 78 R-squared: 0.9864768923761174\n",
      "Station 79 R-squared: 0.9861981305363393\n",
      "Station 80 R-squared: 0.984262555993272\n",
      "Station 82 R-squared: 0.9821521875397913\n",
      "Station 83 R-squared: 0.9952858740230215\n",
      "Station 84 R-squared: 0.994282584189351\n",
      "Station 85 R-squared: 0.9890888396368227\n",
      "Station 86 R-squared: 0.9955876979869508\n",
      "Station 87 R-squared: 0.9940585008839865\n",
      "Station 88 R-squared: -1.2685000000000004\n",
      "Station 89 R-squared: 0.9902176863746065\n",
      "Station 90 R-squared: 0.9900878576574415\n",
      "Station 91 R-squared: 0.9868324579192568\n",
      "Station 92 R-squared: 0.9942856665739703\n",
      "Station 93 R-squared: 0.9958741508958859\n",
      "Station 94 R-squared: 0.9992198209064536\n",
      "Station 95 R-squared: 0.9940053093911312\n",
      "Station 96 R-squared: 0.9925350048351597\n",
      "Station 97 R-squared: 0.9874687048224485\n",
      "Station 98 R-squared: 0.9945138595673051\n",
      "Station 99 R-squared: 0.988525952875987\n",
      "Station 100 R-squared: 0.9899102355833042\n",
      "Station 101 R-squared: 0.9915899447267417\n",
      "Station 102 R-squared: 0.976612233639974\n",
      "Station 103 R-squared: 0.990732250350536\n",
      "Station 104 R-squared: 0.9919114971048926\n",
      "Station 105 R-squared: 0.9874809975705079\n",
      "Station 106 R-squared: 0.982057485359721\n",
      "Station 107 R-squared: 0.9876813293844431\n",
      "Station 108 R-squared: 0.9791369331338123\n",
      "Station 109 R-squared: 0.9927031981396917\n",
      "Station 110 R-squared: 0.9866874246468609\n",
      "Station 111 R-squared: 0.9889962272881171\n",
      "Station 112 R-squared: 0.9868145179681143\n",
      "Station 113 R-squared: 0.9959127531464749\n",
      "Station 114 R-squared: 0.9950541050215159\n",
      "Station 115 R-squared: 0.9925587487228598\n",
      "Station 116 R-squared: 0.9815932759963346\n",
      "Station 117 R-squared: 0.9955634789559173\n",
      "Station 507 R-squared: 1.0\n"
     ]
    }
   ],
   "source": [
    "\n",
    "\n",
    "for station, station_df in station_dfs.items():\n",
    "    X = station_df[['hour', 'day','minute','month','temperature', 'wind_speed', 'wind_direction', 'weather_code']]\n",
    "    y = station_df['available_bikes']\n",
    "\n",
    "    X_train, X_test, y_train, y_test = train_test_split(X, y, test_size=0.3, random_state=42)\n",
    "    \n",
    "    model = RandomForestRegressor(n_estimators=100, random_state=42)\n",
    "\n",
    "    model.fit(X_train, y_train)\n",
    "    print(f\"Station {station} R-squared: {model.score(X_test, y_test)}\")\n",
    "    \n",
    "    #Save the model to a pickle file\n",
    "    filename = f\"model_dep{station}.pkl\"\n",
    "    with open(filename, 'wb') as file:\n",
    "        pickle.dump(model, file, pickle.HIGHEST_PROTOCOL)\n"
   ]
  },
  {
   "cell_type": "code",
   "execution_count": 37,
   "id": "16b30cb9-2543-4076-ba9f-b519e1e798a2",
   "metadata": {},
   "outputs": [
    {
     "name": "stdout",
     "output_type": "stream",
     "text": [
      "Station 1 R-squared: 0.9867332969376081\n",
      "Station 2 R-squared: 0.971878202423507\n",
      "Station 3 R-squared: 0.9839359870308078\n",
      "Station 4 R-squared: 0.9832413070936238\n",
      "Station 5 R-squared: 0.9876522924825722\n",
      "Station 6 R-squared: 0.9901489886411049\n",
      "Station 7 R-squared: 0.9893950314610388\n",
      "Station 8 R-squared: 0.9755600129615017\n",
      "Station 9 R-squared: 0.9711323415525325\n",
      "Station 10 R-squared: 0.9659479113944609\n",
      "Station 11 R-squared: 0.9976162111793714\n",
      "Station 12 R-squared: 0.984089841980373\n",
      "Station 13 R-squared: 0.9947601938632339\n",
      "Station 14 R-squared: 0.9771840738905736\n",
      "Station 15 R-squared: 0.9490928000513994\n",
      "Station 16 R-squared: 0.985468866020147\n",
      "Station 17 R-squared: 0.9889829806871412\n",
      "Station 18 R-squared: 0.9868202956869013\n",
      "Station 19 R-squared: 0.9893861819655021\n",
      "Station 20 R-squared: 0.994570589502016\n",
      "Station 21 R-squared: 0.9805045380487941\n",
      "Station 22 R-squared: 0.9840073220953182\n",
      "Station 23 R-squared: 0.9728143057913528\n",
      "Station 24 R-squared: 0.9730020202515992\n",
      "Station 25 R-squared: 0.9946962959459567\n",
      "Station 26 R-squared: 0.9856637864312904\n",
      "Station 27 R-squared: 0.9824573200091434\n",
      "Station 28 R-squared: 0.956096172527747\n",
      "Station 29 R-squared: 0.983371697039338\n",
      "Station 30 R-squared: 0.9902465632610389\n",
      "Station 31 R-squared: 0.964581043551312\n",
      "Station 32 R-squared: 0.9689673329239119\n",
      "Station 33 R-squared: 0.9467538678395898\n",
      "Station 34 R-squared: 0.9777561042587388\n",
      "Station 35 R-squared: 0.9913337247908202\n",
      "Station 36 R-squared: 0.9895707579523213\n",
      "Station 37 R-squared: 0.993285284121787\n",
      "Station 38 R-squared: 0.990685175332166\n",
      "Station 39 R-squared: 0.979631721117216\n",
      "Station 40 R-squared: 0.978350795015596\n",
      "Station 41 R-squared: 0.9926840282221063\n",
      "Station 42 R-squared: 0.9926665936628561\n",
      "Station 43 R-squared: 0.9894768655155877\n",
      "Station 44 R-squared: 0.9894464285238252\n",
      "Station 45 R-squared: 0.9962267518837419\n",
      "Station 47 R-squared: 0.9967445820510603\n",
      "Station 48 R-squared: 0.9891737240674152\n",
      "Station 49 R-squared: 0.9908938555727472\n",
      "Station 50 R-squared: 0.995539192589332\n",
      "Station 51 R-squared: 0.9938136345894973\n",
      "Station 52 R-squared: 0.9863590284250562\n",
      "Station 53 R-squared: 0.9924108756995612\n",
      "Station 54 R-squared: 0.9931306433541865\n",
      "Station 55 R-squared: 0.9918677706818035\n",
      "Station 56 R-squared: 0.9876392260640939\n",
      "Station 57 R-squared: 0.9890924846774769\n",
      "Station 58 R-squared: 0.9793827862865936\n",
      "Station 59 R-squared: 0.9802608323833992\n",
      "Station 60 R-squared: 0.9860900586740275\n",
      "Station 61 R-squared: 0.9650474081917568\n",
      "Station 62 R-squared: 0.9977291162233468\n",
      "Station 63 R-squared: 0.989322100505941\n",
      "Station 64 R-squared: 0.9850581206769262\n",
      "Station 65 R-squared: 0.9931282688045279\n",
      "Station 66 R-squared: 0.9837833485679233\n",
      "Station 67 R-squared: 0.9884709120345666\n",
      "Station 68 R-squared: 0.9893514015003471\n",
      "Station 69 R-squared: 0.9861044436367075\n",
      "Station 71 R-squared: 0.991678112938726\n",
      "Station 72 R-squared: 0.9751486481221924\n",
      "Station 73 R-squared: 0.9902351924449686\n",
      "Station 74 R-squared: 0.9908913320807936\n",
      "Station 75 R-squared: 0.9897512238551441\n",
      "Station 76 R-squared: 0.9739412599102556\n",
      "Station 77 R-squared: 0.9916349325069781\n",
      "Station 78 R-squared: 0.987050336709477\n",
      "Station 79 R-squared: 0.9862560070241635\n",
      "Station 80 R-squared: 0.9840509937699827\n",
      "Station 82 R-squared: 0.9958103497489229\n",
      "Station 83 R-squared: 0.9952816686138487\n",
      "Station 84 R-squared: 0.9943301816131468\n",
      "Station 85 R-squared: 0.9891489851098483\n",
      "Station 86 R-squared: 0.9955808564635883\n",
      "Station 87 R-squared: 0.9957910274062675\n",
      "Station 88 R-squared: -1.2685000000000004\n",
      "Station 89 R-squared: 0.9829375771976514\n",
      "Station 90 R-squared: 0.9901328348627865\n",
      "Station 91 R-squared: 0.986807300377395\n",
      "Station 92 R-squared: 0.9942203703378313\n",
      "Station 93 R-squared: 0.9959699097448949\n",
      "Station 94 R-squared: 0.9992180645120282\n",
      "Station 95 R-squared: 0.994062454661431\n",
      "Station 96 R-squared: 0.9926817720240011\n",
      "Station 97 R-squared: 0.987499655939618\n",
      "Station 98 R-squared: 0.9946177577675694\n",
      "Station 99 R-squared: 0.9889350740293855\n",
      "Station 100 R-squared: 0.990065994709835\n",
      "Station 101 R-squared: 0.9914945858024995\n",
      "Station 102 R-squared: 0.9771768133558743\n",
      "Station 103 R-squared: 0.9907235579018674\n",
      "Station 104 R-squared: 0.9915108201815018\n",
      "Station 105 R-squared: 0.9873751969754458\n",
      "Station 106 R-squared: 0.9815373560310515\n",
      "Station 107 R-squared: 0.9877343424097657\n",
      "Station 108 R-squared: 0.9793611881243451\n",
      "Station 109 R-squared: 0.9930383046616957\n",
      "Station 110 R-squared: 0.9864813033973563\n",
      "Station 111 R-squared: 0.9888276161377445\n",
      "Station 112 R-squared: 0.986942342018488\n",
      "Station 113 R-squared: 0.9956823102815162\n",
      "Station 114 R-squared: 0.99527870074883\n",
      "Station 115 R-squared: 0.9926232604650286\n",
      "Station 116 R-squared: 0.9810749613372509\n",
      "Station 117 R-squared: 0.9955800150675037\n",
      "Station 507 R-squared: 1.0\n"
     ]
    }
   ],
   "source": [
    "import pickle\n",
    "from sklearn.ensemble import RandomForestRegressor\n",
    "\n",
    "for station, station_df in station_dfs.items():\n",
    "    X = station_df[['hour', 'day','minute','month','temperature', 'wind_speed', 'wind_direction', 'weather_code']]\n",
    "    y = station_df['available_bike_stands']\n",
    "\n",
    "    X_train, X_test, y_train, y_test = train_test_split(X, y, test_size=0.3, random_state=42)\n",
    "    \n",
    "    model = RandomForestRegressor(n_estimators=100, random_state=42)\n",
    "\n",
    "    model.fit(X_train, y_train)\n",
    "    print(f\"Station {station} R-squared: {model.score(X_test, y_test)}\")\n",
    "    \n",
    "    #Save the model to a pickle file\n",
    "    filename = f\"model_arr{station}.pkl\"\n",
    "    with open(filename, 'wb') as file:\n",
    "        pickle.dump(model, file, pickle.HIGHEST_PROTOCOL)\n"
   ]
  }
 ],
 "metadata": {
  "kernelspec": {
   "display_name": "Python 3 (ipykernel)",
   "language": "python",
   "name": "python3"
  },
  "language_info": {
   "codemirror_mode": {
    "name": "ipython",
    "version": 3
   },
   "file_extension": ".py",
   "mimetype": "text/x-python",
   "name": "python",
   "nbconvert_exporter": "python",
   "pygments_lexer": "ipython3",
   "version": "3.10.9"
  }
 },
 "nbformat": 4,
 "nbformat_minor": 5
}
