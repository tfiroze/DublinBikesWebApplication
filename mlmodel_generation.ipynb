{
 "cells": [
  {
   "cell_type": "code",
   "execution_count": 4,
   "id": "52679042-7c57-4971-ad92-712322b1448c",
   "metadata": {},
   "outputs": [],
   "source": [
    "import pymysql.cursors\n",
    "import jsonify\n",
    "import pandas as pd\n",
    "from sklearn.model_selection import train_test_split\n",
    "from sklearn.linear_model import LinearRegression\n",
    "from sklearn.metrics import mean_squared_error\n"
   ]
  },
  {
   "cell_type": "code",
   "execution_count": 5,
   "id": "407c8031-58b2-48be-900d-144751a5901b",
   "metadata": {},
   "outputs": [],
   "source": [
    "conn = pymysql.connect(\n",
    "    host=\"softwaredb.ce0otalnccc9.eu-west-1.rds.amazonaws.com\",user=\"soft\",password=\"password\",database=\"dublinbikes\",\n",
    "    charset=\"utf8mb4\",\n",
    "    cursorclass=pymysql.cursors.DictCursor\n",
    ")\n"
   ]
  },
  {
   "cell_type": "code",
   "execution_count": 7,
   "id": "d7f3ac22-d3b9-459d-b3a2-7071cce8d66d",
   "metadata": {},
   "outputs": [
    {
     "name": "stderr",
     "output_type": "stream",
     "text": [
      "C:\\Users\\tfiro\\AppData\\Local\\Temp\\ipykernel_26120\\2178617842.py:5: UserWarning: pandas only supports SQLAlchemy connectable (engine/connection) or database string URI or sqlite3 DBAPI2 connection. Other DBAPI2 objects are not tested. Please consider using SQLAlchemy.\n",
      "  availability_df = pd.read_sql_query(availability_query, conn)\n"
     ]
    },
    {
     "ename": "DatabaseError",
     "evalue": "Execution failed on sql: SELECT number, time, available_bikes, available_bike_stands FROM availability\n(0, '')\nunable to rollback",
     "output_type": "error",
     "traceback": [
      "\u001b[1;31m---------------------------------------------------------------------------\u001b[0m",
      "\u001b[1;31mInterfaceError\u001b[0m                            Traceback (most recent call last)",
      "File \u001b[1;32m~\\anaconda3\\envs\\data_analytics\\lib\\site-packages\\pandas\\io\\sql.py:2018\u001b[0m, in \u001b[0;36mSQLiteDatabase.execute\u001b[1;34m(self, *args, **kwargs)\u001b[0m\n\u001b[0;32m   2017\u001b[0m \u001b[38;5;28;01mtry\u001b[39;00m:\n\u001b[1;32m-> 2018\u001b[0m     cur\u001b[38;5;241m.\u001b[39mexecute(\u001b[38;5;241m*\u001b[39margs, \u001b[38;5;241m*\u001b[39m\u001b[38;5;241m*\u001b[39mkwargs)\n\u001b[0;32m   2019\u001b[0m     \u001b[38;5;28;01mreturn\u001b[39;00m cur\n",
      "File \u001b[1;32m~\\anaconda3\\envs\\data_analytics\\lib\\site-packages\\pymysql\\cursors.py:158\u001b[0m, in \u001b[0;36mCursor.execute\u001b[1;34m(self, query, args)\u001b[0m\n\u001b[0;32m    156\u001b[0m query \u001b[38;5;241m=\u001b[39m \u001b[38;5;28mself\u001b[39m\u001b[38;5;241m.\u001b[39mmogrify(query, args)\n\u001b[1;32m--> 158\u001b[0m result \u001b[38;5;241m=\u001b[39m \u001b[38;5;28;43mself\u001b[39;49m\u001b[38;5;241;43m.\u001b[39;49m\u001b[43m_query\u001b[49m\u001b[43m(\u001b[49m\u001b[43mquery\u001b[49m\u001b[43m)\u001b[49m\n\u001b[0;32m    159\u001b[0m \u001b[38;5;28mself\u001b[39m\u001b[38;5;241m.\u001b[39m_executed \u001b[38;5;241m=\u001b[39m query\n",
      "File \u001b[1;32m~\\anaconda3\\envs\\data_analytics\\lib\\site-packages\\pymysql\\cursors.py:325\u001b[0m, in \u001b[0;36mCursor._query\u001b[1;34m(self, q)\u001b[0m\n\u001b[0;32m    324\u001b[0m \u001b[38;5;28mself\u001b[39m\u001b[38;5;241m.\u001b[39m_clear_result()\n\u001b[1;32m--> 325\u001b[0m \u001b[43mconn\u001b[49m\u001b[38;5;241;43m.\u001b[39;49m\u001b[43mquery\u001b[49m\u001b[43m(\u001b[49m\u001b[43mq\u001b[49m\u001b[43m)\u001b[49m\n\u001b[0;32m    326\u001b[0m \u001b[38;5;28mself\u001b[39m\u001b[38;5;241m.\u001b[39m_do_get_result()\n",
      "File \u001b[1;32m~\\anaconda3\\envs\\data_analytics\\lib\\site-packages\\pymysql\\connections.py:548\u001b[0m, in \u001b[0;36mConnection.query\u001b[1;34m(self, sql, unbuffered)\u001b[0m\n\u001b[0;32m    547\u001b[0m     sql \u001b[38;5;241m=\u001b[39m sql\u001b[38;5;241m.\u001b[39mencode(\u001b[38;5;28mself\u001b[39m\u001b[38;5;241m.\u001b[39mencoding, \u001b[38;5;124m\"\u001b[39m\u001b[38;5;124msurrogateescape\u001b[39m\u001b[38;5;124m\"\u001b[39m)\n\u001b[1;32m--> 548\u001b[0m \u001b[38;5;28;43mself\u001b[39;49m\u001b[38;5;241;43m.\u001b[39;49m\u001b[43m_execute_command\u001b[49m\u001b[43m(\u001b[49m\u001b[43mCOMMAND\u001b[49m\u001b[38;5;241;43m.\u001b[39;49m\u001b[43mCOM_QUERY\u001b[49m\u001b[43m,\u001b[49m\u001b[43m \u001b[49m\u001b[43msql\u001b[49m\u001b[43m)\u001b[49m\n\u001b[0;32m    549\u001b[0m \u001b[38;5;28mself\u001b[39m\u001b[38;5;241m.\u001b[39m_affected_rows \u001b[38;5;241m=\u001b[39m \u001b[38;5;28mself\u001b[39m\u001b[38;5;241m.\u001b[39m_read_query_result(unbuffered\u001b[38;5;241m=\u001b[39munbuffered)\n",
      "File \u001b[1;32m~\\anaconda3\\envs\\data_analytics\\lib\\site-packages\\pymysql\\connections.py:797\u001b[0m, in \u001b[0;36mConnection._execute_command\u001b[1;34m(self, command, sql)\u001b[0m\n\u001b[0;32m    796\u001b[0m \u001b[38;5;28;01mif\u001b[39;00m \u001b[38;5;129;01mnot\u001b[39;00m \u001b[38;5;28mself\u001b[39m\u001b[38;5;241m.\u001b[39m_sock:\n\u001b[1;32m--> 797\u001b[0m     \u001b[38;5;28;01mraise\u001b[39;00m err\u001b[38;5;241m.\u001b[39mInterfaceError(\u001b[38;5;241m0\u001b[39m, \u001b[38;5;124m\"\u001b[39m\u001b[38;5;124m\"\u001b[39m)\n\u001b[0;32m    799\u001b[0m \u001b[38;5;66;03m# If the last query was unbuffered, make sure it finishes before\u001b[39;00m\n\u001b[0;32m    800\u001b[0m \u001b[38;5;66;03m# sending new commands\u001b[39;00m\n",
      "\u001b[1;31mInterfaceError\u001b[0m: (0, '')",
      "\nDuring handling of the above exception, another exception occurred:\n",
      "\u001b[1;31mInterfaceError\u001b[0m                            Traceback (most recent call last)",
      "File \u001b[1;32m~\\anaconda3\\envs\\data_analytics\\lib\\site-packages\\pandas\\io\\sql.py:2022\u001b[0m, in \u001b[0;36mSQLiteDatabase.execute\u001b[1;34m(self, *args, **kwargs)\u001b[0m\n\u001b[0;32m   2021\u001b[0m \u001b[38;5;28;01mtry\u001b[39;00m:\n\u001b[1;32m-> 2022\u001b[0m     \u001b[38;5;28;43mself\u001b[39;49m\u001b[38;5;241;43m.\u001b[39;49m\u001b[43mcon\u001b[49m\u001b[38;5;241;43m.\u001b[39;49m\u001b[43mrollback\u001b[49m\u001b[43m(\u001b[49m\u001b[43m)\u001b[49m\n\u001b[0;32m   2023\u001b[0m \u001b[38;5;28;01mexcept\u001b[39;00m \u001b[38;5;167;01mException\u001b[39;00m \u001b[38;5;28;01mas\u001b[39;00m inner_exc:  \u001b[38;5;66;03m# pragma: no cover\u001b[39;00m\n",
      "File \u001b[1;32m~\\anaconda3\\envs\\data_analytics\\lib\\site-packages\\pymysql\\connections.py:481\u001b[0m, in \u001b[0;36mConnection.rollback\u001b[1;34m(self)\u001b[0m\n\u001b[0;32m    475\u001b[0m \u001b[38;5;250m\u001b[39m\u001b[38;5;124;03m\"\"\"\u001b[39;00m\n\u001b[0;32m    476\u001b[0m \u001b[38;5;124;03mRoll back the current transaction.\u001b[39;00m\n\u001b[0;32m    477\u001b[0m \n\u001b[0;32m    478\u001b[0m \u001b[38;5;124;03mSee `Connection.rollback() <https://www.python.org/dev/peps/pep-0249/#rollback>`_\u001b[39;00m\n\u001b[0;32m    479\u001b[0m \u001b[38;5;124;03min the specification.\u001b[39;00m\n\u001b[0;32m    480\u001b[0m \u001b[38;5;124;03m\"\"\"\u001b[39;00m\n\u001b[1;32m--> 481\u001b[0m \u001b[38;5;28;43mself\u001b[39;49m\u001b[38;5;241;43m.\u001b[39;49m\u001b[43m_execute_command\u001b[49m\u001b[43m(\u001b[49m\u001b[43mCOMMAND\u001b[49m\u001b[38;5;241;43m.\u001b[39;49m\u001b[43mCOM_QUERY\u001b[49m\u001b[43m,\u001b[49m\u001b[43m \u001b[49m\u001b[38;5;124;43m\"\u001b[39;49m\u001b[38;5;124;43mROLLBACK\u001b[39;49m\u001b[38;5;124;43m\"\u001b[39;49m\u001b[43m)\u001b[49m\n\u001b[0;32m    482\u001b[0m \u001b[38;5;28mself\u001b[39m\u001b[38;5;241m.\u001b[39m_read_ok_packet()\n",
      "File \u001b[1;32m~\\anaconda3\\envs\\data_analytics\\lib\\site-packages\\pymysql\\connections.py:797\u001b[0m, in \u001b[0;36mConnection._execute_command\u001b[1;34m(self, command, sql)\u001b[0m\n\u001b[0;32m    796\u001b[0m \u001b[38;5;28;01mif\u001b[39;00m \u001b[38;5;129;01mnot\u001b[39;00m \u001b[38;5;28mself\u001b[39m\u001b[38;5;241m.\u001b[39m_sock:\n\u001b[1;32m--> 797\u001b[0m     \u001b[38;5;28;01mraise\u001b[39;00m err\u001b[38;5;241m.\u001b[39mInterfaceError(\u001b[38;5;241m0\u001b[39m, \u001b[38;5;124m\"\u001b[39m\u001b[38;5;124m\"\u001b[39m)\n\u001b[0;32m    799\u001b[0m \u001b[38;5;66;03m# If the last query was unbuffered, make sure it finishes before\u001b[39;00m\n\u001b[0;32m    800\u001b[0m \u001b[38;5;66;03m# sending new commands\u001b[39;00m\n",
      "\u001b[1;31mInterfaceError\u001b[0m: (0, '')",
      "\nThe above exception was the direct cause of the following exception:\n",
      "\u001b[1;31mDatabaseError\u001b[0m                             Traceback (most recent call last)",
      "Cell \u001b[1;32mIn[7], line 5\u001b[0m\n\u001b[0;32m      3\u001b[0m weather_query \u001b[38;5;241m=\u001b[39m \u001b[38;5;124m\"\u001b[39m\u001b[38;5;124mSELECT * FROM weather\u001b[39m\u001b[38;5;124m\"\u001b[39m\n\u001b[0;32m      4\u001b[0m \u001b[38;5;66;03m# Load the query results into pandas dataframes\u001b[39;00m\n\u001b[1;32m----> 5\u001b[0m availability_df \u001b[38;5;241m=\u001b[39m \u001b[43mpd\u001b[49m\u001b[38;5;241;43m.\u001b[39;49m\u001b[43mread_sql_query\u001b[49m\u001b[43m(\u001b[49m\u001b[43mavailability_query\u001b[49m\u001b[43m,\u001b[49m\u001b[43m \u001b[49m\u001b[43mconn\u001b[49m\u001b[43m)\u001b[49m\n\u001b[0;32m      6\u001b[0m weather_df \u001b[38;5;241m=\u001b[39m pd\u001b[38;5;241m.\u001b[39mread_sql_query(weather_query, conn)\n\u001b[0;32m      8\u001b[0m \u001b[38;5;66;03m# Merge the dataframes on \"time\" and \"number\" columns\u001b[39;00m\n\u001b[0;32m      9\u001b[0m \n\u001b[0;32m     10\u001b[0m \n\u001b[0;32m     11\u001b[0m \n\u001b[0;32m     12\u001b[0m \u001b[38;5;66;03m# Close the database connection\u001b[39;00m\n",
      "File \u001b[1;32m~\\anaconda3\\envs\\data_analytics\\lib\\site-packages\\pandas\\io\\sql.py:397\u001b[0m, in \u001b[0;36mread_sql_query\u001b[1;34m(sql, con, index_col, coerce_float, params, parse_dates, chunksize, dtype)\u001b[0m\n\u001b[0;32m    339\u001b[0m \u001b[38;5;250m\u001b[39m\u001b[38;5;124;03m\"\"\"\u001b[39;00m\n\u001b[0;32m    340\u001b[0m \u001b[38;5;124;03mRead SQL query into a DataFrame.\u001b[39;00m\n\u001b[0;32m    341\u001b[0m \n\u001b[1;32m   (...)\u001b[0m\n\u001b[0;32m    394\u001b[0m \u001b[38;5;124;03mparameter will be converted to UTC.\u001b[39;00m\n\u001b[0;32m    395\u001b[0m \u001b[38;5;124;03m\"\"\"\u001b[39;00m\n\u001b[0;32m    396\u001b[0m pandas_sql \u001b[38;5;241m=\u001b[39m pandasSQL_builder(con)\n\u001b[1;32m--> 397\u001b[0m \u001b[38;5;28;01mreturn\u001b[39;00m \u001b[43mpandas_sql\u001b[49m\u001b[38;5;241;43m.\u001b[39;49m\u001b[43mread_query\u001b[49m\u001b[43m(\u001b[49m\n\u001b[0;32m    398\u001b[0m \u001b[43m    \u001b[49m\u001b[43msql\u001b[49m\u001b[43m,\u001b[49m\n\u001b[0;32m    399\u001b[0m \u001b[43m    \u001b[49m\u001b[43mindex_col\u001b[49m\u001b[38;5;241;43m=\u001b[39;49m\u001b[43mindex_col\u001b[49m\u001b[43m,\u001b[49m\n\u001b[0;32m    400\u001b[0m \u001b[43m    \u001b[49m\u001b[43mparams\u001b[49m\u001b[38;5;241;43m=\u001b[39;49m\u001b[43mparams\u001b[49m\u001b[43m,\u001b[49m\n\u001b[0;32m    401\u001b[0m \u001b[43m    \u001b[49m\u001b[43mcoerce_float\u001b[49m\u001b[38;5;241;43m=\u001b[39;49m\u001b[43mcoerce_float\u001b[49m\u001b[43m,\u001b[49m\n\u001b[0;32m    402\u001b[0m \u001b[43m    \u001b[49m\u001b[43mparse_dates\u001b[49m\u001b[38;5;241;43m=\u001b[39;49m\u001b[43mparse_dates\u001b[49m\u001b[43m,\u001b[49m\n\u001b[0;32m    403\u001b[0m \u001b[43m    \u001b[49m\u001b[43mchunksize\u001b[49m\u001b[38;5;241;43m=\u001b[39;49m\u001b[43mchunksize\u001b[49m\u001b[43m,\u001b[49m\n\u001b[0;32m    404\u001b[0m \u001b[43m    \u001b[49m\u001b[43mdtype\u001b[49m\u001b[38;5;241;43m=\u001b[39;49m\u001b[43mdtype\u001b[49m\u001b[43m,\u001b[49m\n\u001b[0;32m    405\u001b[0m \u001b[43m\u001b[49m\u001b[43m)\u001b[49m\n",
      "File \u001b[1;32m~\\anaconda3\\envs\\data_analytics\\lib\\site-packages\\pandas\\io\\sql.py:2078\u001b[0m, in \u001b[0;36mSQLiteDatabase.read_query\u001b[1;34m(self, sql, index_col, coerce_float, params, parse_dates, chunksize, dtype)\u001b[0m\n\u001b[0;32m   2066\u001b[0m \u001b[38;5;28;01mdef\u001b[39;00m \u001b[38;5;21mread_query\u001b[39m(\n\u001b[0;32m   2067\u001b[0m     \u001b[38;5;28mself\u001b[39m,\n\u001b[0;32m   2068\u001b[0m     sql,\n\u001b[1;32m   (...)\u001b[0m\n\u001b[0;32m   2074\u001b[0m     dtype: DtypeArg \u001b[38;5;241m|\u001b[39m \u001b[38;5;28;01mNone\u001b[39;00m \u001b[38;5;241m=\u001b[39m \u001b[38;5;28;01mNone\u001b[39;00m,\n\u001b[0;32m   2075\u001b[0m ) \u001b[38;5;241m-\u001b[39m\u001b[38;5;241m>\u001b[39m DataFrame \u001b[38;5;241m|\u001b[39m Iterator[DataFrame]:\n\u001b[0;32m   2077\u001b[0m     args \u001b[38;5;241m=\u001b[39m _convert_params(sql, params)\n\u001b[1;32m-> 2078\u001b[0m     cursor \u001b[38;5;241m=\u001b[39m \u001b[38;5;28;43mself\u001b[39;49m\u001b[38;5;241;43m.\u001b[39;49m\u001b[43mexecute\u001b[49m\u001b[43m(\u001b[49m\u001b[38;5;241;43m*\u001b[39;49m\u001b[43margs\u001b[49m\u001b[43m)\u001b[49m\n\u001b[0;32m   2079\u001b[0m     columns \u001b[38;5;241m=\u001b[39m [col_desc[\u001b[38;5;241m0\u001b[39m] \u001b[38;5;28;01mfor\u001b[39;00m col_desc \u001b[38;5;129;01min\u001b[39;00m cursor\u001b[38;5;241m.\u001b[39mdescription]\n\u001b[0;32m   2081\u001b[0m     \u001b[38;5;28;01mif\u001b[39;00m chunksize \u001b[38;5;129;01mis\u001b[39;00m \u001b[38;5;129;01mnot\u001b[39;00m \u001b[38;5;28;01mNone\u001b[39;00m:\n",
      "File \u001b[1;32m~\\anaconda3\\envs\\data_analytics\\lib\\site-packages\\pandas\\io\\sql.py:2027\u001b[0m, in \u001b[0;36mSQLiteDatabase.execute\u001b[1;34m(self, *args, **kwargs)\u001b[0m\n\u001b[0;32m   2023\u001b[0m \u001b[38;5;28;01mexcept\u001b[39;00m \u001b[38;5;167;01mException\u001b[39;00m \u001b[38;5;28;01mas\u001b[39;00m inner_exc:  \u001b[38;5;66;03m# pragma: no cover\u001b[39;00m\n\u001b[0;32m   2024\u001b[0m     ex \u001b[38;5;241m=\u001b[39m DatabaseError(\n\u001b[0;32m   2025\u001b[0m         \u001b[38;5;124mf\u001b[39m\u001b[38;5;124m\"\u001b[39m\u001b[38;5;124mExecution failed on sql: \u001b[39m\u001b[38;5;132;01m{\u001b[39;00margs[\u001b[38;5;241m0\u001b[39m]\u001b[38;5;132;01m}\u001b[39;00m\u001b[38;5;130;01m\\n\u001b[39;00m\u001b[38;5;132;01m{\u001b[39;00mexc\u001b[38;5;132;01m}\u001b[39;00m\u001b[38;5;130;01m\\n\u001b[39;00m\u001b[38;5;124munable to rollback\u001b[39m\u001b[38;5;124m\"\u001b[39m\n\u001b[0;32m   2026\u001b[0m     )\n\u001b[1;32m-> 2027\u001b[0m     \u001b[38;5;28;01mraise\u001b[39;00m ex \u001b[38;5;28;01mfrom\u001b[39;00m \u001b[38;5;21;01minner_exc\u001b[39;00m\n\u001b[0;32m   2029\u001b[0m ex \u001b[38;5;241m=\u001b[39m DatabaseError(\u001b[38;5;124mf\u001b[39m\u001b[38;5;124m\"\u001b[39m\u001b[38;5;124mExecution failed on sql \u001b[39m\u001b[38;5;124m'\u001b[39m\u001b[38;5;132;01m{\u001b[39;00margs[\u001b[38;5;241m0\u001b[39m]\u001b[38;5;132;01m}\u001b[39;00m\u001b[38;5;124m'\u001b[39m\u001b[38;5;124m: \u001b[39m\u001b[38;5;132;01m{\u001b[39;00mexc\u001b[38;5;132;01m}\u001b[39;00m\u001b[38;5;124m\"\u001b[39m)\n\u001b[0;32m   2030\u001b[0m \u001b[38;5;28;01mraise\u001b[39;00m ex \u001b[38;5;28;01mfrom\u001b[39;00m \u001b[38;5;21;01mexc\u001b[39;00m\n",
      "\u001b[1;31mDatabaseError\u001b[0m: Execution failed on sql: SELECT number, time, available_bikes, available_bike_stands FROM availability\n(0, '')\nunable to rollback"
     ]
    }
   ],
   "source": [
    "availability_query = \"SELECT number, time, available_bikes, available_bike_stands FROM availability\"\n",
    "#weather_query = \"SELECT number, time, temperature, wind_speed, wind_direction, weather_code FROM weather\"\n",
    "weather_query = \"SELECT * FROM weather\"\n",
    "# Load the query results into pandas dataframes\n",
    "availability_df = pd.read_sql_query(availability_query, conn)\n",
    "weather_df = pd.read_sql_query(weather_query, conn)\n",
    "\n",
    "# Merge the dataframes on \"time\" and \"number\" columns\n",
    "\n",
    "\n",
    "\n",
    "# Close the database connection\n",
    "conn.close()"
   ]
  },
  {
   "cell_type": "code",
   "execution_count": 9,
   "id": "db60c940-865e-440d-ae61-42a7c07fa14d",
   "metadata": {},
   "outputs": [],
   "source": [
    "availability_df['time'] = availability_df['time'].dt.strftime('%Y-%m-%d %H:%M:%S')\n",
    "weather_df['time'] = weather_df['time'].dt.strftime('%Y-%m-%d %H:%M:%S')\n",
    "merged_df = pd.merge(availability_df, weather_df, on=[\"number\", \"time\"])"
   ]
  },
  {
   "cell_type": "code",
   "execution_count": 10,
   "id": "4c250fdc-2ac7-45eb-b0af-ae58341d74a7",
   "metadata": {},
   "outputs": [],
   "source": [
    "merged_df.to_csv('merged_data.csv', index=False)"
   ]
  },
  {
   "cell_type": "code",
   "execution_count": 28,
   "id": "c1b5b1bc-8a8b-4cbb-923a-586d03226615",
   "metadata": {},
   "outputs": [
    {
     "data": {
      "text/html": [
       "<div>\n",
       "<style scoped>\n",
       "    .dataframe tbody tr th:only-of-type {\n",
       "        vertical-align: middle;\n",
       "    }\n",
       "\n",
       "    .dataframe tbody tr th {\n",
       "        vertical-align: top;\n",
       "    }\n",
       "\n",
       "    .dataframe thead th {\n",
       "        text-align: right;\n",
       "    }\n",
       "</style>\n",
       "<table border=\"1\" class=\"dataframe\">\n",
       "  <thead>\n",
       "    <tr style=\"text-align: right;\">\n",
       "      <th></th>\n",
       "      <th>number</th>\n",
       "      <th>time</th>\n",
       "      <th>available_bikes</th>\n",
       "      <th>available_bike_stands</th>\n",
       "      <th>temperature</th>\n",
       "      <th>wind_speed</th>\n",
       "      <th>wind_direction</th>\n",
       "      <th>weather_code</th>\n",
       "      <th>precipitation_sum</th>\n",
       "      <th>rain_sum</th>\n",
       "      <th>precipitation_probability</th>\n",
       "      <th>hour</th>\n",
       "    </tr>\n",
       "  </thead>\n",
       "  <tbody>\n",
       "    <tr>\n",
       "      <th>0</th>\n",
       "      <td>1</td>\n",
       "      <td>2023-03-07 19:25:03</td>\n",
       "      <td>12</td>\n",
       "      <td>19</td>\n",
       "      <td>3</td>\n",
       "      <td>8</td>\n",
       "      <td>63</td>\n",
       "      <td>0</td>\n",
       "      <td>0.0</td>\n",
       "      <td>0.0</td>\n",
       "      <td>6</td>\n",
       "      <td>19</td>\n",
       "    </tr>\n",
       "    <tr>\n",
       "      <th>1</th>\n",
       "      <td>1</td>\n",
       "      <td>2023-03-07 19:30:02</td>\n",
       "      <td>12</td>\n",
       "      <td>19</td>\n",
       "      <td>3</td>\n",
       "      <td>8</td>\n",
       "      <td>63</td>\n",
       "      <td>0</td>\n",
       "      <td>0.0</td>\n",
       "      <td>0.0</td>\n",
       "      <td>6</td>\n",
       "      <td>19</td>\n",
       "    </tr>\n",
       "    <tr>\n",
       "      <th>2</th>\n",
       "      <td>1</td>\n",
       "      <td>2023-03-07 19:35:03</td>\n",
       "      <td>12</td>\n",
       "      <td>19</td>\n",
       "      <td>3</td>\n",
       "      <td>8</td>\n",
       "      <td>63</td>\n",
       "      <td>0</td>\n",
       "      <td>0.0</td>\n",
       "      <td>0.0</td>\n",
       "      <td>6</td>\n",
       "      <td>19</td>\n",
       "    </tr>\n",
       "    <tr>\n",
       "      <th>3</th>\n",
       "      <td>1</td>\n",
       "      <td>2023-03-07 19:40:02</td>\n",
       "      <td>12</td>\n",
       "      <td>19</td>\n",
       "      <td>3</td>\n",
       "      <td>8</td>\n",
       "      <td>63</td>\n",
       "      <td>0</td>\n",
       "      <td>0.0</td>\n",
       "      <td>0.0</td>\n",
       "      <td>6</td>\n",
       "      <td>19</td>\n",
       "    </tr>\n",
       "    <tr>\n",
       "      <th>4</th>\n",
       "      <td>1</td>\n",
       "      <td>2023-03-07 19:45:02</td>\n",
       "      <td>13</td>\n",
       "      <td>18</td>\n",
       "      <td>3</td>\n",
       "      <td>8</td>\n",
       "      <td>63</td>\n",
       "      <td>0</td>\n",
       "      <td>0.0</td>\n",
       "      <td>0.0</td>\n",
       "      <td>6</td>\n",
       "      <td>19</td>\n",
       "    </tr>\n",
       "  </tbody>\n",
       "</table>\n",
       "</div>"
      ],
      "text/plain": [
       "   number                time  available_bikes  available_bike_stands  \\\n",
       "0       1 2023-03-07 19:25:03               12                     19   \n",
       "1       1 2023-03-07 19:30:02               12                     19   \n",
       "2       1 2023-03-07 19:35:03               12                     19   \n",
       "3       1 2023-03-07 19:40:02               12                     19   \n",
       "4       1 2023-03-07 19:45:02               13                     18   \n",
       "\n",
       "   temperature  wind_speed  wind_direction  weather_code  precipitation_sum  \\\n",
       "0            3           8              63             0                0.0   \n",
       "1            3           8              63             0                0.0   \n",
       "2            3           8              63             0                0.0   \n",
       "3            3           8              63             0                0.0   \n",
       "4            3           8              63             0                0.0   \n",
       "\n",
       "   rain_sum  precipitation_probability  hour  \n",
       "0       0.0                          6    19  \n",
       "1       0.0                          6    19  \n",
       "2       0.0                          6    19  \n",
       "3       0.0                          6    19  \n",
       "4       0.0                          6    19  "
      ]
     },
     "execution_count": 28,
     "metadata": {},
     "output_type": "execute_result"
    }
   ],
   "source": [
    "merged_df.head()"
   ]
  },
  {
   "cell_type": "code",
   "execution_count": 27,
   "id": "fff70abd-db35-4886-8925-3cb66fa637ce",
   "metadata": {},
   "outputs": [
    {
     "data": {
      "text/plain": [
       "number                       0\n",
       "time                         0\n",
       "available_bikes              0\n",
       "available_bike_stands        0\n",
       "temperature                  0\n",
       "wind_speed                   0\n",
       "wind_direction               0\n",
       "weather_code                 0\n",
       "precipitation_sum            0\n",
       "rain_sum                     0\n",
       "precipitation_probability    0\n",
       "dtype: int64"
      ]
     },
     "execution_count": 27,
     "metadata": {},
     "output_type": "execute_result"
    }
   ],
   "source": [
    "merged_df.isnull().sum()"
   ]
  },
  {
   "cell_type": "code",
   "execution_count": 29,
   "id": "e3f424d1-b4e3-4634-9939-0a03c780248e",
   "metadata": {},
   "outputs": [
    {
     "data": {
      "text/html": [
       "<div>\n",
       "<style scoped>\n",
       "    .dataframe tbody tr th:only-of-type {\n",
       "        vertical-align: middle;\n",
       "    }\n",
       "\n",
       "    .dataframe tbody tr th {\n",
       "        vertical-align: top;\n",
       "    }\n",
       "\n",
       "    .dataframe thead th {\n",
       "        text-align: right;\n",
       "    }\n",
       "</style>\n",
       "<table border=\"1\" class=\"dataframe\">\n",
       "  <thead>\n",
       "    <tr style=\"text-align: right;\">\n",
       "      <th></th>\n",
       "      <th>count</th>\n",
       "      <th>mean</th>\n",
       "      <th>std</th>\n",
       "      <th>min</th>\n",
       "      <th>25%</th>\n",
       "      <th>50%</th>\n",
       "      <th>75%</th>\n",
       "      <th>max</th>\n",
       "    </tr>\n",
       "  </thead>\n",
       "  <tbody>\n",
       "    <tr>\n",
       "      <th>number</th>\n",
       "      <td>976365.0</td>\n",
       "      <td>58.950337</td>\n",
       "      <td>36.573246</td>\n",
       "      <td>1.0</td>\n",
       "      <td>29.0</td>\n",
       "      <td>58.0</td>\n",
       "      <td>89.0</td>\n",
       "      <td>507.0</td>\n",
       "    </tr>\n",
       "    <tr>\n",
       "      <th>available_bikes</th>\n",
       "      <td>976365.0</td>\n",
       "      <td>11.608905</td>\n",
       "      <td>9.494840</td>\n",
       "      <td>0.0</td>\n",
       "      <td>4.0</td>\n",
       "      <td>10.0</td>\n",
       "      <td>17.0</td>\n",
       "      <td>40.0</td>\n",
       "    </tr>\n",
       "    <tr>\n",
       "      <th>available_bike_stands</th>\n",
       "      <td>976365.0</td>\n",
       "      <td>19.964370</td>\n",
       "      <td>10.934173</td>\n",
       "      <td>0.0</td>\n",
       "      <td>12.0</td>\n",
       "      <td>20.0</td>\n",
       "      <td>29.0</td>\n",
       "      <td>40.0</td>\n",
       "    </tr>\n",
       "    <tr>\n",
       "      <th>temperature</th>\n",
       "      <td>976365.0</td>\n",
       "      <td>8.988125</td>\n",
       "      <td>3.363725</td>\n",
       "      <td>1.0</td>\n",
       "      <td>7.0</td>\n",
       "      <td>10.0</td>\n",
       "      <td>11.0</td>\n",
       "      <td>17.0</td>\n",
       "    </tr>\n",
       "    <tr>\n",
       "      <th>wind_speed</th>\n",
       "      <td>976365.0</td>\n",
       "      <td>16.884550</td>\n",
       "      <td>8.229185</td>\n",
       "      <td>1.0</td>\n",
       "      <td>11.0</td>\n",
       "      <td>16.0</td>\n",
       "      <td>22.0</td>\n",
       "      <td>44.0</td>\n",
       "    </tr>\n",
       "    <tr>\n",
       "      <th>wind_direction</th>\n",
       "      <td>976365.0</td>\n",
       "      <td>197.415392</td>\n",
       "      <td>77.332009</td>\n",
       "      <td>3.0</td>\n",
       "      <td>145.0</td>\n",
       "      <td>213.0</td>\n",
       "      <td>259.0</td>\n",
       "      <td>360.0</td>\n",
       "    </tr>\n",
       "    <tr>\n",
       "      <th>weather_code</th>\n",
       "      <td>976365.0</td>\n",
       "      <td>18.028062</td>\n",
       "      <td>23.979019</td>\n",
       "      <td>0.0</td>\n",
       "      <td>2.0</td>\n",
       "      <td>3.0</td>\n",
       "      <td>51.0</td>\n",
       "      <td>73.0</td>\n",
       "    </tr>\n",
       "    <tr>\n",
       "      <th>precipitation_sum</th>\n",
       "      <td>976365.0</td>\n",
       "      <td>3.860875</td>\n",
       "      <td>5.504092</td>\n",
       "      <td>0.0</td>\n",
       "      <td>0.4</td>\n",
       "      <td>2.0</td>\n",
       "      <td>4.5</td>\n",
       "      <td>30.2</td>\n",
       "    </tr>\n",
       "    <tr>\n",
       "      <th>rain_sum</th>\n",
       "      <td>976365.0</td>\n",
       "      <td>2.645874</td>\n",
       "      <td>3.932484</td>\n",
       "      <td>0.0</td>\n",
       "      <td>0.2</td>\n",
       "      <td>0.7</td>\n",
       "      <td>3.3</td>\n",
       "      <td>20.2</td>\n",
       "    </tr>\n",
       "    <tr>\n",
       "      <th>precipitation_probability</th>\n",
       "      <td>976365.0</td>\n",
       "      <td>77.984557</td>\n",
       "      <td>29.218425</td>\n",
       "      <td>0.0</td>\n",
       "      <td>61.0</td>\n",
       "      <td>94.0</td>\n",
       "      <td>100.0</td>\n",
       "      <td>100.0</td>\n",
       "    </tr>\n",
       "  </tbody>\n",
       "</table>\n",
       "</div>"
      ],
      "text/plain": [
       "                              count        mean        std  min    25%    50%  \\\n",
       "number                     976365.0   58.950337  36.573246  1.0   29.0   58.0   \n",
       "available_bikes            976365.0   11.608905   9.494840  0.0    4.0   10.0   \n",
       "available_bike_stands      976365.0   19.964370  10.934173  0.0   12.0   20.0   \n",
       "temperature                976365.0    8.988125   3.363725  1.0    7.0   10.0   \n",
       "wind_speed                 976365.0   16.884550   8.229185  1.0   11.0   16.0   \n",
       "wind_direction             976365.0  197.415392  77.332009  3.0  145.0  213.0   \n",
       "weather_code               976365.0   18.028062  23.979019  0.0    2.0    3.0   \n",
       "precipitation_sum          976365.0    3.860875   5.504092  0.0    0.4    2.0   \n",
       "rain_sum                   976365.0    2.645874   3.932484  0.0    0.2    0.7   \n",
       "precipitation_probability  976365.0   77.984557  29.218425  0.0   61.0   94.0   \n",
       "\n",
       "                             75%    max  \n",
       "number                      89.0  507.0  \n",
       "available_bikes             17.0   40.0  \n",
       "available_bike_stands       29.0   40.0  \n",
       "temperature                 11.0   17.0  \n",
       "wind_speed                  22.0   44.0  \n",
       "wind_direction             259.0  360.0  \n",
       "weather_code                51.0   73.0  \n",
       "precipitation_sum            4.5   30.2  \n",
       "rain_sum                     3.3   20.2  \n",
       "precipitation_probability  100.0  100.0  "
      ]
     },
     "execution_count": 29,
     "metadata": {},
     "output_type": "execute_result"
    }
   ],
   "source": [
    "merged_df.describe().T"
   ]
  },
  {
   "cell_type": "code",
   "execution_count": 46,
   "id": "fec51c05-a062-4ebf-bab6-7d3120e0ed81",
   "metadata": {},
   "outputs": [
    {
     "name": "stdout",
     "output_type": "stream",
     "text": [
      "number                             category\n",
      "time                         datetime64[ns]\n",
      "available_bikes                       int64\n",
      "available_bike_stands                 int64\n",
      "temperature                           int64\n",
      "wind_speed                            int64\n",
      "wind_direction                        int64\n",
      "weather_code                       category\n",
      "precipitation_sum                   float64\n",
      "rain_sum                            float64\n",
      "precipitation_probability             int64\n",
      "hour                               category\n",
      "minute                             category\n",
      "month                              category\n",
      "day                                category\n",
      "dtype: object\n"
     ]
    }
   ],
   "source": [
    "print(merged_df.dtypes)\n"
   ]
  },
  {
   "cell_type": "code",
   "execution_count": 29,
   "id": "41dbd3b1-5468-4136-a601-1b133036dbbc",
   "metadata": {},
   "outputs": [
    {
     "name": "stderr",
     "output_type": "stream",
     "text": [
      "C:\\Users\\tfiro\\AppData\\Local\\Temp\\ipykernel_26120\\2672415241.py:1: FutureWarning: Passing unit-less datetime64 dtype to .astype is deprecated and will raise in a future version. Pass 'datetime64[ns]' instead\n",
      "  merged_df['time'] = merged_df['time'].astype('datetime64')\n"
     ]
    }
   ],
   "source": [
    "merged_df['time'] = merged_df['time'].astype('datetime64')\n",
    "merged_df['number'] = merged_df['number'].astype('category')\n",
    "merged_df['weather_code'] = merged_df['weather_code'].astype('category')"
   ]
  },
  {
   "cell_type": "code",
   "execution_count": 37,
   "id": "db46ff46-1156-4362-883d-4d49f9361fdc",
   "metadata": {},
   "outputs": [],
   "source": [
    "merged_df['hour'] = merged_df['time'].dt.hour\n",
    "merged_df['minute'] = merged_df['time'].dt.minute\n",
    "merged_df['month'] = merged_df['time'].dt.month\n",
    "merged_df['day'] = merged_df['time'].dt.day\n"
   ]
  },
  {
   "cell_type": "code",
   "execution_count": 45,
   "id": "69f370d3-78c6-495f-9180-4987ebacd2c0",
   "metadata": {},
   "outputs": [],
   "source": [
    "merged_df['hour'] = merged_df['time'].astype('category')\n",
    "merged_df['minute'] = merged_df['time'].astype('category')\n",
    "merged_df['month'] = merged_df['time'].astype('category')\n",
    "merged_df['day'] = merged_df['time'].astype('category')"
   ]
  },
  {
   "cell_type": "code",
   "execution_count": 40,
   "id": "e34922dd-b939-4b1b-af94-6aa6eeabbaf3",
   "metadata": {},
   "outputs": [],
   "source": [
    "station_dfs = {}\n",
    "for station in merged_df['number'].unique():\n",
    "    station_dfs[station] = merged_df[merged_df['number'] == station]\n"
   ]
  },
  {
   "cell_type": "code",
   "execution_count": null,
   "id": "43ff8532-896f-4183-977d-6596fd70b0e0",
   "metadata": {},
   "outputs": [
    {
     "name": "stdout",
     "output_type": "stream",
     "text": [
      "Station 1 R-squared: 0.9885572626983842\n",
      "Predicted number of available bikes for Station 1 at 2023-03-07 19:35:03: 10.09\n"
     ]
    },
    {
     "name": "stderr",
     "output_type": "stream",
     "text": [
      "C:\\Users\\tfiro\\anaconda3\\envs\\data_analytics\\lib\\site-packages\\sklearn\\base.py:439: UserWarning: X does not have valid feature names, but RandomForestRegressor was fitted with feature names\n",
      "  warnings.warn(\n"
     ]
    },
    {
     "name": "stdout",
     "output_type": "stream",
     "text": [
      "Station 2 R-squared: 0.9656947068603603\n",
      "Predicted number of available bikes for Station 2 at 2023-03-07 19:35:03: 6.76\n"
     ]
    },
    {
     "name": "stderr",
     "output_type": "stream",
     "text": [
      "C:\\Users\\tfiro\\anaconda3\\envs\\data_analytics\\lib\\site-packages\\sklearn\\base.py:439: UserWarning: X does not have valid feature names, but RandomForestRegressor was fitted with feature names\n",
      "  warnings.warn(\n"
     ]
    },
    {
     "name": "stdout",
     "output_type": "stream",
     "text": [
      "Station 3 R-squared: 0.9806680733824458\n",
      "Predicted number of available bikes for Station 3 at 2023-03-07 19:35:03: 16.48\n"
     ]
    },
    {
     "name": "stderr",
     "output_type": "stream",
     "text": [
      "C:\\Users\\tfiro\\anaconda3\\envs\\data_analytics\\lib\\site-packages\\sklearn\\base.py:439: UserWarning: X does not have valid feature names, but RandomForestRegressor was fitted with feature names\n",
      "  warnings.warn(\n"
     ]
    },
    {
     "name": "stdout",
     "output_type": "stream",
     "text": [
      "Station 4 R-squared: 0.9892477221003506\n",
      "Predicted number of available bikes for Station 4 at 2023-03-07 19:35:03: 4.55\n"
     ]
    },
    {
     "name": "stderr",
     "output_type": "stream",
     "text": [
      "C:\\Users\\tfiro\\anaconda3\\envs\\data_analytics\\lib\\site-packages\\sklearn\\base.py:439: UserWarning: X does not have valid feature names, but RandomForestRegressor was fitted with feature names\n",
      "  warnings.warn(\n"
     ]
    },
    {
     "name": "stdout",
     "output_type": "stream",
     "text": [
      "Station 5 R-squared: 0.987207239004247\n",
      "Predicted number of available bikes for Station 5 at 2023-03-07 19:35:03: 31.92\n"
     ]
    },
    {
     "name": "stderr",
     "output_type": "stream",
     "text": [
      "C:\\Users\\tfiro\\anaconda3\\envs\\data_analytics\\lib\\site-packages\\sklearn\\base.py:439: UserWarning: X does not have valid feature names, but RandomForestRegressor was fitted with feature names\n",
      "  warnings.warn(\n"
     ]
    },
    {
     "name": "stdout",
     "output_type": "stream",
     "text": [
      "Station 6 R-squared: 0.9910299938001904\n",
      "Predicted number of available bikes for Station 6 at 2023-03-07 19:35:03: 4.47\n"
     ]
    },
    {
     "name": "stderr",
     "output_type": "stream",
     "text": [
      "C:\\Users\\tfiro\\anaconda3\\envs\\data_analytics\\lib\\site-packages\\sklearn\\base.py:439: UserWarning: X does not have valid feature names, but RandomForestRegressor was fitted with feature names\n",
      "  warnings.warn(\n"
     ]
    },
    {
     "name": "stdout",
     "output_type": "stream",
     "text": [
      "Station 7 R-squared: 0.9877670110437442\n",
      "Predicted number of available bikes for Station 7 at 2023-03-07 19:35:03: 4.86\n"
     ]
    },
    {
     "name": "stderr",
     "output_type": "stream",
     "text": [
      "C:\\Users\\tfiro\\anaconda3\\envs\\data_analytics\\lib\\site-packages\\sklearn\\base.py:439: UserWarning: X does not have valid feature names, but RandomForestRegressor was fitted with feature names\n",
      "  warnings.warn(\n"
     ]
    },
    {
     "name": "stdout",
     "output_type": "stream",
     "text": [
      "Station 8 R-squared: 0.9802049022405906\n",
      "Predicted number of available bikes for Station 8 at 2023-03-07 19:35:03: 6.16\n"
     ]
    },
    {
     "name": "stderr",
     "output_type": "stream",
     "text": [
      "C:\\Users\\tfiro\\anaconda3\\envs\\data_analytics\\lib\\site-packages\\sklearn\\base.py:439: UserWarning: X does not have valid feature names, but RandomForestRegressor was fitted with feature names\n",
      "  warnings.warn(\n"
     ]
    },
    {
     "name": "stdout",
     "output_type": "stream",
     "text": [
      "Station 9 R-squared: 0.9720537872703916\n",
      "Predicted number of available bikes for Station 9 at 2023-03-07 19:35:03: 10.82\n"
     ]
    },
    {
     "name": "stderr",
     "output_type": "stream",
     "text": [
      "C:\\Users\\tfiro\\anaconda3\\envs\\data_analytics\\lib\\site-packages\\sklearn\\base.py:439: UserWarning: X does not have valid feature names, but RandomForestRegressor was fitted with feature names\n",
      "  warnings.warn(\n"
     ]
    },
    {
     "name": "stdout",
     "output_type": "stream",
     "text": [
      "Station 10 R-squared: 0.9705409899949446\n",
      "Predicted number of available bikes for Station 10 at 2023-03-07 19:35:03: 13.02\n"
     ]
    },
    {
     "name": "stderr",
     "output_type": "stream",
     "text": [
      "C:\\Users\\tfiro\\anaconda3\\envs\\data_analytics\\lib\\site-packages\\sklearn\\base.py:439: UserWarning: X does not have valid feature names, but RandomForestRegressor was fitted with feature names\n",
      "  warnings.warn(\n"
     ]
    },
    {
     "name": "stdout",
     "output_type": "stream",
     "text": [
      "Station 11 R-squared: 0.995218162354485\n",
      "Predicted number of available bikes for Station 11 at 2023-03-07 19:35:03: 1.34\n"
     ]
    },
    {
     "name": "stderr",
     "output_type": "stream",
     "text": [
      "C:\\Users\\tfiro\\anaconda3\\envs\\data_analytics\\lib\\site-packages\\sklearn\\base.py:439: UserWarning: X does not have valid feature names, but RandomForestRegressor was fitted with feature names\n",
      "  warnings.warn(\n"
     ]
    },
    {
     "name": "stdout",
     "output_type": "stream",
     "text": [
      "Station 12 R-squared: 0.9851238314230923\n",
      "Predicted number of available bikes for Station 12 at 2023-03-07 19:35:03: 7.42\n"
     ]
    },
    {
     "name": "stderr",
     "output_type": "stream",
     "text": [
      "C:\\Users\\tfiro\\anaconda3\\envs\\data_analytics\\lib\\site-packages\\sklearn\\base.py:439: UserWarning: X does not have valid feature names, but RandomForestRegressor was fitted with feature names\n",
      "  warnings.warn(\n"
     ]
    },
    {
     "name": "stdout",
     "output_type": "stream",
     "text": [
      "Station 13 R-squared: 0.994618784266364\n",
      "Predicted number of available bikes for Station 13 at 2023-03-07 19:35:03: 2.79\n"
     ]
    },
    {
     "name": "stderr",
     "output_type": "stream",
     "text": [
      "C:\\Users\\tfiro\\anaconda3\\envs\\data_analytics\\lib\\site-packages\\sklearn\\base.py:439: UserWarning: X does not have valid feature names, but RandomForestRegressor was fitted with feature names\n",
      "  warnings.warn(\n"
     ]
    },
    {
     "name": "stdout",
     "output_type": "stream",
     "text": [
      "Station 14 R-squared: 0.9736102373177122\n",
      "Predicted number of available bikes for Station 14 at 2023-03-07 19:35:03: 19.47\n"
     ]
    },
    {
     "name": "stderr",
     "output_type": "stream",
     "text": [
      "C:\\Users\\tfiro\\anaconda3\\envs\\data_analytics\\lib\\site-packages\\sklearn\\base.py:439: UserWarning: X does not have valid feature names, but RandomForestRegressor was fitted with feature names\n",
      "  warnings.warn(\n"
     ]
    },
    {
     "name": "stdout",
     "output_type": "stream",
     "text": [
      "Station 15 R-squared: 0.9592645201140807\n",
      "Predicted number of available bikes for Station 15 at 2023-03-07 19:35:03: 2.19\n"
     ]
    },
    {
     "name": "stderr",
     "output_type": "stream",
     "text": [
      "C:\\Users\\tfiro\\anaconda3\\envs\\data_analytics\\lib\\site-packages\\sklearn\\base.py:439: UserWarning: X does not have valid feature names, but RandomForestRegressor was fitted with feature names\n",
      "  warnings.warn(\n"
     ]
    },
    {
     "name": "stdout",
     "output_type": "stream",
     "text": [
      "Station 16 R-squared: 0.9776311273965224\n",
      "Predicted number of available bikes for Station 16 at 2023-03-07 19:35:03: 13.73\n"
     ]
    },
    {
     "name": "stderr",
     "output_type": "stream",
     "text": [
      "C:\\Users\\tfiro\\anaconda3\\envs\\data_analytics\\lib\\site-packages\\sklearn\\base.py:439: UserWarning: X does not have valid feature names, but RandomForestRegressor was fitted with feature names\n",
      "  warnings.warn(\n"
     ]
    },
    {
     "name": "stdout",
     "output_type": "stream",
     "text": [
      "Station 17 R-squared: 0.9889064390473342\n",
      "Predicted number of available bikes for Station 17 at 2023-03-07 19:35:03: 5.01\n"
     ]
    },
    {
     "name": "stderr",
     "output_type": "stream",
     "text": [
      "C:\\Users\\tfiro\\anaconda3\\envs\\data_analytics\\lib\\site-packages\\sklearn\\base.py:439: UserWarning: X does not have valid feature names, but RandomForestRegressor was fitted with feature names\n",
      "  warnings.warn(\n"
     ]
    },
    {
     "name": "stdout",
     "output_type": "stream",
     "text": [
      "Station 18 R-squared: 0.9852430276976931\n",
      "Predicted number of available bikes for Station 18 at 2023-03-07 19:35:03: 8.61\n"
     ]
    },
    {
     "name": "stderr",
     "output_type": "stream",
     "text": [
      "C:\\Users\\tfiro\\anaconda3\\envs\\data_analytics\\lib\\site-packages\\sklearn\\base.py:439: UserWarning: X does not have valid feature names, but RandomForestRegressor was fitted with feature names\n",
      "  warnings.warn(\n"
     ]
    },
    {
     "name": "stdout",
     "output_type": "stream",
     "text": [
      "Station 19 R-squared: 0.9901850380719291\n",
      "Predicted number of available bikes for Station 19 at 2023-03-07 19:35:03: 3.84\n"
     ]
    },
    {
     "name": "stderr",
     "output_type": "stream",
     "text": [
      "C:\\Users\\tfiro\\anaconda3\\envs\\data_analytics\\lib\\site-packages\\sklearn\\base.py:439: UserWarning: X does not have valid feature names, but RandomForestRegressor was fitted with feature names\n",
      "  warnings.warn(\n"
     ]
    },
    {
     "name": "stdout",
     "output_type": "stream",
     "text": [
      "Station 20 R-squared: 0.994070236133207\n",
      "Predicted number of available bikes for Station 20 at 2023-03-07 19:35:03: 2.46\n"
     ]
    },
    {
     "name": "stderr",
     "output_type": "stream",
     "text": [
      "C:\\Users\\tfiro\\anaconda3\\envs\\data_analytics\\lib\\site-packages\\sklearn\\base.py:439: UserWarning: X does not have valid feature names, but RandomForestRegressor was fitted with feature names\n",
      "  warnings.warn(\n"
     ]
    },
    {
     "name": "stdout",
     "output_type": "stream",
     "text": [
      "Station 21 R-squared: 0.9831702824885127\n",
      "Predicted number of available bikes for Station 21 at 2023-03-07 19:35:03: 15.01\n"
     ]
    },
    {
     "name": "stderr",
     "output_type": "stream",
     "text": [
      "C:\\Users\\tfiro\\anaconda3\\envs\\data_analytics\\lib\\site-packages\\sklearn\\base.py:439: UserWarning: X does not have valid feature names, but RandomForestRegressor was fitted with feature names\n",
      "  warnings.warn(\n"
     ]
    },
    {
     "name": "stdout",
     "output_type": "stream",
     "text": [
      "Station 22 R-squared: 0.9846415571586682\n",
      "Predicted number of available bikes for Station 22 at 2023-03-07 19:35:03: 10.45\n"
     ]
    },
    {
     "name": "stderr",
     "output_type": "stream",
     "text": [
      "C:\\Users\\tfiro\\anaconda3\\envs\\data_analytics\\lib\\site-packages\\sklearn\\base.py:439: UserWarning: X does not have valid feature names, but RandomForestRegressor was fitted with feature names\n",
      "  warnings.warn(\n"
     ]
    },
    {
     "name": "stdout",
     "output_type": "stream",
     "text": [
      "Station 23 R-squared: 0.9843041265312743\n",
      "Predicted number of available bikes for Station 23 at 2023-03-07 19:35:03: 18.60\n"
     ]
    },
    {
     "name": "stderr",
     "output_type": "stream",
     "text": [
      "C:\\Users\\tfiro\\anaconda3\\envs\\data_analytics\\lib\\site-packages\\sklearn\\base.py:439: UserWarning: X does not have valid feature names, but RandomForestRegressor was fitted with feature names\n",
      "  warnings.warn(\n"
     ]
    },
    {
     "name": "stdout",
     "output_type": "stream",
     "text": [
      "Station 24 R-squared: 0.9641325959468358\n",
      "Predicted number of available bikes for Station 24 at 2023-03-07 19:35:03: 10.11\n"
     ]
    },
    {
     "name": "stderr",
     "output_type": "stream",
     "text": [
      "C:\\Users\\tfiro\\anaconda3\\envs\\data_analytics\\lib\\site-packages\\sklearn\\base.py:439: UserWarning: X does not have valid feature names, but RandomForestRegressor was fitted with feature names\n",
      "  warnings.warn(\n"
     ]
    },
    {
     "name": "stdout",
     "output_type": "stream",
     "text": [
      "Station 25 R-squared: 0.9951362629859141\n",
      "Predicted number of available bikes for Station 25 at 2023-03-07 19:35:03: 7.09\n"
     ]
    },
    {
     "name": "stderr",
     "output_type": "stream",
     "text": [
      "C:\\Users\\tfiro\\anaconda3\\envs\\data_analytics\\lib\\site-packages\\sklearn\\base.py:439: UserWarning: X does not have valid feature names, but RandomForestRegressor was fitted with feature names\n",
      "  warnings.warn(\n"
     ]
    },
    {
     "name": "stdout",
     "output_type": "stream",
     "text": [
      "Station 26 R-squared: 0.9827474015253639\n",
      "Predicted number of available bikes for Station 26 at 2023-03-07 19:35:03: 5.49\n"
     ]
    },
    {
     "name": "stderr",
     "output_type": "stream",
     "text": [
      "C:\\Users\\tfiro\\anaconda3\\envs\\data_analytics\\lib\\site-packages\\sklearn\\base.py:439: UserWarning: X does not have valid feature names, but RandomForestRegressor was fitted with feature names\n",
      "  warnings.warn(\n"
     ]
    },
    {
     "name": "stdout",
     "output_type": "stream",
     "text": [
      "Station 27 R-squared: 0.9883979717665868\n",
      "Predicted number of available bikes for Station 27 at 2023-03-07 19:35:03: 7.31\n"
     ]
    },
    {
     "name": "stderr",
     "output_type": "stream",
     "text": [
      "C:\\Users\\tfiro\\anaconda3\\envs\\data_analytics\\lib\\site-packages\\sklearn\\base.py:439: UserWarning: X does not have valid feature names, but RandomForestRegressor was fitted with feature names\n",
      "  warnings.warn(\n"
     ]
    },
    {
     "name": "stdout",
     "output_type": "stream",
     "text": [
      "Station 28 R-squared: 0.9606924590349856\n",
      "Predicted number of available bikes for Station 28 at 2023-03-07 19:35:03: 9.09\n"
     ]
    },
    {
     "name": "stderr",
     "output_type": "stream",
     "text": [
      "C:\\Users\\tfiro\\anaconda3\\envs\\data_analytics\\lib\\site-packages\\sklearn\\base.py:439: UserWarning: X does not have valid feature names, but RandomForestRegressor was fitted with feature names\n",
      "  warnings.warn(\n"
     ]
    },
    {
     "name": "stdout",
     "output_type": "stream",
     "text": [
      "Station 29 R-squared: 0.983076178616641\n",
      "Predicted number of available bikes for Station 29 at 2023-03-07 19:35:03: 16.03\n"
     ]
    },
    {
     "name": "stderr",
     "output_type": "stream",
     "text": [
      "C:\\Users\\tfiro\\anaconda3\\envs\\data_analytics\\lib\\site-packages\\sklearn\\base.py:439: UserWarning: X does not have valid feature names, but RandomForestRegressor was fitted with feature names\n",
      "  warnings.warn(\n"
     ]
    },
    {
     "name": "stdout",
     "output_type": "stream",
     "text": [
      "Station 30 R-squared: 0.9851698502492565\n",
      "Predicted number of available bikes for Station 30 at 2023-03-07 19:35:03: 4.19\n"
     ]
    },
    {
     "name": "stderr",
     "output_type": "stream",
     "text": [
      "C:\\Users\\tfiro\\anaconda3\\envs\\data_analytics\\lib\\site-packages\\sklearn\\base.py:439: UserWarning: X does not have valid feature names, but RandomForestRegressor was fitted with feature names\n",
      "  warnings.warn(\n"
     ]
    },
    {
     "name": "stdout",
     "output_type": "stream",
     "text": [
      "Station 31 R-squared: 0.9624491591402928\n",
      "Predicted number of available bikes for Station 31 at 2023-03-07 19:35:03: 6.76\n"
     ]
    },
    {
     "name": "stderr",
     "output_type": "stream",
     "text": [
      "C:\\Users\\tfiro\\anaconda3\\envs\\data_analytics\\lib\\site-packages\\sklearn\\base.py:439: UserWarning: X does not have valid feature names, but RandomForestRegressor was fitted with feature names\n",
      "  warnings.warn(\n"
     ]
    },
    {
     "name": "stdout",
     "output_type": "stream",
     "text": [
      "Station 32 R-squared: 0.9703574250742705\n",
      "Predicted number of available bikes for Station 32 at 2023-03-07 19:35:03: 11.73\n"
     ]
    },
    {
     "name": "stderr",
     "output_type": "stream",
     "text": [
      "C:\\Users\\tfiro\\anaconda3\\envs\\data_analytics\\lib\\site-packages\\sklearn\\base.py:439: UserWarning: X does not have valid feature names, but RandomForestRegressor was fitted with feature names\n",
      "  warnings.warn(\n"
     ]
    },
    {
     "name": "stdout",
     "output_type": "stream",
     "text": [
      "Station 33 R-squared: 0.9432926764799782\n",
      "Predicted number of available bikes for Station 33 at 2023-03-07 19:35:03: 20.29\n"
     ]
    },
    {
     "name": "stderr",
     "output_type": "stream",
     "text": [
      "C:\\Users\\tfiro\\anaconda3\\envs\\data_analytics\\lib\\site-packages\\sklearn\\base.py:439: UserWarning: X does not have valid feature names, but RandomForestRegressor was fitted with feature names\n",
      "  warnings.warn(\n"
     ]
    },
    {
     "name": "stdout",
     "output_type": "stream",
     "text": [
      "Station 34 R-squared: 0.9798570159940423\n",
      "Predicted number of available bikes for Station 34 at 2023-03-07 19:35:03: 26.94\n"
     ]
    },
    {
     "name": "stderr",
     "output_type": "stream",
     "text": [
      "C:\\Users\\tfiro\\anaconda3\\envs\\data_analytics\\lib\\site-packages\\sklearn\\base.py:439: UserWarning: X does not have valid feature names, but RandomForestRegressor was fitted with feature names\n",
      "  warnings.warn(\n"
     ]
    },
    {
     "name": "stdout",
     "output_type": "stream",
     "text": [
      "Station 35 R-squared: 0.9908947401920761\n",
      "Predicted number of available bikes for Station 35 at 2023-03-07 19:35:03: 17.18\n"
     ]
    },
    {
     "name": "stderr",
     "output_type": "stream",
     "text": [
      "C:\\Users\\tfiro\\anaconda3\\envs\\data_analytics\\lib\\site-packages\\sklearn\\base.py:439: UserWarning: X does not have valid feature names, but RandomForestRegressor was fitted with feature names\n",
      "  warnings.warn(\n"
     ]
    },
    {
     "name": "stdout",
     "output_type": "stream",
     "text": [
      "Station 36 R-squared: 0.9890995856362488\n",
      "Predicted number of available bikes for Station 36 at 2023-03-07 19:35:03: 8.19\n"
     ]
    },
    {
     "name": "stderr",
     "output_type": "stream",
     "text": [
      "C:\\Users\\tfiro\\anaconda3\\envs\\data_analytics\\lib\\site-packages\\sklearn\\base.py:439: UserWarning: X does not have valid feature names, but RandomForestRegressor was fitted with feature names\n",
      "  warnings.warn(\n"
     ]
    },
    {
     "name": "stdout",
     "output_type": "stream",
     "text": [
      "Station 37 R-squared: 0.9926190382403605\n",
      "Predicted number of available bikes for Station 37 at 2023-03-07 19:35:03: 4.18\n"
     ]
    },
    {
     "name": "stderr",
     "output_type": "stream",
     "text": [
      "C:\\Users\\tfiro\\anaconda3\\envs\\data_analytics\\lib\\site-packages\\sklearn\\base.py:439: UserWarning: X does not have valid feature names, but RandomForestRegressor was fitted with feature names\n",
      "  warnings.warn(\n"
     ]
    },
    {
     "name": "stdout",
     "output_type": "stream",
     "text": [
      "Station 38 R-squared: 0.9904148848572046\n",
      "Predicted number of available bikes for Station 38 at 2023-03-07 19:35:03: 21.75\n"
     ]
    },
    {
     "name": "stderr",
     "output_type": "stream",
     "text": [
      "C:\\Users\\tfiro\\anaconda3\\envs\\data_analytics\\lib\\site-packages\\sklearn\\base.py:439: UserWarning: X does not have valid feature names, but RandomForestRegressor was fitted with feature names\n",
      "  warnings.warn(\n"
     ]
    },
    {
     "name": "stdout",
     "output_type": "stream",
     "text": [
      "Station 39 R-squared: 0.9768993047420359\n",
      "Predicted number of available bikes for Station 39 at 2023-03-07 19:35:03: 8.04\n"
     ]
    },
    {
     "name": "stderr",
     "output_type": "stream",
     "text": [
      "C:\\Users\\tfiro\\anaconda3\\envs\\data_analytics\\lib\\site-packages\\sklearn\\base.py:439: UserWarning: X does not have valid feature names, but RandomForestRegressor was fitted with feature names\n",
      "  warnings.warn(\n"
     ]
    },
    {
     "name": "stdout",
     "output_type": "stream",
     "text": [
      "Station 40 R-squared: 0.9732256301465553\n",
      "Predicted number of available bikes for Station 40 at 2023-03-07 19:35:03: 12.31\n"
     ]
    },
    {
     "name": "stderr",
     "output_type": "stream",
     "text": [
      "C:\\Users\\tfiro\\anaconda3\\envs\\data_analytics\\lib\\site-packages\\sklearn\\base.py:439: UserWarning: X does not have valid feature names, but RandomForestRegressor was fitted with feature names\n",
      "  warnings.warn(\n"
     ]
    },
    {
     "name": "stdout",
     "output_type": "stream",
     "text": [
      "Station 41 R-squared: 0.9915449621402481\n",
      "Predicted number of available bikes for Station 41 at 2023-03-07 19:35:03: 6.94\n"
     ]
    },
    {
     "name": "stderr",
     "output_type": "stream",
     "text": [
      "C:\\Users\\tfiro\\anaconda3\\envs\\data_analytics\\lib\\site-packages\\sklearn\\base.py:439: UserWarning: X does not have valid feature names, but RandomForestRegressor was fitted with feature names\n",
      "  warnings.warn(\n"
     ]
    },
    {
     "name": "stdout",
     "output_type": "stream",
     "text": [
      "Station 42 R-squared: 0.9924737963830872\n",
      "Predicted number of available bikes for Station 42 at 2023-03-07 19:35:03: 22.70\n"
     ]
    },
    {
     "name": "stderr",
     "output_type": "stream",
     "text": [
      "C:\\Users\\tfiro\\anaconda3\\envs\\data_analytics\\lib\\site-packages\\sklearn\\base.py:439: UserWarning: X does not have valid feature names, but RandomForestRegressor was fitted with feature names\n",
      "  warnings.warn(\n"
     ]
    },
    {
     "name": "stdout",
     "output_type": "stream",
     "text": [
      "Station 43 R-squared: 0.990336919269695\n",
      "Predicted number of available bikes for Station 43 at 2023-03-07 19:35:03: 20.19\n"
     ]
    },
    {
     "name": "stderr",
     "output_type": "stream",
     "text": [
      "C:\\Users\\tfiro\\anaconda3\\envs\\data_analytics\\lib\\site-packages\\sklearn\\base.py:439: UserWarning: X does not have valid feature names, but RandomForestRegressor was fitted with feature names\n",
      "  warnings.warn(\n"
     ]
    },
    {
     "name": "stdout",
     "output_type": "stream",
     "text": [
      "Station 44 R-squared: 0.9883662295610695\n",
      "Predicted number of available bikes for Station 44 at 2023-03-07 19:35:03: 12.97\n"
     ]
    },
    {
     "name": "stderr",
     "output_type": "stream",
     "text": [
      "C:\\Users\\tfiro\\anaconda3\\envs\\data_analytics\\lib\\site-packages\\sklearn\\base.py:439: UserWarning: X does not have valid feature names, but RandomForestRegressor was fitted with feature names\n",
      "  warnings.warn(\n"
     ]
    },
    {
     "name": "stdout",
     "output_type": "stream",
     "text": [
      "Station 45 R-squared: 0.9964872061968625\n",
      "Predicted number of available bikes for Station 45 at 2023-03-07 19:35:03: 11.86\n"
     ]
    },
    {
     "name": "stderr",
     "output_type": "stream",
     "text": [
      "C:\\Users\\tfiro\\anaconda3\\envs\\data_analytics\\lib\\site-packages\\sklearn\\base.py:439: UserWarning: X does not have valid feature names, but RandomForestRegressor was fitted with feature names\n",
      "  warnings.warn(\n"
     ]
    },
    {
     "name": "stdout",
     "output_type": "stream",
     "text": [
      "Station 47 R-squared: 0.9948551544222981\n",
      "Predicted number of available bikes for Station 47 at 2023-03-07 19:35:03: 2.17\n"
     ]
    },
    {
     "name": "stderr",
     "output_type": "stream",
     "text": [
      "C:\\Users\\tfiro\\anaconda3\\envs\\data_analytics\\lib\\site-packages\\sklearn\\base.py:439: UserWarning: X does not have valid feature names, but RandomForestRegressor was fitted with feature names\n",
      "  warnings.warn(\n"
     ]
    },
    {
     "name": "stdout",
     "output_type": "stream",
     "text": [
      "Station 48 R-squared: 0.9870210489997793\n",
      "Predicted number of available bikes for Station 48 at 2023-03-07 19:35:03: 16.42\n"
     ]
    },
    {
     "name": "stderr",
     "output_type": "stream",
     "text": [
      "C:\\Users\\tfiro\\anaconda3\\envs\\data_analytics\\lib\\site-packages\\sklearn\\base.py:439: UserWarning: X does not have valid feature names, but RandomForestRegressor was fitted with feature names\n",
      "  warnings.warn(\n"
     ]
    },
    {
     "name": "stdout",
     "output_type": "stream",
     "text": [
      "Station 49 R-squared: 0.9883323441523215\n",
      "Predicted number of available bikes for Station 49 at 2023-03-07 19:35:03: 10.46\n"
     ]
    },
    {
     "name": "stderr",
     "output_type": "stream",
     "text": [
      "C:\\Users\\tfiro\\anaconda3\\envs\\data_analytics\\lib\\site-packages\\sklearn\\base.py:439: UserWarning: X does not have valid feature names, but RandomForestRegressor was fitted with feature names\n",
      "  warnings.warn(\n"
     ]
    },
    {
     "name": "stdout",
     "output_type": "stream",
     "text": [
      "Station 50 R-squared: 0.9949632975802487\n",
      "Predicted number of available bikes for Station 50 at 2023-03-07 19:35:03: 14.35\n"
     ]
    },
    {
     "name": "stderr",
     "output_type": "stream",
     "text": [
      "C:\\Users\\tfiro\\anaconda3\\envs\\data_analytics\\lib\\site-packages\\sklearn\\base.py:439: UserWarning: X does not have valid feature names, but RandomForestRegressor was fitted with feature names\n",
      "  warnings.warn(\n"
     ]
    },
    {
     "name": "stdout",
     "output_type": "stream",
     "text": [
      "Station 51 R-squared: 0.9962252637186627\n",
      "Predicted number of available bikes for Station 51 at 2023-03-07 19:35:03: 8.29\n"
     ]
    },
    {
     "name": "stderr",
     "output_type": "stream",
     "text": [
      "C:\\Users\\tfiro\\anaconda3\\envs\\data_analytics\\lib\\site-packages\\sklearn\\base.py:439: UserWarning: X does not have valid feature names, but RandomForestRegressor was fitted with feature names\n",
      "  warnings.warn(\n"
     ]
    },
    {
     "name": "stdout",
     "output_type": "stream",
     "text": [
      "Station 52 R-squared: 0.9893373215786893\n",
      "Predicted number of available bikes for Station 52 at 2023-03-07 19:35:03: 8.17\n"
     ]
    },
    {
     "name": "stderr",
     "output_type": "stream",
     "text": [
      "C:\\Users\\tfiro\\anaconda3\\envs\\data_analytics\\lib\\site-packages\\sklearn\\base.py:439: UserWarning: X does not have valid feature names, but RandomForestRegressor was fitted with feature names\n",
      "  warnings.warn(\n"
     ]
    },
    {
     "name": "stdout",
     "output_type": "stream",
     "text": [
      "Station 53 R-squared: 0.9935268560805602\n",
      "Predicted number of available bikes for Station 53 at 2023-03-07 19:35:03: 0.50\n"
     ]
    },
    {
     "name": "stderr",
     "output_type": "stream",
     "text": [
      "C:\\Users\\tfiro\\anaconda3\\envs\\data_analytics\\lib\\site-packages\\sklearn\\base.py:439: UserWarning: X does not have valid feature names, but RandomForestRegressor was fitted with feature names\n",
      "  warnings.warn(\n"
     ]
    },
    {
     "name": "stdout",
     "output_type": "stream",
     "text": [
      "Station 54 R-squared: 0.9904051812819267\n",
      "Predicted number of available bikes for Station 54 at 2023-03-07 19:35:03: 12.27\n"
     ]
    },
    {
     "name": "stderr",
     "output_type": "stream",
     "text": [
      "C:\\Users\\tfiro\\anaconda3\\envs\\data_analytics\\lib\\site-packages\\sklearn\\base.py:439: UserWarning: X does not have valid feature names, but RandomForestRegressor was fitted with feature names\n",
      "  warnings.warn(\n"
     ]
    },
    {
     "name": "stdout",
     "output_type": "stream",
     "text": [
      "Station 55 R-squared: 0.9918647731886389\n",
      "Predicted number of available bikes for Station 55 at 2023-03-07 19:35:03: 0.76\n"
     ]
    },
    {
     "name": "stderr",
     "output_type": "stream",
     "text": [
      "C:\\Users\\tfiro\\anaconda3\\envs\\data_analytics\\lib\\site-packages\\sklearn\\base.py:439: UserWarning: X does not have valid feature names, but RandomForestRegressor was fitted with feature names\n",
      "  warnings.warn(\n"
     ]
    },
    {
     "name": "stdout",
     "output_type": "stream",
     "text": [
      "Station 56 R-squared: 0.9879755993990408\n",
      "Predicted number of available bikes for Station 56 at 2023-03-07 19:35:03: 10.90\n"
     ]
    },
    {
     "name": "stderr",
     "output_type": "stream",
     "text": [
      "C:\\Users\\tfiro\\anaconda3\\envs\\data_analytics\\lib\\site-packages\\sklearn\\base.py:439: UserWarning: X does not have valid feature names, but RandomForestRegressor was fitted with feature names\n",
      "  warnings.warn(\n"
     ]
    },
    {
     "name": "stdout",
     "output_type": "stream",
     "text": [
      "Station 57 R-squared: 0.988748413421402\n",
      "Predicted number of available bikes for Station 57 at 2023-03-07 19:35:03: 5.24\n"
     ]
    },
    {
     "name": "stderr",
     "output_type": "stream",
     "text": [
      "C:\\Users\\tfiro\\anaconda3\\envs\\data_analytics\\lib\\site-packages\\sklearn\\base.py:439: UserWarning: X does not have valid feature names, but RandomForestRegressor was fitted with feature names\n",
      "  warnings.warn(\n"
     ]
    },
    {
     "name": "stdout",
     "output_type": "stream",
     "text": [
      "Station 58 R-squared: 0.98621254970722\n",
      "Predicted number of available bikes for Station 58 at 2023-03-07 19:35:03: 3.44\n"
     ]
    },
    {
     "name": "stderr",
     "output_type": "stream",
     "text": [
      "C:\\Users\\tfiro\\anaconda3\\envs\\data_analytics\\lib\\site-packages\\sklearn\\base.py:439: UserWarning: X does not have valid feature names, but RandomForestRegressor was fitted with feature names\n",
      "  warnings.warn(\n"
     ]
    },
    {
     "name": "stdout",
     "output_type": "stream",
     "text": [
      "Station 59 R-squared: 0.9790042420083297\n",
      "Predicted number of available bikes for Station 59 at 2023-03-07 19:35:03: 7.49\n"
     ]
    },
    {
     "name": "stderr",
     "output_type": "stream",
     "text": [
      "C:\\Users\\tfiro\\anaconda3\\envs\\data_analytics\\lib\\site-packages\\sklearn\\base.py:439: UserWarning: X does not have valid feature names, but RandomForestRegressor was fitted with feature names\n",
      "  warnings.warn(\n"
     ]
    },
    {
     "name": "stdout",
     "output_type": "stream",
     "text": [
      "Station 60 R-squared: 0.9851993956979131\n",
      "Predicted number of available bikes for Station 60 at 2023-03-07 19:35:03: 23.74\n"
     ]
    },
    {
     "name": "stderr",
     "output_type": "stream",
     "text": [
      "C:\\Users\\tfiro\\anaconda3\\envs\\data_analytics\\lib\\site-packages\\sklearn\\base.py:439: UserWarning: X does not have valid feature names, but RandomForestRegressor was fitted with feature names\n",
      "  warnings.warn(\n"
     ]
    },
    {
     "name": "stdout",
     "output_type": "stream",
     "text": [
      "Station 61 R-squared: 0.9762820844587643\n",
      "Predicted number of available bikes for Station 61 at 2023-03-07 19:35:03: 3.69\n"
     ]
    },
    {
     "name": "stderr",
     "output_type": "stream",
     "text": [
      "C:\\Users\\tfiro\\anaconda3\\envs\\data_analytics\\lib\\site-packages\\sklearn\\base.py:439: UserWarning: X does not have valid feature names, but RandomForestRegressor was fitted with feature names\n",
      "  warnings.warn(\n"
     ]
    },
    {
     "name": "stdout",
     "output_type": "stream",
     "text": [
      "Station 62 R-squared: 0.9939521943394893\n",
      "Predicted number of available bikes for Station 62 at 2023-03-07 19:35:03: 8.18\n"
     ]
    },
    {
     "name": "stderr",
     "output_type": "stream",
     "text": [
      "C:\\Users\\tfiro\\anaconda3\\envs\\data_analytics\\lib\\site-packages\\sklearn\\base.py:439: UserWarning: X does not have valid feature names, but RandomForestRegressor was fitted with feature names\n",
      "  warnings.warn(\n"
     ]
    },
    {
     "name": "stdout",
     "output_type": "stream",
     "text": [
      "Station 63 R-squared: 0.9849948113575666\n",
      "Predicted number of available bikes for Station 63 at 2023-03-07 19:35:03: 19.57\n"
     ]
    },
    {
     "name": "stderr",
     "output_type": "stream",
     "text": [
      "C:\\Users\\tfiro\\anaconda3\\envs\\data_analytics\\lib\\site-packages\\sklearn\\base.py:439: UserWarning: X does not have valid feature names, but RandomForestRegressor was fitted with feature names\n",
      "  warnings.warn(\n"
     ]
    },
    {
     "name": "stdout",
     "output_type": "stream",
     "text": [
      "Station 64 R-squared: 0.9826420847846198\n",
      "Predicted number of available bikes for Station 64 at 2023-03-07 19:35:03: 15.39\n"
     ]
    },
    {
     "name": "stderr",
     "output_type": "stream",
     "text": [
      "C:\\Users\\tfiro\\anaconda3\\envs\\data_analytics\\lib\\site-packages\\sklearn\\base.py:439: UserWarning: X does not have valid feature names, but RandomForestRegressor was fitted with feature names\n",
      "  warnings.warn(\n"
     ]
    },
    {
     "name": "stdout",
     "output_type": "stream",
     "text": [
      "Station 65 R-squared: 0.9947110609045238\n",
      "Predicted number of available bikes for Station 65 at 2023-03-07 19:35:03: 1.57\n"
     ]
    },
    {
     "name": "stderr",
     "output_type": "stream",
     "text": [
      "C:\\Users\\tfiro\\anaconda3\\envs\\data_analytics\\lib\\site-packages\\sklearn\\base.py:439: UserWarning: X does not have valid feature names, but RandomForestRegressor was fitted with feature names\n",
      "  warnings.warn(\n"
     ]
    },
    {
     "name": "stdout",
     "output_type": "stream",
     "text": [
      "Station 66 R-squared: 0.985245088354455\n",
      "Predicted number of available bikes for Station 66 at 2023-03-07 19:35:03: 2.55\n"
     ]
    },
    {
     "name": "stderr",
     "output_type": "stream",
     "text": [
      "C:\\Users\\tfiro\\anaconda3\\envs\\data_analytics\\lib\\site-packages\\sklearn\\base.py:439: UserWarning: X does not have valid feature names, but RandomForestRegressor was fitted with feature names\n",
      "  warnings.warn(\n"
     ]
    },
    {
     "name": "stdout",
     "output_type": "stream",
     "text": [
      "Station 67 R-squared: 0.9865218309380298\n",
      "Predicted number of available bikes for Station 67 at 2023-03-07 19:35:03: 10.36\n"
     ]
    },
    {
     "name": "stderr",
     "output_type": "stream",
     "text": [
      "C:\\Users\\tfiro\\anaconda3\\envs\\data_analytics\\lib\\site-packages\\sklearn\\base.py:439: UserWarning: X does not have valid feature names, but RandomForestRegressor was fitted with feature names\n",
      "  warnings.warn(\n"
     ]
    },
    {
     "name": "stdout",
     "output_type": "stream",
     "text": [
      "Station 68 R-squared: 0.9880624329800685\n",
      "Predicted number of available bikes for Station 68 at 2023-03-07 19:35:03: 3.01\n"
     ]
    },
    {
     "name": "stderr",
     "output_type": "stream",
     "text": [
      "C:\\Users\\tfiro\\anaconda3\\envs\\data_analytics\\lib\\site-packages\\sklearn\\base.py:439: UserWarning: X does not have valid feature names, but RandomForestRegressor was fitted with feature names\n",
      "  warnings.warn(\n"
     ]
    },
    {
     "name": "stdout",
     "output_type": "stream",
     "text": [
      "Station 69 R-squared: 0.9838333141018232\n",
      "Predicted number of available bikes for Station 69 at 2023-03-07 19:35:03: 3.55\n"
     ]
    },
    {
     "name": "stderr",
     "output_type": "stream",
     "text": [
      "C:\\Users\\tfiro\\anaconda3\\envs\\data_analytics\\lib\\site-packages\\sklearn\\base.py:439: UserWarning: X does not have valid feature names, but RandomForestRegressor was fitted with feature names\n",
      "  warnings.warn(\n"
     ]
    },
    {
     "name": "stdout",
     "output_type": "stream",
     "text": [
      "Station 71 R-squared: 0.9913937766761776\n",
      "Predicted number of available bikes for Station 71 at 2023-03-07 19:35:03: 18.69\n"
     ]
    },
    {
     "name": "stderr",
     "output_type": "stream",
     "text": [
      "C:\\Users\\tfiro\\anaconda3\\envs\\data_analytics\\lib\\site-packages\\sklearn\\base.py:439: UserWarning: X does not have valid feature names, but RandomForestRegressor was fitted with feature names\n",
      "  warnings.warn(\n"
     ]
    },
    {
     "name": "stdout",
     "output_type": "stream",
     "text": [
      "Station 72 R-squared: 0.9693255961649034\n",
      "Predicted number of available bikes for Station 72 at 2023-03-07 19:35:03: 14.08\n"
     ]
    },
    {
     "name": "stderr",
     "output_type": "stream",
     "text": [
      "C:\\Users\\tfiro\\anaconda3\\envs\\data_analytics\\lib\\site-packages\\sklearn\\base.py:439: UserWarning: X does not have valid feature names, but RandomForestRegressor was fitted with feature names\n",
      "  warnings.warn(\n"
     ]
    },
    {
     "name": "stdout",
     "output_type": "stream",
     "text": [
      "Station 73 R-squared: 0.987633068035972\n",
      "Predicted number of available bikes for Station 73 at 2023-03-07 19:35:03: 8.89\n"
     ]
    },
    {
     "name": "stderr",
     "output_type": "stream",
     "text": [
      "C:\\Users\\tfiro\\anaconda3\\envs\\data_analytics\\lib\\site-packages\\sklearn\\base.py:439: UserWarning: X does not have valid feature names, but RandomForestRegressor was fitted with feature names\n",
      "  warnings.warn(\n"
     ]
    },
    {
     "name": "stdout",
     "output_type": "stream",
     "text": [
      "Station 74 R-squared: 0.99100623733914\n",
      "Predicted number of available bikes for Station 74 at 2023-03-07 19:35:03: 10.25\n"
     ]
    },
    {
     "name": "stderr",
     "output_type": "stream",
     "text": [
      "C:\\Users\\tfiro\\anaconda3\\envs\\data_analytics\\lib\\site-packages\\sklearn\\base.py:439: UserWarning: X does not have valid feature names, but RandomForestRegressor was fitted with feature names\n",
      "  warnings.warn(\n"
     ]
    },
    {
     "name": "stdout",
     "output_type": "stream",
     "text": [
      "Station 75 R-squared: 0.9894343236856307\n",
      "Predicted number of available bikes for Station 75 at 2023-03-07 19:35:03: 6.19\n"
     ]
    },
    {
     "name": "stderr",
     "output_type": "stream",
     "text": [
      "C:\\Users\\tfiro\\anaconda3\\envs\\data_analytics\\lib\\site-packages\\sklearn\\base.py:439: UserWarning: X does not have valid feature names, but RandomForestRegressor was fitted with feature names\n",
      "  warnings.warn(\n"
     ]
    },
    {
     "name": "stdout",
     "output_type": "stream",
     "text": [
      "Station 76 R-squared: 0.9820340751168501\n",
      "Predicted number of available bikes for Station 76 at 2023-03-07 19:35:03: 18.33\n"
     ]
    },
    {
     "name": "stderr",
     "output_type": "stream",
     "text": [
      "C:\\Users\\tfiro\\anaconda3\\envs\\data_analytics\\lib\\site-packages\\sklearn\\base.py:439: UserWarning: X does not have valid feature names, but RandomForestRegressor was fitted with feature names\n",
      "  warnings.warn(\n"
     ]
    },
    {
     "name": "stdout",
     "output_type": "stream",
     "text": [
      "Station 77 R-squared: 0.9883689658730563\n",
      "Predicted number of available bikes for Station 77 at 2023-03-07 19:35:03: 6.74\n"
     ]
    },
    {
     "name": "stderr",
     "output_type": "stream",
     "text": [
      "C:\\Users\\tfiro\\anaconda3\\envs\\data_analytics\\lib\\site-packages\\sklearn\\base.py:439: UserWarning: X does not have valid feature names, but RandomForestRegressor was fitted with feature names\n",
      "  warnings.warn(\n"
     ]
    },
    {
     "name": "stdout",
     "output_type": "stream",
     "text": [
      "Station 78 R-squared: 0.9869044414212326\n",
      "Predicted number of available bikes for Station 78 at 2023-03-07 19:35:03: 8.60\n"
     ]
    },
    {
     "name": "stderr",
     "output_type": "stream",
     "text": [
      "C:\\Users\\tfiro\\anaconda3\\envs\\data_analytics\\lib\\site-packages\\sklearn\\base.py:439: UserWarning: X does not have valid feature names, but RandomForestRegressor was fitted with feature names\n",
      "  warnings.warn(\n"
     ]
    },
    {
     "name": "stdout",
     "output_type": "stream",
     "text": [
      "Station 79 R-squared: 0.9873026469965749\n",
      "Predicted number of available bikes for Station 79 at 2023-03-07 19:35:03: 5.47\n"
     ]
    },
    {
     "name": "stderr",
     "output_type": "stream",
     "text": [
      "C:\\Users\\tfiro\\anaconda3\\envs\\data_analytics\\lib\\site-packages\\sklearn\\base.py:439: UserWarning: X does not have valid feature names, but RandomForestRegressor was fitted with feature names\n",
      "  warnings.warn(\n"
     ]
    },
    {
     "name": "stdout",
     "output_type": "stream",
     "text": [
      "Station 80 R-squared: 0.9822054836883976\n",
      "Predicted number of available bikes for Station 80 at 2023-03-07 19:35:03: 10.13\n"
     ]
    },
    {
     "name": "stderr",
     "output_type": "stream",
     "text": [
      "C:\\Users\\tfiro\\anaconda3\\envs\\data_analytics\\lib\\site-packages\\sklearn\\base.py:439: UserWarning: X does not have valid feature names, but RandomForestRegressor was fitted with feature names\n",
      "  warnings.warn(\n"
     ]
    },
    {
     "name": "stdout",
     "output_type": "stream",
     "text": [
      "Station 82 R-squared: 0.9836057321204218\n",
      "Predicted number of available bikes for Station 82 at 2023-03-07 19:35:03: 4.48\n"
     ]
    },
    {
     "name": "stderr",
     "output_type": "stream",
     "text": [
      "C:\\Users\\tfiro\\anaconda3\\envs\\data_analytics\\lib\\site-packages\\sklearn\\base.py:439: UserWarning: X does not have valid feature names, but RandomForestRegressor was fitted with feature names\n",
      "  warnings.warn(\n"
     ]
    },
    {
     "name": "stdout",
     "output_type": "stream",
     "text": [
      "Station 83 R-squared: 0.9959762205261397\n",
      "Predicted number of available bikes for Station 83 at 2023-03-07 19:35:03: 29.27\n"
     ]
    },
    {
     "name": "stderr",
     "output_type": "stream",
     "text": [
      "C:\\Users\\tfiro\\anaconda3\\envs\\data_analytics\\lib\\site-packages\\sklearn\\base.py:439: UserWarning: X does not have valid feature names, but RandomForestRegressor was fitted with feature names\n",
      "  warnings.warn(\n"
     ]
    },
    {
     "name": "stdout",
     "output_type": "stream",
     "text": [
      "Station 84 R-squared: 0.9929633884799163\n",
      "Predicted number of available bikes for Station 84 at 2023-03-07 19:35:03: 16.47\n"
     ]
    },
    {
     "name": "stderr",
     "output_type": "stream",
     "text": [
      "C:\\Users\\tfiro\\anaconda3\\envs\\data_analytics\\lib\\site-packages\\sklearn\\base.py:439: UserWarning: X does not have valid feature names, but RandomForestRegressor was fitted with feature names\n",
      "  warnings.warn(\n"
     ]
    },
    {
     "name": "stdout",
     "output_type": "stream",
     "text": [
      "Station 85 R-squared: 0.9908372967704575\n",
      "Predicted number of available bikes for Station 85 at 2023-03-07 19:35:03: 13.80\n"
     ]
    },
    {
     "name": "stderr",
     "output_type": "stream",
     "text": [
      "C:\\Users\\tfiro\\anaconda3\\envs\\data_analytics\\lib\\site-packages\\sklearn\\base.py:439: UserWarning: X does not have valid feature names, but RandomForestRegressor was fitted with feature names\n",
      "  warnings.warn(\n"
     ]
    },
    {
     "name": "stdout",
     "output_type": "stream",
     "text": [
      "Station 86 R-squared: 0.9947164628934116\n",
      "Predicted number of available bikes for Station 86 at 2023-03-07 19:35:03: 37.21\n"
     ]
    },
    {
     "name": "stderr",
     "output_type": "stream",
     "text": [
      "C:\\Users\\tfiro\\anaconda3\\envs\\data_analytics\\lib\\site-packages\\sklearn\\base.py:439: UserWarning: X does not have valid feature names, but RandomForestRegressor was fitted with feature names\n",
      "  warnings.warn(\n"
     ]
    },
    {
     "name": "stdout",
     "output_type": "stream",
     "text": [
      "Station 87 R-squared: 0.994006334291233\n",
      "Predicted number of available bikes for Station 87 at 2023-03-07 19:35:03: 10.98\n"
     ]
    },
    {
     "name": "stderr",
     "output_type": "stream",
     "text": [
      "C:\\Users\\tfiro\\anaconda3\\envs\\data_analytics\\lib\\site-packages\\sklearn\\base.py:439: UserWarning: X does not have valid feature names, but RandomForestRegressor was fitted with feature names\n",
      "  warnings.warn(\n"
     ]
    },
    {
     "name": "stdout",
     "output_type": "stream",
     "text": [
      "Station 89 R-squared: 0.9877131373590203\n",
      "Predicted number of available bikes for Station 89 at 2023-03-07 19:35:03: 0.03\n"
     ]
    },
    {
     "name": "stderr",
     "output_type": "stream",
     "text": [
      "C:\\Users\\tfiro\\anaconda3\\envs\\data_analytics\\lib\\site-packages\\sklearn\\base.py:439: UserWarning: X does not have valid feature names, but RandomForestRegressor was fitted with feature names\n",
      "  warnings.warn(\n"
     ]
    },
    {
     "name": "stdout",
     "output_type": "stream",
     "text": [
      "Station 90 R-squared: 0.9900638733923014\n",
      "Predicted number of available bikes for Station 90 at 2023-03-07 19:35:03: 2.37\n"
     ]
    },
    {
     "name": "stderr",
     "output_type": "stream",
     "text": [
      "C:\\Users\\tfiro\\anaconda3\\envs\\data_analytics\\lib\\site-packages\\sklearn\\base.py:439: UserWarning: X does not have valid feature names, but RandomForestRegressor was fitted with feature names\n",
      "  warnings.warn(\n"
     ]
    },
    {
     "name": "stdout",
     "output_type": "stream",
     "text": [
      "Station 91 R-squared: 0.9788384424560324\n",
      "Predicted number of available bikes for Station 91 at 2023-03-07 19:35:03: 21.62\n"
     ]
    },
    {
     "name": "stderr",
     "output_type": "stream",
     "text": [
      "C:\\Users\\tfiro\\anaconda3\\envs\\data_analytics\\lib\\site-packages\\sklearn\\base.py:439: UserWarning: X does not have valid feature names, but RandomForestRegressor was fitted with feature names\n",
      "  warnings.warn(\n"
     ]
    },
    {
     "name": "stdout",
     "output_type": "stream",
     "text": [
      "Station 92 R-squared: 0.9951460562745786\n",
      "Predicted number of available bikes for Station 92 at 2023-03-07 19:35:03: 37.05\n"
     ]
    },
    {
     "name": "stderr",
     "output_type": "stream",
     "text": [
      "C:\\Users\\tfiro\\anaconda3\\envs\\data_analytics\\lib\\site-packages\\sklearn\\base.py:439: UserWarning: X does not have valid feature names, but RandomForestRegressor was fitted with feature names\n",
      "  warnings.warn(\n"
     ]
    },
    {
     "name": "stdout",
     "output_type": "stream",
     "text": [
      "Station 93 R-squared: 0.9964824389284375\n",
      "Predicted number of available bikes for Station 93 at 2023-03-07 19:35:03: 33.78\n"
     ]
    },
    {
     "name": "stderr",
     "output_type": "stream",
     "text": [
      "C:\\Users\\tfiro\\anaconda3\\envs\\data_analytics\\lib\\site-packages\\sklearn\\base.py:439: UserWarning: X does not have valid feature names, but RandomForestRegressor was fitted with feature names\n",
      "  warnings.warn(\n"
     ]
    },
    {
     "name": "stdout",
     "output_type": "stream",
     "text": [
      "Station 94 R-squared: 0.9986290774427968\n",
      "Predicted number of available bikes for Station 94 at 2023-03-07 19:35:03: 14.69\n"
     ]
    },
    {
     "name": "stderr",
     "output_type": "stream",
     "text": [
      "C:\\Users\\tfiro\\anaconda3\\envs\\data_analytics\\lib\\site-packages\\sklearn\\base.py:439: UserWarning: X does not have valid feature names, but RandomForestRegressor was fitted with feature names\n",
      "  warnings.warn(\n"
     ]
    },
    {
     "name": "stdout",
     "output_type": "stream",
     "text": [
      "Station 95 R-squared: 0.9951635923830763\n",
      "Predicted number of available bikes for Station 95 at 2023-03-07 19:35:03: 25.96\n"
     ]
    },
    {
     "name": "stderr",
     "output_type": "stream",
     "text": [
      "C:\\Users\\tfiro\\anaconda3\\envs\\data_analytics\\lib\\site-packages\\sklearn\\base.py:439: UserWarning: X does not have valid feature names, but RandomForestRegressor was fitted with feature names\n",
      "  warnings.warn(\n"
     ]
    },
    {
     "name": "stdout",
     "output_type": "stream",
     "text": [
      "Station 96 R-squared: 0.9948744170001363\n",
      "Predicted number of available bikes for Station 96 at 2023-03-07 19:35:03: 8.17\n"
     ]
    },
    {
     "name": "stderr",
     "output_type": "stream",
     "text": [
      "C:\\Users\\tfiro\\anaconda3\\envs\\data_analytics\\lib\\site-packages\\sklearn\\base.py:439: UserWarning: X does not have valid feature names, but RandomForestRegressor was fitted with feature names\n",
      "  warnings.warn(\n"
     ]
    },
    {
     "name": "stdout",
     "output_type": "stream",
     "text": [
      "Station 97 R-squared: 0.9859560548493274\n",
      "Predicted number of available bikes for Station 97 at 2023-03-07 19:35:03: 15.79\n"
     ]
    },
    {
     "name": "stderr",
     "output_type": "stream",
     "text": [
      "C:\\Users\\tfiro\\anaconda3\\envs\\data_analytics\\lib\\site-packages\\sklearn\\base.py:439: UserWarning: X does not have valid feature names, but RandomForestRegressor was fitted with feature names\n",
      "  warnings.warn(\n"
     ]
    },
    {
     "name": "stdout",
     "output_type": "stream",
     "text": [
      "Station 98 R-squared: 0.9956282289675084\n",
      "Predicted number of available bikes for Station 98 at 2023-03-07 19:35:03: 1.09\n"
     ]
    },
    {
     "name": "stderr",
     "output_type": "stream",
     "text": [
      "C:\\Users\\tfiro\\anaconda3\\envs\\data_analytics\\lib\\site-packages\\sklearn\\base.py:439: UserWarning: X does not have valid feature names, but RandomForestRegressor was fitted with feature names\n",
      "  warnings.warn(\n"
     ]
    },
    {
     "name": "stdout",
     "output_type": "stream",
     "text": [
      "Station 99 R-squared: 0.9910443566803362\n",
      "Predicted number of available bikes for Station 99 at 2023-03-07 19:35:03: 8.25\n"
     ]
    },
    {
     "name": "stderr",
     "output_type": "stream",
     "text": [
      "C:\\Users\\tfiro\\anaconda3\\envs\\data_analytics\\lib\\site-packages\\sklearn\\base.py:439: UserWarning: X does not have valid feature names, but RandomForestRegressor was fitted with feature names\n",
      "  warnings.warn(\n"
     ]
    },
    {
     "name": "stdout",
     "output_type": "stream",
     "text": [
      "Station 100 R-squared: 0.9900245957831093\n",
      "Predicted number of available bikes for Station 100 at 2023-03-07 19:35:03: 22.62\n"
     ]
    },
    {
     "name": "stderr",
     "output_type": "stream",
     "text": [
      "C:\\Users\\tfiro\\anaconda3\\envs\\data_analytics\\lib\\site-packages\\sklearn\\base.py:439: UserWarning: X does not have valid feature names, but RandomForestRegressor was fitted with feature names\n",
      "  warnings.warn(\n"
     ]
    },
    {
     "name": "stdout",
     "output_type": "stream",
     "text": [
      "Station 101 R-squared: 0.9937957903857154\n",
      "Predicted number of available bikes for Station 101 at 2023-03-07 19:35:03: 13.23\n"
     ]
    },
    {
     "name": "stderr",
     "output_type": "stream",
     "text": [
      "C:\\Users\\tfiro\\anaconda3\\envs\\data_analytics\\lib\\site-packages\\sklearn\\base.py:439: UserWarning: X does not have valid feature names, but RandomForestRegressor was fitted with feature names\n",
      "  warnings.warn(\n"
     ]
    },
    {
     "name": "stdout",
     "output_type": "stream",
     "text": [
      "Station 102 R-squared: 0.9711334195593213\n",
      "Predicted number of available bikes for Station 102 at 2023-03-07 19:35:03: 12.08\n"
     ]
    },
    {
     "name": "stderr",
     "output_type": "stream",
     "text": [
      "C:\\Users\\tfiro\\anaconda3\\envs\\data_analytics\\lib\\site-packages\\sklearn\\base.py:439: UserWarning: X does not have valid feature names, but RandomForestRegressor was fitted with feature names\n",
      "  warnings.warn(\n"
     ]
    },
    {
     "name": "stdout",
     "output_type": "stream",
     "text": [
      "Station 103 R-squared: 0.9893204733871878\n",
      "Predicted number of available bikes for Station 103 at 2023-03-07 19:35:03: 3.19\n"
     ]
    },
    {
     "name": "stderr",
     "output_type": "stream",
     "text": [
      "C:\\Users\\tfiro\\anaconda3\\envs\\data_analytics\\lib\\site-packages\\sklearn\\base.py:439: UserWarning: X does not have valid feature names, but RandomForestRegressor was fitted with feature names\n",
      "  warnings.warn(\n"
     ]
    },
    {
     "name": "stdout",
     "output_type": "stream",
     "text": [
      "Station 104 R-squared: 0.9938036746476483\n",
      "Predicted number of available bikes for Station 104 at 2023-03-07 19:35:03: 6.34\n"
     ]
    },
    {
     "name": "stderr",
     "output_type": "stream",
     "text": [
      "C:\\Users\\tfiro\\anaconda3\\envs\\data_analytics\\lib\\site-packages\\sklearn\\base.py:439: UserWarning: X does not have valid feature names, but RandomForestRegressor was fitted with feature names\n",
      "  warnings.warn(\n"
     ]
    },
    {
     "name": "stdout",
     "output_type": "stream",
     "text": [
      "Station 105 R-squared: 0.9867858423910815\n",
      "Predicted number of available bikes for Station 105 at 2023-03-07 19:35:03: 12.86\n"
     ]
    },
    {
     "name": "stderr",
     "output_type": "stream",
     "text": [
      "C:\\Users\\tfiro\\anaconda3\\envs\\data_analytics\\lib\\site-packages\\sklearn\\base.py:439: UserWarning: X does not have valid feature names, but RandomForestRegressor was fitted with feature names\n",
      "  warnings.warn(\n"
     ]
    },
    {
     "name": "stdout",
     "output_type": "stream",
     "text": [
      "Station 106 R-squared: 0.9829782533199476\n",
      "Predicted number of available bikes for Station 106 at 2023-03-07 19:35:03: 14.25\n"
     ]
    },
    {
     "name": "stderr",
     "output_type": "stream",
     "text": [
      "C:\\Users\\tfiro\\anaconda3\\envs\\data_analytics\\lib\\site-packages\\sklearn\\base.py:439: UserWarning: X does not have valid feature names, but RandomForestRegressor was fitted with feature names\n",
      "  warnings.warn(\n"
     ]
    },
    {
     "name": "stdout",
     "output_type": "stream",
     "text": [
      "Station 107 R-squared: 0.9863532364695659\n",
      "Predicted number of available bikes for Station 107 at 2023-03-07 19:35:03: 26.31\n"
     ]
    },
    {
     "name": "stderr",
     "output_type": "stream",
     "text": [
      "C:\\Users\\tfiro\\anaconda3\\envs\\data_analytics\\lib\\site-packages\\sklearn\\base.py:439: UserWarning: X does not have valid feature names, but RandomForestRegressor was fitted with feature names\n",
      "  warnings.warn(\n"
     ]
    },
    {
     "name": "stdout",
     "output_type": "stream",
     "text": [
      "Station 108 R-squared: 0.9795812653215314\n",
      "Predicted number of available bikes for Station 108 at 2023-03-07 19:35:03: 9.95\n"
     ]
    },
    {
     "name": "stderr",
     "output_type": "stream",
     "text": [
      "C:\\Users\\tfiro\\anaconda3\\envs\\data_analytics\\lib\\site-packages\\sklearn\\base.py:439: UserWarning: X does not have valid feature names, but RandomForestRegressor was fitted with feature names\n",
      "  warnings.warn(\n"
     ]
    },
    {
     "name": "stdout",
     "output_type": "stream",
     "text": [
      "Station 109 R-squared: 0.9893960780138891\n",
      "Predicted number of available bikes for Station 109 at 2023-03-07 19:35:03: 7.60\n"
     ]
    },
    {
     "name": "stderr",
     "output_type": "stream",
     "text": [
      "C:\\Users\\tfiro\\anaconda3\\envs\\data_analytics\\lib\\site-packages\\sklearn\\base.py:439: UserWarning: X does not have valid feature names, but RandomForestRegressor was fitted with feature names\n",
      "  warnings.warn(\n"
     ]
    },
    {
     "name": "stdout",
     "output_type": "stream",
     "text": [
      "Station 110 R-squared: 0.9870458800088371\n",
      "Predicted number of available bikes for Station 110 at 2023-03-07 19:35:03: 18.65\n"
     ]
    },
    {
     "name": "stderr",
     "output_type": "stream",
     "text": [
      "C:\\Users\\tfiro\\anaconda3\\envs\\data_analytics\\lib\\site-packages\\sklearn\\base.py:439: UserWarning: X does not have valid feature names, but RandomForestRegressor was fitted with feature names\n",
      "  warnings.warn(\n"
     ]
    },
    {
     "name": "stdout",
     "output_type": "stream",
     "text": [
      "Station 111 R-squared: 0.9905288465016402\n",
      "Predicted number of available bikes for Station 111 at 2023-03-07 19:35:03: 4.71\n"
     ]
    },
    {
     "name": "stderr",
     "output_type": "stream",
     "text": [
      "C:\\Users\\tfiro\\anaconda3\\envs\\data_analytics\\lib\\site-packages\\sklearn\\base.py:439: UserWarning: X does not have valid feature names, but RandomForestRegressor was fitted with feature names\n",
      "  warnings.warn(\n"
     ]
    },
    {
     "name": "stdout",
     "output_type": "stream",
     "text": [
      "Station 112 R-squared: 0.987961186153336\n",
      "Predicted number of available bikes for Station 112 at 2023-03-07 19:35:03: 20.25\n"
     ]
    },
    {
     "name": "stderr",
     "output_type": "stream",
     "text": [
      "C:\\Users\\tfiro\\anaconda3\\envs\\data_analytics\\lib\\site-packages\\sklearn\\base.py:439: UserWarning: X does not have valid feature names, but RandomForestRegressor was fitted with feature names\n",
      "  warnings.warn(\n"
     ]
    },
    {
     "name": "stdout",
     "output_type": "stream",
     "text": [
      "Station 113 R-squared: 0.9959839850451739\n",
      "Predicted number of available bikes for Station 113 at 2023-03-07 19:35:03: 9.52\n"
     ]
    },
    {
     "name": "stderr",
     "output_type": "stream",
     "text": [
      "C:\\Users\\tfiro\\anaconda3\\envs\\data_analytics\\lib\\site-packages\\sklearn\\base.py:439: UserWarning: X does not have valid feature names, but RandomForestRegressor was fitted with feature names\n",
      "  warnings.warn(\n"
     ]
    },
    {
     "name": "stdout",
     "output_type": "stream",
     "text": [
      "Station 114 R-squared: 0.9951596767313482\n",
      "Predicted number of available bikes for Station 114 at 2023-03-07 19:35:03: 5.11\n"
     ]
    },
    {
     "name": "stderr",
     "output_type": "stream",
     "text": [
      "C:\\Users\\tfiro\\anaconda3\\envs\\data_analytics\\lib\\site-packages\\sklearn\\base.py:439: UserWarning: X does not have valid feature names, but RandomForestRegressor was fitted with feature names\n",
      "  warnings.warn(\n"
     ]
    },
    {
     "name": "stdout",
     "output_type": "stream",
     "text": [
      "Station 115 R-squared: 0.9928953878215472\n",
      "Predicted number of available bikes for Station 115 at 2023-03-07 19:35:03: 19.20\n"
     ]
    },
    {
     "name": "stderr",
     "output_type": "stream",
     "text": [
      "C:\\Users\\tfiro\\anaconda3\\envs\\data_analytics\\lib\\site-packages\\sklearn\\base.py:439: UserWarning: X does not have valid feature names, but RandomForestRegressor was fitted with feature names\n",
      "  warnings.warn(\n"
     ]
    },
    {
     "name": "stdout",
     "output_type": "stream",
     "text": [
      "Station 116 R-squared: 0.9783126204085197\n",
      "Predicted number of available bikes for Station 116 at 2023-03-07 19:35:03: 2.91\n"
     ]
    },
    {
     "name": "stderr",
     "output_type": "stream",
     "text": [
      "C:\\Users\\tfiro\\anaconda3\\envs\\data_analytics\\lib\\site-packages\\sklearn\\base.py:439: UserWarning: X does not have valid feature names, but RandomForestRegressor was fitted with feature names\n",
      "  warnings.warn(\n"
     ]
    },
    {
     "name": "stdout",
     "output_type": "stream",
     "text": [
      "Station 117 R-squared: 0.9969065388949339\n",
      "Predicted number of available bikes for Station 117 at 2023-03-07 19:35:03: 5.70\n"
     ]
    },
    {
     "name": "stderr",
     "output_type": "stream",
     "text": [
      "C:\\Users\\tfiro\\anaconda3\\envs\\data_analytics\\lib\\site-packages\\sklearn\\base.py:439: UserWarning: X does not have valid feature names, but RandomForestRegressor was fitted with feature names\n",
      "  warnings.warn(\n"
     ]
    },
    {
     "name": "stdout",
     "output_type": "stream",
     "text": [
      "Station 507 R-squared: 1.0\n",
      "Predicted number of available bikes for Station 507 at 2023-03-07 19:35:03: 1.00\n"
     ]
    },
    {
     "name": "stderr",
     "output_type": "stream",
     "text": [
      "C:\\Users\\tfiro\\anaconda3\\envs\\data_analytics\\lib\\site-packages\\sklearn\\base.py:439: UserWarning: X does not have valid feature names, but RandomForestRegressor was fitted with feature names\n",
      "  warnings.warn(\n"
     ]
    }
   ],
   "source": [
    "from sklearn.ensemble import RandomForestRegressor\n",
    "for station, station_df in station_dfs.items():\n",
    "    X = station_df[['hour', 'day','minute','month','temperature', 'wind_speed', 'wind_direction', 'weather_code']]\n",
    "    y = station_df['available_bikes']\n",
    "\n",
    "    X_train, X_test, y_train, y_test = train_test_split(X, y, test_size=0.3, random_state=42)\n",
    "    \n",
    "    model = RandomForestRegressor(n_estimators=100, random_state=42)\n",
    "\n",
    "    model.fit(X_train, y_train)\n",
    "    print(f\"Station {station} R-squared: {model.score(X_test, y_test)}\")\n",
    "    station_num = 1\n",
    "    time_str = '2023-03-07 19:35:03'\n",
    "    weather_code = 801\n",
    "    temperature = 10\n",
    "    wind_speed = 6\n",
    "    wind_direction = 240\n",
    "    time = pd.to_datetime(time_str)\n",
    "    hour = time.hour\n",
    "    day=time.day\n",
    "    minute=time.minute\n",
    "    month=time.month\n",
    "    prediction_input = [[hour,day,minute,month, temperature, wind_speed, wind_direction, weather_code]]\n",
    "    prediction = model.predict(prediction_input)\n",
    "    \n",
    "    print(f\"Predicted number of available bikes for Station {station} at {time_str}: {prediction[0]:.2f}\")\n"
   ]
  },
  {
   "cell_type": "code",
   "execution_count": 43,
   "id": "f045539d-655b-4dd6-8594-9a27f57a1bf4",
   "metadata": {},
   "outputs": [
    {
     "name": "stdout",
     "output_type": "stream",
     "text": [
      "Station 1 R-squared: 0.9885572626983842\n",
      "Station 2 R-squared: 0.9656947068603603\n",
      "Station 3 R-squared: 0.9806680733824458\n",
      "Station 4 R-squared: 0.9892477221003506\n",
      "Station 5 R-squared: 0.987207239004247\n",
      "Station 6 R-squared: 0.9910299938001904\n",
      "Station 7 R-squared: 0.9877670110437442\n",
      "Station 8 R-squared: 0.9802049022405906\n",
      "Station 9 R-squared: 0.9720537872703916\n",
      "Station 10 R-squared: 0.9705409899949446\n",
      "Station 11 R-squared: 0.995218162354485\n",
      "Station 12 R-squared: 0.9851238314230923\n",
      "Station 13 R-squared: 0.994618784266364\n",
      "Station 14 R-squared: 0.9736102373177122\n",
      "Station 15 R-squared: 0.9592645201140807\n",
      "Station 16 R-squared: 0.9776311273965224\n",
      "Station 17 R-squared: 0.9889064390473342\n",
      "Station 18 R-squared: 0.9852430276976931\n",
      "Station 19 R-squared: 0.9901850380719291\n",
      "Station 20 R-squared: 0.994070236133207\n",
      "Station 21 R-squared: 0.9831702824885127\n",
      "Station 22 R-squared: 0.9846415571586682\n",
      "Station 23 R-squared: 0.9843041265312743\n",
      "Station 24 R-squared: 0.9641325959468358\n",
      "Station 25 R-squared: 0.9951362629859141\n",
      "Station 26 R-squared: 0.9827474015253639\n",
      "Station 27 R-squared: 0.9883979717665868\n",
      "Station 28 R-squared: 0.9606924590349856\n",
      "Station 29 R-squared: 0.983076178616641\n",
      "Station 30 R-squared: 0.9851698502492565\n",
      "Station 31 R-squared: 0.9624491591402928\n",
      "Station 32 R-squared: 0.9703574250742705\n",
      "Station 33 R-squared: 0.9432926764799782\n",
      "Station 34 R-squared: 0.9798570159940423\n",
      "Station 35 R-squared: 0.9908947401920761\n",
      "Station 36 R-squared: 0.9890995856362488\n",
      "Station 37 R-squared: 0.9926190382403605\n",
      "Station 38 R-squared: 0.9904148848572046\n",
      "Station 39 R-squared: 0.9768993047420359\n",
      "Station 40 R-squared: 0.9732256301465553\n",
      "Station 41 R-squared: 0.9915449621402481\n",
      "Station 42 R-squared: 0.9924737963830872\n",
      "Station 43 R-squared: 0.990336919269695\n",
      "Station 44 R-squared: 0.9883662295610695\n",
      "Station 45 R-squared: 0.9964872061968625\n",
      "Station 47 R-squared: 0.9948551544222981\n",
      "Station 48 R-squared: 0.9870210489997793\n",
      "Station 49 R-squared: 0.9883323441523215\n",
      "Station 50 R-squared: 0.9949632975802487\n",
      "Station 51 R-squared: 0.9962252637186627\n",
      "Station 52 R-squared: 0.9893373215786893\n",
      "Station 53 R-squared: 0.9935268560805602\n",
      "Station 54 R-squared: 0.9904051812819267\n",
      "Station 55 R-squared: 0.9918647731886389\n",
      "Station 56 R-squared: 0.9879755993990408\n",
      "Station 57 R-squared: 0.988748413421402\n",
      "Station 58 R-squared: 0.98621254970722\n",
      "Station 59 R-squared: 0.9790042420083297\n",
      "Station 60 R-squared: 0.9851993956979131\n",
      "Station 61 R-squared: 0.9762820844587643\n",
      "Station 62 R-squared: 0.9939521943394893\n",
      "Station 63 R-squared: 0.9849948113575666\n",
      "Station 64 R-squared: 0.9826420847846198\n",
      "Station 65 R-squared: 0.9947110609045238\n",
      "Station 66 R-squared: 0.985245088354455\n",
      "Station 67 R-squared: 0.9865218309380298\n",
      "Station 68 R-squared: 0.9880624329800685\n",
      "Station 69 R-squared: 0.9838333141018232\n",
      "Station 71 R-squared: 0.9913937766761776\n",
      "Station 72 R-squared: 0.9693255961649034\n",
      "Station 73 R-squared: 0.987633068035972\n",
      "Station 74 R-squared: 0.99100623733914\n",
      "Station 75 R-squared: 0.9894343236856307\n",
      "Station 76 R-squared: 0.9820340751168501\n",
      "Station 77 R-squared: 0.9883689658730563\n",
      "Station 78 R-squared: 0.9869044414212326\n",
      "Station 79 R-squared: 0.9873026469965749\n",
      "Station 80 R-squared: 0.9822054836883976\n",
      "Station 82 R-squared: 0.9836057321204218\n",
      "Station 83 R-squared: 0.9959762205261397\n",
      "Station 84 R-squared: 0.9929633884799163\n",
      "Station 85 R-squared: 0.9908372967704575\n",
      "Station 86 R-squared: 0.9947164628934116\n",
      "Station 87 R-squared: 0.994006334291233\n",
      "Station 89 R-squared: 0.9877131373590203\n",
      "Station 90 R-squared: 0.9900638733923014\n",
      "Station 91 R-squared: 0.9788384424560324\n",
      "Station 92 R-squared: 0.9951460562745786\n",
      "Station 93 R-squared: 0.9964824389284375\n",
      "Station 94 R-squared: 0.9986290774427968\n",
      "Station 95 R-squared: 0.9951635923830763\n",
      "Station 96 R-squared: 0.9948744170001363\n",
      "Station 97 R-squared: 0.9859560548493274\n",
      "Station 98 R-squared: 0.9956282289675084\n",
      "Station 99 R-squared: 0.9910443566803362\n",
      "Station 100 R-squared: 0.9900245957831093\n",
      "Station 101 R-squared: 0.9937957903857154\n",
      "Station 102 R-squared: 0.9711334195593213\n",
      "Station 103 R-squared: 0.9893204733871878\n",
      "Station 104 R-squared: 0.9938036746476483\n",
      "Station 105 R-squared: 0.9867858423910815\n",
      "Station 106 R-squared: 0.9829782533199476\n",
      "Station 107 R-squared: 0.9863532364695659\n",
      "Station 108 R-squared: 0.9795812653215314\n",
      "Station 109 R-squared: 0.9893960780138891\n",
      "Station 110 R-squared: 0.9870458800088371\n",
      "Station 111 R-squared: 0.9905288465016402\n",
      "Station 112 R-squared: 0.987961186153336\n",
      "Station 113 R-squared: 0.9959839850451739\n",
      "Station 114 R-squared: 0.9951596767313482\n",
      "Station 115 R-squared: 0.9928953878215472\n",
      "Station 116 R-squared: 0.9783126204085197\n",
      "Station 117 R-squared: 0.9969065388949339\n",
      "Station 507 R-squared: 1.0\n"
     ]
    }
   ],
   "source": [
    "import pickle\n",
    "from sklearn.ensemble import RandomForestRegressor\n",
    "\n",
    "for station, station_df in station_dfs.items():\n",
    "    X = station_df[['hour', 'day','minute','month','temperature', 'wind_speed', 'wind_direction', 'weather_code']]\n",
    "    y = station_df['available_bikes']\n",
    "\n",
    "    X_train, X_test, y_train, y_test = train_test_split(X, y, test_size=0.3, random_state=42)\n",
    "    \n",
    "    model = RandomForestRegressor(n_estimators=100, random_state=42)\n",
    "\n",
    "    model.fit(X_train, y_train)\n",
    "    print(f\"Station {station} R-squared: {model.score(X_test, y_test)}\")\n",
    "    \n",
    "    #Save the model to a pickle file\n",
    "    filename = f\"model_dep{station}.pkl\"\n",
    "    with open(filename, 'wb') as file:\n",
    "        pickle.dump(model, file, pickle.HIGHEST_PROTOCOL)\n"
   ]
  },
  {
   "cell_type": "code",
   "execution_count": 44,
   "id": "16b30cb9-2543-4076-ba9f-b519e1e798a2",
   "metadata": {},
   "outputs": [
    {
     "name": "stdout",
     "output_type": "stream",
     "text": [
      "Station 1 R-squared: 0.9883671791530877\n",
      "Station 2 R-squared: 0.966144045680856\n",
      "Station 3 R-squared: 0.9806294228142073\n",
      "Station 4 R-squared: 0.9890948586540731\n",
      "Station 5 R-squared: 0.9870281086616738\n",
      "Station 6 R-squared: 0.9907493064762244\n",
      "Station 7 R-squared: 0.9876425174906951\n",
      "Station 8 R-squared: 0.9802282805607118\n",
      "Station 9 R-squared: 0.9723913941447229\n",
      "Station 10 R-squared: 0.9700441686692782\n",
      "Station 11 R-squared: 0.9952032187962234\n",
      "Station 12 R-squared: 0.98518101677666\n",
      "Station 13 R-squared: 0.9948387599078815\n",
      "Station 14 R-squared: 0.9738449097065885\n",
      "Station 15 R-squared: 0.9584663017866462\n",
      "Station 16 R-squared: 0.9780724838948803\n",
      "Station 17 R-squared: 0.9894295290716049\n",
      "Station 18 R-squared: 0.9852471910879688\n",
      "Station 19 R-squared: 0.9905007306960811\n",
      "Station 20 R-squared: 0.9940980364027817\n",
      "Station 21 R-squared: 0.9830084581301374\n",
      "Station 22 R-squared: 0.9843441385853734\n",
      "Station 23 R-squared: 0.9736510503311016\n",
      "Station 24 R-squared: 0.9641852731137218\n",
      "Station 25 R-squared: 0.9954446479952368\n",
      "Station 26 R-squared: 0.9826246483815061\n",
      "Station 27 R-squared: 0.988771263144172\n",
      "Station 28 R-squared: 0.9605949573092442\n",
      "Station 29 R-squared: 0.9826046660552608\n",
      "Station 30 R-squared: 0.988941304083537\n",
      "Station 31 R-squared: 0.9624287976903108\n",
      "Station 32 R-squared: 0.9700857537173617\n",
      "Station 33 R-squared: 0.9424142073870444\n",
      "Station 34 R-squared: 0.9799164281555195\n",
      "Station 35 R-squared: 0.9908344234718497\n",
      "Station 36 R-squared: 0.9887203122586077\n",
      "Station 37 R-squared: 0.9925968820833956\n",
      "Station 38 R-squared: 0.990315886499682\n",
      "Station 39 R-squared: 0.977555069530045\n",
      "Station 40 R-squared: 0.9737069878322325\n",
      "Station 41 R-squared: 0.9915364149875314\n",
      "Station 42 R-squared: 0.9926242131216679\n",
      "Station 43 R-squared: 0.9902407960366827\n",
      "Station 44 R-squared: 0.9883942454769312\n",
      "Station 45 R-squared: 0.9965689075351134\n",
      "Station 47 R-squared: 0.994780739747806\n",
      "Station 48 R-squared: 0.9868941039607664\n",
      "Station 49 R-squared: 0.9882269124796391\n",
      "Station 50 R-squared: 0.9948869037546196\n",
      "Station 51 R-squared: 0.9963909289081067\n",
      "Station 52 R-squared: 0.9894362444801823\n",
      "Station 53 R-squared: 0.9934988215363353\n",
      "Station 54 R-squared: 0.990492669252534\n",
      "Station 55 R-squared: 0.9912886104164134\n",
      "Station 56 R-squared: 0.9874271944918471\n",
      "Station 57 R-squared: 0.9887873423206992\n",
      "Station 58 R-squared: 0.9861692501683204\n",
      "Station 59 R-squared: 0.97904738661104\n",
      "Station 60 R-squared: 0.9855422035930299\n",
      "Station 61 R-squared: 0.9763550155051941\n",
      "Station 62 R-squared: 0.9973340443173901\n",
      "Station 63 R-squared: 0.9849511318673\n",
      "Station 64 R-squared: 0.9822092719368885\n",
      "Station 65 R-squared: 0.9947973805628987\n",
      "Station 66 R-squared: 0.9856095976158565\n",
      "Station 67 R-squared: 0.9864897019491974\n",
      "Station 68 R-squared: 0.9882759574982056\n",
      "Station 69 R-squared: 0.9844485515739322\n",
      "Station 71 R-squared: 0.9913559852804936\n",
      "Station 72 R-squared: 0.9690390907127815\n",
      "Station 73 R-squared: 0.9875370467280774\n",
      "Station 74 R-squared: 0.9909949492569096\n",
      "Station 75 R-squared: 0.9896450411005849\n",
      "Station 76 R-squared: 0.9818445430609016\n",
      "Station 77 R-squared: 0.9880632140381661\n",
      "Station 78 R-squared: 0.9872083359844565\n",
      "Station 79 R-squared: 0.9873079795074403\n",
      "Station 80 R-squared: 0.9822551686633256\n",
      "Station 82 R-squared: 0.9876671356250405\n",
      "Station 83 R-squared: 0.9958739402931983\n",
      "Station 84 R-squared: 0.9928890827729776\n",
      "Station 85 R-squared: 0.9908299445721258\n",
      "Station 86 R-squared: 0.9947322480203841\n",
      "Station 87 R-squared: 0.9978121122258183\n",
      "Station 89 R-squared: 0.9878290136829353\n",
      "Station 90 R-squared: 0.9905429476357113\n",
      "Station 91 R-squared: 0.9798276506670494\n",
      "Station 92 R-squared: 0.9951676225221516\n",
      "Station 93 R-squared: 0.9964551770103693\n",
      "Station 94 R-squared: 0.9986320273669191\n",
      "Station 95 R-squared: 0.9951606754991983\n",
      "Station 96 R-squared: 0.9950330364684821\n",
      "Station 97 R-squared: 0.9860148822018909\n",
      "Station 98 R-squared: 0.9955720169061107\n",
      "Station 99 R-squared: 0.9912484400494567\n",
      "Station 100 R-squared: 0.9900117249448552\n",
      "Station 101 R-squared: 0.9937641226847426\n",
      "Station 102 R-squared: 0.9712454790576069\n",
      "Station 103 R-squared: 0.9894636283083138\n",
      "Station 104 R-squared: 0.9940861592570289\n",
      "Station 105 R-squared: 0.986695781494825\n",
      "Station 106 R-squared: 0.9817066523065087\n",
      "Station 107 R-squared: 0.9860034077977737\n",
      "Station 108 R-squared: 0.9792433223449861\n",
      "Station 109 R-squared: 0.989314699764093\n",
      "Station 110 R-squared: 0.987468531474519\n",
      "Station 111 R-squared: 0.9904758461908316\n",
      "Station 112 R-squared: 0.9881220590111234\n",
      "Station 113 R-squared: 0.9958315360015304\n",
      "Station 114 R-squared: 0.995178335074763\n",
      "Station 115 R-squared: 0.9926460674403856\n",
      "Station 116 R-squared: 0.9782516184589317\n",
      "Station 117 R-squared: 0.9969200466694752\n",
      "Station 507 R-squared: 1.0\n"
     ]
    }
   ],
   "source": [
    "import pickle\n",
    "from sklearn.ensemble import RandomForestRegressor\n",
    "\n",
    "for station, station_df in station_dfs.items():\n",
    "    X = station_df[['hour', 'day','minute','month','temperature', 'wind_speed', 'wind_direction', 'weather_code']]\n",
    "    y = station_df['available_bike_stands']\n",
    "\n",
    "    X_train, X_test, y_train, y_test = train_test_split(X, y, test_size=0.3, random_state=42)\n",
    "    \n",
    "    model = RandomForestRegressor(n_estimators=100, random_state=42)\n",
    "\n",
    "    model.fit(X_train, y_train)\n",
    "    print(f\"Station {station} R-squared: {model.score(X_test, y_test)}\")\n",
    "    \n",
    "    #Save the model to a pickle file\n",
    "    filename = f\"model_arr{station}.pkl\"\n",
    "    with open(filename, 'wb') as file:\n",
    "        pickle.dump(model, file, pickle.HIGHEST_PROTOCOL)\n"
   ]
  }
 ],
 "metadata": {
  "kernelspec": {
   "display_name": "Python 3 (ipykernel)",
   "language": "python",
   "name": "python3"
  },
  "language_info": {
   "codemirror_mode": {
    "name": "ipython",
    "version": 3
   },
   "file_extension": ".py",
   "mimetype": "text/x-python",
   "name": "python",
   "nbconvert_exporter": "python",
   "pygments_lexer": "ipython3",
   "version": "3.10.8"
  }
 },
 "nbformat": 4,
 "nbformat_minor": 5
}
